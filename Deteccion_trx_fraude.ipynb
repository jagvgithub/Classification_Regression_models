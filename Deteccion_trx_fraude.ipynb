{
  "nbformat": 4,
  "nbformat_minor": 0,
  "metadata": {
    "colab": {
      "provenance": [],
      "authorship_tag": "ABX9TyN7m2MG2reHssw0KzDc4QeR",
      "include_colab_link": true
    },
    "kernelspec": {
      "name": "python3",
      "display_name": "Python 3"
    },
    "language_info": {
      "name": "python"
    },
    "widgets": {
      "application/vnd.jupyter.widget-state+json": {
        "c003ebfd409249beb87b64c4fd2675b4": {
          "model_module": "@jupyter-widgets/controls",
          "model_name": "HBoxModel",
          "model_module_version": "1.5.0",
          "state": {
            "_dom_classes": [],
            "_model_module": "@jupyter-widgets/controls",
            "_model_module_version": "1.5.0",
            "_model_name": "HBoxModel",
            "_view_count": null,
            "_view_module": "@jupyter-widgets/controls",
            "_view_module_version": "1.5.0",
            "_view_name": "HBoxView",
            "box_style": "",
            "children": [
              "IPY_MODEL_f6943166ffa14ab7960ac3712350a082",
              "IPY_MODEL_6f5533da62fb48aa9942ad0549b4fdff",
              "IPY_MODEL_b2afa0273cb847c4bc4e3547602f1b24"
            ],
            "layout": "IPY_MODEL_7844145a2bd9405eb1439dc1a40a685d"
          }
        },
        "f6943166ffa14ab7960ac3712350a082": {
          "model_module": "@jupyter-widgets/controls",
          "model_name": "HTMLModel",
          "model_module_version": "1.5.0",
          "state": {
            "_dom_classes": [],
            "_model_module": "@jupyter-widgets/controls",
            "_model_module_version": "1.5.0",
            "_model_name": "HTMLModel",
            "_view_count": null,
            "_view_module": "@jupyter-widgets/controls",
            "_view_module_version": "1.5.0",
            "_view_name": "HTMLView",
            "description": "",
            "description_tooltip": null,
            "layout": "IPY_MODEL_94e23a493f7d4ff489c6bbf1aa55969c",
            "placeholder": "​",
            "style": "IPY_MODEL_68bf1ab1a0b847a1864928bf213e1dcd",
            "value": "Processing: 100%"
          }
        },
        "6f5533da62fb48aa9942ad0549b4fdff": {
          "model_module": "@jupyter-widgets/controls",
          "model_name": "FloatProgressModel",
          "model_module_version": "1.5.0",
          "state": {
            "_dom_classes": [],
            "_model_module": "@jupyter-widgets/controls",
            "_model_module_version": "1.5.0",
            "_model_name": "FloatProgressModel",
            "_view_count": null,
            "_view_module": "@jupyter-widgets/controls",
            "_view_module_version": "1.5.0",
            "_view_name": "ProgressView",
            "bar_style": "",
            "description": "",
            "description_tooltip": null,
            "layout": "IPY_MODEL_451e662e24a34937bd447bcff30efe0d",
            "max": 65,
            "min": 0,
            "orientation": "horizontal",
            "style": "IPY_MODEL_df058a22e7154b9383c1cc2ec6734eeb",
            "value": 65
          }
        },
        "b2afa0273cb847c4bc4e3547602f1b24": {
          "model_module": "@jupyter-widgets/controls",
          "model_name": "HTMLModel",
          "model_module_version": "1.5.0",
          "state": {
            "_dom_classes": [],
            "_model_module": "@jupyter-widgets/controls",
            "_model_module_version": "1.5.0",
            "_model_name": "HTMLModel",
            "_view_count": null,
            "_view_module": "@jupyter-widgets/controls",
            "_view_module_version": "1.5.0",
            "_view_name": "HTMLView",
            "description": "",
            "description_tooltip": null,
            "layout": "IPY_MODEL_f41468b14d49412f81644cdb25cf7b50",
            "placeholder": "​",
            "style": "IPY_MODEL_883fb2bc02d141e4a50d4ffa62453bdb",
            "value": " 65/65 [06:03&lt;00:00,  3.84s/it]"
          }
        },
        "7844145a2bd9405eb1439dc1a40a685d": {
          "model_module": "@jupyter-widgets/base",
          "model_name": "LayoutModel",
          "model_module_version": "1.2.0",
          "state": {
            "_model_module": "@jupyter-widgets/base",
            "_model_module_version": "1.2.0",
            "_model_name": "LayoutModel",
            "_view_count": null,
            "_view_module": "@jupyter-widgets/base",
            "_view_module_version": "1.2.0",
            "_view_name": "LayoutView",
            "align_content": null,
            "align_items": null,
            "align_self": null,
            "border": null,
            "bottom": null,
            "display": null,
            "flex": null,
            "flex_flow": null,
            "grid_area": null,
            "grid_auto_columns": null,
            "grid_auto_flow": null,
            "grid_auto_rows": null,
            "grid_column": null,
            "grid_gap": null,
            "grid_row": null,
            "grid_template_areas": null,
            "grid_template_columns": null,
            "grid_template_rows": null,
            "height": null,
            "justify_content": null,
            "justify_items": null,
            "left": null,
            "margin": null,
            "max_height": null,
            "max_width": null,
            "min_height": null,
            "min_width": null,
            "object_fit": null,
            "object_position": null,
            "order": null,
            "overflow": null,
            "overflow_x": null,
            "overflow_y": null,
            "padding": null,
            "right": null,
            "top": null,
            "visibility": "hidden",
            "width": null
          }
        },
        "94e23a493f7d4ff489c6bbf1aa55969c": {
          "model_module": "@jupyter-widgets/base",
          "model_name": "LayoutModel",
          "model_module_version": "1.2.0",
          "state": {
            "_model_module": "@jupyter-widgets/base",
            "_model_module_version": "1.2.0",
            "_model_name": "LayoutModel",
            "_view_count": null,
            "_view_module": "@jupyter-widgets/base",
            "_view_module_version": "1.2.0",
            "_view_name": "LayoutView",
            "align_content": null,
            "align_items": null,
            "align_self": null,
            "border": null,
            "bottom": null,
            "display": null,
            "flex": null,
            "flex_flow": null,
            "grid_area": null,
            "grid_auto_columns": null,
            "grid_auto_flow": null,
            "grid_auto_rows": null,
            "grid_column": null,
            "grid_gap": null,
            "grid_row": null,
            "grid_template_areas": null,
            "grid_template_columns": null,
            "grid_template_rows": null,
            "height": null,
            "justify_content": null,
            "justify_items": null,
            "left": null,
            "margin": null,
            "max_height": null,
            "max_width": null,
            "min_height": null,
            "min_width": null,
            "object_fit": null,
            "object_position": null,
            "order": null,
            "overflow": null,
            "overflow_x": null,
            "overflow_y": null,
            "padding": null,
            "right": null,
            "top": null,
            "visibility": null,
            "width": null
          }
        },
        "68bf1ab1a0b847a1864928bf213e1dcd": {
          "model_module": "@jupyter-widgets/controls",
          "model_name": "DescriptionStyleModel",
          "model_module_version": "1.5.0",
          "state": {
            "_model_module": "@jupyter-widgets/controls",
            "_model_module_version": "1.5.0",
            "_model_name": "DescriptionStyleModel",
            "_view_count": null,
            "_view_module": "@jupyter-widgets/base",
            "_view_module_version": "1.2.0",
            "_view_name": "StyleView",
            "description_width": ""
          }
        },
        "451e662e24a34937bd447bcff30efe0d": {
          "model_module": "@jupyter-widgets/base",
          "model_name": "LayoutModel",
          "model_module_version": "1.2.0",
          "state": {
            "_model_module": "@jupyter-widgets/base",
            "_model_module_version": "1.2.0",
            "_model_name": "LayoutModel",
            "_view_count": null,
            "_view_module": "@jupyter-widgets/base",
            "_view_module_version": "1.2.0",
            "_view_name": "LayoutView",
            "align_content": null,
            "align_items": null,
            "align_self": null,
            "border": null,
            "bottom": null,
            "display": null,
            "flex": null,
            "flex_flow": null,
            "grid_area": null,
            "grid_auto_columns": null,
            "grid_auto_flow": null,
            "grid_auto_rows": null,
            "grid_column": null,
            "grid_gap": null,
            "grid_row": null,
            "grid_template_areas": null,
            "grid_template_columns": null,
            "grid_template_rows": null,
            "height": null,
            "justify_content": null,
            "justify_items": null,
            "left": null,
            "margin": null,
            "max_height": null,
            "max_width": null,
            "min_height": null,
            "min_width": null,
            "object_fit": null,
            "object_position": null,
            "order": null,
            "overflow": null,
            "overflow_x": null,
            "overflow_y": null,
            "padding": null,
            "right": null,
            "top": null,
            "visibility": null,
            "width": null
          }
        },
        "df058a22e7154b9383c1cc2ec6734eeb": {
          "model_module": "@jupyter-widgets/controls",
          "model_name": "ProgressStyleModel",
          "model_module_version": "1.5.0",
          "state": {
            "_model_module": "@jupyter-widgets/controls",
            "_model_module_version": "1.5.0",
            "_model_name": "ProgressStyleModel",
            "_view_count": null,
            "_view_module": "@jupyter-widgets/base",
            "_view_module_version": "1.2.0",
            "_view_name": "StyleView",
            "bar_color": null,
            "description_width": ""
          }
        },
        "f41468b14d49412f81644cdb25cf7b50": {
          "model_module": "@jupyter-widgets/base",
          "model_name": "LayoutModel",
          "model_module_version": "1.2.0",
          "state": {
            "_model_module": "@jupyter-widgets/base",
            "_model_module_version": "1.2.0",
            "_model_name": "LayoutModel",
            "_view_count": null,
            "_view_module": "@jupyter-widgets/base",
            "_view_module_version": "1.2.0",
            "_view_name": "LayoutView",
            "align_content": null,
            "align_items": null,
            "align_self": null,
            "border": null,
            "bottom": null,
            "display": null,
            "flex": null,
            "flex_flow": null,
            "grid_area": null,
            "grid_auto_columns": null,
            "grid_auto_flow": null,
            "grid_auto_rows": null,
            "grid_column": null,
            "grid_gap": null,
            "grid_row": null,
            "grid_template_areas": null,
            "grid_template_columns": null,
            "grid_template_rows": null,
            "height": null,
            "justify_content": null,
            "justify_items": null,
            "left": null,
            "margin": null,
            "max_height": null,
            "max_width": null,
            "min_height": null,
            "min_width": null,
            "object_fit": null,
            "object_position": null,
            "order": null,
            "overflow": null,
            "overflow_x": null,
            "overflow_y": null,
            "padding": null,
            "right": null,
            "top": null,
            "visibility": null,
            "width": null
          }
        },
        "883fb2bc02d141e4a50d4ffa62453bdb": {
          "model_module": "@jupyter-widgets/controls",
          "model_name": "DescriptionStyleModel",
          "model_module_version": "1.5.0",
          "state": {
            "_model_module": "@jupyter-widgets/controls",
            "_model_module_version": "1.5.0",
            "_model_name": "DescriptionStyleModel",
            "_view_count": null,
            "_view_module": "@jupyter-widgets/base",
            "_view_module_version": "1.2.0",
            "_view_name": "StyleView",
            "description_width": ""
          }
        },
        "8cb8b52ecd454cb3abc6995a4b17ee20": {
          "model_module": "@jupyter-widgets/controls",
          "model_name": "HBoxModel",
          "model_module_version": "1.5.0",
          "state": {
            "_dom_classes": [],
            "_model_module": "@jupyter-widgets/controls",
            "_model_module_version": "1.5.0",
            "_model_name": "HBoxModel",
            "_view_count": null,
            "_view_module": "@jupyter-widgets/controls",
            "_view_module_version": "1.5.0",
            "_view_name": "HBoxView",
            "box_style": "",
            "children": [
              "IPY_MODEL_4b3fd30cfa394ba1a789d56185eced91",
              "IPY_MODEL_dfd74f56dcc74d41aae34519b025d5cd",
              "IPY_MODEL_722e7a2ff0f6454f9739cdfdccdd0153"
            ],
            "layout": "IPY_MODEL_5fd65ef89da54f2ca3266f0b512cbf22"
          }
        },
        "4b3fd30cfa394ba1a789d56185eced91": {
          "model_module": "@jupyter-widgets/controls",
          "model_name": "HTMLModel",
          "model_module_version": "1.5.0",
          "state": {
            "_dom_classes": [],
            "_model_module": "@jupyter-widgets/controls",
            "_model_module_version": "1.5.0",
            "_model_name": "HTMLModel",
            "_view_count": null,
            "_view_module": "@jupyter-widgets/controls",
            "_view_module_version": "1.5.0",
            "_view_name": "HTMLView",
            "description": "",
            "description_tooltip": null,
            "layout": "IPY_MODEL_d333f042914d4276811252bf74923caa",
            "placeholder": "​",
            "style": "IPY_MODEL_c04857e3bc204ef78056c00fa317e619",
            "value": "Processing: 100%"
          }
        },
        "dfd74f56dcc74d41aae34519b025d5cd": {
          "model_module": "@jupyter-widgets/controls",
          "model_name": "FloatProgressModel",
          "model_module_version": "1.5.0",
          "state": {
            "_dom_classes": [],
            "_model_module": "@jupyter-widgets/controls",
            "_model_module_version": "1.5.0",
            "_model_name": "FloatProgressModel",
            "_view_count": null,
            "_view_module": "@jupyter-widgets/controls",
            "_view_module_version": "1.5.0",
            "_view_name": "ProgressView",
            "bar_style": "",
            "description": "",
            "description_tooltip": null,
            "layout": "IPY_MODEL_7f8aaa54a1144b59ade3ce17f4642517",
            "max": 4,
            "min": 0,
            "orientation": "horizontal",
            "style": "IPY_MODEL_e685b5a1b62c4a0d9a53e4ec694ed9dc",
            "value": 4
          }
        },
        "722e7a2ff0f6454f9739cdfdccdd0153": {
          "model_module": "@jupyter-widgets/controls",
          "model_name": "HTMLModel",
          "model_module_version": "1.5.0",
          "state": {
            "_dom_classes": [],
            "_model_module": "@jupyter-widgets/controls",
            "_model_module_version": "1.5.0",
            "_model_name": "HTMLModel",
            "_view_count": null,
            "_view_module": "@jupyter-widgets/controls",
            "_view_module_version": "1.5.0",
            "_view_name": "HTMLView",
            "description": "",
            "description_tooltip": null,
            "layout": "IPY_MODEL_cdf2c46bb5c34e3db7e4ad7a2887820c",
            "placeholder": "​",
            "style": "IPY_MODEL_2d776f5ed1824bbe95d58f64aa4bc1ec",
            "value": " 4/4 [01:04&lt;00:00, 15.30s/it]"
          }
        },
        "5fd65ef89da54f2ca3266f0b512cbf22": {
          "model_module": "@jupyter-widgets/base",
          "model_name": "LayoutModel",
          "model_module_version": "1.2.0",
          "state": {
            "_model_module": "@jupyter-widgets/base",
            "_model_module_version": "1.2.0",
            "_model_name": "LayoutModel",
            "_view_count": null,
            "_view_module": "@jupyter-widgets/base",
            "_view_module_version": "1.2.0",
            "_view_name": "LayoutView",
            "align_content": null,
            "align_items": null,
            "align_self": null,
            "border": null,
            "bottom": null,
            "display": null,
            "flex": null,
            "flex_flow": null,
            "grid_area": null,
            "grid_auto_columns": null,
            "grid_auto_flow": null,
            "grid_auto_rows": null,
            "grid_column": null,
            "grid_gap": null,
            "grid_row": null,
            "grid_template_areas": null,
            "grid_template_columns": null,
            "grid_template_rows": null,
            "height": null,
            "justify_content": null,
            "justify_items": null,
            "left": null,
            "margin": null,
            "max_height": null,
            "max_width": null,
            "min_height": null,
            "min_width": null,
            "object_fit": null,
            "object_position": null,
            "order": null,
            "overflow": null,
            "overflow_x": null,
            "overflow_y": null,
            "padding": null,
            "right": null,
            "top": null,
            "visibility": "hidden",
            "width": null
          }
        },
        "d333f042914d4276811252bf74923caa": {
          "model_module": "@jupyter-widgets/base",
          "model_name": "LayoutModel",
          "model_module_version": "1.2.0",
          "state": {
            "_model_module": "@jupyter-widgets/base",
            "_model_module_version": "1.2.0",
            "_model_name": "LayoutModel",
            "_view_count": null,
            "_view_module": "@jupyter-widgets/base",
            "_view_module_version": "1.2.0",
            "_view_name": "LayoutView",
            "align_content": null,
            "align_items": null,
            "align_self": null,
            "border": null,
            "bottom": null,
            "display": null,
            "flex": null,
            "flex_flow": null,
            "grid_area": null,
            "grid_auto_columns": null,
            "grid_auto_flow": null,
            "grid_auto_rows": null,
            "grid_column": null,
            "grid_gap": null,
            "grid_row": null,
            "grid_template_areas": null,
            "grid_template_columns": null,
            "grid_template_rows": null,
            "height": null,
            "justify_content": null,
            "justify_items": null,
            "left": null,
            "margin": null,
            "max_height": null,
            "max_width": null,
            "min_height": null,
            "min_width": null,
            "object_fit": null,
            "object_position": null,
            "order": null,
            "overflow": null,
            "overflow_x": null,
            "overflow_y": null,
            "padding": null,
            "right": null,
            "top": null,
            "visibility": null,
            "width": null
          }
        },
        "c04857e3bc204ef78056c00fa317e619": {
          "model_module": "@jupyter-widgets/controls",
          "model_name": "DescriptionStyleModel",
          "model_module_version": "1.5.0",
          "state": {
            "_model_module": "@jupyter-widgets/controls",
            "_model_module_version": "1.5.0",
            "_model_name": "DescriptionStyleModel",
            "_view_count": null,
            "_view_module": "@jupyter-widgets/base",
            "_view_module_version": "1.2.0",
            "_view_name": "StyleView",
            "description_width": ""
          }
        },
        "7f8aaa54a1144b59ade3ce17f4642517": {
          "model_module": "@jupyter-widgets/base",
          "model_name": "LayoutModel",
          "model_module_version": "1.2.0",
          "state": {
            "_model_module": "@jupyter-widgets/base",
            "_model_module_version": "1.2.0",
            "_model_name": "LayoutModel",
            "_view_count": null,
            "_view_module": "@jupyter-widgets/base",
            "_view_module_version": "1.2.0",
            "_view_name": "LayoutView",
            "align_content": null,
            "align_items": null,
            "align_self": null,
            "border": null,
            "bottom": null,
            "display": null,
            "flex": null,
            "flex_flow": null,
            "grid_area": null,
            "grid_auto_columns": null,
            "grid_auto_flow": null,
            "grid_auto_rows": null,
            "grid_column": null,
            "grid_gap": null,
            "grid_row": null,
            "grid_template_areas": null,
            "grid_template_columns": null,
            "grid_template_rows": null,
            "height": null,
            "justify_content": null,
            "justify_items": null,
            "left": null,
            "margin": null,
            "max_height": null,
            "max_width": null,
            "min_height": null,
            "min_width": null,
            "object_fit": null,
            "object_position": null,
            "order": null,
            "overflow": null,
            "overflow_x": null,
            "overflow_y": null,
            "padding": null,
            "right": null,
            "top": null,
            "visibility": null,
            "width": null
          }
        },
        "e685b5a1b62c4a0d9a53e4ec694ed9dc": {
          "model_module": "@jupyter-widgets/controls",
          "model_name": "ProgressStyleModel",
          "model_module_version": "1.5.0",
          "state": {
            "_model_module": "@jupyter-widgets/controls",
            "_model_module_version": "1.5.0",
            "_model_name": "ProgressStyleModel",
            "_view_count": null,
            "_view_module": "@jupyter-widgets/base",
            "_view_module_version": "1.2.0",
            "_view_name": "StyleView",
            "bar_color": null,
            "description_width": ""
          }
        },
        "cdf2c46bb5c34e3db7e4ad7a2887820c": {
          "model_module": "@jupyter-widgets/base",
          "model_name": "LayoutModel",
          "model_module_version": "1.2.0",
          "state": {
            "_model_module": "@jupyter-widgets/base",
            "_model_module_version": "1.2.0",
            "_model_name": "LayoutModel",
            "_view_count": null,
            "_view_module": "@jupyter-widgets/base",
            "_view_module_version": "1.2.0",
            "_view_name": "LayoutView",
            "align_content": null,
            "align_items": null,
            "align_self": null,
            "border": null,
            "bottom": null,
            "display": null,
            "flex": null,
            "flex_flow": null,
            "grid_area": null,
            "grid_auto_columns": null,
            "grid_auto_flow": null,
            "grid_auto_rows": null,
            "grid_column": null,
            "grid_gap": null,
            "grid_row": null,
            "grid_template_areas": null,
            "grid_template_columns": null,
            "grid_template_rows": null,
            "height": null,
            "justify_content": null,
            "justify_items": null,
            "left": null,
            "margin": null,
            "max_height": null,
            "max_width": null,
            "min_height": null,
            "min_width": null,
            "object_fit": null,
            "object_position": null,
            "order": null,
            "overflow": null,
            "overflow_x": null,
            "overflow_y": null,
            "padding": null,
            "right": null,
            "top": null,
            "visibility": null,
            "width": null
          }
        },
        "2d776f5ed1824bbe95d58f64aa4bc1ec": {
          "model_module": "@jupyter-widgets/controls",
          "model_name": "DescriptionStyleModel",
          "model_module_version": "1.5.0",
          "state": {
            "_model_module": "@jupyter-widgets/controls",
            "_model_module_version": "1.5.0",
            "_model_name": "DescriptionStyleModel",
            "_view_count": null,
            "_view_module": "@jupyter-widgets/base",
            "_view_module_version": "1.2.0",
            "_view_name": "StyleView",
            "description_width": ""
          }
        },
        "506405af19ec405792dd8a57956a50b5": {
          "model_module": "@jupyter-widgets/controls",
          "model_name": "HBoxModel",
          "model_module_version": "1.5.0",
          "state": {
            "_dom_classes": [],
            "_model_module": "@jupyter-widgets/controls",
            "_model_module_version": "1.5.0",
            "_model_name": "HBoxModel",
            "_view_count": null,
            "_view_module": "@jupyter-widgets/controls",
            "_view_module_version": "1.5.0",
            "_view_name": "HBoxView",
            "box_style": "",
            "children": [
              "IPY_MODEL_066c36ba71984fabb6fe33ecd63248d3",
              "IPY_MODEL_0959a06ef85440a99a054c68e0242d99",
              "IPY_MODEL_08de14a0cf9a484d8e7ab7cdec252e65"
            ],
            "layout": "IPY_MODEL_d0ff5e0e9dc24c098225ff32d92e2e2b"
          }
        },
        "066c36ba71984fabb6fe33ecd63248d3": {
          "model_module": "@jupyter-widgets/controls",
          "model_name": "HTMLModel",
          "model_module_version": "1.5.0",
          "state": {
            "_dom_classes": [],
            "_model_module": "@jupyter-widgets/controls",
            "_model_module_version": "1.5.0",
            "_model_name": "HTMLModel",
            "_view_count": null,
            "_view_module": "@jupyter-widgets/controls",
            "_view_module_version": "1.5.0",
            "_view_name": "HTMLView",
            "description": "",
            "description_tooltip": null,
            "layout": "IPY_MODEL_d2b1231d0a874d1487c70144141c2c2b",
            "placeholder": "​",
            "style": "IPY_MODEL_2e4c60f5aba7443587f7862c7ad1b33c",
            "value": "Processing: 100%"
          }
        },
        "0959a06ef85440a99a054c68e0242d99": {
          "model_module": "@jupyter-widgets/controls",
          "model_name": "FloatProgressModel",
          "model_module_version": "1.5.0",
          "state": {
            "_dom_classes": [],
            "_model_module": "@jupyter-widgets/controls",
            "_model_module_version": "1.5.0",
            "_model_name": "FloatProgressModel",
            "_view_count": null,
            "_view_module": "@jupyter-widgets/controls",
            "_view_module_version": "1.5.0",
            "_view_name": "ProgressView",
            "bar_style": "",
            "description": "",
            "description_tooltip": null,
            "layout": "IPY_MODEL_6525088b7d09413da0252d6bca90b0b0",
            "max": 7,
            "min": 0,
            "orientation": "horizontal",
            "style": "IPY_MODEL_9d9c1a4e7c524f23ba7cd747a81e8997",
            "value": 7
          }
        },
        "08de14a0cf9a484d8e7ab7cdec252e65": {
          "model_module": "@jupyter-widgets/controls",
          "model_name": "HTMLModel",
          "model_module_version": "1.5.0",
          "state": {
            "_dom_classes": [],
            "_model_module": "@jupyter-widgets/controls",
            "_model_module_version": "1.5.0",
            "_model_name": "HTMLModel",
            "_view_count": null,
            "_view_module": "@jupyter-widgets/controls",
            "_view_module_version": "1.5.0",
            "_view_name": "HTMLView",
            "description": "",
            "description_tooltip": null,
            "layout": "IPY_MODEL_62b1144fde004410974384eb8a417832",
            "placeholder": "​",
            "style": "IPY_MODEL_039c34e199f542cdbaff2c32ac2026ff",
            "value": " 7/7 [10:10&lt;00:00, 68.58s/it]"
          }
        },
        "d0ff5e0e9dc24c098225ff32d92e2e2b": {
          "model_module": "@jupyter-widgets/base",
          "model_name": "LayoutModel",
          "model_module_version": "1.2.0",
          "state": {
            "_model_module": "@jupyter-widgets/base",
            "_model_module_version": "1.2.0",
            "_model_name": "LayoutModel",
            "_view_count": null,
            "_view_module": "@jupyter-widgets/base",
            "_view_module_version": "1.2.0",
            "_view_name": "LayoutView",
            "align_content": null,
            "align_items": null,
            "align_self": null,
            "border": null,
            "bottom": null,
            "display": null,
            "flex": null,
            "flex_flow": null,
            "grid_area": null,
            "grid_auto_columns": null,
            "grid_auto_flow": null,
            "grid_auto_rows": null,
            "grid_column": null,
            "grid_gap": null,
            "grid_row": null,
            "grid_template_areas": null,
            "grid_template_columns": null,
            "grid_template_rows": null,
            "height": null,
            "justify_content": null,
            "justify_items": null,
            "left": null,
            "margin": null,
            "max_height": null,
            "max_width": null,
            "min_height": null,
            "min_width": null,
            "object_fit": null,
            "object_position": null,
            "order": null,
            "overflow": null,
            "overflow_x": null,
            "overflow_y": null,
            "padding": null,
            "right": null,
            "top": null,
            "visibility": "hidden",
            "width": null
          }
        },
        "d2b1231d0a874d1487c70144141c2c2b": {
          "model_module": "@jupyter-widgets/base",
          "model_name": "LayoutModel",
          "model_module_version": "1.2.0",
          "state": {
            "_model_module": "@jupyter-widgets/base",
            "_model_module_version": "1.2.0",
            "_model_name": "LayoutModel",
            "_view_count": null,
            "_view_module": "@jupyter-widgets/base",
            "_view_module_version": "1.2.0",
            "_view_name": "LayoutView",
            "align_content": null,
            "align_items": null,
            "align_self": null,
            "border": null,
            "bottom": null,
            "display": null,
            "flex": null,
            "flex_flow": null,
            "grid_area": null,
            "grid_auto_columns": null,
            "grid_auto_flow": null,
            "grid_auto_rows": null,
            "grid_column": null,
            "grid_gap": null,
            "grid_row": null,
            "grid_template_areas": null,
            "grid_template_columns": null,
            "grid_template_rows": null,
            "height": null,
            "justify_content": null,
            "justify_items": null,
            "left": null,
            "margin": null,
            "max_height": null,
            "max_width": null,
            "min_height": null,
            "min_width": null,
            "object_fit": null,
            "object_position": null,
            "order": null,
            "overflow": null,
            "overflow_x": null,
            "overflow_y": null,
            "padding": null,
            "right": null,
            "top": null,
            "visibility": null,
            "width": null
          }
        },
        "2e4c60f5aba7443587f7862c7ad1b33c": {
          "model_module": "@jupyter-widgets/controls",
          "model_name": "DescriptionStyleModel",
          "model_module_version": "1.5.0",
          "state": {
            "_model_module": "@jupyter-widgets/controls",
            "_model_module_version": "1.5.0",
            "_model_name": "DescriptionStyleModel",
            "_view_count": null,
            "_view_module": "@jupyter-widgets/base",
            "_view_module_version": "1.2.0",
            "_view_name": "StyleView",
            "description_width": ""
          }
        },
        "6525088b7d09413da0252d6bca90b0b0": {
          "model_module": "@jupyter-widgets/base",
          "model_name": "LayoutModel",
          "model_module_version": "1.2.0",
          "state": {
            "_model_module": "@jupyter-widgets/base",
            "_model_module_version": "1.2.0",
            "_model_name": "LayoutModel",
            "_view_count": null,
            "_view_module": "@jupyter-widgets/base",
            "_view_module_version": "1.2.0",
            "_view_name": "LayoutView",
            "align_content": null,
            "align_items": null,
            "align_self": null,
            "border": null,
            "bottom": null,
            "display": null,
            "flex": null,
            "flex_flow": null,
            "grid_area": null,
            "grid_auto_columns": null,
            "grid_auto_flow": null,
            "grid_auto_rows": null,
            "grid_column": null,
            "grid_gap": null,
            "grid_row": null,
            "grid_template_areas": null,
            "grid_template_columns": null,
            "grid_template_rows": null,
            "height": null,
            "justify_content": null,
            "justify_items": null,
            "left": null,
            "margin": null,
            "max_height": null,
            "max_width": null,
            "min_height": null,
            "min_width": null,
            "object_fit": null,
            "object_position": null,
            "order": null,
            "overflow": null,
            "overflow_x": null,
            "overflow_y": null,
            "padding": null,
            "right": null,
            "top": null,
            "visibility": null,
            "width": null
          }
        },
        "9d9c1a4e7c524f23ba7cd747a81e8997": {
          "model_module": "@jupyter-widgets/controls",
          "model_name": "ProgressStyleModel",
          "model_module_version": "1.5.0",
          "state": {
            "_model_module": "@jupyter-widgets/controls",
            "_model_module_version": "1.5.0",
            "_model_name": "ProgressStyleModel",
            "_view_count": null,
            "_view_module": "@jupyter-widgets/base",
            "_view_module_version": "1.2.0",
            "_view_name": "StyleView",
            "bar_color": null,
            "description_width": ""
          }
        },
        "62b1144fde004410974384eb8a417832": {
          "model_module": "@jupyter-widgets/base",
          "model_name": "LayoutModel",
          "model_module_version": "1.2.0",
          "state": {
            "_model_module": "@jupyter-widgets/base",
            "_model_module_version": "1.2.0",
            "_model_name": "LayoutModel",
            "_view_count": null,
            "_view_module": "@jupyter-widgets/base",
            "_view_module_version": "1.2.0",
            "_view_name": "LayoutView",
            "align_content": null,
            "align_items": null,
            "align_self": null,
            "border": null,
            "bottom": null,
            "display": null,
            "flex": null,
            "flex_flow": null,
            "grid_area": null,
            "grid_auto_columns": null,
            "grid_auto_flow": null,
            "grid_auto_rows": null,
            "grid_column": null,
            "grid_gap": null,
            "grid_row": null,
            "grid_template_areas": null,
            "grid_template_columns": null,
            "grid_template_rows": null,
            "height": null,
            "justify_content": null,
            "justify_items": null,
            "left": null,
            "margin": null,
            "max_height": null,
            "max_width": null,
            "min_height": null,
            "min_width": null,
            "object_fit": null,
            "object_position": null,
            "order": null,
            "overflow": null,
            "overflow_x": null,
            "overflow_y": null,
            "padding": null,
            "right": null,
            "top": null,
            "visibility": null,
            "width": null
          }
        },
        "039c34e199f542cdbaff2c32ac2026ff": {
          "model_module": "@jupyter-widgets/controls",
          "model_name": "DescriptionStyleModel",
          "model_module_version": "1.5.0",
          "state": {
            "_model_module": "@jupyter-widgets/controls",
            "_model_module_version": "1.5.0",
            "_model_name": "DescriptionStyleModel",
            "_view_count": null,
            "_view_module": "@jupyter-widgets/base",
            "_view_module_version": "1.2.0",
            "_view_name": "StyleView",
            "description_width": ""
          }
        }
      }
    }
  },
  "cells": [
    {
      "cell_type": "markdown",
      "metadata": {
        "id": "view-in-github",
        "colab_type": "text"
      },
      "source": [
        "<a href=\"https://colab.research.google.com/github/jagvgithub/Classification_Regression_models/blob/main/Deteccion_trx_fraude.ipynb\" target=\"_parent\"><img src=\"https://colab.research.google.com/assets/colab-badge.svg\" alt=\"Open In Colab\"/></a>"
      ]
    },
    {
      "cell_type": "markdown",
      "source": [
        "# Carga de información"
      ],
      "metadata": {
        "id": "r87F3SdlUX_S"
      }
    },
    {
      "cell_type": "code",
      "execution_count": 1,
      "metadata": {
        "colab": {
          "base_uri": "https://localhost:8080/",
          "height": 73
        },
        "id": "W-ih1_mcPRhf",
        "outputId": "7ce5c29b-1577-4f1c-981c-62db9d637874"
      },
      "outputs": [
        {
          "output_type": "display_data",
          "data": {
            "text/plain": [
              "<IPython.core.display.HTML object>"
            ],
            "text/html": [
              "\n",
              "     <input type=\"file\" id=\"files-3c2e9556-fe9e-4799-b984-c65b32c8732c\" name=\"files[]\" multiple disabled\n",
              "        style=\"border:none\" />\n",
              "     <output id=\"result-3c2e9556-fe9e-4799-b984-c65b32c8732c\">\n",
              "      Upload widget is only available when the cell has been executed in the\n",
              "      current browser session. Please rerun this cell to enable.\n",
              "      </output>\n",
              "      <script>// Copyright 2017 Google LLC\n",
              "//\n",
              "// Licensed under the Apache License, Version 2.0 (the \"License\");\n",
              "// you may not use this file except in compliance with the License.\n",
              "// You may obtain a copy of the License at\n",
              "//\n",
              "//      http://www.apache.org/licenses/LICENSE-2.0\n",
              "//\n",
              "// Unless required by applicable law or agreed to in writing, software\n",
              "// distributed under the License is distributed on an \"AS IS\" BASIS,\n",
              "// WITHOUT WARRANTIES OR CONDITIONS OF ANY KIND, either express or implied.\n",
              "// See the License for the specific language governing permissions and\n",
              "// limitations under the License.\n",
              "\n",
              "/**\n",
              " * @fileoverview Helpers for google.colab Python module.\n",
              " */\n",
              "(function(scope) {\n",
              "function span(text, styleAttributes = {}) {\n",
              "  const element = document.createElement('span');\n",
              "  element.textContent = text;\n",
              "  for (const key of Object.keys(styleAttributes)) {\n",
              "    element.style[key] = styleAttributes[key];\n",
              "  }\n",
              "  return element;\n",
              "}\n",
              "\n",
              "// Max number of bytes which will be uploaded at a time.\n",
              "const MAX_PAYLOAD_SIZE = 100 * 1024;\n",
              "\n",
              "function _uploadFiles(inputId, outputId) {\n",
              "  const steps = uploadFilesStep(inputId, outputId);\n",
              "  const outputElement = document.getElementById(outputId);\n",
              "  // Cache steps on the outputElement to make it available for the next call\n",
              "  // to uploadFilesContinue from Python.\n",
              "  outputElement.steps = steps;\n",
              "\n",
              "  return _uploadFilesContinue(outputId);\n",
              "}\n",
              "\n",
              "// This is roughly an async generator (not supported in the browser yet),\n",
              "// where there are multiple asynchronous steps and the Python side is going\n",
              "// to poll for completion of each step.\n",
              "// This uses a Promise to block the python side on completion of each step,\n",
              "// then passes the result of the previous step as the input to the next step.\n",
              "function _uploadFilesContinue(outputId) {\n",
              "  const outputElement = document.getElementById(outputId);\n",
              "  const steps = outputElement.steps;\n",
              "\n",
              "  const next = steps.next(outputElement.lastPromiseValue);\n",
              "  return Promise.resolve(next.value.promise).then((value) => {\n",
              "    // Cache the last promise value to make it available to the next\n",
              "    // step of the generator.\n",
              "    outputElement.lastPromiseValue = value;\n",
              "    return next.value.response;\n",
              "  });\n",
              "}\n",
              "\n",
              "/**\n",
              " * Generator function which is called between each async step of the upload\n",
              " * process.\n",
              " * @param {string} inputId Element ID of the input file picker element.\n",
              " * @param {string} outputId Element ID of the output display.\n",
              " * @return {!Iterable<!Object>} Iterable of next steps.\n",
              " */\n",
              "function* uploadFilesStep(inputId, outputId) {\n",
              "  const inputElement = document.getElementById(inputId);\n",
              "  inputElement.disabled = false;\n",
              "\n",
              "  const outputElement = document.getElementById(outputId);\n",
              "  outputElement.innerHTML = '';\n",
              "\n",
              "  const pickedPromise = new Promise((resolve) => {\n",
              "    inputElement.addEventListener('change', (e) => {\n",
              "      resolve(e.target.files);\n",
              "    });\n",
              "  });\n",
              "\n",
              "  const cancel = document.createElement('button');\n",
              "  inputElement.parentElement.appendChild(cancel);\n",
              "  cancel.textContent = 'Cancel upload';\n",
              "  const cancelPromise = new Promise((resolve) => {\n",
              "    cancel.onclick = () => {\n",
              "      resolve(null);\n",
              "    };\n",
              "  });\n",
              "\n",
              "  // Wait for the user to pick the files.\n",
              "  const files = yield {\n",
              "    promise: Promise.race([pickedPromise, cancelPromise]),\n",
              "    response: {\n",
              "      action: 'starting',\n",
              "    }\n",
              "  };\n",
              "\n",
              "  cancel.remove();\n",
              "\n",
              "  // Disable the input element since further picks are not allowed.\n",
              "  inputElement.disabled = true;\n",
              "\n",
              "  if (!files) {\n",
              "    return {\n",
              "      response: {\n",
              "        action: 'complete',\n",
              "      }\n",
              "    };\n",
              "  }\n",
              "\n",
              "  for (const file of files) {\n",
              "    const li = document.createElement('li');\n",
              "    li.append(span(file.name, {fontWeight: 'bold'}));\n",
              "    li.append(span(\n",
              "        `(${file.type || 'n/a'}) - ${file.size} bytes, ` +\n",
              "        `last modified: ${\n",
              "            file.lastModifiedDate ? file.lastModifiedDate.toLocaleDateString() :\n",
              "                                    'n/a'} - `));\n",
              "    const percent = span('0% done');\n",
              "    li.appendChild(percent);\n",
              "\n",
              "    outputElement.appendChild(li);\n",
              "\n",
              "    const fileDataPromise = new Promise((resolve) => {\n",
              "      const reader = new FileReader();\n",
              "      reader.onload = (e) => {\n",
              "        resolve(e.target.result);\n",
              "      };\n",
              "      reader.readAsArrayBuffer(file);\n",
              "    });\n",
              "    // Wait for the data to be ready.\n",
              "    let fileData = yield {\n",
              "      promise: fileDataPromise,\n",
              "      response: {\n",
              "        action: 'continue',\n",
              "      }\n",
              "    };\n",
              "\n",
              "    // Use a chunked sending to avoid message size limits. See b/62115660.\n",
              "    let position = 0;\n",
              "    do {\n",
              "      const length = Math.min(fileData.byteLength - position, MAX_PAYLOAD_SIZE);\n",
              "      const chunk = new Uint8Array(fileData, position, length);\n",
              "      position += length;\n",
              "\n",
              "      const base64 = btoa(String.fromCharCode.apply(null, chunk));\n",
              "      yield {\n",
              "        response: {\n",
              "          action: 'append',\n",
              "          file: file.name,\n",
              "          data: base64,\n",
              "        },\n",
              "      };\n",
              "\n",
              "      let percentDone = fileData.byteLength === 0 ?\n",
              "          100 :\n",
              "          Math.round((position / fileData.byteLength) * 100);\n",
              "      percent.textContent = `${percentDone}% done`;\n",
              "\n",
              "    } while (position < fileData.byteLength);\n",
              "  }\n",
              "\n",
              "  // All done.\n",
              "  yield {\n",
              "    response: {\n",
              "      action: 'complete',\n",
              "    }\n",
              "  };\n",
              "}\n",
              "\n",
              "scope.google = scope.google || {};\n",
              "scope.google.colab = scope.google.colab || {};\n",
              "scope.google.colab._files = {\n",
              "  _uploadFiles,\n",
              "  _uploadFilesContinue,\n",
              "};\n",
              "})(self);\n",
              "</script> "
            ]
          },
          "metadata": {}
        },
        {
          "output_type": "stream",
          "name": "stdout",
          "text": [
            "Saving trx_fraude.csv to trx_fraude.csv\n"
          ]
        }
      ],
      "source": [
        "from google.colab import files\n",
        "import pandas as pd\n",
        "\n",
        "# Cargar el archivo CSV\n",
        "uploaded = files.upload()"
      ]
    },
    {
      "cell_type": "code",
      "source": [
        "# Ruta al archivo xlsx en Google Colab\n",
        "ruta_archivo = '/content/trx_fraude.csv'  # Asegúrate de que la ruta sea correcta según la ubicación del archivo cargado\n",
        "\n",
        "# Leer el archivo xlsx usando pandas\n",
        "datos = pd.read_csv(ruta_archivo,sep='|', encoding='latin1')\n",
        "datos=pd.DataFrame(datos)"
      ],
      "metadata": {
        "id": "WQmr-QnVUgXM"
      },
      "execution_count": 2,
      "outputs": []
    },
    {
      "cell_type": "code",
      "source": [
        "datos.shape"
      ],
      "metadata": {
        "colab": {
          "base_uri": "https://localhost:8080/"
        },
        "id": "YJGDGbS8UmXS",
        "outputId": "a77e11ee-0c64-4c8f-ac9b-168d1fa485c8"
      },
      "execution_count": 3,
      "outputs": [
        {
          "output_type": "execute_result",
          "data": {
            "text/plain": [
              "(58197, 26)"
            ]
          },
          "metadata": {},
          "execution_count": 3
        }
      ]
    },
    {
      "cell_type": "code",
      "source": [
        "datos_numericos = datos.select_dtypes(include=['int', 'float'])\n",
        "\n",
        "# Mostrar los tipos de datos de las columnas seleccionadas\n",
        "print(datos_numericos.dtypes)"
      ],
      "metadata": {
        "colab": {
          "base_uri": "https://localhost:8080/"
        },
        "id": "su9Hu0cPUsoT",
        "outputId": "48e68491-afb1-4f91-82fd-1cb46d4fec9e"
      },
      "execution_count": 4,
      "outputs": [
        {
          "output_type": "stream",
          "name": "stdout",
          "text": [
            "UTRNNO                  int64\n",
            "TRANS_TYPE              int64\n",
            "MSGTYPE                 int64\n",
            "Cod_Aprovacion        float64\n",
            "respuesta               int64\n",
            "POS_ENTRY_MODE          int64\n",
            "POS_CONDITION_CODE      int64\n",
            "ECI                   float64\n",
            "MCC                     int64\n",
            "bin_amount            float64\n",
            "country_number        float64\n",
            "Testeos                 int64\n",
            "Fraude                  int64\n",
            "dtype: object\n"
          ]
        }
      ]
    },
    {
      "cell_type": "markdown",
      "source": [
        "# transformación de formatos"
      ],
      "metadata": {
        "id": "Ha0489-6Utgr"
      }
    },
    {
      "cell_type": "code",
      "source": [
        "columns_to_format = ['UTRNNO','TRANS_TYPE', 'MSGTYPE', 'Cod_Aprovacion', 'respuesta',\n",
        "       'POS_ENTRY_MODE', 'POS_CONDITION_CODE', 'ECI', 'MCC',\n",
        "       'country_number', 'Testeos']  # Lista de nombres de columnas a formatear\n",
        "\n",
        "# Aplicar la transformación a las columnas seleccionadas\n",
        "datos[columns_to_format] = datos[columns_to_format].applymap(lambda x: '{:.0f}'.format(x))"
      ],
      "metadata": {
        "id": "9qRNO7KBU2-P"
      },
      "execution_count": 5,
      "outputs": []
    },
    {
      "cell_type": "code",
      "source": [
        "datos_numericos = datos.select_dtypes(include=['int', 'float'])\n",
        "\n",
        "# Mostrar los tipos de datos de las columnas seleccionadas\n",
        "print(datos_numericos.dtypes)"
      ],
      "metadata": {
        "colab": {
          "base_uri": "https://localhost:8080/"
        },
        "id": "AdhxqqrRU77P",
        "outputId": "e26e9a31-642f-4db2-a547-b29006cd7052"
      },
      "execution_count": 6,
      "outputs": [
        {
          "output_type": "stream",
          "name": "stdout",
          "text": [
            "bin_amount    float64\n",
            "Fraude          int64\n",
            "dtype: object\n"
          ]
        }
      ]
    },
    {
      "cell_type": "code",
      "source": [
        "print(datos.head())"
      ],
      "metadata": {
        "colab": {
          "base_uri": "https://localhost:8080/"
        },
        "id": "DpzoiF8qVA_3",
        "outputId": "b1055231-753b-46d9-f071-bc78976fa822"
      },
      "execution_count": 7,
      "outputs": [
        {
          "output_type": "stream",
          "name": "stdout",
          "text": [
            "         UTRNNO                    TTIME TRANS_TYPE    amount MSGTYPE  \\\n",
            "0  144770802315  2023-12-01T00:00:45.877        680   6500,00    1120   \n",
            "1  144770802584  2023-12-01T00:01:06.663        774     20,00    1120   \n",
            "2  144770802830  2023-12-01T00:01:26.387        680     13,57    1120   \n",
            "3  144770803005  2023-12-01T00:01:38.193        680  27900,00    1120   \n",
            "4  144770803143  2023-12-01T00:01:49.383        680     17,00    1120   \n",
            "\n",
            "  Cod_Aprovacion respuesta POS_ENTRY_MODE POS_CONDITION_CODE  ECI  ...  \\\n",
            "0         305562        -1              1                 59    7  ...   \n",
            "1            nan       953             10                  1  nan  ...   \n",
            "2            nan       909              1                 59    7  ...   \n",
            "3            nan       953             10                  8    2  ...   \n",
            "4         145579        -1              1                 59    7  ...   \n",
            "\n",
            "  bin_amount Tipo_Mensaje_description           Description Español  \\\n",
            "0    6500.00     Authorization Advice          Transacción Aprobada   \n",
            "1   80409.53     Authorization Advice  La tarjeta está restringida.   \n",
            "2   54557.87     Authorization Advice   Tarjeta no válida, captura.   \n",
            "3   27900.00     Authorization Advice  La tarjeta está restringida.   \n",
            "4   75087.23     Authorization Advice          Transacción Aprobada   \n",
            "\n",
            "  country_number            Moneda    Ambiente2  Aprobacion_tx Testeos Fraude  \\\n",
            "0            170   PESO COLOMBIANO  No Presente       Aprobada       0      0   \n",
            "1            440  LITHUANIAN LITAS  No Presente      Rechazada       0      0   \n",
            "2            840         US DOLLAR  No Presente      Rechazada       0      0   \n",
            "3            840         US DOLLAR  No Presente      Rechazada       0      0   \n",
            "4            250              EURO  No Presente       Aprobada       0      0   \n",
            "\n",
            "  Naturaleza  \n",
            "0    credito  \n",
            "1    credito  \n",
            "2    credito  \n",
            "3    credito  \n",
            "4     debito  \n",
            "\n",
            "[5 rows x 26 columns]\n"
          ]
        }
      ]
    },
    {
      "cell_type": "markdown",
      "source": [
        "# Datos de entrenamiento y prueba del modelo"
      ],
      "metadata": {
        "id": "0_VjbpZaVLH0"
      }
    },
    {
      "cell_type": "code",
      "source": [
        "data=datos.sample(frac=0.75,random_state=786).reset_index(drop=True) # entrenamiento\n",
        "data_unusen =datos.drop(data.index).reset_index(drop=True) # testeo\n",
        "\n",
        "# Verificar el tamaño de los conjuntos de entrenamiento y prueba\n",
        "print(\"Tamaño del conjunto de entrenamiento:\", data.shape)\n",
        "print(\"Tamaño del conjunto de prueba:\", data_unusen.shape)"
      ],
      "metadata": {
        "colab": {
          "base_uri": "https://localhost:8080/"
        },
        "id": "8UyaS1jZVQ-a",
        "outputId": "f5b20cc4-0b0a-4517-ba44-8433741584cb"
      },
      "execution_count": 8,
      "outputs": [
        {
          "output_type": "stream",
          "name": "stdout",
          "text": [
            "Tamaño del conjunto de entrenamiento: (43648, 26)\n",
            "Tamaño del conjunto de prueba: (14549, 26)\n"
          ]
        }
      ]
    },
    {
      "cell_type": "code",
      "source": [
        "!pip install pycaret\n",
        "from pycaret.classification import * # la data ya tiene una marcacion de  01\n",
        "#exp_clf101 = setup(data=data, target='Fraude', session_id=10001)  # Configurar el experimento de clasificación\n",
        "#exp_clf101 = setup(data=data, target='Fraude', session_id=10001, fold_strategy='stratifiedkfold') # garantizar que todas las clases esten bien representadas"
      ],
      "metadata": {
        "id": "63IGji4rVa8I"
      },
      "execution_count": null,
      "outputs": []
    },
    {
      "cell_type": "code",
      "source": [
        "exp_clf101 = setup(data=data, target='Fraude', session_id=10001, fold_strategy='stratifiedkfold')"
      ],
      "metadata": {
        "colab": {
          "base_uri": "https://localhost:8080/",
          "height": 771
        },
        "id": "RlDNV7FPV2mF",
        "outputId": "05cc30b7-7691-442f-e4a2-9d90085af6fe"
      },
      "execution_count": 10,
      "outputs": [
        {
          "output_type": "display_data",
          "data": {
            "text/plain": [
              "<pandas.io.formats.style.Styler at 0x7d9dae7f38b0>"
            ],
            "text/html": [
              "<style type=\"text/css\">\n",
              "#T_8a6d5_row10_col1 {\n",
              "  background-color: lightgreen;\n",
              "}\n",
              "</style>\n",
              "<table id=\"T_8a6d5\" class=\"dataframe\">\n",
              "  <thead>\n",
              "    <tr>\n",
              "      <th class=\"blank level0\" >&nbsp;</th>\n",
              "      <th id=\"T_8a6d5_level0_col0\" class=\"col_heading level0 col0\" >Description</th>\n",
              "      <th id=\"T_8a6d5_level0_col1\" class=\"col_heading level0 col1\" >Value</th>\n",
              "    </tr>\n",
              "  </thead>\n",
              "  <tbody>\n",
              "    <tr>\n",
              "      <th id=\"T_8a6d5_level0_row0\" class=\"row_heading level0 row0\" >0</th>\n",
              "      <td id=\"T_8a6d5_row0_col0\" class=\"data row0 col0\" >Session id</td>\n",
              "      <td id=\"T_8a6d5_row0_col1\" class=\"data row0 col1\" >10001</td>\n",
              "    </tr>\n",
              "    <tr>\n",
              "      <th id=\"T_8a6d5_level0_row1\" class=\"row_heading level0 row1\" >1</th>\n",
              "      <td id=\"T_8a6d5_row1_col0\" class=\"data row1 col0\" >Target</td>\n",
              "      <td id=\"T_8a6d5_row1_col1\" class=\"data row1 col1\" >Fraude</td>\n",
              "    </tr>\n",
              "    <tr>\n",
              "      <th id=\"T_8a6d5_level0_row2\" class=\"row_heading level0 row2\" >2</th>\n",
              "      <td id=\"T_8a6d5_row2_col0\" class=\"data row2 col0\" >Target type</td>\n",
              "      <td id=\"T_8a6d5_row2_col1\" class=\"data row2 col1\" >Binary</td>\n",
              "    </tr>\n",
              "    <tr>\n",
              "      <th id=\"T_8a6d5_level0_row3\" class=\"row_heading level0 row3\" >3</th>\n",
              "      <td id=\"T_8a6d5_row3_col0\" class=\"data row3 col0\" >Original data shape</td>\n",
              "      <td id=\"T_8a6d5_row3_col1\" class=\"data row3 col1\" >(43648, 26)</td>\n",
              "    </tr>\n",
              "    <tr>\n",
              "      <th id=\"T_8a6d5_level0_row4\" class=\"row_heading level0 row4\" >4</th>\n",
              "      <td id=\"T_8a6d5_row4_col0\" class=\"data row4 col0\" >Transformed data shape</td>\n",
              "      <td id=\"T_8a6d5_row4_col1\" class=\"data row4 col1\" >(43648, 65)</td>\n",
              "    </tr>\n",
              "    <tr>\n",
              "      <th id=\"T_8a6d5_level0_row5\" class=\"row_heading level0 row5\" >5</th>\n",
              "      <td id=\"T_8a6d5_row5_col0\" class=\"data row5 col0\" >Transformed train set shape</td>\n",
              "      <td id=\"T_8a6d5_row5_col1\" class=\"data row5 col1\" >(30553, 65)</td>\n",
              "    </tr>\n",
              "    <tr>\n",
              "      <th id=\"T_8a6d5_level0_row6\" class=\"row_heading level0 row6\" >6</th>\n",
              "      <td id=\"T_8a6d5_row6_col0\" class=\"data row6 col0\" >Transformed test set shape</td>\n",
              "      <td id=\"T_8a6d5_row6_col1\" class=\"data row6 col1\" >(13095, 65)</td>\n",
              "    </tr>\n",
              "    <tr>\n",
              "      <th id=\"T_8a6d5_level0_row7\" class=\"row_heading level0 row7\" >7</th>\n",
              "      <td id=\"T_8a6d5_row7_col0\" class=\"data row7 col0\" >Numeric features</td>\n",
              "      <td id=\"T_8a6d5_row7_col1\" class=\"data row7 col1\" >1</td>\n",
              "    </tr>\n",
              "    <tr>\n",
              "      <th id=\"T_8a6d5_level0_row8\" class=\"row_heading level0 row8\" >8</th>\n",
              "      <td id=\"T_8a6d5_row8_col0\" class=\"data row8 col0\" >Categorical features</td>\n",
              "      <td id=\"T_8a6d5_row8_col1\" class=\"data row8 col1\" >24</td>\n",
              "    </tr>\n",
              "    <tr>\n",
              "      <th id=\"T_8a6d5_level0_row9\" class=\"row_heading level0 row9\" >9</th>\n",
              "      <td id=\"T_8a6d5_row9_col0\" class=\"data row9 col0\" >Rows with missing values</td>\n",
              "      <td id=\"T_8a6d5_row9_col1\" class=\"data row9 col1\" >17.3%</td>\n",
              "    </tr>\n",
              "    <tr>\n",
              "      <th id=\"T_8a6d5_level0_row10\" class=\"row_heading level0 row10\" >10</th>\n",
              "      <td id=\"T_8a6d5_row10_col0\" class=\"data row10 col0\" >Preprocess</td>\n",
              "      <td id=\"T_8a6d5_row10_col1\" class=\"data row10 col1\" >True</td>\n",
              "    </tr>\n",
              "    <tr>\n",
              "      <th id=\"T_8a6d5_level0_row11\" class=\"row_heading level0 row11\" >11</th>\n",
              "      <td id=\"T_8a6d5_row11_col0\" class=\"data row11 col0\" >Imputation type</td>\n",
              "      <td id=\"T_8a6d5_row11_col1\" class=\"data row11 col1\" >simple</td>\n",
              "    </tr>\n",
              "    <tr>\n",
              "      <th id=\"T_8a6d5_level0_row12\" class=\"row_heading level0 row12\" >12</th>\n",
              "      <td id=\"T_8a6d5_row12_col0\" class=\"data row12 col0\" >Numeric imputation</td>\n",
              "      <td id=\"T_8a6d5_row12_col1\" class=\"data row12 col1\" >mean</td>\n",
              "    </tr>\n",
              "    <tr>\n",
              "      <th id=\"T_8a6d5_level0_row13\" class=\"row_heading level0 row13\" >13</th>\n",
              "      <td id=\"T_8a6d5_row13_col0\" class=\"data row13 col0\" >Categorical imputation</td>\n",
              "      <td id=\"T_8a6d5_row13_col1\" class=\"data row13 col1\" >mode</td>\n",
              "    </tr>\n",
              "    <tr>\n",
              "      <th id=\"T_8a6d5_level0_row14\" class=\"row_heading level0 row14\" >14</th>\n",
              "      <td id=\"T_8a6d5_row14_col0\" class=\"data row14 col0\" >Maximum one-hot encoding</td>\n",
              "      <td id=\"T_8a6d5_row14_col1\" class=\"data row14 col1\" >25</td>\n",
              "    </tr>\n",
              "    <tr>\n",
              "      <th id=\"T_8a6d5_level0_row15\" class=\"row_heading level0 row15\" >15</th>\n",
              "      <td id=\"T_8a6d5_row15_col0\" class=\"data row15 col0\" >Encoding method</td>\n",
              "      <td id=\"T_8a6d5_row15_col1\" class=\"data row15 col1\" >None</td>\n",
              "    </tr>\n",
              "    <tr>\n",
              "      <th id=\"T_8a6d5_level0_row16\" class=\"row_heading level0 row16\" >16</th>\n",
              "      <td id=\"T_8a6d5_row16_col0\" class=\"data row16 col0\" >Fold Generator</td>\n",
              "      <td id=\"T_8a6d5_row16_col1\" class=\"data row16 col1\" >StratifiedKFold</td>\n",
              "    </tr>\n",
              "    <tr>\n",
              "      <th id=\"T_8a6d5_level0_row17\" class=\"row_heading level0 row17\" >17</th>\n",
              "      <td id=\"T_8a6d5_row17_col0\" class=\"data row17 col0\" >Fold Number</td>\n",
              "      <td id=\"T_8a6d5_row17_col1\" class=\"data row17 col1\" >10</td>\n",
              "    </tr>\n",
              "    <tr>\n",
              "      <th id=\"T_8a6d5_level0_row18\" class=\"row_heading level0 row18\" >18</th>\n",
              "      <td id=\"T_8a6d5_row18_col0\" class=\"data row18 col0\" >CPU Jobs</td>\n",
              "      <td id=\"T_8a6d5_row18_col1\" class=\"data row18 col1\" >-1</td>\n",
              "    </tr>\n",
              "    <tr>\n",
              "      <th id=\"T_8a6d5_level0_row19\" class=\"row_heading level0 row19\" >19</th>\n",
              "      <td id=\"T_8a6d5_row19_col0\" class=\"data row19 col0\" >Use GPU</td>\n",
              "      <td id=\"T_8a6d5_row19_col1\" class=\"data row19 col1\" >False</td>\n",
              "    </tr>\n",
              "    <tr>\n",
              "      <th id=\"T_8a6d5_level0_row20\" class=\"row_heading level0 row20\" >20</th>\n",
              "      <td id=\"T_8a6d5_row20_col0\" class=\"data row20 col0\" >Log Experiment</td>\n",
              "      <td id=\"T_8a6d5_row20_col1\" class=\"data row20 col1\" >False</td>\n",
              "    </tr>\n",
              "    <tr>\n",
              "      <th id=\"T_8a6d5_level0_row21\" class=\"row_heading level0 row21\" >21</th>\n",
              "      <td id=\"T_8a6d5_row21_col0\" class=\"data row21 col0\" >Experiment Name</td>\n",
              "      <td id=\"T_8a6d5_row21_col1\" class=\"data row21 col1\" >clf-default-name</td>\n",
              "    </tr>\n",
              "    <tr>\n",
              "      <th id=\"T_8a6d5_level0_row22\" class=\"row_heading level0 row22\" >22</th>\n",
              "      <td id=\"T_8a6d5_row22_col0\" class=\"data row22 col0\" >USI</td>\n",
              "      <td id=\"T_8a6d5_row22_col1\" class=\"data row22 col1\" >77b7</td>\n",
              "    </tr>\n",
              "  </tbody>\n",
              "</table>\n"
            ]
          },
          "metadata": {}
        }
      ]
    },
    {
      "cell_type": "markdown",
      "source": [
        "# validación cruzada de los modelos de clasificación"
      ],
      "metadata": {
        "id": "FSJ_YTmtV92q"
      }
    },
    {
      "cell_type": "code",
      "source": [
        "best_model=compare_models()"
      ],
      "metadata": {
        "colab": {
          "base_uri": "https://localhost:8080/",
          "height": 520,
          "referenced_widgets": [
            "c003ebfd409249beb87b64c4fd2675b4",
            "f6943166ffa14ab7960ac3712350a082",
            "6f5533da62fb48aa9942ad0549b4fdff",
            "b2afa0273cb847c4bc4e3547602f1b24",
            "7844145a2bd9405eb1439dc1a40a685d",
            "94e23a493f7d4ff489c6bbf1aa55969c",
            "68bf1ab1a0b847a1864928bf213e1dcd",
            "451e662e24a34937bd447bcff30efe0d",
            "df058a22e7154b9383c1cc2ec6734eeb",
            "f41468b14d49412f81644cdb25cf7b50",
            "883fb2bc02d141e4a50d4ffa62453bdb"
          ]
        },
        "id": "F6A_yH4WV9Vy",
        "outputId": "48507065-a4ba-4e53-93aa-016429481940"
      },
      "execution_count": 11,
      "outputs": [
        {
          "output_type": "display_data",
          "data": {
            "text/plain": [
              "<IPython.core.display.HTML object>"
            ],
            "text/html": []
          },
          "metadata": {}
        },
        {
          "output_type": "display_data",
          "data": {
            "text/plain": [
              "<pandas.io.formats.style.Styler at 0x7d9dae9f3940>"
            ],
            "text/html": [
              "<style type=\"text/css\">\n",
              "#T_2b1d5 th {\n",
              "  text-align: left;\n",
              "}\n",
              "#T_2b1d5_row0_col0, #T_2b1d5_row1_col0, #T_2b1d5_row1_col1, #T_2b1d5_row1_col2, #T_2b1d5_row1_col3, #T_2b1d5_row1_col4, #T_2b1d5_row1_col5, #T_2b1d5_row1_col6, #T_2b1d5_row1_col7, #T_2b1d5_row2_col0, #T_2b1d5_row2_col1, #T_2b1d5_row2_col2, #T_2b1d5_row2_col3, #T_2b1d5_row2_col4, #T_2b1d5_row2_col5, #T_2b1d5_row2_col6, #T_2b1d5_row2_col7, #T_2b1d5_row3_col0, #T_2b1d5_row3_col1, #T_2b1d5_row3_col2, #T_2b1d5_row3_col3, #T_2b1d5_row3_col4, #T_2b1d5_row3_col5, #T_2b1d5_row3_col6, #T_2b1d5_row3_col7, #T_2b1d5_row4_col0, #T_2b1d5_row4_col1, #T_2b1d5_row4_col2, #T_2b1d5_row4_col3, #T_2b1d5_row4_col4, #T_2b1d5_row4_col5, #T_2b1d5_row4_col6, #T_2b1d5_row4_col7, #T_2b1d5_row5_col0, #T_2b1d5_row5_col1, #T_2b1d5_row5_col2, #T_2b1d5_row5_col3, #T_2b1d5_row5_col4, #T_2b1d5_row5_col5, #T_2b1d5_row5_col6, #T_2b1d5_row5_col7, #T_2b1d5_row6_col0, #T_2b1d5_row6_col1, #T_2b1d5_row6_col2, #T_2b1d5_row6_col3, #T_2b1d5_row6_col4, #T_2b1d5_row6_col5, #T_2b1d5_row6_col6, #T_2b1d5_row6_col7, #T_2b1d5_row7_col0, #T_2b1d5_row7_col1, #T_2b1d5_row7_col2, #T_2b1d5_row7_col3, #T_2b1d5_row7_col4, #T_2b1d5_row7_col5, #T_2b1d5_row7_col6, #T_2b1d5_row7_col7, #T_2b1d5_row8_col0, #T_2b1d5_row8_col1, #T_2b1d5_row8_col2, #T_2b1d5_row8_col3, #T_2b1d5_row8_col4, #T_2b1d5_row8_col5, #T_2b1d5_row8_col6, #T_2b1d5_row8_col7, #T_2b1d5_row9_col0, #T_2b1d5_row9_col1, #T_2b1d5_row9_col2, #T_2b1d5_row9_col3, #T_2b1d5_row9_col4, #T_2b1d5_row9_col5, #T_2b1d5_row9_col6, #T_2b1d5_row9_col7, #T_2b1d5_row10_col0, #T_2b1d5_row10_col1, #T_2b1d5_row10_col2, #T_2b1d5_row10_col3, #T_2b1d5_row10_col4, #T_2b1d5_row10_col5, #T_2b1d5_row10_col6, #T_2b1d5_row10_col7, #T_2b1d5_row11_col0, #T_2b1d5_row11_col1, #T_2b1d5_row11_col2, #T_2b1d5_row11_col3, #T_2b1d5_row11_col4, #T_2b1d5_row11_col5, #T_2b1d5_row11_col6, #T_2b1d5_row11_col7, #T_2b1d5_row12_col0, #T_2b1d5_row12_col1, #T_2b1d5_row12_col2, #T_2b1d5_row12_col3, #T_2b1d5_row12_col4, #T_2b1d5_row12_col5, #T_2b1d5_row12_col6, #T_2b1d5_row12_col7, #T_2b1d5_row13_col0, #T_2b1d5_row13_col1, #T_2b1d5_row13_col2, #T_2b1d5_row13_col3, #T_2b1d5_row13_col4, #T_2b1d5_row13_col5, #T_2b1d5_row13_col6, #T_2b1d5_row13_col7, #T_2b1d5_row14_col0, #T_2b1d5_row14_col1, #T_2b1d5_row14_col2, #T_2b1d5_row14_col3, #T_2b1d5_row14_col4, #T_2b1d5_row14_col5, #T_2b1d5_row14_col6, #T_2b1d5_row14_col7 {\n",
              "  text-align: left;\n",
              "}\n",
              "#T_2b1d5_row0_col1, #T_2b1d5_row0_col2, #T_2b1d5_row0_col3, #T_2b1d5_row0_col4, #T_2b1d5_row0_col5, #T_2b1d5_row0_col6, #T_2b1d5_row0_col7 {\n",
              "  text-align: left;\n",
              "  background-color: yellow;\n",
              "}\n",
              "#T_2b1d5_row0_col8, #T_2b1d5_row1_col8, #T_2b1d5_row2_col8, #T_2b1d5_row3_col8, #T_2b1d5_row4_col8, #T_2b1d5_row5_col8, #T_2b1d5_row6_col8, #T_2b1d5_row7_col8, #T_2b1d5_row8_col8, #T_2b1d5_row9_col8, #T_2b1d5_row10_col8, #T_2b1d5_row11_col8, #T_2b1d5_row12_col8, #T_2b1d5_row14_col8 {\n",
              "  text-align: left;\n",
              "  background-color: lightgrey;\n",
              "}\n",
              "#T_2b1d5_row13_col8 {\n",
              "  text-align: left;\n",
              "  background-color: yellow;\n",
              "  background-color: lightgrey;\n",
              "}\n",
              "</style>\n",
              "<table id=\"T_2b1d5\" class=\"dataframe\">\n",
              "  <thead>\n",
              "    <tr>\n",
              "      <th class=\"blank level0\" >&nbsp;</th>\n",
              "      <th id=\"T_2b1d5_level0_col0\" class=\"col_heading level0 col0\" >Model</th>\n",
              "      <th id=\"T_2b1d5_level0_col1\" class=\"col_heading level0 col1\" >Accuracy</th>\n",
              "      <th id=\"T_2b1d5_level0_col2\" class=\"col_heading level0 col2\" >AUC</th>\n",
              "      <th id=\"T_2b1d5_level0_col3\" class=\"col_heading level0 col3\" >Recall</th>\n",
              "      <th id=\"T_2b1d5_level0_col4\" class=\"col_heading level0 col4\" >Prec.</th>\n",
              "      <th id=\"T_2b1d5_level0_col5\" class=\"col_heading level0 col5\" >F1</th>\n",
              "      <th id=\"T_2b1d5_level0_col6\" class=\"col_heading level0 col6\" >Kappa</th>\n",
              "      <th id=\"T_2b1d5_level0_col7\" class=\"col_heading level0 col7\" >MCC</th>\n",
              "      <th id=\"T_2b1d5_level0_col8\" class=\"col_heading level0 col8\" >TT (Sec)</th>\n",
              "    </tr>\n",
              "  </thead>\n",
              "  <tbody>\n",
              "    <tr>\n",
              "      <th id=\"T_2b1d5_level0_row0\" class=\"row_heading level0 row0\" >lr</th>\n",
              "      <td id=\"T_2b1d5_row0_col0\" class=\"data row0 col0\" >Logistic Regression</td>\n",
              "      <td id=\"T_2b1d5_row0_col1\" class=\"data row0 col1\" >0.9386</td>\n",
              "      <td id=\"T_2b1d5_row0_col2\" class=\"data row0 col2\" >0.9386</td>\n",
              "      <td id=\"T_2b1d5_row0_col3\" class=\"data row0 col3\" >0.6429</td>\n",
              "      <td id=\"T_2b1d5_row0_col4\" class=\"data row0 col4\" >0.8956</td>\n",
              "      <td id=\"T_2b1d5_row0_col5\" class=\"data row0 col5\" >0.7477</td>\n",
              "      <td id=\"T_2b1d5_row0_col6\" class=\"data row0 col6\" >0.7139</td>\n",
              "      <td id=\"T_2b1d5_row0_col7\" class=\"data row0 col7\" >0.7271</td>\n",
              "      <td id=\"T_2b1d5_row0_col8\" class=\"data row0 col8\" >6.4060</td>\n",
              "    </tr>\n",
              "    <tr>\n",
              "      <th id=\"T_2b1d5_level0_row1\" class=\"row_heading level0 row1\" >knn</th>\n",
              "      <td id=\"T_2b1d5_row1_col0\" class=\"data row1 col0\" >K Neighbors Classifier</td>\n",
              "      <td id=\"T_2b1d5_row1_col1\" class=\"data row1 col1\" >0.9172</td>\n",
              "      <td id=\"T_2b1d5_row1_col2\" class=\"data row1 col2\" >0.8246</td>\n",
              "      <td id=\"T_2b1d5_row1_col3\" class=\"data row1 col3\" >0.5469</td>\n",
              "      <td id=\"T_2b1d5_row1_col4\" class=\"data row1 col4\" >0.8072</td>\n",
              "      <td id=\"T_2b1d5_row1_col5\" class=\"data row1 col5\" >0.6515</td>\n",
              "      <td id=\"T_2b1d5_row1_col6\" class=\"data row1 col6\" >0.6065</td>\n",
              "      <td id=\"T_2b1d5_row1_col7\" class=\"data row1 col7\" >0.6216</td>\n",
              "      <td id=\"T_2b1d5_row1_col8\" class=\"data row1 col8\" >3.0290</td>\n",
              "    </tr>\n",
              "    <tr>\n",
              "      <th id=\"T_2b1d5_level0_row2\" class=\"row_heading level0 row2\" >dt</th>\n",
              "      <td id=\"T_2b1d5_row2_col0\" class=\"data row2 col0\" >Decision Tree Classifier</td>\n",
              "      <td id=\"T_2b1d5_row2_col1\" class=\"data row2 col1\" >0.8582</td>\n",
              "      <td id=\"T_2b1d5_row2_col2\" class=\"data row2 col2\" >0.5002</td>\n",
              "      <td id=\"T_2b1d5_row2_col3\" class=\"data row2 col3\" >0.0005</td>\n",
              "      <td id=\"T_2b1d5_row2_col4\" class=\"data row2 col4\" >0.2000</td>\n",
              "      <td id=\"T_2b1d5_row2_col5\" class=\"data row2 col5\" >0.0009</td>\n",
              "      <td id=\"T_2b1d5_row2_col6\" class=\"data row2 col6\" >0.0008</td>\n",
              "      <td id=\"T_2b1d5_row2_col7\" class=\"data row2 col7\" >0.0089</td>\n",
              "      <td id=\"T_2b1d5_row2_col8\" class=\"data row2 col8\" >1.7700</td>\n",
              "    </tr>\n",
              "    <tr>\n",
              "      <th id=\"T_2b1d5_level0_row3\" class=\"row_heading level0 row3\" >ridge</th>\n",
              "      <td id=\"T_2b1d5_row3_col0\" class=\"data row3 col0\" >Ridge Classifier</td>\n",
              "      <td id=\"T_2b1d5_row3_col1\" class=\"data row3 col1\" >0.8582</td>\n",
              "      <td id=\"T_2b1d5_row3_col2\" class=\"data row3 col2\" >0.8972</td>\n",
              "      <td id=\"T_2b1d5_row3_col3\" class=\"data row3 col3\" >0.0005</td>\n",
              "      <td id=\"T_2b1d5_row3_col4\" class=\"data row3 col4\" >0.2000</td>\n",
              "      <td id=\"T_2b1d5_row3_col5\" class=\"data row3 col5\" >0.0009</td>\n",
              "      <td id=\"T_2b1d5_row3_col6\" class=\"data row3 col6\" >0.0008</td>\n",
              "      <td id=\"T_2b1d5_row3_col7\" class=\"data row3 col7\" >0.0089</td>\n",
              "      <td id=\"T_2b1d5_row3_col8\" class=\"data row3 col8\" >1.4190</td>\n",
              "    </tr>\n",
              "    <tr>\n",
              "      <th id=\"T_2b1d5_level0_row4\" class=\"row_heading level0 row4\" >et</th>\n",
              "      <td id=\"T_2b1d5_row4_col0\" class=\"data row4 col0\" >Extra Trees Classifier</td>\n",
              "      <td id=\"T_2b1d5_row4_col1\" class=\"data row4 col1\" >0.8582</td>\n",
              "      <td id=\"T_2b1d5_row4_col2\" class=\"data row4 col2\" >0.6785</td>\n",
              "      <td id=\"T_2b1d5_row4_col3\" class=\"data row4 col3\" >0.0005</td>\n",
              "      <td id=\"T_2b1d5_row4_col4\" class=\"data row4 col4\" >0.2000</td>\n",
              "      <td id=\"T_2b1d5_row4_col5\" class=\"data row4 col5\" >0.0009</td>\n",
              "      <td id=\"T_2b1d5_row4_col6\" class=\"data row4 col6\" >0.0008</td>\n",
              "      <td id=\"T_2b1d5_row4_col7\" class=\"data row4 col7\" >0.0089</td>\n",
              "      <td id=\"T_2b1d5_row4_col8\" class=\"data row4 col8\" >2.6310</td>\n",
              "    </tr>\n",
              "    <tr>\n",
              "      <th id=\"T_2b1d5_level0_row5\" class=\"row_heading level0 row5\" >rf</th>\n",
              "      <td id=\"T_2b1d5_row5_col0\" class=\"data row5 col0\" >Random Forest Classifier</td>\n",
              "      <td id=\"T_2b1d5_row5_col1\" class=\"data row5 col1\" >0.8581</td>\n",
              "      <td id=\"T_2b1d5_row5_col2\" class=\"data row5 col2\" >0.7584</td>\n",
              "      <td id=\"T_2b1d5_row5_col3\" class=\"data row5 col3\" >0.0000</td>\n",
              "      <td id=\"T_2b1d5_row5_col4\" class=\"data row5 col4\" >0.0000</td>\n",
              "      <td id=\"T_2b1d5_row5_col5\" class=\"data row5 col5\" >0.0000</td>\n",
              "      <td id=\"T_2b1d5_row5_col6\" class=\"data row5 col6\" >0.0000</td>\n",
              "      <td id=\"T_2b1d5_row5_col7\" class=\"data row5 col7\" >0.0000</td>\n",
              "      <td id=\"T_2b1d5_row5_col8\" class=\"data row5 col8\" >2.3780</td>\n",
              "    </tr>\n",
              "    <tr>\n",
              "      <th id=\"T_2b1d5_level0_row6\" class=\"row_heading level0 row6\" >qda</th>\n",
              "      <td id=\"T_2b1d5_row6_col0\" class=\"data row6 col0\" >Quadratic Discriminant Analysis</td>\n",
              "      <td id=\"T_2b1d5_row6_col1\" class=\"data row6 col1\" >0.8581</td>\n",
              "      <td id=\"T_2b1d5_row6_col2\" class=\"data row6 col2\" >0.7292</td>\n",
              "      <td id=\"T_2b1d5_row6_col3\" class=\"data row6 col3\" >0.0000</td>\n",
              "      <td id=\"T_2b1d5_row6_col4\" class=\"data row6 col4\" >0.0000</td>\n",
              "      <td id=\"T_2b1d5_row6_col5\" class=\"data row6 col5\" >0.0000</td>\n",
              "      <td id=\"T_2b1d5_row6_col6\" class=\"data row6 col6\" >-0.0001</td>\n",
              "      <td id=\"T_2b1d5_row6_col7\" class=\"data row6 col7\" >-0.0007</td>\n",
              "      <td id=\"T_2b1d5_row6_col8\" class=\"data row6 col8\" >1.5630</td>\n",
              "    </tr>\n",
              "    <tr>\n",
              "      <th id=\"T_2b1d5_level0_row7\" class=\"row_heading level0 row7\" >ada</th>\n",
              "      <td id=\"T_2b1d5_row7_col0\" class=\"data row7 col0\" >Ada Boost Classifier</td>\n",
              "      <td id=\"T_2b1d5_row7_col1\" class=\"data row7 col1\" >0.8581</td>\n",
              "      <td id=\"T_2b1d5_row7_col2\" class=\"data row7 col2\" >0.5000</td>\n",
              "      <td id=\"T_2b1d5_row7_col3\" class=\"data row7 col3\" >0.0000</td>\n",
              "      <td id=\"T_2b1d5_row7_col4\" class=\"data row7 col4\" >0.0000</td>\n",
              "      <td id=\"T_2b1d5_row7_col5\" class=\"data row7 col5\" >0.0000</td>\n",
              "      <td id=\"T_2b1d5_row7_col6\" class=\"data row7 col6\" >0.0000</td>\n",
              "      <td id=\"T_2b1d5_row7_col7\" class=\"data row7 col7\" >0.0000</td>\n",
              "      <td id=\"T_2b1d5_row7_col8\" class=\"data row7 col8\" >1.4200</td>\n",
              "    </tr>\n",
              "    <tr>\n",
              "      <th id=\"T_2b1d5_level0_row8\" class=\"row_heading level0 row8\" >gbc</th>\n",
              "      <td id=\"T_2b1d5_row8_col0\" class=\"data row8 col0\" >Gradient Boosting Classifier</td>\n",
              "      <td id=\"T_2b1d5_row8_col1\" class=\"data row8 col1\" >0.8581</td>\n",
              "      <td id=\"T_2b1d5_row8_col2\" class=\"data row8 col2\" >0.5050</td>\n",
              "      <td id=\"T_2b1d5_row8_col3\" class=\"data row8 col3\" >0.0000</td>\n",
              "      <td id=\"T_2b1d5_row8_col4\" class=\"data row8 col4\" >0.0000</td>\n",
              "      <td id=\"T_2b1d5_row8_col5\" class=\"data row8 col5\" >0.0000</td>\n",
              "      <td id=\"T_2b1d5_row8_col6\" class=\"data row8 col6\" >0.0000</td>\n",
              "      <td id=\"T_2b1d5_row8_col7\" class=\"data row8 col7\" >0.0000</td>\n",
              "      <td id=\"T_2b1d5_row8_col8\" class=\"data row8 col8\" >3.7420</td>\n",
              "    </tr>\n",
              "    <tr>\n",
              "      <th id=\"T_2b1d5_level0_row9\" class=\"row_heading level0 row9\" >lda</th>\n",
              "      <td id=\"T_2b1d5_row9_col0\" class=\"data row9 col0\" >Linear Discriminant Analysis</td>\n",
              "      <td id=\"T_2b1d5_row9_col1\" class=\"data row9 col1\" >0.8581</td>\n",
              "      <td id=\"T_2b1d5_row9_col2\" class=\"data row9 col2\" >0.5000</td>\n",
              "      <td id=\"T_2b1d5_row9_col3\" class=\"data row9 col3\" >0.0000</td>\n",
              "      <td id=\"T_2b1d5_row9_col4\" class=\"data row9 col4\" >0.0000</td>\n",
              "      <td id=\"T_2b1d5_row9_col5\" class=\"data row9 col5\" >0.0000</td>\n",
              "      <td id=\"T_2b1d5_row9_col6\" class=\"data row9 col6\" >0.0000</td>\n",
              "      <td id=\"T_2b1d5_row9_col7\" class=\"data row9 col7\" >0.0000</td>\n",
              "      <td id=\"T_2b1d5_row9_col8\" class=\"data row9 col8\" >1.5860</td>\n",
              "    </tr>\n",
              "    <tr>\n",
              "      <th id=\"T_2b1d5_level0_row10\" class=\"row_heading level0 row10\" >xgboost</th>\n",
              "      <td id=\"T_2b1d5_row10_col0\" class=\"data row10 col0\" >Extreme Gradient Boosting</td>\n",
              "      <td id=\"T_2b1d5_row10_col1\" class=\"data row10 col1\" >0.8581</td>\n",
              "      <td id=\"T_2b1d5_row10_col2\" class=\"data row10 col2\" >0.8856</td>\n",
              "      <td id=\"T_2b1d5_row10_col3\" class=\"data row10 col3\" >0.0000</td>\n",
              "      <td id=\"T_2b1d5_row10_col4\" class=\"data row10 col4\" >0.0000</td>\n",
              "      <td id=\"T_2b1d5_row10_col5\" class=\"data row10 col5\" >0.0000</td>\n",
              "      <td id=\"T_2b1d5_row10_col6\" class=\"data row10 col6\" >0.0000</td>\n",
              "      <td id=\"T_2b1d5_row10_col7\" class=\"data row10 col7\" >0.0000</td>\n",
              "      <td id=\"T_2b1d5_row10_col8\" class=\"data row10 col8\" >2.0930</td>\n",
              "    </tr>\n",
              "    <tr>\n",
              "      <th id=\"T_2b1d5_level0_row11\" class=\"row_heading level0 row11\" >lightgbm</th>\n",
              "      <td id=\"T_2b1d5_row11_col0\" class=\"data row11 col0\" >Light Gradient Boosting Machine</td>\n",
              "      <td id=\"T_2b1d5_row11_col1\" class=\"data row11 col1\" >0.8581</td>\n",
              "      <td id=\"T_2b1d5_row11_col2\" class=\"data row11 col2\" >0.8513</td>\n",
              "      <td id=\"T_2b1d5_row11_col3\" class=\"data row11 col3\" >0.0000</td>\n",
              "      <td id=\"T_2b1d5_row11_col4\" class=\"data row11 col4\" >0.0000</td>\n",
              "      <td id=\"T_2b1d5_row11_col5\" class=\"data row11 col5\" >0.0000</td>\n",
              "      <td id=\"T_2b1d5_row11_col6\" class=\"data row11 col6\" >0.0000</td>\n",
              "      <td id=\"T_2b1d5_row11_col7\" class=\"data row11 col7\" >0.0000</td>\n",
              "      <td id=\"T_2b1d5_row11_col8\" class=\"data row11 col8\" >2.5900</td>\n",
              "    </tr>\n",
              "    <tr>\n",
              "      <th id=\"T_2b1d5_level0_row12\" class=\"row_heading level0 row12\" >dummy</th>\n",
              "      <td id=\"T_2b1d5_row12_col0\" class=\"data row12 col0\" >Dummy Classifier</td>\n",
              "      <td id=\"T_2b1d5_row12_col1\" class=\"data row12 col1\" >0.8581</td>\n",
              "      <td id=\"T_2b1d5_row12_col2\" class=\"data row12 col2\" >0.5000</td>\n",
              "      <td id=\"T_2b1d5_row12_col3\" class=\"data row12 col3\" >0.0000</td>\n",
              "      <td id=\"T_2b1d5_row12_col4\" class=\"data row12 col4\" >0.0000</td>\n",
              "      <td id=\"T_2b1d5_row12_col5\" class=\"data row12 col5\" >0.0000</td>\n",
              "      <td id=\"T_2b1d5_row12_col6\" class=\"data row12 col6\" >0.0000</td>\n",
              "      <td id=\"T_2b1d5_row12_col7\" class=\"data row12 col7\" >0.0000</td>\n",
              "      <td id=\"T_2b1d5_row12_col8\" class=\"data row12 col8\" >1.4450</td>\n",
              "    </tr>\n",
              "    <tr>\n",
              "      <th id=\"T_2b1d5_level0_row13\" class=\"row_heading level0 row13\" >nb</th>\n",
              "      <td id=\"T_2b1d5_row13_col0\" class=\"data row13 col0\" >Naive Bayes</td>\n",
              "      <td id=\"T_2b1d5_row13_col1\" class=\"data row13 col1\" >0.8535</td>\n",
              "      <td id=\"T_2b1d5_row13_col2\" class=\"data row13 col2\" >0.8025</td>\n",
              "      <td id=\"T_2b1d5_row13_col3\" class=\"data row13 col3\" >0.0623</td>\n",
              "      <td id=\"T_2b1d5_row13_col4\" class=\"data row13 col4\" >0.3978</td>\n",
              "      <td id=\"T_2b1d5_row13_col5\" class=\"data row13 col5\" >0.1074</td>\n",
              "      <td id=\"T_2b1d5_row13_col6\" class=\"data row13 col6\" >0.0718</td>\n",
              "      <td id=\"T_2b1d5_row13_col7\" class=\"data row13 col7\" >0.1101</td>\n",
              "      <td id=\"T_2b1d5_row13_col8\" class=\"data row13 col8\" >1.4180</td>\n",
              "    </tr>\n",
              "    <tr>\n",
              "      <th id=\"T_2b1d5_level0_row14\" class=\"row_heading level0 row14\" >svm</th>\n",
              "      <td id=\"T_2b1d5_row14_col0\" class=\"data row14 col0\" >SVM - Linear Kernel</td>\n",
              "      <td id=\"T_2b1d5_row14_col1\" class=\"data row14 col1\" >0.6623</td>\n",
              "      <td id=\"T_2b1d5_row14_col2\" class=\"data row14 col2\" >0.5271</td>\n",
              "      <td id=\"T_2b1d5_row14_col3\" class=\"data row14 col3\" >0.3014</td>\n",
              "      <td id=\"T_2b1d5_row14_col4\" class=\"data row14 col4\" >0.0608</td>\n",
              "      <td id=\"T_2b1d5_row14_col5\" class=\"data row14 col5\" >0.1012</td>\n",
              "      <td id=\"T_2b1d5_row14_col6\" class=\"data row14 col6\" >0.0089</td>\n",
              "      <td id=\"T_2b1d5_row14_col7\" class=\"data row14 col7\" >0.0179</td>\n",
              "      <td id=\"T_2b1d5_row14_col8\" class=\"data row14 col8\" >1.7070</td>\n",
              "    </tr>\n",
              "  </tbody>\n",
              "</table>\n"
            ]
          },
          "metadata": {}
        },
        {
          "output_type": "display_data",
          "data": {
            "text/plain": [
              "Processing:   0%|          | 0/65 [00:00<?, ?it/s]"
            ],
            "application/vnd.jupyter.widget-view+json": {
              "version_major": 2,
              "version_minor": 0,
              "model_id": "c003ebfd409249beb87b64c4fd2675b4"
            }
          },
          "metadata": {
            "application/vnd.jupyter.widget-view+json": {
              "colab": {
                "custom_widget_manager": {
                  "url": "https://ssl.gstatic.com/colaboratory-static/widgets/colab-cdn-widget-manager/2b70e893a8ba7c0f/manager.min.js"
                }
              }
            }
          }
        },
        {
          "output_type": "display_data",
          "data": {
            "text/plain": [
              "<IPython.core.display.HTML object>"
            ],
            "text/html": []
          },
          "metadata": {}
        }
      ]
    },
    {
      "cell_type": "markdown",
      "source": [
        "# Creación del modelo: Testeo del modelo seleccionado creando 10 modelos para determinar la variabilidad"
      ],
      "metadata": {
        "id": "JPNg1ao5WKM7"
      }
    },
    {
      "cell_type": "code",
      "source": [
        "modelo = create_model('lr')"
      ],
      "metadata": {
        "colab": {
          "base_uri": "https://localhost:8080/",
          "height": 457,
          "referenced_widgets": [
            "8cb8b52ecd454cb3abc6995a4b17ee20",
            "4b3fd30cfa394ba1a789d56185eced91",
            "dfd74f56dcc74d41aae34519b025d5cd",
            "722e7a2ff0f6454f9739cdfdccdd0153",
            "5fd65ef89da54f2ca3266f0b512cbf22",
            "d333f042914d4276811252bf74923caa",
            "c04857e3bc204ef78056c00fa317e619",
            "7f8aaa54a1144b59ade3ce17f4642517",
            "e685b5a1b62c4a0d9a53e4ec694ed9dc",
            "cdf2c46bb5c34e3db7e4ad7a2887820c",
            "2d776f5ed1824bbe95d58f64aa4bc1ec"
          ]
        },
        "id": "gbwRm3NzWJQG",
        "outputId": "bd94505e-73a8-45a4-aa7a-888a0b96462a"
      },
      "execution_count": 12,
      "outputs": [
        {
          "output_type": "display_data",
          "data": {
            "text/plain": [
              "<IPython.core.display.HTML object>"
            ],
            "text/html": []
          },
          "metadata": {}
        },
        {
          "output_type": "display_data",
          "data": {
            "text/plain": [
              "<pandas.io.formats.style.Styler at 0x7d9dc7e306a0>"
            ],
            "text/html": [
              "<style type=\"text/css\">\n",
              "#T_0eb09_row10_col0, #T_0eb09_row10_col1, #T_0eb09_row10_col2, #T_0eb09_row10_col3, #T_0eb09_row10_col4, #T_0eb09_row10_col5, #T_0eb09_row10_col6 {\n",
              "  background: yellow;\n",
              "}\n",
              "</style>\n",
              "<table id=\"T_0eb09\" class=\"dataframe\">\n",
              "  <thead>\n",
              "    <tr>\n",
              "      <th class=\"blank level0\" >&nbsp;</th>\n",
              "      <th id=\"T_0eb09_level0_col0\" class=\"col_heading level0 col0\" >Accuracy</th>\n",
              "      <th id=\"T_0eb09_level0_col1\" class=\"col_heading level0 col1\" >AUC</th>\n",
              "      <th id=\"T_0eb09_level0_col2\" class=\"col_heading level0 col2\" >Recall</th>\n",
              "      <th id=\"T_0eb09_level0_col3\" class=\"col_heading level0 col3\" >Prec.</th>\n",
              "      <th id=\"T_0eb09_level0_col4\" class=\"col_heading level0 col4\" >F1</th>\n",
              "      <th id=\"T_0eb09_level0_col5\" class=\"col_heading level0 col5\" >Kappa</th>\n",
              "      <th id=\"T_0eb09_level0_col6\" class=\"col_heading level0 col6\" >MCC</th>\n",
              "    </tr>\n",
              "    <tr>\n",
              "      <th class=\"index_name level0\" >Fold</th>\n",
              "      <th class=\"blank col0\" >&nbsp;</th>\n",
              "      <th class=\"blank col1\" >&nbsp;</th>\n",
              "      <th class=\"blank col2\" >&nbsp;</th>\n",
              "      <th class=\"blank col3\" >&nbsp;</th>\n",
              "      <th class=\"blank col4\" >&nbsp;</th>\n",
              "      <th class=\"blank col5\" >&nbsp;</th>\n",
              "      <th class=\"blank col6\" >&nbsp;</th>\n",
              "    </tr>\n",
              "  </thead>\n",
              "  <tbody>\n",
              "    <tr>\n",
              "      <th id=\"T_0eb09_level0_row0\" class=\"row_heading level0 row0\" >0</th>\n",
              "      <td id=\"T_0eb09_row0_col0\" class=\"data row0 col0\" >0.9372</td>\n",
              "      <td id=\"T_0eb09_row0_col1\" class=\"data row0 col1\" >0.9377</td>\n",
              "      <td id=\"T_0eb09_row0_col2\" class=\"data row0 col2\" >0.6613</td>\n",
              "      <td id=\"T_0eb09_row0_col3\" class=\"data row0 col3\" >0.8645</td>\n",
              "      <td id=\"T_0eb09_row0_col4\" class=\"data row0 col4\" >0.7493</td>\n",
              "      <td id=\"T_0eb09_row0_col5\" class=\"data row0 col5\" >0.7142</td>\n",
              "      <td id=\"T_0eb09_row0_col6\" class=\"data row0 col6\" >0.7225</td>\n",
              "    </tr>\n",
              "    <tr>\n",
              "      <th id=\"T_0eb09_level0_row1\" class=\"row_heading level0 row1\" >1</th>\n",
              "      <td id=\"T_0eb09_row1_col0\" class=\"data row1 col0\" >0.9421</td>\n",
              "      <td id=\"T_0eb09_row1_col1\" class=\"data row1 col1\" >0.9301</td>\n",
              "      <td id=\"T_0eb09_row1_col2\" class=\"data row1 col2\" >0.6452</td>\n",
              "      <td id=\"T_0eb09_row1_col3\" class=\"data row1 col3\" >0.9241</td>\n",
              "      <td id=\"T_0eb09_row1_col4\" class=\"data row1 col4\" >0.7598</td>\n",
              "      <td id=\"T_0eb09_row1_col5\" class=\"data row1 col5\" >0.7281</td>\n",
              "      <td id=\"T_0eb09_row1_col6\" class=\"data row1 col6\" >0.7433</td>\n",
              "    </tr>\n",
              "    <tr>\n",
              "      <th id=\"T_0eb09_level0_row2\" class=\"row_heading level0 row2\" >2</th>\n",
              "      <td id=\"T_0eb09_row2_col0\" class=\"data row2 col0\" >0.9342</td>\n",
              "      <td id=\"T_0eb09_row2_col1\" class=\"data row2 col1\" >0.9424</td>\n",
              "      <td id=\"T_0eb09_row2_col2\" class=\"data row2 col2\" >0.6382</td>\n",
              "      <td id=\"T_0eb09_row2_col3\" class=\"data row2 col3\" >0.8629</td>\n",
              "      <td id=\"T_0eb09_row2_col4\" class=\"data row2 col4\" >0.7338</td>\n",
              "      <td id=\"T_0eb09_row2_col5\" class=\"data row2 col5\" >0.6972</td>\n",
              "      <td id=\"T_0eb09_row2_col6\" class=\"data row2 col6\" >0.7075</td>\n",
              "    </tr>\n",
              "    <tr>\n",
              "      <th id=\"T_0eb09_level0_row3\" class=\"row_heading level0 row3\" >3</th>\n",
              "      <td id=\"T_0eb09_row3_col0\" class=\"data row3 col0\" >0.9345</td>\n",
              "      <td id=\"T_0eb09_row3_col1\" class=\"data row3 col1\" >0.9249</td>\n",
              "      <td id=\"T_0eb09_row3_col2\" class=\"data row3 col2\" >0.6097</td>\n",
              "      <td id=\"T_0eb09_row3_col3\" class=\"data row3 col3\" >0.8949</td>\n",
              "      <td id=\"T_0eb09_row3_col4\" class=\"data row3 col4\" >0.7253</td>\n",
              "      <td id=\"T_0eb09_row3_col5\" class=\"data row3 col5\" >0.6896</td>\n",
              "      <td id=\"T_0eb09_row3_col6\" class=\"data row3 col6\" >0.7060</td>\n",
              "    </tr>\n",
              "    <tr>\n",
              "      <th id=\"T_0eb09_level0_row4\" class=\"row_heading level0 row4\" >4</th>\n",
              "      <td id=\"T_0eb09_row4_col0\" class=\"data row4 col0\" >0.9339</td>\n",
              "      <td id=\"T_0eb09_row4_col1\" class=\"data row4 col1\" >0.9354</td>\n",
              "      <td id=\"T_0eb09_row4_col2\" class=\"data row4 col2\" >0.6236</td>\n",
              "      <td id=\"T_0eb09_row4_col3\" class=\"data row4 col3\" >0.8738</td>\n",
              "      <td id=\"T_0eb09_row4_col4\" class=\"data row4 col4\" >0.7278</td>\n",
              "      <td id=\"T_0eb09_row4_col5\" class=\"data row4 col5\" >0.6913</td>\n",
              "      <td id=\"T_0eb09_row4_col6\" class=\"data row4 col6\" >0.7041</td>\n",
              "    </tr>\n",
              "    <tr>\n",
              "      <th id=\"T_0eb09_level0_row5\" class=\"row_heading level0 row5\" >5</th>\n",
              "      <td id=\"T_0eb09_row5_col0\" class=\"data row5 col0\" >0.9502</td>\n",
              "      <td id=\"T_0eb09_row5_col1\" class=\"data row5 col1\" >0.9430</td>\n",
              "      <td id=\"T_0eb09_row5_col2\" class=\"data row5 col2\" >0.7067</td>\n",
              "      <td id=\"T_0eb09_row5_col3\" class=\"data row5 col3\" >0.9245</td>\n",
              "      <td id=\"T_0eb09_row5_col4\" class=\"data row5 col4\" >0.8010</td>\n",
              "      <td id=\"T_0eb09_row5_col5\" class=\"data row5 col5\" >0.7732</td>\n",
              "      <td id=\"T_0eb09_row5_col6\" class=\"data row5 col6\" >0.7823</td>\n",
              "    </tr>\n",
              "    <tr>\n",
              "      <th id=\"T_0eb09_level0_row6\" class=\"row_heading level0 row6\" >6</th>\n",
              "      <td id=\"T_0eb09_row6_col0\" class=\"data row6 col0\" >0.9404</td>\n",
              "      <td id=\"T_0eb09_row6_col1\" class=\"data row6 col1\" >0.9491</td>\n",
              "      <td id=\"T_0eb09_row6_col2\" class=\"data row6 col2\" >0.6467</td>\n",
              "      <td id=\"T_0eb09_row6_col3\" class=\"data row6 col3\" >0.9061</td>\n",
              "      <td id=\"T_0eb09_row6_col4\" class=\"data row6 col4\" >0.7547</td>\n",
              "      <td id=\"T_0eb09_row6_col5\" class=\"data row6 col5\" >0.7219</td>\n",
              "      <td id=\"T_0eb09_row6_col6\" class=\"data row6 col6\" >0.7352</td>\n",
              "    </tr>\n",
              "    <tr>\n",
              "      <th id=\"T_0eb09_level0_row7\" class=\"row_heading level0 row7\" >7</th>\n",
              "      <td id=\"T_0eb09_row7_col0\" class=\"data row7 col0\" >0.9401</td>\n",
              "      <td id=\"T_0eb09_row7_col1\" class=\"data row7 col1\" >0.9336</td>\n",
              "      <td id=\"T_0eb09_row7_col2\" class=\"data row7 col2\" >0.6443</td>\n",
              "      <td id=\"T_0eb09_row7_col3\" class=\"data row7 col3\" >0.9058</td>\n",
              "      <td id=\"T_0eb09_row7_col4\" class=\"data row7 col4\" >0.7530</td>\n",
              "      <td id=\"T_0eb09_row7_col5\" class=\"data row7 col5\" >0.7201</td>\n",
              "      <td id=\"T_0eb09_row7_col6\" class=\"data row7 col6\" >0.7336</td>\n",
              "    </tr>\n",
              "    <tr>\n",
              "      <th id=\"T_0eb09_level0_row8\" class=\"row_heading level0 row8\" >8</th>\n",
              "      <td id=\"T_0eb09_row8_col0\" class=\"data row8 col0\" >0.9306</td>\n",
              "      <td id=\"T_0eb09_row8_col1\" class=\"data row8 col1\" >0.9348</td>\n",
              "      <td id=\"T_0eb09_row8_col2\" class=\"data row8 col2\" >0.5622</td>\n",
              "      <td id=\"T_0eb09_row8_col3\" class=\"data row8 col3\" >0.9173</td>\n",
              "      <td id=\"T_0eb09_row8_col4\" class=\"data row8 col4\" >0.6971</td>\n",
              "      <td id=\"T_0eb09_row8_col5\" class=\"data row8 col5\" >0.6605</td>\n",
              "      <td id=\"T_0eb09_row8_col6\" class=\"data row8 col6\" >0.6858</td>\n",
              "    </tr>\n",
              "    <tr>\n",
              "      <th id=\"T_0eb09_level0_row9\" class=\"row_heading level0 row9\" >9</th>\n",
              "      <td id=\"T_0eb09_row9_col0\" class=\"data row9 col0\" >0.9430</td>\n",
              "      <td id=\"T_0eb09_row9_col1\" class=\"data row9 col1\" >0.9555</td>\n",
              "      <td id=\"T_0eb09_row9_col2\" class=\"data row9 col2\" >0.6912</td>\n",
              "      <td id=\"T_0eb09_row9_col3\" class=\"data row9 col3\" >0.8824</td>\n",
              "      <td id=\"T_0eb09_row9_col4\" class=\"data row9 col4\" >0.7752</td>\n",
              "      <td id=\"T_0eb09_row9_col5\" class=\"data row9 col5\" >0.7431</td>\n",
              "      <td id=\"T_0eb09_row9_col6\" class=\"data row9 col6\" >0.7504</td>\n",
              "    </tr>\n",
              "    <tr>\n",
              "      <th id=\"T_0eb09_level0_row10\" class=\"row_heading level0 row10\" >Mean</th>\n",
              "      <td id=\"T_0eb09_row10_col0\" class=\"data row10 col0\" >0.9386</td>\n",
              "      <td id=\"T_0eb09_row10_col1\" class=\"data row10 col1\" >0.9386</td>\n",
              "      <td id=\"T_0eb09_row10_col2\" class=\"data row10 col2\" >0.6429</td>\n",
              "      <td id=\"T_0eb09_row10_col3\" class=\"data row10 col3\" >0.8956</td>\n",
              "      <td id=\"T_0eb09_row10_col4\" class=\"data row10 col4\" >0.7477</td>\n",
              "      <td id=\"T_0eb09_row10_col5\" class=\"data row10 col5\" >0.7139</td>\n",
              "      <td id=\"T_0eb09_row10_col6\" class=\"data row10 col6\" >0.7271</td>\n",
              "    </tr>\n",
              "    <tr>\n",
              "      <th id=\"T_0eb09_level0_row11\" class=\"row_heading level0 row11\" >Std</th>\n",
              "      <td id=\"T_0eb09_row11_col0\" class=\"data row11 col0\" >0.0054</td>\n",
              "      <td id=\"T_0eb09_row11_col1\" class=\"data row11 col1\" >0.0086</td>\n",
              "      <td id=\"T_0eb09_row11_col2\" class=\"data row11 col2\" >0.0384</td>\n",
              "      <td id=\"T_0eb09_row11_col3\" class=\"data row11 col3\" >0.0224</td>\n",
              "      <td id=\"T_0eb09_row11_col4\" class=\"data row11 col4\" >0.0273</td>\n",
              "      <td id=\"T_0eb09_row11_col5\" class=\"data row11 col5\" >0.0298</td>\n",
              "      <td id=\"T_0eb09_row11_col6\" class=\"data row11 col6\" >0.0265</td>\n",
              "    </tr>\n",
              "  </tbody>\n",
              "</table>\n"
            ]
          },
          "metadata": {}
        },
        {
          "output_type": "display_data",
          "data": {
            "text/plain": [
              "Processing:   0%|          | 0/4 [00:00<?, ?it/s]"
            ],
            "application/vnd.jupyter.widget-view+json": {
              "version_major": 2,
              "version_minor": 0,
              "model_id": "8cb8b52ecd454cb3abc6995a4b17ee20"
            }
          },
          "metadata": {
            "application/vnd.jupyter.widget-view+json": {
              "colab": {
                "custom_widget_manager": {
                  "url": "https://ssl.gstatic.com/colaboratory-static/widgets/colab-cdn-widget-manager/2b70e893a8ba7c0f/manager.min.js"
                }
              }
            }
          }
        },
        {
          "output_type": "display_data",
          "data": {
            "text/plain": [
              "<IPython.core.display.HTML object>"
            ],
            "text/html": []
          },
          "metadata": {}
        }
      ]
    },
    {
      "cell_type": "markdown",
      "source": [
        "#  -> Hiperparametrización"
      ],
      "metadata": {
        "id": "1qKm1EkXWPgm"
      }
    },
    {
      "cell_type": "code",
      "source": [
        "tuned_modelo = tune_model(modelo)"
      ],
      "metadata": {
        "colab": {
          "base_uri": "https://localhost:8080/",
          "height": 492,
          "referenced_widgets": [
            "506405af19ec405792dd8a57956a50b5",
            "066c36ba71984fabb6fe33ecd63248d3",
            "0959a06ef85440a99a054c68e0242d99",
            "08de14a0cf9a484d8e7ab7cdec252e65",
            "d0ff5e0e9dc24c098225ff32d92e2e2b",
            "d2b1231d0a874d1487c70144141c2c2b",
            "2e4c60f5aba7443587f7862c7ad1b33c",
            "6525088b7d09413da0252d6bca90b0b0",
            "9d9c1a4e7c524f23ba7cd747a81e8997",
            "62b1144fde004410974384eb8a417832",
            "039c34e199f542cdbaff2c32ac2026ff"
          ]
        },
        "id": "BIvoZFeOWXNq",
        "outputId": "8cfa5566-e805-4818-9d01-85c4dcf76ecf"
      },
      "execution_count": 13,
      "outputs": [
        {
          "output_type": "display_data",
          "data": {
            "text/plain": [
              "<IPython.core.display.HTML object>"
            ],
            "text/html": []
          },
          "metadata": {}
        },
        {
          "output_type": "display_data",
          "data": {
            "text/plain": [
              "<pandas.io.formats.style.Styler at 0x7d9dae620610>"
            ],
            "text/html": [
              "<style type=\"text/css\">\n",
              "#T_84bf5_row10_col0, #T_84bf5_row10_col1, #T_84bf5_row10_col2, #T_84bf5_row10_col3, #T_84bf5_row10_col4, #T_84bf5_row10_col5, #T_84bf5_row10_col6 {\n",
              "  background: yellow;\n",
              "}\n",
              "</style>\n",
              "<table id=\"T_84bf5\" class=\"dataframe\">\n",
              "  <thead>\n",
              "    <tr>\n",
              "      <th class=\"blank level0\" >&nbsp;</th>\n",
              "      <th id=\"T_84bf5_level0_col0\" class=\"col_heading level0 col0\" >Accuracy</th>\n",
              "      <th id=\"T_84bf5_level0_col1\" class=\"col_heading level0 col1\" >AUC</th>\n",
              "      <th id=\"T_84bf5_level0_col2\" class=\"col_heading level0 col2\" >Recall</th>\n",
              "      <th id=\"T_84bf5_level0_col3\" class=\"col_heading level0 col3\" >Prec.</th>\n",
              "      <th id=\"T_84bf5_level0_col4\" class=\"col_heading level0 col4\" >F1</th>\n",
              "      <th id=\"T_84bf5_level0_col5\" class=\"col_heading level0 col5\" >Kappa</th>\n",
              "      <th id=\"T_84bf5_level0_col6\" class=\"col_heading level0 col6\" >MCC</th>\n",
              "    </tr>\n",
              "    <tr>\n",
              "      <th class=\"index_name level0\" >Fold</th>\n",
              "      <th class=\"blank col0\" >&nbsp;</th>\n",
              "      <th class=\"blank col1\" >&nbsp;</th>\n",
              "      <th class=\"blank col2\" >&nbsp;</th>\n",
              "      <th class=\"blank col3\" >&nbsp;</th>\n",
              "      <th class=\"blank col4\" >&nbsp;</th>\n",
              "      <th class=\"blank col5\" >&nbsp;</th>\n",
              "      <th class=\"blank col6\" >&nbsp;</th>\n",
              "    </tr>\n",
              "  </thead>\n",
              "  <tbody>\n",
              "    <tr>\n",
              "      <th id=\"T_84bf5_level0_row0\" class=\"row_heading level0 row0\" >0</th>\n",
              "      <td id=\"T_84bf5_row0_col0\" class=\"data row0 col0\" >0.9296</td>\n",
              "      <td id=\"T_84bf5_row0_col1\" class=\"data row0 col1\" >0.9189</td>\n",
              "      <td id=\"T_84bf5_row0_col2\" class=\"data row0 col2\" >0.5760</td>\n",
              "      <td id=\"T_84bf5_row0_col3\" class=\"data row0 col3\" >0.8897</td>\n",
              "      <td id=\"T_84bf5_row0_col4\" class=\"data row0 col4\" >0.6993</td>\n",
              "      <td id=\"T_84bf5_row0_col5\" class=\"data row0 col5\" >0.6615</td>\n",
              "      <td id=\"T_84bf5_row0_col6\" class=\"data row0 col6\" >0.6816</td>\n",
              "    </tr>\n",
              "    <tr>\n",
              "      <th id=\"T_84bf5_level0_row1\" class=\"row_heading level0 row1\" >1</th>\n",
              "      <td id=\"T_84bf5_row1_col0\" class=\"data row1 col0\" >0.9483</td>\n",
              "      <td id=\"T_84bf5_row1_col1\" class=\"data row1 col1\" >0.9520</td>\n",
              "      <td id=\"T_84bf5_row1_col2\" class=\"data row1 col2\" >0.7327</td>\n",
              "      <td id=\"T_84bf5_row1_col3\" class=\"data row1 col3\" >0.8833</td>\n",
              "      <td id=\"T_84bf5_row1_col4\" class=\"data row1 col4\" >0.8010</td>\n",
              "      <td id=\"T_84bf5_row1_col5\" class=\"data row1 col5\" >0.7716</td>\n",
              "      <td id=\"T_84bf5_row1_col6\" class=\"data row1 col6\" >0.7760</td>\n",
              "    </tr>\n",
              "    <tr>\n",
              "      <th id=\"T_84bf5_level0_row2\" class=\"row_heading level0 row2\" >2</th>\n",
              "      <td id=\"T_84bf5_row2_col0\" class=\"data row2 col0\" >0.9296</td>\n",
              "      <td id=\"T_84bf5_row2_col1\" class=\"data row2 col1\" >0.9263</td>\n",
              "      <td id=\"T_84bf5_row2_col2\" class=\"data row2 col2\" >0.5783</td>\n",
              "      <td id=\"T_84bf5_row2_col3\" class=\"data row2 col3\" >0.8869</td>\n",
              "      <td id=\"T_84bf5_row2_col4\" class=\"data row2 col4\" >0.7001</td>\n",
              "      <td id=\"T_84bf5_row2_col5\" class=\"data row2 col5\" >0.6623</td>\n",
              "      <td id=\"T_84bf5_row2_col6\" class=\"data row2 col6\" >0.6817</td>\n",
              "    </tr>\n",
              "    <tr>\n",
              "      <th id=\"T_84bf5_level0_row3\" class=\"row_heading level0 row3\" >3</th>\n",
              "      <td id=\"T_84bf5_row3_col0\" class=\"data row3 col0\" >0.9349</td>\n",
              "      <td id=\"T_84bf5_row3_col1\" class=\"data row3 col1\" >0.9168</td>\n",
              "      <td id=\"T_84bf5_row3_col2\" class=\"data row3 col2\" >0.5935</td>\n",
              "      <td id=\"T_84bf5_row3_col3\" class=\"data row3 col3\" >0.9179</td>\n",
              "      <td id=\"T_84bf5_row3_col4\" class=\"data row3 col4\" >0.7209</td>\n",
              "      <td id=\"T_84bf5_row3_col5\" class=\"data row3 col5\" >0.6859</td>\n",
              "      <td id=\"T_84bf5_row3_col6\" class=\"data row3 col6\" >0.7069</td>\n",
              "    </tr>\n",
              "    <tr>\n",
              "      <th id=\"T_84bf5_level0_row4\" class=\"row_heading level0 row4\" >4</th>\n",
              "      <td id=\"T_84bf5_row4_col0\" class=\"data row4 col0\" >0.9316</td>\n",
              "      <td id=\"T_84bf5_row4_col1\" class=\"data row4 col1\" >0.9349</td>\n",
              "      <td id=\"T_84bf5_row4_col2\" class=\"data row4 col2\" >0.6097</td>\n",
              "      <td id=\"T_84bf5_row4_col3\" class=\"data row4 col3\" >0.8684</td>\n",
              "      <td id=\"T_84bf5_row4_col4\" class=\"data row4 col4\" >0.7164</td>\n",
              "      <td id=\"T_84bf5_row4_col5\" class=\"data row4 col5\" >0.6789</td>\n",
              "      <td id=\"T_84bf5_row4_col6\" class=\"data row4 col6\" >0.6926</td>\n",
              "    </tr>\n",
              "    <tr>\n",
              "      <th id=\"T_84bf5_level0_row5\" class=\"row_heading level0 row5\" >5</th>\n",
              "      <td id=\"T_84bf5_row5_col0\" class=\"data row5 col0\" >0.9453</td>\n",
              "      <td id=\"T_84bf5_row5_col1\" class=\"data row5 col1\" >0.9312</td>\n",
              "      <td id=\"T_84bf5_row5_col2\" class=\"data row5 col2\" >0.6721</td>\n",
              "      <td id=\"T_84bf5_row5_col3\" class=\"data row5 col3\" >0.9209</td>\n",
              "      <td id=\"T_84bf5_row5_col4\" class=\"data row5 col4\" >0.7770</td>\n",
              "      <td id=\"T_84bf5_row5_col5\" class=\"data row5 col5\" >0.7467</td>\n",
              "      <td id=\"T_84bf5_row5_col6\" class=\"data row5 col6\" >0.7588</td>\n",
              "    </tr>\n",
              "    <tr>\n",
              "      <th id=\"T_84bf5_level0_row6\" class=\"row_heading level0 row6\" >6</th>\n",
              "      <td id=\"T_84bf5_row6_col0\" class=\"data row6 col0\" >0.9417</td>\n",
              "      <td id=\"T_84bf5_row6_col1\" class=\"data row6 col1\" >0.9444</td>\n",
              "      <td id=\"T_84bf5_row6_col2\" class=\"data row6 col2\" >0.6721</td>\n",
              "      <td id=\"T_84bf5_row6_col3\" class=\"data row6 col3\" >0.8899</td>\n",
              "      <td id=\"T_84bf5_row6_col4\" class=\"data row6 col4\" >0.7658</td>\n",
              "      <td id=\"T_84bf5_row6_col5\" class=\"data row6 col5\" >0.7333</td>\n",
              "      <td id=\"T_84bf5_row6_col6\" class=\"data row6 col6\" >0.7427</td>\n",
              "    </tr>\n",
              "    <tr>\n",
              "      <th id=\"T_84bf5_level0_row7\" class=\"row_heading level0 row7\" >7</th>\n",
              "      <td id=\"T_84bf5_row7_col0\" class=\"data row7 col0\" >0.9434</td>\n",
              "      <td id=\"T_84bf5_row7_col1\" class=\"data row7 col1\" >0.9358</td>\n",
              "      <td id=\"T_84bf5_row7_col2\" class=\"data row7 col2\" >0.6697</td>\n",
              "      <td id=\"T_84bf5_row7_col3\" class=\"data row7 col3\" >0.9062</td>\n",
              "      <td id=\"T_84bf5_row7_col4\" class=\"data row7 col4\" >0.7703</td>\n",
              "      <td id=\"T_84bf5_row7_col5\" class=\"data row7 col5\" >0.7388</td>\n",
              "      <td id=\"T_84bf5_row7_col6\" class=\"data row7 col6\" >0.7498</td>\n",
              "    </tr>\n",
              "    <tr>\n",
              "      <th id=\"T_84bf5_level0_row8\" class=\"row_heading level0 row8\" >8</th>\n",
              "      <td id=\"T_84bf5_row8_col0\" class=\"data row8 col0\" >0.9293</td>\n",
              "      <td id=\"T_84bf5_row8_col1\" class=\"data row8 col1\" >0.9406</td>\n",
              "      <td id=\"T_84bf5_row8_col2\" class=\"data row8 col2\" >0.5899</td>\n",
              "      <td id=\"T_84bf5_row8_col3\" class=\"data row8 col3\" >0.8707</td>\n",
              "      <td id=\"T_84bf5_row8_col4\" class=\"data row8 col4\" >0.7033</td>\n",
              "      <td id=\"T_84bf5_row8_col5\" class=\"data row8 col5\" >0.6648</td>\n",
              "      <td id=\"T_84bf5_row8_col6\" class=\"data row8 col6\" >0.6811</td>\n",
              "    </tr>\n",
              "    <tr>\n",
              "      <th id=\"T_84bf5_level0_row9\" class=\"row_heading level0 row9\" >9</th>\n",
              "      <td id=\"T_84bf5_row9_col0\" class=\"data row9 col0\" >0.9394</td>\n",
              "      <td id=\"T_84bf5_row9_col1\" class=\"data row9 col1\" >0.9330</td>\n",
              "      <td id=\"T_84bf5_row9_col2\" class=\"data row9 col2\" >0.6682</td>\n",
              "      <td id=\"T_84bf5_row9_col3\" class=\"data row9 col3\" >0.8761</td>\n",
              "      <td id=\"T_84bf5_row9_col4\" class=\"data row9 col4\" >0.7582</td>\n",
              "      <td id=\"T_84bf5_row9_col5\" class=\"data row9 col5\" >0.7243</td>\n",
              "      <td id=\"T_84bf5_row9_col6\" class=\"data row9 col6\" >0.7330</td>\n",
              "    </tr>\n",
              "    <tr>\n",
              "      <th id=\"T_84bf5_level0_row10\" class=\"row_heading level0 row10\" >Mean</th>\n",
              "      <td id=\"T_84bf5_row10_col0\" class=\"data row10 col0\" >0.9373</td>\n",
              "      <td id=\"T_84bf5_row10_col1\" class=\"data row10 col1\" >0.9334</td>\n",
              "      <td id=\"T_84bf5_row10_col2\" class=\"data row10 col2\" >0.6362</td>\n",
              "      <td id=\"T_84bf5_row10_col3\" class=\"data row10 col3\" >0.8910</td>\n",
              "      <td id=\"T_84bf5_row10_col4\" class=\"data row10 col4\" >0.7412</td>\n",
              "      <td id=\"T_84bf5_row10_col5\" class=\"data row10 col5\" >0.7068</td>\n",
              "      <td id=\"T_84bf5_row10_col6\" class=\"data row10 col6\" >0.7204</td>\n",
              "    </tr>\n",
              "    <tr>\n",
              "      <th id=\"T_84bf5_level0_row11\" class=\"row_heading level0 row11\" >Std</th>\n",
              "      <td id=\"T_84bf5_row11_col0\" class=\"data row11 col0\" >0.0068</td>\n",
              "      <td id=\"T_84bf5_row11_col1\" class=\"data row11 col1\" >0.0103</td>\n",
              "      <td id=\"T_84bf5_row11_col2\" class=\"data row11 col2\" >0.0507</td>\n",
              "      <td id=\"T_84bf5_row11_col3\" class=\"data row11 col3\" >0.0175</td>\n",
              "      <td id=\"T_84bf5_row11_col4\" class=\"data row11 col4\" >0.0354</td>\n",
              "      <td id=\"T_84bf5_row11_col5\" class=\"data row11 col5\" >0.0385</td>\n",
              "      <td id=\"T_84bf5_row11_col6\" class=\"data row11 col6\" >0.0340</td>\n",
              "    </tr>\n",
              "  </tbody>\n",
              "</table>\n"
            ]
          },
          "metadata": {}
        },
        {
          "output_type": "display_data",
          "data": {
            "text/plain": [
              "Processing:   0%|          | 0/7 [00:00<?, ?it/s]"
            ],
            "application/vnd.jupyter.widget-view+json": {
              "version_major": 2,
              "version_minor": 0,
              "model_id": "506405af19ec405792dd8a57956a50b5"
            }
          },
          "metadata": {
            "application/vnd.jupyter.widget-view+json": {
              "colab": {
                "custom_widget_manager": {
                  "url": "https://ssl.gstatic.com/colaboratory-static/widgets/colab-cdn-widget-manager/2b70e893a8ba7c0f/manager.min.js"
                }
              }
            }
          }
        },
        {
          "output_type": "stream",
          "name": "stdout",
          "text": [
            "Fitting 10 folds for each of 10 candidates, totalling 100 fits\n"
          ]
        },
        {
          "output_type": "display_data",
          "data": {
            "text/plain": [
              "<IPython.core.display.HTML object>"
            ],
            "text/html": []
          },
          "metadata": {}
        },
        {
          "output_type": "stream",
          "name": "stdout",
          "text": [
            "Original model was better than the tuned model, hence it will be returned. NOTE: The display metrics are for the tuned model (not the original one).\n"
          ]
        }
      ]
    },
    {
      "cell_type": "markdown",
      "source": [
        "# Análisis curva ROC"
      ],
      "metadata": {
        "id": "pIcCfl-xXJt5"
      }
    },
    {
      "cell_type": "code",
      "source": [
        "plot_model(tuned_modelo,plot='auc')"
      ],
      "metadata": {
        "colab": {
          "base_uri": "https://localhost:8080/",
          "height": 524
        },
        "id": "DXripYd-XNaQ",
        "outputId": "a8aab773-0345-452b-8cf2-caf91c18dbcf"
      },
      "execution_count": 14,
      "outputs": [
        {
          "output_type": "display_data",
          "data": {
            "text/plain": [
              "<IPython.core.display.HTML object>"
            ],
            "text/html": []
          },
          "metadata": {}
        },
        {
          "output_type": "display_data",
          "data": {
            "text/plain": [
              "<Figure size 800x550 with 1 Axes>"
            ],
            "image/png": "[encoded data removed]"
          },
          "metadata": {}
        }
      ]
    },
    {
      "cell_type": "markdown",
      "source": [
        "# Importancia de las variables"
      ],
      "metadata": {
        "id": "sppyLm5jXQnn"
      }
    },
    {
      "cell_type": "code",
      "source": [
        "plot_model(tuned_modelo,plot='feature')"
      ],
      "metadata": {
        "colab": {
          "base_uri": "https://localhost:8080/",
          "height": 485
        },
        "id": "anchibNFXS60",
        "outputId": "cd340795-389f-455f-f1ba-4092e02ad74d"
      },
      "execution_count": 15,
      "outputs": [
        {
          "output_type": "display_data",
          "data": {
            "text/plain": [
              "<IPython.core.display.HTML object>"
            ],
            "text/html": []
          },
          "metadata": {}
        },
        {
          "output_type": "display_data",
          "data": {
            "text/plain": [
              "<Figure size 800x500 with 1 Axes>"
            ],
            "image/png": "[encoded data removed]"
          },
          "metadata": {}
        }
      ]
    },
    {
      "cell_type": "markdown",
      "source": [
        "* El gráfico de límites (boundary plot) es una representación visual de cómo un modelo de clasificación divide un conjunto de datos en diferentes regiones en un espacio bidimensional. En este gráfico, cada punto de datos se coloca en un plano cartesiano donde los ejes representan dos características o variables específicas del conjunto de datos (llamadas \"feature 1\" y \"feature 2\"). Los puntos de datos se colorearán según su clase real.\n",
        "\n",
        "* El modelo de clasificación aprendido traza líneas o curvas que separan las diferentes regiones del plano donde se predice una clase específica. Estos límites de decisión muestran dónde el modelo cambia de una clase a otra. Por lo tanto, el gráfico de límites permite visualizar cómo el modelo divide el espacio de características para realizar predicciones sobre nuevas observaciones.\n",
        "\n",
        "* En resumen, el gráfico de límites proporciona una representación visual clara de cómo funciona un modelo de clasificación en un espacio de dos dimensiones, lo que facilita la comprensión de su comportamiento y su capacidad para separar las diferentes clases de datos."
      ],
      "metadata": {
        "id": "fT_IRLQaYkiC"
      }
    },
    {
      "cell_type": "code",
      "source": [
        "plot_model(tuned_modelo, plot = 'boundary')"
      ],
      "metadata": {
        "colab": {
          "base_uri": "https://localhost:8080/",
          "height": 503
        },
        "id": "yXmaPVnaYxYd",
        "outputId": "31ff40aa-32b0-49ab-b6f0-e43070af18dd"
      },
      "execution_count": 16,
      "outputs": [
        {
          "output_type": "display_data",
          "data": {
            "text/plain": [
              "<IPython.core.display.HTML object>"
            ],
            "text/html": []
          },
          "metadata": {}
        },
        {
          "output_type": "display_data",
          "data": {
            "text/plain": [
              "<Figure size 800x550 with 1 Axes>"
            ],
            "image/png": "[encoded data removed]"
          },
          "metadata": {}
        }
      ]
    },
    {
      "cell_type": "markdown",
      "source": [
        "* El gráfico de Precisión-Recuperación (Precision-Recall plot) es una herramienta comúnmente utilizada en problemas de clasificación binaria para evaluar el rendimiento de un modelo. En este gráfico, se representa la precisión y la recuperación (recall) del modelo para diferentes umbrales de decisión.\n",
        "\n",
        "* La precisión (Precision) se define como la proporción de casos positivos identificados correctamente sobre el total de casos identificados como positivos. Es decir, mide la exactitud de las predicciones positivas del modelo.\n",
        "La recuperación (Recall), también conocida como sensibilidad o tasa de verdaderos positivos, se define como la proporción de casos positivos identificados correctamente sobre el total de casos positivos en los datos reales. Es decir, mide la capacidad del modelo para encontrar todos los casos positivos.\n",
        "* En el gráfico de Precisión-Recuperación, cada punto representa un umbral de decisión diferente aplicado al modelo. Al aumentar el umbral de decisión, es probable que la precisión aumente mientras que la recuperación disminuya, y viceversa.\n",
        "\n",
        "* Idealmente, se busca un equilibrio entre precisión y recuperación. Un buen modelo tendrá una alta precisión y una alta recuperación, lo que se traduce en un área bajo la curva (Area Under the Curve, AUC) cercana a 1. Un AUC más bajo indica un rendimiento deficiente del modelo.\n",
        "\n",
        "* En resumen, el gráfico de Precisión-Recuperación es una herramienta valiosa para evaluar y comparar modelos de clasificación binaria, especialmente cuando el desbalance de clases es un problema y se necesita priorizar entre precisión y recuperación en la tarea de clasificación."
      ],
      "metadata": {
        "id": "L0VsW-oWZAlZ"
      }
    },
    {
      "cell_type": "code",
      "source": [
        "plot_model(tuned_modelo, plot = 'pr')"
      ],
      "metadata": {
        "colab": {
          "base_uri": "https://localhost:8080/",
          "height": 524
        },
        "id": "EyKDl23RY5z7",
        "outputId": "b3010767-f75d-4d21-ad88-f96c119fd11c"
      },
      "execution_count": 17,
      "outputs": [
        {
          "output_type": "display_data",
          "data": {
            "text/plain": [
              "<IPython.core.display.HTML object>"
            ],
            "text/html": []
          },
          "metadata": {}
        },
        {
          "output_type": "display_data",
          "data": {
            "text/plain": [
              "<Figure size 800x550 with 1 Axes>"
            ],
            "image/png": "[encoded data removed]"
          },
          "metadata": {}
        }
      ]
    },
    {
      "cell_type": "markdown",
      "source": [
        "# Predicciones"
      ],
      "metadata": {
        "id": "qNzfrBD2ZhhP"
      }
    },
    {
      "cell_type": "code",
      "source": [
        "from pycaret.classification import *\n",
        "predicciones = predict_model(tuned_modelo,data=data_unusen)\n",
        "\n",
        "predicciones.head()"
      ],
      "metadata": {
        "colab": {
          "base_uri": "https://localhost:8080/",
          "height": 441
        },
        "id": "0S7p7FFoZjRv",
        "outputId": "1ec49e55-9fd4-40c0-9f7a-f76d3c5d2623"
      },
      "execution_count": 18,
      "outputs": [
        {
          "output_type": "display_data",
          "data": {
            "text/plain": [
              "<pandas.io.formats.style.Styler at 0x7d9daea12230>"
            ],
            "text/html": [
              "<style type=\"text/css\">\n",
              "</style>\n",
              "<table id=\"T_aa147\" class=\"dataframe\">\n",
              "  <thead>\n",
              "    <tr>\n",
              "      <th class=\"blank level0\" >&nbsp;</th>\n",
              "      <th id=\"T_aa147_level0_col0\" class=\"col_heading level0 col0\" >Model</th>\n",
              "      <th id=\"T_aa147_level0_col1\" class=\"col_heading level0 col1\" >Accuracy</th>\n",
              "      <th id=\"T_aa147_level0_col2\" class=\"col_heading level0 col2\" >AUC</th>\n",
              "      <th id=\"T_aa147_level0_col3\" class=\"col_heading level0 col3\" >Recall</th>\n",
              "      <th id=\"T_aa147_level0_col4\" class=\"col_heading level0 col4\" >Prec.</th>\n",
              "      <th id=\"T_aa147_level0_col5\" class=\"col_heading level0 col5\" >F1</th>\n",
              "      <th id=\"T_aa147_level0_col6\" class=\"col_heading level0 col6\" >Kappa</th>\n",
              "      <th id=\"T_aa147_level0_col7\" class=\"col_heading level0 col7\" >MCC</th>\n",
              "    </tr>\n",
              "  </thead>\n",
              "  <tbody>\n",
              "    <tr>\n",
              "      <th id=\"T_aa147_level0_row0\" class=\"row_heading level0 row0\" >0</th>\n",
              "      <td id=\"T_aa147_row0_col0\" class=\"data row0 col0\" >Logistic Regression</td>\n",
              "      <td id=\"T_aa147_row0_col1\" class=\"data row0 col1\" >0.8844</td>\n",
              "      <td id=\"T_aa147_row0_col2\" class=\"data row0 col2\" >0.9756</td>\n",
              "      <td id=\"T_aa147_row0_col3\" class=\"data row0 col3\" >0.7827</td>\n",
              "      <td id=\"T_aa147_row0_col4\" class=\"data row0 col4\" >0.9860</td>\n",
              "      <td id=\"T_aa147_row0_col5\" class=\"data row0 col5\" >0.8726</td>\n",
              "      <td id=\"T_aa147_row0_col6\" class=\"data row0 col6\" >0.7693</td>\n",
              "      <td id=\"T_aa147_row0_col7\" class=\"data row0 col7\" >0.7866</td>\n",
              "    </tr>\n",
              "  </tbody>\n",
              "</table>\n"
            ]
          },
          "metadata": {}
        },
        {
          "output_type": "execute_result",
          "data": {
            "text/plain": [
              "         UTRNNO                    TTIME TRANS_TYPE     amount MSGTYPE  \\\n",
              "0  144798988916  2023-12-08T18:17:12.353        774      46,00    1120   \n",
              "1  144798990314  2023-12-08T18:17:35.157        774     300,00    1120   \n",
              "2  144798990645  2023-12-08T18:17:40.920        774   83300,00    1120   \n",
              "3  144798990922  2023-12-08T18:17:46.723        680  219990,00    1120   \n",
              "4  144798993329  2023-12-08T18:18:34.913        796       0,00    1120   \n",
              "\n",
              "  Cod_Aprovacion respuesta POS_ENTRY_MODE POS_CONDITION_CODE  ECI  ...  \\\n",
              "0         546669        -1              7                  0    0  ...   \n",
              "1         546681        -1             10                  8    2  ...   \n",
              "2         739145        -1              7                  0  nan  ...   \n",
              "3         546689        -1             10                 59    5  ...   \n",
              "4            nan       909              1                 51    7  ...   \n",
              "\n",
              "           Description Español country_number           Moneda    Ambiente2  \\\n",
              "0         Transacción Aprobada            840        US DOLLAR     Presente   \n",
              "1         Transacción Aprobada            170  PESO COLOMBIANO  No Presente   \n",
              "2         Transacción Aprobada            170  PESO COLOMBIANO     Presente   \n",
              "3         Transacción Aprobada            170  PESO COLOMBIANO  No Presente   \n",
              "4  Tarjeta no válida, captura.            442             EURO  No Presente   \n",
              "\n",
              "  Aprobacion_tx Testeos  Naturaleza Fraude prediction_label prediction_score  \n",
              "0      Aprobada       0     credito      0                0           0.9963  \n",
              "1      Aprobada       0     credito      0                0           0.9842  \n",
              "2      Aprobada       0      debito      0                0           0.9999  \n",
              "3      Aprobada       0     credito      0                0           0.8536  \n",
              "4     Rechazada       1     credito      0                0           0.9943  \n",
              "\n",
              "[5 rows x 28 columns]"
            ],
            "text/html": [
              "\n",
              "  <div id=\"df-003bbc0f-0d1b-4422-bad9-f3b2e2cf5448\" class=\"colab-df-container\">\n",
              "    <div>\n",
              "<style scoped>\n",
              "    .dataframe tbody tr th:only-of-type {\n",
              "        vertical-align: middle;\n",
              "    }\n",
              "\n",
              "    .dataframe tbody tr th {\n",
              "        vertical-align: top;\n",
              "    }\n",
              "\n",
              "    .dataframe thead th {\n",
              "        text-align: right;\n",
              "    }\n",
              "</style>\n",
              "<table border=\"1\" class=\"dataframe\">\n",
              "  <thead>\n",
              "    <tr style=\"text-align: right;\">\n",
              "      <th></th>\n",
              "      <th>UTRNNO</th>\n",
              "      <th>TTIME</th>\n",
              "      <th>TRANS_TYPE</th>\n",
              "      <th>amount</th>\n",
              "      <th>MSGTYPE</th>\n",
              "      <th>Cod_Aprovacion</th>\n",
              "      <th>respuesta</th>\n",
              "      <th>POS_ENTRY_MODE</th>\n",
              "      <th>POS_CONDITION_CODE</th>\n",
              "      <th>ECI</th>\n",
              "      <th>...</th>\n",
              "      <th>Description Español</th>\n",
              "      <th>country_number</th>\n",
              "      <th>Moneda</th>\n",
              "      <th>Ambiente2</th>\n",
              "      <th>Aprobacion_tx</th>\n",
              "      <th>Testeos</th>\n",
              "      <th>Naturaleza</th>\n",
              "      <th>Fraude</th>\n",
              "      <th>prediction_label</th>\n",
              "      <th>prediction_score</th>\n",
              "    </tr>\n",
              "  </thead>\n",
              "  <tbody>\n",
              "    <tr>\n",
              "      <th>0</th>\n",
              "      <td>144798988916</td>\n",
              "      <td>2023-12-08T18:17:12.353</td>\n",
              "      <td>774</td>\n",
              "      <td>46,00</td>\n",
              "      <td>1120</td>\n",
              "      <td>546669</td>\n",
              "      <td>-1</td>\n",
              "      <td>7</td>\n",
              "      <td>0</td>\n",
              "      <td>0</td>\n",
              "      <td>...</td>\n",
              "      <td>Transacción Aprobada</td>\n",
              "      <td>840</td>\n",
              "      <td>US DOLLAR</td>\n",
              "      <td>Presente</td>\n",
              "      <td>Aprobada</td>\n",
              "      <td>0</td>\n",
              "      <td>credito</td>\n",
              "      <td>0</td>\n",
              "      <td>0</td>\n",
              "      <td>0.9963</td>\n",
              "    </tr>\n",
              "    <tr>\n",
              "      <th>1</th>\n",
              "      <td>144798990314</td>\n",
              "      <td>2023-12-08T18:17:35.157</td>\n",
              "      <td>774</td>\n",
              "      <td>300,00</td>\n",
              "      <td>1120</td>\n",
              "      <td>546681</td>\n",
              "      <td>-1</td>\n",
              "      <td>10</td>\n",
              "      <td>8</td>\n",
              "      <td>2</td>\n",
              "      <td>...</td>\n",
              "      <td>Transacción Aprobada</td>\n",
              "      <td>170</td>\n",
              "      <td>PESO COLOMBIANO</td>\n",
              "      <td>No Presente</td>\n",
              "      <td>Aprobada</td>\n",
              "      <td>0</td>\n",
              "      <td>credito</td>\n",
              "      <td>0</td>\n",
              "      <td>0</td>\n",
              "      <td>0.9842</td>\n",
              "    </tr>\n",
              "    <tr>\n",
              "      <th>2</th>\n",
              "      <td>144798990645</td>\n",
              "      <td>2023-12-08T18:17:40.920</td>\n",
              "      <td>774</td>\n",
              "      <td>83300,00</td>\n",
              "      <td>1120</td>\n",
              "      <td>739145</td>\n",
              "      <td>-1</td>\n",
              "      <td>7</td>\n",
              "      <td>0</td>\n",
              "      <td>nan</td>\n",
              "      <td>...</td>\n",
              "      <td>Transacción Aprobada</td>\n",
              "      <td>170</td>\n",
              "      <td>PESO COLOMBIANO</td>\n",
              "      <td>Presente</td>\n",
              "      <td>Aprobada</td>\n",
              "      <td>0</td>\n",
              "      <td>debito</td>\n",
              "      <td>0</td>\n",
              "      <td>0</td>\n",
              "      <td>0.9999</td>\n",
              "    </tr>\n",
              "    <tr>\n",
              "      <th>3</th>\n",
              "      <td>144798990922</td>\n",
              "      <td>2023-12-08T18:17:46.723</td>\n",
              "      <td>680</td>\n",
              "      <td>219990,00</td>\n",
              "      <td>1120</td>\n",
              "      <td>546689</td>\n",
              "      <td>-1</td>\n",
              "      <td>10</td>\n",
              "      <td>59</td>\n",
              "      <td>5</td>\n",
              "      <td>...</td>\n",
              "      <td>Transacción Aprobada</td>\n",
              "      <td>170</td>\n",
              "      <td>PESO COLOMBIANO</td>\n",
              "      <td>No Presente</td>\n",
              "      <td>Aprobada</td>\n",
              "      <td>0</td>\n",
              "      <td>credito</td>\n",
              "      <td>0</td>\n",
              "      <td>0</td>\n",
              "      <td>0.8536</td>\n",
              "    </tr>\n",
              "    <tr>\n",
              "      <th>4</th>\n",
              "      <td>144798993329</td>\n",
              "      <td>2023-12-08T18:18:34.913</td>\n",
              "      <td>796</td>\n",
              "      <td>0,00</td>\n",
              "      <td>1120</td>\n",
              "      <td>nan</td>\n",
              "      <td>909</td>\n",
              "      <td>1</td>\n",
              "      <td>51</td>\n",
              "      <td>7</td>\n",
              "      <td>...</td>\n",
              "      <td>Tarjeta no válida, captura.</td>\n",
              "      <td>442</td>\n",
              "      <td>EURO</td>\n",
              "      <td>No Presente</td>\n",
              "      <td>Rechazada</td>\n",
              "      <td>1</td>\n",
              "      <td>credito</td>\n",
              "      <td>0</td>\n",
              "      <td>0</td>\n",
              "      <td>0.9943</td>\n",
              "    </tr>\n",
              "  </tbody>\n",
              "</table>\n",
              "<p>5 rows × 28 columns</p>\n",
              "</div>\n",
              "    <div class=\"colab-df-buttons\">\n",
              "\n",
              "  <div class=\"colab-df-container\">\n",
              "    <button class=\"colab-df-convert\" onclick=\"convertToInteractive('df-003bbc0f-0d1b-4422-bad9-f3b2e2cf5448')\"\n",
              "            title=\"Convert this dataframe to an interactive table.\"\n",
              "            style=\"display:none;\">\n",
              "\n",
              "  <svg xmlns=\"http://www.w3.org/2000/svg\" height=\"24px\" viewBox=\"0 -960 960 960\">\n",
              "    <path d=\"M120-120v-720h720v720H120Zm60-500h600v-160H180v160Zm220 220h160v-160H400v160Zm0 220h160v-160H400v160ZM180-400h160v-160H180v160Zm440 0h160v-160H620v160ZM180-180h160v-160H180v160Zm440 0h160v-160H620v160Z\"/>\n",
              "  </svg>\n",
              "    </button>\n",
              "\n",
              "  <style>\n",
              "    .colab-df-container {\n",
              "      display:flex;\n",
              "      gap: 12px;\n",
              "    }\n",
              "\n",
              "    .colab-df-convert {\n",
              "      background-color: #E8F0FE;\n",
              "      border: none;\n",
              "      border-radius: 50%;\n",
              "      cursor: pointer;\n",
              "      display: none;\n",
              "      fill: #1967D2;\n",
              "      height: 32px;\n",
              "      padding: 0 0 0 0;\n",
              "      width: 32px;\n",
              "    }\n",
              "\n",
              "    .colab-df-convert:hover {\n",
              "      background-color: #E2EBFA;\n",
              "      box-shadow: 0px 1px 2px rgba(60, 64, 67, 0.3), 0px 1px 3px 1px rgba(60, 64, 67, 0.15);\n",
              "      fill: #174EA6;\n",
              "    }\n",
              "\n",
              "    .colab-df-buttons div {\n",
              "      margin-bottom: 4px;\n",
              "    }\n",
              "\n",
              "    [theme=dark] .colab-df-convert {\n",
              "      background-color: #3B4455;\n",
              "      fill: #D2E3FC;\n",
              "    }\n",
              "\n",
              "    [theme=dark] .colab-df-convert:hover {\n",
              "      background-color: #434B5C;\n",
              "      box-shadow: 0px 1px 3px 1px rgba(0, 0, 0, 0.15);\n",
              "      filter: drop-shadow(0px 1px 2px rgba(0, 0, 0, 0.3));\n",
              "      fill: #FFFFFF;\n",
              "    }\n",
              "  </style>\n",
              "\n",
              "    <script>\n",
              "      const buttonEl =\n",
              "        document.querySelector('#df-003bbc0f-0d1b-4422-bad9-f3b2e2cf5448 button.colab-df-convert');\n",
              "      buttonEl.style.display =\n",
              "        google.colab.kernel.accessAllowed ? 'block' : 'none';\n",
              "\n",
              "      async function convertToInteractive(key) {\n",
              "        const element = document.querySelector('#df-003bbc0f-0d1b-4422-bad9-f3b2e2cf5448');\n",
              "        const dataTable =\n",
              "          await google.colab.kernel.invokeFunction('convertToInteractive',\n",
              "                                                    [key], {});\n",
              "        if (!dataTable) return;\n",
              "\n",
              "        const docLinkHtml = 'Like what you see? Visit the ' +\n",
              "          '<a target=\"_blank\" href=https://colab.research.google.com/notebooks/data_table.ipynb>data table notebook</a>'\n",
              "          + ' to learn more about interactive tables.';\n",
              "        element.innerHTML = '';\n",
              "        dataTable['output_type'] = 'display_data';\n",
              "        await google.colab.output.renderOutput(dataTable, element);\n",
              "        const docLink = document.createElement('div');\n",
              "        docLink.innerHTML = docLinkHtml;\n",
              "        element.appendChild(docLink);\n",
              "      }\n",
              "    </script>\n",
              "  </div>\n",
              "\n",
              "\n",
              "<div id=\"df-813c53ea-99dd-4bc7-8c7c-ce667c17368a\">\n",
              "  <button class=\"colab-df-quickchart\" onclick=\"quickchart('df-813c53ea-99dd-4bc7-8c7c-ce667c17368a')\"\n",
              "            title=\"Suggest charts\"\n",
              "            style=\"display:none;\">\n",
              "\n",
              "<svg xmlns=\"http://www.w3.org/2000/svg\" height=\"24px\"viewBox=\"0 0 24 24\"\n",
              "     width=\"24px\">\n",
              "    <g>\n",
              "        <path d=\"M19 3H5c-1.1 0-2 .9-2 2v14c0 1.1.9 2 2 2h14c1.1 0 2-.9 2-2V5c0-1.1-.9-2-2-2zM9 17H7v-7h2v7zm4 0h-2V7h2v10zm4 0h-2v-4h2v4z\"/>\n",
              "    </g>\n",
              "</svg>\n",
              "  </button>\n",
              "\n",
              "<style>\n",
              "  .colab-df-quickchart {\n",
              "      --bg-color: #E8F0FE;\n",
              "      --fill-color: #1967D2;\n",
              "      --hover-bg-color: #E2EBFA;\n",
              "      --hover-fill-color: #174EA6;\n",
              "      --disabled-fill-color: #AAA;\n",
              "      --disabled-bg-color: #DDD;\n",
              "  }\n",
              "\n",
              "  [theme=dark] .colab-df-quickchart {\n",
              "      --bg-color: #3B4455;\n",
              "      --fill-color: #D2E3FC;\n",
              "      --hover-bg-color: #434B5C;\n",
              "      --hover-fill-color: #FFFFFF;\n",
              "      --disabled-bg-color: #3B4455;\n",
              "      --disabled-fill-color: #666;\n",
              "  }\n",
              "\n",
              "  .colab-df-quickchart {\n",
              "    background-color: var(--bg-color);\n",
              "    border: none;\n",
              "    border-radius: 50%;\n",
              "    cursor: pointer;\n",
              "    display: none;\n",
              "    fill: var(--fill-color);\n",
              "    height: 32px;\n",
              "    padding: 0;\n",
              "    width: 32px;\n",
              "  }\n",
              "\n",
              "  .colab-df-quickchart:hover {\n",
              "    background-color: var(--hover-bg-color);\n",
              "    box-shadow: 0 1px 2px rgba(60, 64, 67, 0.3), 0 1px 3px 1px rgba(60, 64, 67, 0.15);\n",
              "    fill: var(--button-hover-fill-color);\n",
              "  }\n",
              "\n",
              "  .colab-df-quickchart-complete:disabled,\n",
              "  .colab-df-quickchart-complete:disabled:hover {\n",
              "    background-color: var(--disabled-bg-color);\n",
              "    fill: var(--disabled-fill-color);\n",
              "    box-shadow: none;\n",
              "  }\n",
              "\n",
              "  .colab-df-spinner {\n",
              "    border: 2px solid var(--fill-color);\n",
              "    border-color: transparent;\n",
              "    border-bottom-color: var(--fill-color);\n",
              "    animation:\n",
              "      spin 1s steps(1) infinite;\n",
              "  }\n",
              "\n",
              "  @keyframes spin {\n",
              "    0% {\n",
              "      border-color: transparent;\n",
              "      border-bottom-color: var(--fill-color);\n",
              "      border-left-color: var(--fill-color);\n",
              "    }\n",
              "    20% {\n",
              "      border-color: transparent;\n",
              "      border-left-color: var(--fill-color);\n",
              "      border-top-color: var(--fill-color);\n",
              "    }\n",
              "    30% {\n",
              "      border-color: transparent;\n",
              "      border-left-color: var(--fill-color);\n",
              "      border-top-color: var(--fill-color);\n",
              "      border-right-color: var(--fill-color);\n",
              "    }\n",
              "    40% {\n",
              "      border-color: transparent;\n",
              "      border-right-color: var(--fill-color);\n",
              "      border-top-color: var(--fill-color);\n",
              "    }\n",
              "    60% {\n",
              "      border-color: transparent;\n",
              "      border-right-color: var(--fill-color);\n",
              "    }\n",
              "    80% {\n",
              "      border-color: transparent;\n",
              "      border-right-color: var(--fill-color);\n",
              "      border-bottom-color: var(--fill-color);\n",
              "    }\n",
              "    90% {\n",
              "      border-color: transparent;\n",
              "      border-bottom-color: var(--fill-color);\n",
              "    }\n",
              "  }\n",
              "</style>\n",
              "\n",
              "  <script>\n",
              "    async function quickchart(key) {\n",
              "      const quickchartButtonEl =\n",
              "        document.querySelector('#' + key + ' button');\n",
              "      quickchartButtonEl.disabled = true;  // To prevent multiple clicks.\n",
              "      quickchartButtonEl.classList.add('colab-df-spinner');\n",
              "      try {\n",
              "        const charts = await google.colab.kernel.invokeFunction(\n",
              "            'suggestCharts', [key], {});\n",
              "      } catch (error) {\n",
              "        console.error('Error during call to suggestCharts:', error);\n",
              "      }\n",
              "      quickchartButtonEl.classList.remove('colab-df-spinner');\n",
              "      quickchartButtonEl.classList.add('colab-df-quickchart-complete');\n",
              "    }\n",
              "    (() => {\n",
              "      let quickchartButtonEl =\n",
              "        document.querySelector('#df-813c53ea-99dd-4bc7-8c7c-ce667c17368a button');\n",
              "      quickchartButtonEl.style.display =\n",
              "        google.colab.kernel.accessAllowed ? 'block' : 'none';\n",
              "    })();\n",
              "  </script>\n",
              "</div>\n",
              "    </div>\n",
              "  </div>\n"
            ],
            "application/vnd.google.colaboratory.intrinsic+json": {
              "type": "dataframe",
              "variable_name": "predicciones"
            }
          },
          "metadata": {},
          "execution_count": 18
        }
      ]
    },
    {
      "cell_type": "markdown",
      "source": [
        "# Matriz de confusión"
      ],
      "metadata": {
        "id": "2Lqdzs8uZo04"
      }
    },
    {
      "cell_type": "code",
      "source": [
        "plot_model(tuned_modelo,'confusion_matrix')"
      ],
      "metadata": {
        "colab": {
          "base_uri": "https://localhost:8080/",
          "height": 551
        },
        "id": "lXYQ8PENZrNR",
        "outputId": "328c5bd7-ae5b-4200-b70e-87e065992769"
      },
      "execution_count": 19,
      "outputs": [
        {
          "output_type": "display_data",
          "data": {
            "text/plain": [
              "<IPython.core.display.HTML object>"
            ],
            "text/html": []
          },
          "metadata": {}
        },
        {
          "output_type": "display_data",
          "data": {
            "text/plain": [
              "<Figure size 800x550 with 1 Axes>"
            ],
            "image/png": "[encoded data removed]"
          },
          "metadata": {}
        }
      ]
    },
    {
      "cell_type": "code",
      "source": [
        "# modelo final entrenado con todo el conjunto de datos\n",
        "\n",
        "final_modelo=finalize_model(tuned_modelo)"
      ],
      "metadata": {
        "id": "Eth_PLN_a6Ui"
      },
      "execution_count": 20,
      "outputs": []
    },
    {
      "cell_type": "code",
      "source": [
        "print(final_modelo)"
      ],
      "metadata": {
        "id": "89LQZRwPa9nf"
      },
      "execution_count": null,
      "outputs": []
    },
    {
      "cell_type": "markdown",
      "source": [
        "# Guardar modelo"
      ],
      "metadata": {
        "id": "8QLEvgXkbB7R"
      }
    },
    {
      "cell_type": "code",
      "source": [
        "from google.colab import drive\n",
        "from pycaret.classification import save_model\n",
        "\n",
        "# Monta Google Drive\n",
        "drive.mount('/content/drive')\n",
        "\n",
        "# Guarda el modelo en la carpeta de Google Drive\n",
        "modelo_a_guardar = final_modelo  # Reemplaza 'final_modelo' con tu modelo\n",
        "nombre_del_modelo = 'Modelo_Deteccion_trx_fraude'  # Nombre del modelo\n",
        "ruta_carpeta_drive = '/content/drive/My Drive/Modelos_FA'  # Ruta de la carpeta en Google Drive\n",
        "\n",
        "# Guarda el modelo\n",
        "save_model(modelo_a_guardar, f'{ruta_carpeta_drive}/{nombre_del_modelo}')\n",
        "\n",
        "# Muestra un mensaje de confirmación\n",
        "print(\"El modelo se guardó en Google Drive.\")"
      ],
      "metadata": {
        "colab": {
          "base_uri": "https://localhost:8080/"
        },
        "id": "XGdqWWUQbF94",
        "outputId": "ad68c4ea-60d0-4528-bc2e-c5ed8fd7bc91"
      },
      "execution_count": 21,
      "outputs": [
        {
          "output_type": "stream",
          "name": "stdout",
          "text": [
            "Mounted at /content/drive\n",
            "Transformation Pipeline and Model Successfully Saved\n",
            "El modelo se guardó en Google Drive.\n"
          ]
        }
      ]
    }
  ]
}