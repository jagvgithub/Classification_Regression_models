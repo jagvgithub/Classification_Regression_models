{
  "nbformat": 4,
  "nbformat_minor": 0,
  "metadata": {
    "colab": {
      "provenance": [],
      "authorship_tag": "ABX9TyO6HzVj/ZS+IxatwwXtus1q",
      "include_colab_link": true
    },
    "kernelspec": {
      "name": "python3",
      "display_name": "Python 3"
    },
    "language_info": {
      "name": "python"
    },
    "widgets": {
      "application/vnd.jupyter.widget-state+json": {
        "c2aab06576ae486f9d70b5350b8a7f6c": {
          "model_module": "@jupyter-widgets/controls",
          "model_name": "HBoxModel",
          "model_module_version": "1.5.0",
          "state": {
            "_dom_classes": [],
            "_model_module": "@jupyter-widgets/controls",
            "_model_module_version": "1.5.0",
            "_model_name": "HBoxModel",
            "_view_count": null,
            "_view_module": "@jupyter-widgets/controls",
            "_view_module_version": "1.5.0",
            "_view_name": "HBoxView",
            "box_style": "",
            "children": [
              "IPY_MODEL_304b2892559b467d84beb075d27855c5",
              "IPY_MODEL_4e21816cd7b74548a97fd202934fb308",
              "IPY_MODEL_36fa5055de954435afb86c03146f0be2"
            ],
            "layout": "IPY_MODEL_b84b66e9f3d94f85b4b447e12c326e40"
          }
        },
        "304b2892559b467d84beb075d27855c5": {
          "model_module": "@jupyter-widgets/controls",
          "model_name": "HTMLModel",
          "model_module_version": "1.5.0",
          "state": {
            "_dom_classes": [],
            "_model_module": "@jupyter-widgets/controls",
            "_model_module_version": "1.5.0",
            "_model_name": "HTMLModel",
            "_view_count": null,
            "_view_module": "@jupyter-widgets/controls",
            "_view_module_version": "1.5.0",
            "_view_name": "HTMLView",
            "description": "",
            "description_tooltip": null,
            "layout": "IPY_MODEL_6710d4eb89274cdbbab9472795cbe6bf",
            "placeholder": "​",
            "style": "IPY_MODEL_41dd09edaffe48a2a45572c76eb10217",
            "value": "Processing: 100%"
          }
        },
        "4e21816cd7b74548a97fd202934fb308": {
          "model_module": "@jupyter-widgets/controls",
          "model_name": "FloatProgressModel",
          "model_module_version": "1.5.0",
          "state": {
            "_dom_classes": [],
            "_model_module": "@jupyter-widgets/controls",
            "_model_module_version": "1.5.0",
            "_model_name": "FloatProgressModel",
            "_view_count": null,
            "_view_module": "@jupyter-widgets/controls",
            "_view_module_version": "1.5.0",
            "_view_name": "ProgressView",
            "bar_style": "",
            "description": "",
            "description_tooltip": null,
            "layout": "IPY_MODEL_1d95fb46e6004077a0d2c3bbcbae7dc2",
            "max": 65,
            "min": 0,
            "orientation": "horizontal",
            "style": "IPY_MODEL_d7472150eb454ef29a3d3fcb4a1b4ee9",
            "value": 65
          }
        },
        "36fa5055de954435afb86c03146f0be2": {
          "model_module": "@jupyter-widgets/controls",
          "model_name": "HTMLModel",
          "model_module_version": "1.5.0",
          "state": {
            "_dom_classes": [],
            "_model_module": "@jupyter-widgets/controls",
            "_model_module_version": "1.5.0",
            "_model_name": "HTMLModel",
            "_view_count": null,
            "_view_module": "@jupyter-widgets/controls",
            "_view_module_version": "1.5.0",
            "_view_name": "HTMLView",
            "description": "",
            "description_tooltip": null,
            "layout": "IPY_MODEL_93566f6fa95f471497f0f02c777372d3",
            "placeholder": "​",
            "style": "IPY_MODEL_9668bc7f4486421db57553962e63d8f9",
            "value": " 65/65 [12:57&lt;00:00,  8.69s/it]"
          }
        },
        "b84b66e9f3d94f85b4b447e12c326e40": {
          "model_module": "@jupyter-widgets/base",
          "model_name": "LayoutModel",
          "model_module_version": "1.2.0",
          "state": {
            "_model_module": "@jupyter-widgets/base",
            "_model_module_version": "1.2.0",
            "_model_name": "LayoutModel",
            "_view_count": null,
            "_view_module": "@jupyter-widgets/base",
            "_view_module_version": "1.2.0",
            "_view_name": "LayoutView",
            "align_content": null,
            "align_items": null,
            "align_self": null,
            "border": null,
            "bottom": null,
            "display": null,
            "flex": null,
            "flex_flow": null,
            "grid_area": null,
            "grid_auto_columns": null,
            "grid_auto_flow": null,
            "grid_auto_rows": null,
            "grid_column": null,
            "grid_gap": null,
            "grid_row": null,
            "grid_template_areas": null,
            "grid_template_columns": null,
            "grid_template_rows": null,
            "height": null,
            "justify_content": null,
            "justify_items": null,
            "left": null,
            "margin": null,
            "max_height": null,
            "max_width": null,
            "min_height": null,
            "min_width": null,
            "object_fit": null,
            "object_position": null,
            "order": null,
            "overflow": null,
            "overflow_x": null,
            "overflow_y": null,
            "padding": null,
            "right": null,
            "top": null,
            "visibility": "hidden",
            "width": null
          }
        },
        "6710d4eb89274cdbbab9472795cbe6bf": {
          "model_module": "@jupyter-widgets/base",
          "model_name": "LayoutModel",
          "model_module_version": "1.2.0",
          "state": {
            "_model_module": "@jupyter-widgets/base",
            "_model_module_version": "1.2.0",
            "_model_name": "LayoutModel",
            "_view_count": null,
            "_view_module": "@jupyter-widgets/base",
            "_view_module_version": "1.2.0",
            "_view_name": "LayoutView",
            "align_content": null,
            "align_items": null,
            "align_self": null,
            "border": null,
            "bottom": null,
            "display": null,
            "flex": null,
            "flex_flow": null,
            "grid_area": null,
            "grid_auto_columns": null,
            "grid_auto_flow": null,
            "grid_auto_rows": null,
            "grid_column": null,
            "grid_gap": null,
            "grid_row": null,
            "grid_template_areas": null,
            "grid_template_columns": null,
            "grid_template_rows": null,
            "height": null,
            "justify_content": null,
            "justify_items": null,
            "left": null,
            "margin": null,
            "max_height": null,
            "max_width": null,
            "min_height": null,
            "min_width": null,
            "object_fit": null,
            "object_position": null,
            "order": null,
            "overflow": null,
            "overflow_x": null,
            "overflow_y": null,
            "padding": null,
            "right": null,
            "top": null,
            "visibility": null,
            "width": null
          }
        },
        "41dd09edaffe48a2a45572c76eb10217": {
          "model_module": "@jupyter-widgets/controls",
          "model_name": "DescriptionStyleModel",
          "model_module_version": "1.5.0",
          "state": {
            "_model_module": "@jupyter-widgets/controls",
            "_model_module_version": "1.5.0",
            "_model_name": "DescriptionStyleModel",
            "_view_count": null,
            "_view_module": "@jupyter-widgets/base",
            "_view_module_version": "1.2.0",
            "_view_name": "StyleView",
            "description_width": ""
          }
        },
        "1d95fb46e6004077a0d2c3bbcbae7dc2": {
          "model_module": "@jupyter-widgets/base",
          "model_name": "LayoutModel",
          "model_module_version": "1.2.0",
          "state": {
            "_model_module": "@jupyter-widgets/base",
            "_model_module_version": "1.2.0",
            "_model_name": "LayoutModel",
            "_view_count": null,
            "_view_module": "@jupyter-widgets/base",
            "_view_module_version": "1.2.0",
            "_view_name": "LayoutView",
            "align_content": null,
            "align_items": null,
            "align_self": null,
            "border": null,
            "bottom": null,
            "display": null,
            "flex": null,
            "flex_flow": null,
            "grid_area": null,
            "grid_auto_columns": null,
            "grid_auto_flow": null,
            "grid_auto_rows": null,
            "grid_column": null,
            "grid_gap": null,
            "grid_row": null,
            "grid_template_areas": null,
            "grid_template_columns": null,
            "grid_template_rows": null,
            "height": null,
            "justify_content": null,
            "justify_items": null,
            "left": null,
            "margin": null,
            "max_height": null,
            "max_width": null,
            "min_height": null,
            "min_width": null,
            "object_fit": null,
            "object_position": null,
            "order": null,
            "overflow": null,
            "overflow_x": null,
            "overflow_y": null,
            "padding": null,
            "right": null,
            "top": null,
            "visibility": null,
            "width": null
          }
        },
        "d7472150eb454ef29a3d3fcb4a1b4ee9": {
          "model_module": "@jupyter-widgets/controls",
          "model_name": "ProgressStyleModel",
          "model_module_version": "1.5.0",
          "state": {
            "_model_module": "@jupyter-widgets/controls",
            "_model_module_version": "1.5.0",
            "_model_name": "ProgressStyleModel",
            "_view_count": null,
            "_view_module": "@jupyter-widgets/base",
            "_view_module_version": "1.2.0",
            "_view_name": "StyleView",
            "bar_color": null,
            "description_width": ""
          }
        },
        "93566f6fa95f471497f0f02c777372d3": {
          "model_module": "@jupyter-widgets/base",
          "model_name": "LayoutModel",
          "model_module_version": "1.2.0",
          "state": {
            "_model_module": "@jupyter-widgets/base",
            "_model_module_version": "1.2.0",
            "_model_name": "LayoutModel",
            "_view_count": null,
            "_view_module": "@jupyter-widgets/base",
            "_view_module_version": "1.2.0",
            "_view_name": "LayoutView",
            "align_content": null,
            "align_items": null,
            "align_self": null,
            "border": null,
            "bottom": null,
            "display": null,
            "flex": null,
            "flex_flow": null,
            "grid_area": null,
            "grid_auto_columns": null,
            "grid_auto_flow": null,
            "grid_auto_rows": null,
            "grid_column": null,
            "grid_gap": null,
            "grid_row": null,
            "grid_template_areas": null,
            "grid_template_columns": null,
            "grid_template_rows": null,
            "height": null,
            "justify_content": null,
            "justify_items": null,
            "left": null,
            "margin": null,
            "max_height": null,
            "max_width": null,
            "min_height": null,
            "min_width": null,
            "object_fit": null,
            "object_position": null,
            "order": null,
            "overflow": null,
            "overflow_x": null,
            "overflow_y": null,
            "padding": null,
            "right": null,
            "top": null,
            "visibility": null,
            "width": null
          }
        },
        "9668bc7f4486421db57553962e63d8f9": {
          "model_module": "@jupyter-widgets/controls",
          "model_name": "DescriptionStyleModel",
          "model_module_version": "1.5.0",
          "state": {
            "_model_module": "@jupyter-widgets/controls",
            "_model_module_version": "1.5.0",
            "_model_name": "DescriptionStyleModel",
            "_view_count": null,
            "_view_module": "@jupyter-widgets/base",
            "_view_module_version": "1.2.0",
            "_view_name": "StyleView",
            "description_width": ""
          }
        },
        "9f8d8d7321ed4653b70cbd8c93634689": {
          "model_module": "@jupyter-widgets/controls",
          "model_name": "HBoxModel",
          "model_module_version": "1.5.0",
          "state": {
            "_dom_classes": [],
            "_model_module": "@jupyter-widgets/controls",
            "_model_module_version": "1.5.0",
            "_model_name": "HBoxModel",
            "_view_count": null,
            "_view_module": "@jupyter-widgets/controls",
            "_view_module_version": "1.5.0",
            "_view_name": "HBoxView",
            "box_style": "",
            "children": [
              "IPY_MODEL_165c611c599042bca75f98c9c84972e2",
              "IPY_MODEL_8f184f8eb3594ba2bd93db70b02ecfac",
              "IPY_MODEL_d19bad2409614faeb2960a38427c8e0a"
            ],
            "layout": "IPY_MODEL_7b21f699e6b04188a66be3360165d6a6"
          }
        },
        "165c611c599042bca75f98c9c84972e2": {
          "model_module": "@jupyter-widgets/controls",
          "model_name": "HTMLModel",
          "model_module_version": "1.5.0",
          "state": {
            "_dom_classes": [],
            "_model_module": "@jupyter-widgets/controls",
            "_model_module_version": "1.5.0",
            "_model_name": "HTMLModel",
            "_view_count": null,
            "_view_module": "@jupyter-widgets/controls",
            "_view_module_version": "1.5.0",
            "_view_name": "HTMLView",
            "description": "",
            "description_tooltip": null,
            "layout": "IPY_MODEL_44ef99586c6a499f8cfb13c6a544cbdf",
            "placeholder": "​",
            "style": "IPY_MODEL_b63eec2f52294f838542d9e969c87268",
            "value": "Processing: 100%"
          }
        },
        "8f184f8eb3594ba2bd93db70b02ecfac": {
          "model_module": "@jupyter-widgets/controls",
          "model_name": "FloatProgressModel",
          "model_module_version": "1.5.0",
          "state": {
            "_dom_classes": [],
            "_model_module": "@jupyter-widgets/controls",
            "_model_module_version": "1.5.0",
            "_model_name": "FloatProgressModel",
            "_view_count": null,
            "_view_module": "@jupyter-widgets/controls",
            "_view_module_version": "1.5.0",
            "_view_name": "ProgressView",
            "bar_style": "",
            "description": "",
            "description_tooltip": null,
            "layout": "IPY_MODEL_e88ae2ffc00246ffbc514b2ec726c54f",
            "max": 4,
            "min": 0,
            "orientation": "horizontal",
            "style": "IPY_MODEL_ed80d3f4e5b2445aa8db0af0df9eb592",
            "value": 4
          }
        },
        "d19bad2409614faeb2960a38427c8e0a": {
          "model_module": "@jupyter-widgets/controls",
          "model_name": "HTMLModel",
          "model_module_version": "1.5.0",
          "state": {
            "_dom_classes": [],
            "_model_module": "@jupyter-widgets/controls",
            "_model_module_version": "1.5.0",
            "_model_name": "HTMLModel",
            "_view_count": null,
            "_view_module": "@jupyter-widgets/controls",
            "_view_module_version": "1.5.0",
            "_view_name": "HTMLView",
            "description": "",
            "description_tooltip": null,
            "layout": "IPY_MODEL_1ef55856c3f943838e2a1de0e16ed63a",
            "placeholder": "​",
            "style": "IPY_MODEL_7003984afdf14b77899cc21051ac313f",
            "value": " 4/4 [02:48&lt;00:00, 39.93s/it]"
          }
        },
        "7b21f699e6b04188a66be3360165d6a6": {
          "model_module": "@jupyter-widgets/base",
          "model_name": "LayoutModel",
          "model_module_version": "1.2.0",
          "state": {
            "_model_module": "@jupyter-widgets/base",
            "_model_module_version": "1.2.0",
            "_model_name": "LayoutModel",
            "_view_count": null,
            "_view_module": "@jupyter-widgets/base",
            "_view_module_version": "1.2.0",
            "_view_name": "LayoutView",
            "align_content": null,
            "align_items": null,
            "align_self": null,
            "border": null,
            "bottom": null,
            "display": null,
            "flex": null,
            "flex_flow": null,
            "grid_area": null,
            "grid_auto_columns": null,
            "grid_auto_flow": null,
            "grid_auto_rows": null,
            "grid_column": null,
            "grid_gap": null,
            "grid_row": null,
            "grid_template_areas": null,
            "grid_template_columns": null,
            "grid_template_rows": null,
            "height": null,
            "justify_content": null,
            "justify_items": null,
            "left": null,
            "margin": null,
            "max_height": null,
            "max_width": null,
            "min_height": null,
            "min_width": null,
            "object_fit": null,
            "object_position": null,
            "order": null,
            "overflow": null,
            "overflow_x": null,
            "overflow_y": null,
            "padding": null,
            "right": null,
            "top": null,
            "visibility": "hidden",
            "width": null
          }
        },
        "44ef99586c6a499f8cfb13c6a544cbdf": {
          "model_module": "@jupyter-widgets/base",
          "model_name": "LayoutModel",
          "model_module_version": "1.2.0",
          "state": {
            "_model_module": "@jupyter-widgets/base",
            "_model_module_version": "1.2.0",
            "_model_name": "LayoutModel",
            "_view_count": null,
            "_view_module": "@jupyter-widgets/base",
            "_view_module_version": "1.2.0",
            "_view_name": "LayoutView",
            "align_content": null,
            "align_items": null,
            "align_self": null,
            "border": null,
            "bottom": null,
            "display": null,
            "flex": null,
            "flex_flow": null,
            "grid_area": null,
            "grid_auto_columns": null,
            "grid_auto_flow": null,
            "grid_auto_rows": null,
            "grid_column": null,
            "grid_gap": null,
            "grid_row": null,
            "grid_template_areas": null,
            "grid_template_columns": null,
            "grid_template_rows": null,
            "height": null,
            "justify_content": null,
            "justify_items": null,
            "left": null,
            "margin": null,
            "max_height": null,
            "max_width": null,
            "min_height": null,
            "min_width": null,
            "object_fit": null,
            "object_position": null,
            "order": null,
            "overflow": null,
            "overflow_x": null,
            "overflow_y": null,
            "padding": null,
            "right": null,
            "top": null,
            "visibility": null,
            "width": null
          }
        },
        "b63eec2f52294f838542d9e969c87268": {
          "model_module": "@jupyter-widgets/controls",
          "model_name": "DescriptionStyleModel",
          "model_module_version": "1.5.0",
          "state": {
            "_model_module": "@jupyter-widgets/controls",
            "_model_module_version": "1.5.0",
            "_model_name": "DescriptionStyleModel",
            "_view_count": null,
            "_view_module": "@jupyter-widgets/base",
            "_view_module_version": "1.2.0",
            "_view_name": "StyleView",
            "description_width": ""
          }
        },
        "e88ae2ffc00246ffbc514b2ec726c54f": {
          "model_module": "@jupyter-widgets/base",
          "model_name": "LayoutModel",
          "model_module_version": "1.2.0",
          "state": {
            "_model_module": "@jupyter-widgets/base",
            "_model_module_version": "1.2.0",
            "_model_name": "LayoutModel",
            "_view_count": null,
            "_view_module": "@jupyter-widgets/base",
            "_view_module_version": "1.2.0",
            "_view_name": "LayoutView",
            "align_content": null,
            "align_items": null,
            "align_self": null,
            "border": null,
            "bottom": null,
            "display": null,
            "flex": null,
            "flex_flow": null,
            "grid_area": null,
            "grid_auto_columns": null,
            "grid_auto_flow": null,
            "grid_auto_rows": null,
            "grid_column": null,
            "grid_gap": null,
            "grid_row": null,
            "grid_template_areas": null,
            "grid_template_columns": null,
            "grid_template_rows": null,
            "height": null,
            "justify_content": null,
            "justify_items": null,
            "left": null,
            "margin": null,
            "max_height": null,
            "max_width": null,
            "min_height": null,
            "min_width": null,
            "object_fit": null,
            "object_position": null,
            "order": null,
            "overflow": null,
            "overflow_x": null,
            "overflow_y": null,
            "padding": null,
            "right": null,
            "top": null,
            "visibility": null,
            "width": null
          }
        },
        "ed80d3f4e5b2445aa8db0af0df9eb592": {
          "model_module": "@jupyter-widgets/controls",
          "model_name": "ProgressStyleModel",
          "model_module_version": "1.5.0",
          "state": {
            "_model_module": "@jupyter-widgets/controls",
            "_model_module_version": "1.5.0",
            "_model_name": "ProgressStyleModel",
            "_view_count": null,
            "_view_module": "@jupyter-widgets/base",
            "_view_module_version": "1.2.0",
            "_view_name": "StyleView",
            "bar_color": null,
            "description_width": ""
          }
        },
        "1ef55856c3f943838e2a1de0e16ed63a": {
          "model_module": "@jupyter-widgets/base",
          "model_name": "LayoutModel",
          "model_module_version": "1.2.0",
          "state": {
            "_model_module": "@jupyter-widgets/base",
            "_model_module_version": "1.2.0",
            "_model_name": "LayoutModel",
            "_view_count": null,
            "_view_module": "@jupyter-widgets/base",
            "_view_module_version": "1.2.0",
            "_view_name": "LayoutView",
            "align_content": null,
            "align_items": null,
            "align_self": null,
            "border": null,
            "bottom": null,
            "display": null,
            "flex": null,
            "flex_flow": null,
            "grid_area": null,
            "grid_auto_columns": null,
            "grid_auto_flow": null,
            "grid_auto_rows": null,
            "grid_column": null,
            "grid_gap": null,
            "grid_row": null,
            "grid_template_areas": null,
            "grid_template_columns": null,
            "grid_template_rows": null,
            "height": null,
            "justify_content": null,
            "justify_items": null,
            "left": null,
            "margin": null,
            "max_height": null,
            "max_width": null,
            "min_height": null,
            "min_width": null,
            "object_fit": null,
            "object_position": null,
            "order": null,
            "overflow": null,
            "overflow_x": null,
            "overflow_y": null,
            "padding": null,
            "right": null,
            "top": null,
            "visibility": null,
            "width": null
          }
        },
        "7003984afdf14b77899cc21051ac313f": {
          "model_module": "@jupyter-widgets/controls",
          "model_name": "DescriptionStyleModel",
          "model_module_version": "1.5.0",
          "state": {
            "_model_module": "@jupyter-widgets/controls",
            "_model_module_version": "1.5.0",
            "_model_name": "DescriptionStyleModel",
            "_view_count": null,
            "_view_module": "@jupyter-widgets/base",
            "_view_module_version": "1.2.0",
            "_view_name": "StyleView",
            "description_width": ""
          }
        },
        "dd14e0c8128347b8929e0d93c1b1cc32": {
          "model_module": "@jupyter-widgets/controls",
          "model_name": "HBoxModel",
          "model_module_version": "1.5.0",
          "state": {
            "_dom_classes": [],
            "_model_module": "@jupyter-widgets/controls",
            "_model_module_version": "1.5.0",
            "_model_name": "HBoxModel",
            "_view_count": null,
            "_view_module": "@jupyter-widgets/controls",
            "_view_module_version": "1.5.0",
            "_view_name": "HBoxView",
            "box_style": "",
            "children": [
              "IPY_MODEL_0a738cb55be4451f86c5a4bea4abb178",
              "IPY_MODEL_d6664fc9dd314c639a2f067a0a498bf3",
              "IPY_MODEL_51a5f909466745c8b166e74b7f729ded"
            ],
            "layout": "IPY_MODEL_91342dd9ff8f4853bf7f8b73d5cd157b"
          }
        },
        "0a738cb55be4451f86c5a4bea4abb178": {
          "model_module": "@jupyter-widgets/controls",
          "model_name": "HTMLModel",
          "model_module_version": "1.5.0",
          "state": {
            "_dom_classes": [],
            "_model_module": "@jupyter-widgets/controls",
            "_model_module_version": "1.5.0",
            "_model_name": "HTMLModel",
            "_view_count": null,
            "_view_module": "@jupyter-widgets/controls",
            "_view_module_version": "1.5.0",
            "_view_name": "HTMLView",
            "description": "",
            "description_tooltip": null,
            "layout": "IPY_MODEL_525b807948d546ae811ad18953042b6d",
            "placeholder": "​",
            "style": "IPY_MODEL_58d6113b009e4508b7a66a362c7bfa97",
            "value": "Processing:   0%"
          }
        },
        "d6664fc9dd314c639a2f067a0a498bf3": {
          "model_module": "@jupyter-widgets/controls",
          "model_name": "FloatProgressModel",
          "model_module_version": "1.5.0",
          "state": {
            "_dom_classes": [],
            "_model_module": "@jupyter-widgets/controls",
            "_model_module_version": "1.5.0",
            "_model_name": "FloatProgressModel",
            "_view_count": null,
            "_view_module": "@jupyter-widgets/controls",
            "_view_module_version": "1.5.0",
            "_view_name": "ProgressView",
            "bar_style": "",
            "description": "",
            "description_tooltip": null,
            "layout": "IPY_MODEL_1f1b629727704d2199ed023180f31e07",
            "max": 7,
            "min": 0,
            "orientation": "horizontal",
            "style": "IPY_MODEL_ea6a2c686f9446ea8112e0778c0af5ed",
            "value": 0
          }
        },
        "51a5f909466745c8b166e74b7f729ded": {
          "model_module": "@jupyter-widgets/controls",
          "model_name": "HTMLModel",
          "model_module_version": "1.5.0",
          "state": {
            "_dom_classes": [],
            "_model_module": "@jupyter-widgets/controls",
            "_model_module_version": "1.5.0",
            "_model_name": "HTMLModel",
            "_view_count": null,
            "_view_module": "@jupyter-widgets/controls",
            "_view_module_version": "1.5.0",
            "_view_name": "HTMLView",
            "description": "",
            "description_tooltip": null,
            "layout": "IPY_MODEL_0af10491eb354515b4dd2beca9fd468e",
            "placeholder": "​",
            "style": "IPY_MODEL_df9b23564b1e4b65ab51f2ed11dad6f6",
            "value": " 0/7 [00:00&lt;?, ?it/s]"
          }
        },
        "91342dd9ff8f4853bf7f8b73d5cd157b": {
          "model_module": "@jupyter-widgets/base",
          "model_name": "LayoutModel",
          "model_module_version": "1.2.0",
          "state": {
            "_model_module": "@jupyter-widgets/base",
            "_model_module_version": "1.2.0",
            "_model_name": "LayoutModel",
            "_view_count": null,
            "_view_module": "@jupyter-widgets/base",
            "_view_module_version": "1.2.0",
            "_view_name": "LayoutView",
            "align_content": null,
            "align_items": null,
            "align_self": null,
            "border": null,
            "bottom": null,
            "display": null,
            "flex": null,
            "flex_flow": null,
            "grid_area": null,
            "grid_auto_columns": null,
            "grid_auto_flow": null,
            "grid_auto_rows": null,
            "grid_column": null,
            "grid_gap": null,
            "grid_row": null,
            "grid_template_areas": null,
            "grid_template_columns": null,
            "grid_template_rows": null,
            "height": null,
            "justify_content": null,
            "justify_items": null,
            "left": null,
            "margin": null,
            "max_height": null,
            "max_width": null,
            "min_height": null,
            "min_width": null,
            "object_fit": null,
            "object_position": null,
            "order": null,
            "overflow": null,
            "overflow_x": null,
            "overflow_y": null,
            "padding": null,
            "right": null,
            "top": null,
            "visibility": null,
            "width": null
          }
        },
        "525b807948d546ae811ad18953042b6d": {
          "model_module": "@jupyter-widgets/base",
          "model_name": "LayoutModel",
          "model_module_version": "1.2.0",
          "state": {
            "_model_module": "@jupyter-widgets/base",
            "_model_module_version": "1.2.0",
            "_model_name": "LayoutModel",
            "_view_count": null,
            "_view_module": "@jupyter-widgets/base",
            "_view_module_version": "1.2.0",
            "_view_name": "LayoutView",
            "align_content": null,
            "align_items": null,
            "align_self": null,
            "border": null,
            "bottom": null,
            "display": null,
            "flex": null,
            "flex_flow": null,
            "grid_area": null,
            "grid_auto_columns": null,
            "grid_auto_flow": null,
            "grid_auto_rows": null,
            "grid_column": null,
            "grid_gap": null,
            "grid_row": null,
            "grid_template_areas": null,
            "grid_template_columns": null,
            "grid_template_rows": null,
            "height": null,
            "justify_content": null,
            "justify_items": null,
            "left": null,
            "margin": null,
            "max_height": null,
            "max_width": null,
            "min_height": null,
            "min_width": null,
            "object_fit": null,
            "object_position": null,
            "order": null,
            "overflow": null,
            "overflow_x": null,
            "overflow_y": null,
            "padding": null,
            "right": null,
            "top": null,
            "visibility": null,
            "width": null
          }
        },
        "58d6113b009e4508b7a66a362c7bfa97": {
          "model_module": "@jupyter-widgets/controls",
          "model_name": "DescriptionStyleModel",
          "model_module_version": "1.5.0",
          "state": {
            "_model_module": "@jupyter-widgets/controls",
            "_model_module_version": "1.5.0",
            "_model_name": "DescriptionStyleModel",
            "_view_count": null,
            "_view_module": "@jupyter-widgets/base",
            "_view_module_version": "1.2.0",
            "_view_name": "StyleView",
            "description_width": ""
          }
        },
        "1f1b629727704d2199ed023180f31e07": {
          "model_module": "@jupyter-widgets/base",
          "model_name": "LayoutModel",
          "model_module_version": "1.2.0",
          "state": {
            "_model_module": "@jupyter-widgets/base",
            "_model_module_version": "1.2.0",
            "_model_name": "LayoutModel",
            "_view_count": null,
            "_view_module": "@jupyter-widgets/base",
            "_view_module_version": "1.2.0",
            "_view_name": "LayoutView",
            "align_content": null,
            "align_items": null,
            "align_self": null,
            "border": null,
            "bottom": null,
            "display": null,
            "flex": null,
            "flex_flow": null,
            "grid_area": null,
            "grid_auto_columns": null,
            "grid_auto_flow": null,
            "grid_auto_rows": null,
            "grid_column": null,
            "grid_gap": null,
            "grid_row": null,
            "grid_template_areas": null,
            "grid_template_columns": null,
            "grid_template_rows": null,
            "height": null,
            "justify_content": null,
            "justify_items": null,
            "left": null,
            "margin": null,
            "max_height": null,
            "max_width": null,
            "min_height": null,
            "min_width": null,
            "object_fit": null,
            "object_position": null,
            "order": null,
            "overflow": null,
            "overflow_x": null,
            "overflow_y": null,
            "padding": null,
            "right": null,
            "top": null,
            "visibility": null,
            "width": null
          }
        },
        "ea6a2c686f9446ea8112e0778c0af5ed": {
          "model_module": "@jupyter-widgets/controls",
          "model_name": "ProgressStyleModel",
          "model_module_version": "1.5.0",
          "state": {
            "_model_module": "@jupyter-widgets/controls",
            "_model_module_version": "1.5.0",
            "_model_name": "ProgressStyleModel",
            "_view_count": null,
            "_view_module": "@jupyter-widgets/base",
            "_view_module_version": "1.2.0",
            "_view_name": "StyleView",
            "bar_color": null,
            "description_width": ""
          }
        },
        "0af10491eb354515b4dd2beca9fd468e": {
          "model_module": "@jupyter-widgets/base",
          "model_name": "LayoutModel",
          "model_module_version": "1.2.0",
          "state": {
            "_model_module": "@jupyter-widgets/base",
            "_model_module_version": "1.2.0",
            "_model_name": "LayoutModel",
            "_view_count": null,
            "_view_module": "@jupyter-widgets/base",
            "_view_module_version": "1.2.0",
            "_view_name": "LayoutView",
            "align_content": null,
            "align_items": null,
            "align_self": null,
            "border": null,
            "bottom": null,
            "display": null,
            "flex": null,
            "flex_flow": null,
            "grid_area": null,
            "grid_auto_columns": null,
            "grid_auto_flow": null,
            "grid_auto_rows": null,
            "grid_column": null,
            "grid_gap": null,
            "grid_row": null,
            "grid_template_areas": null,
            "grid_template_columns": null,
            "grid_template_rows": null,
            "height": null,
            "justify_content": null,
            "justify_items": null,
            "left": null,
            "margin": null,
            "max_height": null,
            "max_width": null,
            "min_height": null,
            "min_width": null,
            "object_fit": null,
            "object_position": null,
            "order": null,
            "overflow": null,
            "overflow_x": null,
            "overflow_y": null,
            "padding": null,
            "right": null,
            "top": null,
            "visibility": null,
            "width": null
          }
        },
        "df9b23564b1e4b65ab51f2ed11dad6f6": {
          "model_module": "@jupyter-widgets/controls",
          "model_name": "DescriptionStyleModel",
          "model_module_version": "1.5.0",
          "state": {
            "_model_module": "@jupyter-widgets/controls",
            "_model_module_version": "1.5.0",
            "_model_name": "DescriptionStyleModel",
            "_view_count": null,
            "_view_module": "@jupyter-widgets/base",
            "_view_module_version": "1.2.0",
            "_view_name": "StyleView",
            "description_width": ""
          }
        }
      }
    }
  },
  "cells": [
    {
      "cell_type": "markdown",
      "metadata": {
        "id": "view-in-github",
        "colab_type": "text"
      },
      "source": [
        "<a href=\"https://colab.research.google.com/github/jagvgithub/Classification_Regression_models/blob/main/ModeloFraude.ipynb\" target=\"_parent\"><img src=\"https://colab.research.google.com/assets/colab-badge.svg\" alt=\"Open In Colab\"/></a>"
      ]
    },
    {
      "cell_type": "code",
      "execution_count": 1,
      "metadata": {
        "colab": {
          "base_uri": "https://localhost:8080/"
        },
        "id": "4dW2D6PDEmWs",
        "outputId": "b07e3084-bda4-4b9e-ffc0-88a8c918859d"
      },
      "outputs": [
        {
          "output_type": "stream",
          "name": "stdout",
          "text": [
            "Collecting pycaret\n",
            "  Downloading pycaret-3.3.2-py3-none-any.whl (486 kB)\n",
            "\u001b[2K     \u001b[90m━━━━━━━━━━━━━━━━━━━━━━━━━━━━━━━━━━━━━━━━\u001b[0m \u001b[32m486.1/486.1 kB\u001b[0m \u001b[31m3.7 MB/s\u001b[0m eta \u001b[36m0:00:00\u001b[0m\n",
            "\u001b[?25hRequirement already satisfied: ipython>=5.5.0 in /usr/local/lib/python3.10/dist-packages (from pycaret) (7.34.0)\n",
            "Requirement already satisfied: ipywidgets>=7.6.5 in /usr/local/lib/python3.10/dist-packages (from pycaret) (7.7.1)\n",
            "Requirement already satisfied: tqdm>=4.62.0 in /usr/local/lib/python3.10/dist-packages (from pycaret) (4.66.2)\n",
            "Requirement already satisfied: numpy<1.27,>=1.21 in /usr/local/lib/python3.10/dist-packages (from pycaret) (1.25.2)\n",
            "Requirement already satisfied: pandas<2.2.0 in /usr/local/lib/python3.10/dist-packages (from pycaret) (2.0.3)\n",
            "Requirement already satisfied: jinja2>=3 in /usr/local/lib/python3.10/dist-packages (from pycaret) (3.1.3)\n",
            "Requirement already satisfied: scipy<=1.11.4,>=1.6.1 in /usr/local/lib/python3.10/dist-packages (from pycaret) (1.11.4)\n",
            "Collecting joblib<1.4,>=1.2.0 (from pycaret)\n",
            "  Downloading joblib-1.3.2-py3-none-any.whl (302 kB)\n",
            "\u001b[2K     \u001b[90m━━━━━━━━━━━━━━━━━━━━━━━━━━━━━━━━━━━━━━━━\u001b[0m \u001b[32m302.2/302.2 kB\u001b[0m \u001b[31m26.0 MB/s\u001b[0m eta \u001b[36m0:00:00\u001b[0m\n",
            "\u001b[?25hCollecting scikit-learn>1.4.0 (from pycaret)\n",
            "  Downloading scikit_learn-1.4.2-cp310-cp310-manylinux_2_17_x86_64.manylinux2014_x86_64.whl (12.1 MB)\n",
            "\u001b[2K     \u001b[90m━━━━━━━━━━━━━━━━━━━━━━━━━━━━━━━━━━━━━━━━\u001b[0m \u001b[32m12.1/12.1 MB\u001b[0m \u001b[31m41.0 MB/s\u001b[0m eta \u001b[36m0:00:00\u001b[0m\n",
            "\u001b[?25hCollecting pyod>=1.1.3 (from pycaret)\n",
            "  Downloading pyod-1.1.3.tar.gz (160 kB)\n",
            "\u001b[2K     \u001b[90m━━━━━━━━━━━━━━━━━━━━━━━━━━━━━━━━━━━━━━━━\u001b[0m \u001b[32m160.5/160.5 kB\u001b[0m \u001b[31m14.8 MB/s\u001b[0m eta \u001b[36m0:00:00\u001b[0m\n",
            "\u001b[?25h  Preparing metadata (setup.py) ... \u001b[?25l\u001b[?25hdone\n",
            "Collecting imbalanced-learn>=0.12.0 (from pycaret)\n",
            "  Downloading imbalanced_learn-0.12.2-py3-none-any.whl (257 kB)\n",
            "\u001b[2K     \u001b[90m━━━━━━━━━━━━━━━━━━━━━━━━━━━━━━━━━━━━━━━━\u001b[0m \u001b[32m258.0/258.0 kB\u001b[0m \u001b[31m20.0 MB/s\u001b[0m eta \u001b[36m0:00:00\u001b[0m\n",
            "\u001b[?25hCollecting category-encoders>=2.4.0 (from pycaret)\n",
            "  Downloading category_encoders-2.6.3-py2.py3-none-any.whl (81 kB)\n",
            "\u001b[2K     \u001b[90m━━━━━━━━━━━━━━━━━━━━━━━━━━━━━━━━━━━━━━━━\u001b[0m \u001b[32m81.9/81.9 kB\u001b[0m \u001b[31m8.1 MB/s\u001b[0m eta \u001b[36m0:00:00\u001b[0m\n",
            "\u001b[?25hRequirement already satisfied: lightgbm>=3.0.0 in /usr/local/lib/python3.10/dist-packages (from pycaret) (4.1.0)\n",
            "Requirement already satisfied: numba>=0.55.0 in /usr/local/lib/python3.10/dist-packages (from pycaret) (0.58.1)\n",
            "Requirement already satisfied: requests>=2.27.1 in /usr/local/lib/python3.10/dist-packages (from pycaret) (2.31.0)\n",
            "Requirement already satisfied: psutil>=5.9.0 in /usr/local/lib/python3.10/dist-packages (from pycaret) (5.9.5)\n",
            "Requirement already satisfied: markupsafe>=2.0.1 in /usr/local/lib/python3.10/dist-packages (from pycaret) (2.1.5)\n",
            "Requirement already satisfied: importlib-metadata>=4.12.0 in /usr/local/lib/python3.10/dist-packages (from pycaret) (7.1.0)\n",
            "Requirement already satisfied: nbformat>=4.2.0 in /usr/local/lib/python3.10/dist-packages (from pycaret) (5.10.4)\n",
            "Requirement already satisfied: cloudpickle in /usr/local/lib/python3.10/dist-packages (from pycaret) (2.2.1)\n",
            "Collecting deprecation>=2.1.0 (from pycaret)\n",
            "  Downloading deprecation-2.1.0-py2.py3-none-any.whl (11 kB)\n",
            "Collecting xxhash (from pycaret)\n",
            "  Downloading xxhash-3.4.1-cp310-cp310-manylinux_2_17_x86_64.manylinux2014_x86_64.whl (194 kB)\n",
            "\u001b[2K     \u001b[90m━━━━━━━━━━━━━━━━━━━━━━━━━━━━━━━━━━━━━━━━\u001b[0m \u001b[32m194.1/194.1 kB\u001b[0m \u001b[31m18.2 MB/s\u001b[0m eta \u001b[36m0:00:00\u001b[0m\n",
            "\u001b[?25hRequirement already satisfied: matplotlib<3.8.0 in /usr/local/lib/python3.10/dist-packages (from pycaret) (3.7.1)\n",
            "Collecting scikit-plot>=0.3.7 (from pycaret)\n",
            "  Downloading scikit_plot-0.3.7-py3-none-any.whl (33 kB)\n",
            "Requirement already satisfied: yellowbrick>=1.4 in /usr/local/lib/python3.10/dist-packages (from pycaret) (1.5)\n",
            "Requirement already satisfied: plotly>=5.14.0 in /usr/local/lib/python3.10/dist-packages (from pycaret) (5.15.0)\n",
            "Collecting kaleido>=0.2.1 (from pycaret)\n",
            "  Downloading kaleido-0.2.1-py2.py3-none-manylinux1_x86_64.whl (79.9 MB)\n",
            "\u001b[2K     \u001b[90m━━━━━━━━━━━━━━━━━━━━━━━━━━━━━━━━━━━━━━━━\u001b[0m \u001b[32m79.9/79.9 MB\u001b[0m \u001b[31m10.5 MB/s\u001b[0m eta \u001b[36m0:00:00\u001b[0m\n",
            "\u001b[?25hCollecting schemdraw==0.15 (from pycaret)\n",
            "  Downloading schemdraw-0.15-py3-none-any.whl (106 kB)\n",
            "\u001b[2K     \u001b[90m━━━━━━━━━━━━━━━━━━━━━━━━━━━━━━━━━━━━━━━━\u001b[0m \u001b[32m106.8/106.8 kB\u001b[0m \u001b[31m12.0 MB/s\u001b[0m eta \u001b[36m0:00:00\u001b[0m\n",
            "\u001b[?25hCollecting plotly-resampler>=0.8.3.1 (from pycaret)\n",
            "  Downloading plotly_resampler-0.10.0-py3-none-any.whl (80 kB)\n",
            "\u001b[2K     \u001b[90m━━━━━━━━━━━━━━━━━━━━━━━━━━━━━━━━━━━━━━━━\u001b[0m \u001b[32m80.7/80.7 kB\u001b[0m \u001b[31m8.9 MB/s\u001b[0m eta \u001b[36m0:00:00\u001b[0m\n",
            "\u001b[?25hRequirement already satisfied: statsmodels>=0.12.1 in /usr/local/lib/python3.10/dist-packages (from pycaret) (0.14.2)\n",
            "Collecting sktime==0.26.0 (from pycaret)\n",
            "  Downloading sktime-0.26.0-py3-none-any.whl (21.8 MB)\n",
            "\u001b[2K     \u001b[90m━━━━━━━━━━━━━━━━━━━━━━━━━━━━━━━━━━━━━━━━\u001b[0m \u001b[32m21.8/21.8 MB\u001b[0m \u001b[31m32.9 MB/s\u001b[0m eta \u001b[36m0:00:00\u001b[0m\n",
            "\u001b[?25hCollecting tbats>=1.1.3 (from pycaret)\n",
            "  Downloading tbats-1.1.3-py3-none-any.whl (44 kB)\n",
            "\u001b[2K     \u001b[90m━━━━━━━━━━━━━━━━━━━━━━━━━━━━━━━━━━━━━━━━\u001b[0m \u001b[32m44.0/44.0 kB\u001b[0m \u001b[31m4.0 MB/s\u001b[0m eta \u001b[36m0:00:00\u001b[0m\n",
            "\u001b[?25hCollecting pmdarima>=2.0.4 (from pycaret)\n",
            "  Downloading pmdarima-2.0.4-cp310-cp310-manylinux_2_17_x86_64.manylinux2014_x86_64.manylinux_2_28_x86_64.whl (2.1 MB)\n",
            "\u001b[2K     \u001b[90m━━━━━━━━━━━━━━━━━━━━━━━━━━━━━━━━━━━━━━━━\u001b[0m \u001b[32m2.1/2.1 MB\u001b[0m \u001b[31m54.7 MB/s\u001b[0m eta \u001b[36m0:00:00\u001b[0m\n",
            "\u001b[?25hCollecting wurlitzer (from pycaret)\n",
            "  Downloading wurlitzer-3.1.0-py3-none-any.whl (8.4 kB)\n",
            "Requirement already satisfied: packaging in /usr/local/lib/python3.10/dist-packages (from sktime==0.26.0->pycaret) (24.0)\n",
            "Collecting scikit-base<0.8.0 (from sktime==0.26.0->pycaret)\n",
            "  Downloading scikit_base-0.7.7-py3-none-any.whl (129 kB)\n",
            "\u001b[2K     \u001b[90m━━━━━━━━━━━━━━━━━━━━━━━━━━━━━━━━━━━━━━━━\u001b[0m \u001b[32m129.9/129.9 kB\u001b[0m \u001b[31m13.1 MB/s\u001b[0m eta \u001b[36m0:00:00\u001b[0m\n",
            "\u001b[?25hRequirement already satisfied: patsy>=0.5.1 in /usr/local/lib/python3.10/dist-packages (from category-encoders>=2.4.0->pycaret) (0.5.6)\n",
            "Requirement already satisfied: threadpoolctl>=2.0.0 in /usr/local/lib/python3.10/dist-packages (from imbalanced-learn>=0.12.0->pycaret) (3.4.0)\n",
            "Requirement already satisfied: zipp>=0.5 in /usr/local/lib/python3.10/dist-packages (from importlib-metadata>=4.12.0->pycaret) (3.18.1)\n",
            "Requirement already satisfied: setuptools>=18.5 in /usr/local/lib/python3.10/dist-packages (from ipython>=5.5.0->pycaret) (67.7.2)\n",
            "Collecting jedi>=0.16 (from ipython>=5.5.0->pycaret)\n",
            "  Downloading jedi-0.19.1-py2.py3-none-any.whl (1.6 MB)\n",
            "\u001b[2K     \u001b[90m━━━━━━━━━━━━━━━━━━━━━━━━━━━━━━━━━━━━━━━━\u001b[0m \u001b[32m1.6/1.6 MB\u001b[0m \u001b[31m57.2 MB/s\u001b[0m eta \u001b[36m0:00:00\u001b[0m\n",
            "\u001b[?25hRequirement already satisfied: decorator in /usr/local/lib/python3.10/dist-packages (from ipython>=5.5.0->pycaret) (4.4.2)\n",
            "Requirement already satisfied: pickleshare in /usr/local/lib/python3.10/dist-packages (from ipython>=5.5.0->pycaret) (0.7.5)\n",
            "Requirement already satisfied: traitlets>=4.2 in /usr/local/lib/python3.10/dist-packages (from ipython>=5.5.0->pycaret) (5.7.1)\n",
            "Requirement already satisfied: prompt-toolkit!=3.0.0,!=3.0.1,<3.1.0,>=2.0.0 in /usr/local/lib/python3.10/dist-packages (from ipython>=5.5.0->pycaret) (3.0.43)\n",
            "Requirement already satisfied: pygments in /usr/local/lib/python3.10/dist-packages (from ipython>=5.5.0->pycaret) (2.16.1)\n",
            "Requirement already satisfied: backcall in /usr/local/lib/python3.10/dist-packages (from ipython>=5.5.0->pycaret) (0.2.0)\n",
            "Requirement already satisfied: matplotlib-inline in /usr/local/lib/python3.10/dist-packages (from ipython>=5.5.0->pycaret) (0.1.7)\n",
            "Requirement already satisfied: pexpect>4.3 in /usr/local/lib/python3.10/dist-packages (from ipython>=5.5.0->pycaret) (4.9.0)\n",
            "Requirement already satisfied: ipykernel>=4.5.1 in /usr/local/lib/python3.10/dist-packages (from ipywidgets>=7.6.5->pycaret) (5.5.6)\n",
            "Requirement already satisfied: ipython-genutils~=0.2.0 in /usr/local/lib/python3.10/dist-packages (from ipywidgets>=7.6.5->pycaret) (0.2.0)\n",
            "Requirement already satisfied: widgetsnbextension~=3.6.0 in /usr/local/lib/python3.10/dist-packages (from ipywidgets>=7.6.5->pycaret) (3.6.6)\n",
            "Requirement already satisfied: jupyterlab-widgets>=1.0.0 in /usr/local/lib/python3.10/dist-packages (from ipywidgets>=7.6.5->pycaret) (3.0.10)\n",
            "Requirement already satisfied: contourpy>=1.0.1 in /usr/local/lib/python3.10/dist-packages (from matplotlib<3.8.0->pycaret) (1.2.1)\n",
            "Requirement already satisfied: cycler>=0.10 in /usr/local/lib/python3.10/dist-packages (from matplotlib<3.8.0->pycaret) (0.12.1)\n",
            "Requirement already satisfied: fonttools>=4.22.0 in /usr/local/lib/python3.10/dist-packages (from matplotlib<3.8.0->pycaret) (4.51.0)\n",
            "Requirement already satisfied: kiwisolver>=1.0.1 in /usr/local/lib/python3.10/dist-packages (from matplotlib<3.8.0->pycaret) (1.4.5)\n",
            "Requirement already satisfied: pillow>=6.2.0 in /usr/local/lib/python3.10/dist-packages (from matplotlib<3.8.0->pycaret) (9.4.0)\n",
            "Requirement already satisfied: pyparsing>=2.3.1 in /usr/local/lib/python3.10/dist-packages (from matplotlib<3.8.0->pycaret) (3.1.2)\n",
            "Requirement already satisfied: python-dateutil>=2.7 in /usr/local/lib/python3.10/dist-packages (from matplotlib<3.8.0->pycaret) (2.8.2)\n",
            "Requirement already satisfied: fastjsonschema>=2.15 in /usr/local/lib/python3.10/dist-packages (from nbformat>=4.2.0->pycaret) (2.19.1)\n",
            "Requirement already satisfied: jsonschema>=2.6 in /usr/local/lib/python3.10/dist-packages (from nbformat>=4.2.0->pycaret) (4.19.2)\n",
            "Requirement already satisfied: jupyter-core!=5.0.*,>=4.12 in /usr/local/lib/python3.10/dist-packages (from nbformat>=4.2.0->pycaret) (5.7.2)\n",
            "Requirement already satisfied: llvmlite<0.42,>=0.41.0dev0 in /usr/local/lib/python3.10/dist-packages (from numba>=0.55.0->pycaret) (0.41.1)\n",
            "Requirement already satisfied: pytz>=2020.1 in /usr/local/lib/python3.10/dist-packages (from pandas<2.2.0->pycaret) (2023.4)\n",
            "Requirement already satisfied: tzdata>=2022.1 in /usr/local/lib/python3.10/dist-packages (from pandas<2.2.0->pycaret) (2024.1)\n",
            "Requirement already satisfied: tenacity>=6.2.0 in /usr/local/lib/python3.10/dist-packages (from plotly>=5.14.0->pycaret) (8.2.3)\n",
            "Collecting dash>=2.9.0 (from plotly-resampler>=0.8.3.1->pycaret)\n",
            "  Downloading dash-2.16.1-py3-none-any.whl (10.2 MB)\n",
            "\u001b[2K     \u001b[90m━━━━━━━━━━━━━━━━━━━━━━━━━━━━━━━━━━━━━━━━\u001b[0m \u001b[32m10.2/10.2 MB\u001b[0m \u001b[31m46.4 MB/s\u001b[0m eta \u001b[36m0:00:00\u001b[0m\n",
            "\u001b[?25hCollecting orjson<4.0.0,>=3.8.0 (from plotly-resampler>=0.8.3.1->pycaret)\n",
            "  Downloading orjson-3.10.1-cp310-cp310-manylinux_2_17_x86_64.manylinux2014_x86_64.whl (141 kB)\n",
            "\u001b[2K     \u001b[90m━━━━━━━━━━━━━━━━━━━━━━━━━━━━━━━━━━━━━━━━\u001b[0m \u001b[32m141.1/141.1 kB\u001b[0m \u001b[31m12.0 MB/s\u001b[0m eta \u001b[36m0:00:00\u001b[0m\n",
            "\u001b[?25hCollecting tsdownsample>=0.1.3 (from plotly-resampler>=0.8.3.1->pycaret)\n",
            "  Downloading tsdownsample-0.1.3-cp310-cp310-manylinux_2_17_x86_64.manylinux2014_x86_64.whl (2.1 MB)\n",
            "\u001b[2K     \u001b[90m━━━━━━━━━━━━━━━━━━━━━━━━━━━━━━━━━━━━━━━━\u001b[0m \u001b[32m2.1/2.1 MB\u001b[0m \u001b[31m28.4 MB/s\u001b[0m eta \u001b[36m0:00:00\u001b[0m\n",
            "\u001b[?25hRequirement already satisfied: Cython!=0.29.18,!=0.29.31,>=0.29 in /usr/local/lib/python3.10/dist-packages (from pmdarima>=2.0.4->pycaret) (3.0.10)\n",
            "Requirement already satisfied: urllib3 in /usr/local/lib/python3.10/dist-packages (from pmdarima>=2.0.4->pycaret) (2.0.7)\n",
            "Requirement already satisfied: six in /usr/local/lib/python3.10/dist-packages (from pyod>=1.1.3->pycaret) (1.16.0)\n",
            "Requirement already satisfied: charset-normalizer<4,>=2 in /usr/local/lib/python3.10/dist-packages (from requests>=2.27.1->pycaret) (3.3.2)\n",
            "Requirement already satisfied: idna<4,>=2.5 in /usr/local/lib/python3.10/dist-packages (from requests>=2.27.1->pycaret) (3.7)\n",
            "Requirement already satisfied: certifi>=2017.4.17 in /usr/local/lib/python3.10/dist-packages (from requests>=2.27.1->pycaret) (2024.2.2)\n",
            "Requirement already satisfied: Flask<3.1,>=1.0.4 in /usr/local/lib/python3.10/dist-packages (from dash>=2.9.0->plotly-resampler>=0.8.3.1->pycaret) (2.2.5)\n",
            "Requirement already satisfied: Werkzeug<3.1 in /usr/local/lib/python3.10/dist-packages (from dash>=2.9.0->plotly-resampler>=0.8.3.1->pycaret) (3.0.2)\n",
            "Collecting dash-html-components==2.0.0 (from dash>=2.9.0->plotly-resampler>=0.8.3.1->pycaret)\n",
            "  Downloading dash_html_components-2.0.0-py3-none-any.whl (4.1 kB)\n",
            "Collecting dash-core-components==2.0.0 (from dash>=2.9.0->plotly-resampler>=0.8.3.1->pycaret)\n",
            "  Downloading dash_core_components-2.0.0-py3-none-any.whl (3.8 kB)\n",
            "Collecting dash-table==5.0.0 (from dash>=2.9.0->plotly-resampler>=0.8.3.1->pycaret)\n",
            "  Downloading dash_table-5.0.0-py3-none-any.whl (3.9 kB)\n",
            "Requirement already satisfied: typing-extensions>=4.1.1 in /usr/local/lib/python3.10/dist-packages (from dash>=2.9.0->plotly-resampler>=0.8.3.1->pycaret) (4.11.0)\n",
            "Collecting retrying (from dash>=2.9.0->plotly-resampler>=0.8.3.1->pycaret)\n",
            "  Downloading retrying-1.3.4-py3-none-any.whl (11 kB)\n",
            "Requirement already satisfied: nest-asyncio in /usr/local/lib/python3.10/dist-packages (from dash>=2.9.0->plotly-resampler>=0.8.3.1->pycaret) (1.6.0)\n",
            "Requirement already satisfied: jupyter-client in /usr/local/lib/python3.10/dist-packages (from ipykernel>=4.5.1->ipywidgets>=7.6.5->pycaret) (6.1.12)\n",
            "Requirement already satisfied: tornado>=4.2 in /usr/local/lib/python3.10/dist-packages (from ipykernel>=4.5.1->ipywidgets>=7.6.5->pycaret) (6.3.3)\n",
            "Requirement already satisfied: parso<0.9.0,>=0.8.3 in /usr/local/lib/python3.10/dist-packages (from jedi>=0.16->ipython>=5.5.0->pycaret) (0.8.4)\n",
            "Requirement already satisfied: attrs>=22.2.0 in /usr/local/lib/python3.10/dist-packages (from jsonschema>=2.6->nbformat>=4.2.0->pycaret) (23.2.0)\n",
            "Requirement already satisfied: jsonschema-specifications>=2023.03.6 in /usr/local/lib/python3.10/dist-packages (from jsonschema>=2.6->nbformat>=4.2.0->pycaret) (2023.12.1)\n",
            "Requirement already satisfied: referencing>=0.28.4 in /usr/local/lib/python3.10/dist-packages (from jsonschema>=2.6->nbformat>=4.2.0->pycaret) (0.34.0)\n",
            "Requirement already satisfied: rpds-py>=0.7.1 in /usr/local/lib/python3.10/dist-packages (from jsonschema>=2.6->nbformat>=4.2.0->pycaret) (0.18.0)\n",
            "Requirement already satisfied: platformdirs>=2.5 in /usr/local/lib/python3.10/dist-packages (from jupyter-core!=5.0.*,>=4.12->nbformat>=4.2.0->pycaret) (4.2.0)\n",
            "Requirement already satisfied: ptyprocess>=0.5 in /usr/local/lib/python3.10/dist-packages (from pexpect>4.3->ipython>=5.5.0->pycaret) (0.7.0)\n",
            "Requirement already satisfied: wcwidth in /usr/local/lib/python3.10/dist-packages (from prompt-toolkit!=3.0.0,!=3.0.1,<3.1.0,>=2.0.0->ipython>=5.5.0->pycaret) (0.2.13)\n",
            "Requirement already satisfied: notebook>=4.4.1 in /usr/local/lib/python3.10/dist-packages (from widgetsnbextension~=3.6.0->ipywidgets>=7.6.5->pycaret) (6.5.5)\n",
            "Requirement already satisfied: itsdangerous>=2.0 in /usr/local/lib/python3.10/dist-packages (from Flask<3.1,>=1.0.4->dash>=2.9.0->plotly-resampler>=0.8.3.1->pycaret) (2.2.0)\n",
            "Requirement already satisfied: click>=8.0 in /usr/local/lib/python3.10/dist-packages (from Flask<3.1,>=1.0.4->dash>=2.9.0->plotly-resampler>=0.8.3.1->pycaret) (8.1.7)\n",
            "Requirement already satisfied: pyzmq<25,>=17 in /usr/local/lib/python3.10/dist-packages (from notebook>=4.4.1->widgetsnbextension~=3.6.0->ipywidgets>=7.6.5->pycaret) (23.2.1)\n",
            "Requirement already satisfied: argon2-cffi in /usr/local/lib/python3.10/dist-packages (from notebook>=4.4.1->widgetsnbextension~=3.6.0->ipywidgets>=7.6.5->pycaret) (23.1.0)\n",
            "Requirement already satisfied: nbconvert>=5 in /usr/local/lib/python3.10/dist-packages (from notebook>=4.4.1->widgetsnbextension~=3.6.0->ipywidgets>=7.6.5->pycaret) (6.5.4)\n",
            "Requirement already satisfied: Send2Trash>=1.8.0 in /usr/local/lib/python3.10/dist-packages (from notebook>=4.4.1->widgetsnbextension~=3.6.0->ipywidgets>=7.6.5->pycaret) (1.8.3)\n",
            "Requirement already satisfied: terminado>=0.8.3 in /usr/local/lib/python3.10/dist-packages (from notebook>=4.4.1->widgetsnbextension~=3.6.0->ipywidgets>=7.6.5->pycaret) (0.18.1)\n",
            "Requirement already satisfied: prometheus-client in /usr/local/lib/python3.10/dist-packages (from notebook>=4.4.1->widgetsnbextension~=3.6.0->ipywidgets>=7.6.5->pycaret) (0.20.0)\n",
            "Requirement already satisfied: nbclassic>=0.4.7 in /usr/local/lib/python3.10/dist-packages (from notebook>=4.4.1->widgetsnbextension~=3.6.0->ipywidgets>=7.6.5->pycaret) (1.0.0)\n",
            "Requirement already satisfied: jupyter-server>=1.8 in /usr/local/lib/python3.10/dist-packages (from nbclassic>=0.4.7->notebook>=4.4.1->widgetsnbextension~=3.6.0->ipywidgets>=7.6.5->pycaret) (1.24.0)\n",
            "Requirement already satisfied: notebook-shim>=0.2.3 in /usr/local/lib/python3.10/dist-packages (from nbclassic>=0.4.7->notebook>=4.4.1->widgetsnbextension~=3.6.0->ipywidgets>=7.6.5->pycaret) (0.2.4)\n",
            "Requirement already satisfied: lxml in /usr/local/lib/python3.10/dist-packages (from nbconvert>=5->notebook>=4.4.1->widgetsnbextension~=3.6.0->ipywidgets>=7.6.5->pycaret) (4.9.4)\n",
            "Requirement already satisfied: beautifulsoup4 in /usr/local/lib/python3.10/dist-packages (from nbconvert>=5->notebook>=4.4.1->widgetsnbextension~=3.6.0->ipywidgets>=7.6.5->pycaret) (4.12.3)\n",
            "Requirement already satisfied: bleach in /usr/local/lib/python3.10/dist-packages (from nbconvert>=5->notebook>=4.4.1->widgetsnbextension~=3.6.0->ipywidgets>=7.6.5->pycaret) (6.1.0)\n",
            "Requirement already satisfied: defusedxml in /usr/local/lib/python3.10/dist-packages (from nbconvert>=5->notebook>=4.4.1->widgetsnbextension~=3.6.0->ipywidgets>=7.6.5->pycaret) (0.7.1)\n",
            "Requirement already satisfied: entrypoints>=0.2.2 in /usr/local/lib/python3.10/dist-packages (from nbconvert>=5->notebook>=4.4.1->widgetsnbextension~=3.6.0->ipywidgets>=7.6.5->pycaret) (0.4)\n",
            "Requirement already satisfied: jupyterlab-pygments in /usr/local/lib/python3.10/dist-packages (from nbconvert>=5->notebook>=4.4.1->widgetsnbextension~=3.6.0->ipywidgets>=7.6.5->pycaret) (0.3.0)\n",
            "Requirement already satisfied: mistune<2,>=0.8.1 in /usr/local/lib/python3.10/dist-packages (from nbconvert>=5->notebook>=4.4.1->widgetsnbextension~=3.6.0->ipywidgets>=7.6.5->pycaret) (0.8.4)\n",
            "Requirement already satisfied: nbclient>=0.5.0 in /usr/local/lib/python3.10/dist-packages (from nbconvert>=5->notebook>=4.4.1->widgetsnbextension~=3.6.0->ipywidgets>=7.6.5->pycaret) (0.10.0)\n",
            "Requirement already satisfied: pandocfilters>=1.4.1 in /usr/local/lib/python3.10/dist-packages (from nbconvert>=5->notebook>=4.4.1->widgetsnbextension~=3.6.0->ipywidgets>=7.6.5->pycaret) (1.5.1)\n",
            "Requirement already satisfied: tinycss2 in /usr/local/lib/python3.10/dist-packages (from nbconvert>=5->notebook>=4.4.1->widgetsnbextension~=3.6.0->ipywidgets>=7.6.5->pycaret) (1.2.1)\n",
            "Requirement already satisfied: argon2-cffi-bindings in /usr/local/lib/python3.10/dist-packages (from argon2-cffi->notebook>=4.4.1->widgetsnbextension~=3.6.0->ipywidgets>=7.6.5->pycaret) (21.2.0)\n",
            "Requirement already satisfied: anyio<4,>=3.1.0 in /usr/local/lib/python3.10/dist-packages (from jupyter-server>=1.8->nbclassic>=0.4.7->notebook>=4.4.1->widgetsnbextension~=3.6.0->ipywidgets>=7.6.5->pycaret) (3.7.1)\n",
            "Requirement already satisfied: websocket-client in /usr/local/lib/python3.10/dist-packages (from jupyter-server>=1.8->nbclassic>=0.4.7->notebook>=4.4.1->widgetsnbextension~=3.6.0->ipywidgets>=7.6.5->pycaret) (1.7.0)\n",
            "Requirement already satisfied: cffi>=1.0.1 in /usr/local/lib/python3.10/dist-packages (from argon2-cffi-bindings->argon2-cffi->notebook>=4.4.1->widgetsnbextension~=3.6.0->ipywidgets>=7.6.5->pycaret) (1.16.0)\n",
            "Requirement already satisfied: soupsieve>1.2 in /usr/local/lib/python3.10/dist-packages (from beautifulsoup4->nbconvert>=5->notebook>=4.4.1->widgetsnbextension~=3.6.0->ipywidgets>=7.6.5->pycaret) (2.5)\n",
            "Requirement already satisfied: webencodings in /usr/local/lib/python3.10/dist-packages (from bleach->nbconvert>=5->notebook>=4.4.1->widgetsnbextension~=3.6.0->ipywidgets>=7.6.5->pycaret) (0.5.1)\n",
            "Requirement already satisfied: sniffio>=1.1 in /usr/local/lib/python3.10/dist-packages (from anyio<4,>=3.1.0->jupyter-server>=1.8->nbclassic>=0.4.7->notebook>=4.4.1->widgetsnbextension~=3.6.0->ipywidgets>=7.6.5->pycaret) (1.3.1)\n",
            "Requirement already satisfied: exceptiongroup in /usr/local/lib/python3.10/dist-packages (from anyio<4,>=3.1.0->jupyter-server>=1.8->nbclassic>=0.4.7->notebook>=4.4.1->widgetsnbextension~=3.6.0->ipywidgets>=7.6.5->pycaret) (1.2.1)\n",
            "Requirement already satisfied: pycparser in /usr/local/lib/python3.10/dist-packages (from cffi>=1.0.1->argon2-cffi-bindings->argon2-cffi->notebook>=4.4.1->widgetsnbextension~=3.6.0->ipywidgets>=7.6.5->pycaret) (2.22)\n",
            "Building wheels for collected packages: pyod\n",
            "  Building wheel for pyod (setup.py) ... \u001b[?25l\u001b[?25hdone\n",
            "  Created wheel for pyod: filename=pyod-1.1.3-py3-none-any.whl size=190250 sha256=8bfab1a5c73abd5d65e127d29bf308d5b13e3e73aead3c452f203a5221a41547\n",
            "  Stored in directory: /root/.cache/pip/wheels/05/f8/db/124d43bec122d6ec0ab3713fadfe25ebed8af52ec561682b4e\n",
            "Successfully built pyod\n",
            "Installing collected packages: kaleido, dash-table, dash-html-components, dash-core-components, xxhash, wurlitzer, tsdownsample, scikit-base, schemdraw, retrying, orjson, joblib, jedi, deprecation, scikit-learn, sktime, scikit-plot, pyod, imbalanced-learn, dash, pmdarima, plotly-resampler, category-encoders, tbats, pycaret\n",
            "  Attempting uninstall: joblib\n",
            "    Found existing installation: joblib 1.4.0\n",
            "    Uninstalling joblib-1.4.0:\n",
            "      Successfully uninstalled joblib-1.4.0\n",
            "  Attempting uninstall: scikit-learn\n",
            "    Found existing installation: scikit-learn 1.2.2\n",
            "    Uninstalling scikit-learn-1.2.2:\n",
            "      Successfully uninstalled scikit-learn-1.2.2\n",
            "  Attempting uninstall: imbalanced-learn\n",
            "    Found existing installation: imbalanced-learn 0.10.1\n",
            "    Uninstalling imbalanced-learn-0.10.1:\n",
            "      Successfully uninstalled imbalanced-learn-0.10.1\n",
            "Successfully installed category-encoders-2.6.3 dash-2.16.1 dash-core-components-2.0.0 dash-html-components-2.0.0 dash-table-5.0.0 deprecation-2.1.0 imbalanced-learn-0.12.2 jedi-0.19.1 joblib-1.3.2 kaleido-0.2.1 orjson-3.10.1 plotly-resampler-0.10.0 pmdarima-2.0.4 pycaret-3.3.2 pyod-1.1.3 retrying-1.3.4 schemdraw-0.15 scikit-base-0.7.7 scikit-learn-1.4.2 scikit-plot-0.3.7 sktime-0.26.0 tbats-1.1.3 tsdownsample-0.1.3 wurlitzer-3.1.0 xxhash-3.4.1\n"
          ]
        }
      ],
      "source": [
        "# paquetes necesarios\n",
        "!pip install pycaret\n",
        "\n",
        "# Librerias necearias\n",
        "from google.colab import files  # carga de datos\n",
        "import pandas as pd # manipulación de bases de datos\n",
        "import numpy as np # manipulación de bases de datos\n",
        "#import gender_guesser.detector as gender\n",
        "#import gender_guesser.detector as gender # estimación de género a partir del primer y segundo nombre"
      ]
    },
    {
      "cell_type": "code",
      "source": [
        "from google.colab import files\n",
        "import pandas as pd\n",
        "\n",
        "# Cargar el archivo CSV\n",
        "uploaded = files.upload()"
      ],
      "metadata": {
        "colab": {
          "base_uri": "https://localhost:8080/",
          "height": 73
        },
        "id": "P75zacOIEuME",
        "outputId": "cecd8803-b6e5-4bd0-d69c-3f91b0adab2c"
      },
      "execution_count": 37,
      "outputs": [
        {
          "output_type": "display_data",
          "data": {
            "text/plain": [
              "<IPython.core.display.HTML object>"
            ],
            "text/html": [
              "\n",
              "     <input type=\"file\" id=\"files-28e24a91-7f9f-4f7b-ab9c-577e827960cc\" name=\"files[]\" multiple disabled\n",
              "        style=\"border:none\" />\n",
              "     <output id=\"result-28e24a91-7f9f-4f7b-ab9c-577e827960cc\">\n",
              "      Upload widget is only available when the cell has been executed in the\n",
              "      current browser session. Please rerun this cell to enable.\n",
              "      </output>\n",
              "      <script>// Copyright 2017 Google LLC\n",
              "//\n",
              "// Licensed under the Apache License, Version 2.0 (the \"License\");\n",
              "// you may not use this file except in compliance with the License.\n",
              "// You may obtain a copy of the License at\n",
              "//\n",
              "//      http://www.apache.org/licenses/LICENSE-2.0\n",
              "//\n",
              "// Unless required by applicable law or agreed to in writing, software\n",
              "// distributed under the License is distributed on an \"AS IS\" BASIS,\n",
              "// WITHOUT WARRANTIES OR CONDITIONS OF ANY KIND, either express or implied.\n",
              "// See the License for the specific language governing permissions and\n",
              "// limitations under the License.\n",
              "\n",
              "/**\n",
              " * @fileoverview Helpers for google.colab Python module.\n",
              " */\n",
              "(function(scope) {\n",
              "function span(text, styleAttributes = {}) {\n",
              "  const element = document.createElement('span');\n",
              "  element.textContent = text;\n",
              "  for (const key of Object.keys(styleAttributes)) {\n",
              "    element.style[key] = styleAttributes[key];\n",
              "  }\n",
              "  return element;\n",
              "}\n",
              "\n",
              "// Max number of bytes which will be uploaded at a time.\n",
              "const MAX_PAYLOAD_SIZE = 100 * 1024;\n",
              "\n",
              "function _uploadFiles(inputId, outputId) {\n",
              "  const steps = uploadFilesStep(inputId, outputId);\n",
              "  const outputElement = document.getElementById(outputId);\n",
              "  // Cache steps on the outputElement to make it available for the next call\n",
              "  // to uploadFilesContinue from Python.\n",
              "  outputElement.steps = steps;\n",
              "\n",
              "  return _uploadFilesContinue(outputId);\n",
              "}\n",
              "\n",
              "// This is roughly an async generator (not supported in the browser yet),\n",
              "// where there are multiple asynchronous steps and the Python side is going\n",
              "// to poll for completion of each step.\n",
              "// This uses a Promise to block the python side on completion of each step,\n",
              "// then passes the result of the previous step as the input to the next step.\n",
              "function _uploadFilesContinue(outputId) {\n",
              "  const outputElement = document.getElementById(outputId);\n",
              "  const steps = outputElement.steps;\n",
              "\n",
              "  const next = steps.next(outputElement.lastPromiseValue);\n",
              "  return Promise.resolve(next.value.promise).then((value) => {\n",
              "    // Cache the last promise value to make it available to the next\n",
              "    // step of the generator.\n",
              "    outputElement.lastPromiseValue = value;\n",
              "    return next.value.response;\n",
              "  });\n",
              "}\n",
              "\n",
              "/**\n",
              " * Generator function which is called between each async step of the upload\n",
              " * process.\n",
              " * @param {string} inputId Element ID of the input file picker element.\n",
              " * @param {string} outputId Element ID of the output display.\n",
              " * @return {!Iterable<!Object>} Iterable of next steps.\n",
              " */\n",
              "function* uploadFilesStep(inputId, outputId) {\n",
              "  const inputElement = document.getElementById(inputId);\n",
              "  inputElement.disabled = false;\n",
              "\n",
              "  const outputElement = document.getElementById(outputId);\n",
              "  outputElement.innerHTML = '';\n",
              "\n",
              "  const pickedPromise = new Promise((resolve) => {\n",
              "    inputElement.addEventListener('change', (e) => {\n",
              "      resolve(e.target.files);\n",
              "    });\n",
              "  });\n",
              "\n",
              "  const cancel = document.createElement('button');\n",
              "  inputElement.parentElement.appendChild(cancel);\n",
              "  cancel.textContent = 'Cancel upload';\n",
              "  const cancelPromise = new Promise((resolve) => {\n",
              "    cancel.onclick = () => {\n",
              "      resolve(null);\n",
              "    };\n",
              "  });\n",
              "\n",
              "  // Wait for the user to pick the files.\n",
              "  const files = yield {\n",
              "    promise: Promise.race([pickedPromise, cancelPromise]),\n",
              "    response: {\n",
              "      action: 'starting',\n",
              "    }\n",
              "  };\n",
              "\n",
              "  cancel.remove();\n",
              "\n",
              "  // Disable the input element since further picks are not allowed.\n",
              "  inputElement.disabled = true;\n",
              "\n",
              "  if (!files) {\n",
              "    return {\n",
              "      response: {\n",
              "        action: 'complete',\n",
              "      }\n",
              "    };\n",
              "  }\n",
              "\n",
              "  for (const file of files) {\n",
              "    const li = document.createElement('li');\n",
              "    li.append(span(file.name, {fontWeight: 'bold'}));\n",
              "    li.append(span(\n",
              "        `(${file.type || 'n/a'}) - ${file.size} bytes, ` +\n",
              "        `last modified: ${\n",
              "            file.lastModifiedDate ? file.lastModifiedDate.toLocaleDateString() :\n",
              "                                    'n/a'} - `));\n",
              "    const percent = span('0% done');\n",
              "    li.appendChild(percent);\n",
              "\n",
              "    outputElement.appendChild(li);\n",
              "\n",
              "    const fileDataPromise = new Promise((resolve) => {\n",
              "      const reader = new FileReader();\n",
              "      reader.onload = (e) => {\n",
              "        resolve(e.target.result);\n",
              "      };\n",
              "      reader.readAsArrayBuffer(file);\n",
              "    });\n",
              "    // Wait for the data to be ready.\n",
              "    let fileData = yield {\n",
              "      promise: fileDataPromise,\n",
              "      response: {\n",
              "        action: 'continue',\n",
              "      }\n",
              "    };\n",
              "\n",
              "    // Use a chunked sending to avoid message size limits. See b/62115660.\n",
              "    let position = 0;\n",
              "    do {\n",
              "      const length = Math.min(fileData.byteLength - position, MAX_PAYLOAD_SIZE);\n",
              "      const chunk = new Uint8Array(fileData, position, length);\n",
              "      position += length;\n",
              "\n",
              "      const base64 = btoa(String.fromCharCode.apply(null, chunk));\n",
              "      yield {\n",
              "        response: {\n",
              "          action: 'append',\n",
              "          file: file.name,\n",
              "          data: base64,\n",
              "        },\n",
              "      };\n",
              "\n",
              "      let percentDone = fileData.byteLength === 0 ?\n",
              "          100 :\n",
              "          Math.round((position / fileData.byteLength) * 100);\n",
              "      percent.textContent = `${percentDone}% done`;\n",
              "\n",
              "    } while (position < fileData.byteLength);\n",
              "  }\n",
              "\n",
              "  // All done.\n",
              "  yield {\n",
              "    response: {\n",
              "      action: 'complete',\n",
              "    }\n",
              "  };\n",
              "}\n",
              "\n",
              "scope.google = scope.google || {};\n",
              "scope.google.colab = scope.google.colab || {};\n",
              "scope.google.colab._files = {\n",
              "  _uploadFiles,\n",
              "  _uploadFilesContinue,\n",
              "};\n",
              "})(self);\n",
              "</script> "
            ]
          },
          "metadata": {}
        },
        {
          "output_type": "stream",
          "name": "stdout",
          "text": [
            "Saving Modelo_FRAUDE_muestra.csv to Modelo_FRAUDE_muestra (1).csv\n"
          ]
        }
      ]
    },
    {
      "cell_type": "code",
      "source": [
        "# Ruta al archivo xlsx en Google Colab\n",
        "ruta_archivo = '/content/Modelo_FRAUDE_muestra.csv'  # Asegúrate de que la ruta sea correcta según la ubicación del archivo cargado\n",
        "\n",
        "# Leer el archivo xlsx usando pandas\n",
        "datos = pd.read_csv(ruta_archivo,sep='|', encoding='latin1')\n",
        "datos=pd.DataFrame(datos)"
      ],
      "metadata": {
        "id": "L9TirQPBEyEc"
      },
      "execution_count": 38,
      "outputs": []
    },
    {
      "cell_type": "code",
      "source": [
        "print(datos.shape)"
      ],
      "metadata": {
        "colab": {
          "base_uri": "https://localhost:8080/"
        },
        "id": "kCuQK-X4E4VF",
        "outputId": "8bd8824e-08ca-4d3a-966a-58565cdc50e8"
      },
      "execution_count": 39,
      "outputs": [
        {
          "output_type": "stream",
          "name": "stdout",
          "text": [
            "(58197, 37)\n"
          ]
        }
      ]
    },
    {
      "cell_type": "code",
      "source": [
        "datos_numericos = datos.select_dtypes(include=['int', 'float'])\n",
        "\n",
        "# Mostrar los tipos de datos de las columnas seleccionadas\n",
        "print(datos_numericos.dtypes)"
      ],
      "metadata": {
        "colab": {
          "base_uri": "https://localhost:8080/"
        },
        "id": "6UiZSOx3FVvu",
        "outputId": "3b65bcd0-c35e-4535-da13-d0f97a412ec1"
      },
      "execution_count": 40,
      "outputs": [
        {
          "output_type": "stream",
          "name": "stdout",
          "text": [
            "UTRNNO                  int64\n",
            "TRANS_TYPE              int64\n",
            "MSGTYPE                 int64\n",
            "Cod_Aprovacion        float64\n",
            "respuesta               int64\n",
            "POS_ENTRY_MODE          int64\n",
            "POS_CONDITION_CODE      int64\n",
            "ECI                   float64\n",
            "MCC                     int64\n",
            "bin_amount            float64\n",
            "country_number        float64\n",
            "Testeos                 int64\n",
            "Fraude                  int64\n",
            "TarjetaOfuscada         int64\n",
            "DocumentoOfuscado     float64\n",
            "dtype: object\n"
          ]
        }
      ]
    },
    {
      "cell_type": "code",
      "source": [
        "# Lista de columnas a las que deseas aplicar la operación\n",
        "columnas = ['UTRNNO', 'TRANS_TYPE','MSGTYPE', 'Cod_Aprovacion','respuesta','POS_ENTRY_MODE','POS_CONDITION_CODE','ECI', 'MCC', 'country_number','Fraude','Testeos']\n",
        "\n",
        "# Aplicar la operación a cada columna\n",
        "#datos[columnas] = datos[columnas].applymap(lambda x: '{:.0f}'.format(x).strip())\n",
        "\n",
        "for col in columnas:\n",
        "    datosf[col] = datosf[col].apply(lambda x: '{:.0f}'.format(float(x)) if isinstance(x, str) and x.replace('.', '', 1).isdigit() else x)\n",
        "    datosf[columnas] = datosf[columnas].applymap(lambda x: '{:.0f}'.format(x).strip())\n",
        "\n",
        "\n",
        "# Mostrar los primeros 5 registros para verificar que se haya aplicado correctamente\n",
        "print(datosf.head())"
      ],
      "metadata": {
        "id": "1etzkaiDFYM1"
      },
      "execution_count": null,
      "outputs": []
    },
    {
      "cell_type": "code",
      "source": [
        "columnas = ['UTRNNO', 'TRANS_TYPE','MSGTYPE', 'Cod_Aprovacion','respuesta','POS_ENTRY_MODE','POS_CONDITION_CODE','ECI', 'MCC', 'country_number', 'TarjetaOfuscada', 'DocumentoOfuscado','Fraude']\n",
        "\n",
        "datos[columnas] = datos[columnas].astype(str)\n",
        "print(datos.head())"
      ],
      "metadata": {
        "colab": {
          "base_uri": "https://localhost:8080/"
        },
        "id": "aZaMmaDlNf4P",
        "outputId": "70f6e772-16c2-456a-9b0c-06ead38ec5e1"
      },
      "execution_count": 8,
      "outputs": [
        {
          "output_type": "stream",
          "name": "stdout",
          "text": [
            "         UTRNNO                    TTIME TRANS_TYPE    amount MSGTYPE  \\\n",
            "0  144770802315  2023-12-01T00:00:45.877        680   6500,00    1120   \n",
            "1  144770802584  2023-12-01T00:01:06.663        774     20,00    1120   \n",
            "2  144770802830  2023-12-01T00:01:26.387        680     13,57    1120   \n",
            "3  144770803005  2023-12-01T00:01:38.193        680  27900,00    1120   \n",
            "4  144770803143  2023-12-01T00:01:49.383        680     17,00    1120   \n",
            "\n",
            "  Cod_Aprovacion respuesta POS_ENTRY_MODE POS_CONDITION_CODE  ECI  ...  \\\n",
            "0       305562.0        -1              1                 59  7.0  ...   \n",
            "1            nan       953             10                  1  nan  ...   \n",
            "2            nan       909              1                 59  7.0  ...   \n",
            "3            nan       953             10                  8  2.0  ...   \n",
            "4       145579.0        -1              1                 59  7.0  ...   \n",
            "\n",
            "                           ECI_description country_number            Moneda  \\\n",
            "0  Transacción de seguridad no autenticada          170.0   PESO COLOMBIANO   \n",
            "1                                      NaN          440.0  LITHUANIAN LITAS   \n",
            "2  Transacción de seguridad no autenticada          840.0         US DOLLAR   \n",
            "3                   Transacción recurrente          840.0         US DOLLAR   \n",
            "4  Transacción de seguridad no autenticada          250.0              EURO   \n",
            "\n",
            "     Ambiente2 Aprobacion_tx Testeos Fraude Naturaleza TarjetaOfuscada  \\\n",
            "0  No Presente      Aprobada       0      0    credito            8069   \n",
            "1  No Presente     Rechazada       0      0    credito           41252   \n",
            "2  No Presente     Rechazada       0      0    credito          147995   \n",
            "3  No Presente     Rechazada       0      0    credito            4745   \n",
            "4  No Presente      Aprobada       0      0     debito            3528   \n",
            "\n",
            "   DocumentoOfuscado  \n",
            "0             7583.0  \n",
            "1            34583.0  \n",
            "2                nan  \n",
            "3             4522.0  \n",
            "4             3397.0  \n",
            "\n",
            "[5 rows x 37 columns]\n"
          ]
        }
      ]
    },
    {
      "cell_type": "code",
      "source": [
        "datos_numericos = datos.select_dtypes(include=['int', 'float'])\n",
        "\n",
        "# Mostrar los tipos de datos de las columnas seleccionadas\n",
        "print(datos_numericos.dtypes)"
      ],
      "metadata": {
        "colab": {
          "base_uri": "https://localhost:8080/"
        },
        "id": "6G0p6Z55Fbcm",
        "outputId": "3803f4b5-e019-4899-af4b-0c5f54286e5a"
      },
      "execution_count": 9,
      "outputs": [
        {
          "output_type": "stream",
          "name": "stdout",
          "text": [
            "bin_amount    float64\n",
            "Testeos         int64\n",
            "dtype: object\n"
          ]
        }
      ]
    },
    {
      "cell_type": "markdown",
      "source": [
        "# ¿Cómo evitar el sobreajuste del modelo ?\n",
        "\n",
        "* Evitar el sobreajuste (overfitting) es fundamental para desarrollar modelos de aprendizaje automático que generalicen bien a datos no vistos. Aquí tienes algunas técnicas comunes para mitigar el sobreajuste:\n",
        "\n",
        "* Conjunto de datos más grande: A menudo, el sobreajuste ocurre cuando el modelo memoriza el ruido en el conjunto de datos de entrenamiento. Al tener más datos, el modelo puede aprender patrones más generales y reducir la probabilidad de memorizar el ruido.\n",
        "* Validación cruzada: Utiliza la validación cruzada para evaluar el rendimiento del modelo en datos que no se utilizaron en el entrenamiento. Esto puede ayudar a detectar si el modelo está sobreajustando al comparar el rendimiento en los datos de entrenamiento y en los datos de validación.\n",
        "* Regularización: Agrega términos de regularización a la función de pérdida durante el entrenamiento del modelo. Por ejemplo, en modelos lineales, la regularización L1 (Lasso) y L2 (Ridge) penalizan los coeficientes grandes. En modelos basados en árboles, puedes ajustar parámetros como la profundidad máxima del árbol para controlar su complejidad.\n",
        "* Selección de características: Elimina características irrelevantes o redundantes que puedan estar introduciendo ruido en el modelo. Una selección cuidadosa de características puede ayudar a reducir la complejidad del modelo y evitar el sobreajuste.\n",
        "* Cross-Validation de hiperparámetros: Realiza la búsqueda de hiperparámetros utilizando validación cruzada en lugar de simplemente dividir el conjunto de datos en entrenamiento y validación una sola vez. Esto ayuda a encontrar los hiperparámetros que producen un modelo generalizable en lugar de uno que se ajuste demasiado al conjunto de datos de entrenamiento.\n",
        "* Regularización de dropout: En modelos de redes neuronales, el dropout es una técnica que consiste en aleatoriamente \"apagar\" neuronas durante el entrenamiento para evitar que el modelo se vuelva demasiado dependiente de características específicas.\n",
        "* Aumento de datos: Genera datos adicionales a partir del conjunto de datos existente mediante técnicas como rotaciones, traslaciones, recortes, zooms, etc. Esto puede ayudar al modelo a capturar mejor la variabilidad de los datos y reducir el riesgo de sobreajuste.\n",
        "* Al implementar estas técnicas de forma apropiada, puedes ayudar a evitar el sobreajuste y desarrollar modelos más robustos y generalizables."
      ],
      "metadata": {
        "id": "Tq9ehDUmRu5X"
      }
    },
    {
      "cell_type": "code",
      "source": [
        "datos.shape"
      ],
      "metadata": {
        "colab": {
          "base_uri": "https://localhost:8080/"
        },
        "id": "J3TpsKt7-YZ8",
        "outputId": "871e8492-5f8f-4ce2-b082-a81e3e34f2da"
      },
      "execution_count": 11,
      "outputs": [
        {
          "output_type": "execute_result",
          "data": {
            "text/plain": [
              "(58197, 37)"
            ]
          },
          "metadata": {},
          "execution_count": 11
        }
      ]
    },
    {
      "cell_type": "code",
      "source": [
        "datos.columns"
      ],
      "metadata": {
        "colab": {
          "base_uri": "https://localhost:8080/"
        },
        "id": "c-0CvNoOOZjP",
        "outputId": "47baf5f7-170e-441b-8e33-8f4c2d0bd3f0"
      },
      "execution_count": 12,
      "outputs": [
        {
          "output_type": "execute_result",
          "data": {
            "text/plain": [
              "Index(['UTRNNO', 'TTIME', 'TRANS_TYPE', 'amount', 'MSGTYPE', 'Cod_Aprovacion',\n",
              "       'respuesta', 'POS_ENTRY_MODE', 'POS_CONDITION_CODE', 'ECI',\n",
              "       'AUTORIZADOR', 'Comercio', 'MCC', 'Terminal', 'Nombre_Comercio',\n",
              "       'Ciudad', 'COUNTRY_CODE', 'DATE_TIME', 'CARD_DATA_INPUT_MODE',\n",
              "       'bin_amount', 'card_data_input_mode_description',\n",
              "       'Tipo_Mensaje_description', 'Descripcion_Mcc', 'Description Ingles',\n",
              "       'TRANSACTION DESCRIPTION', 'pos_entry_mode_description',\n",
              "       'pos_condition_code_description', 'ECI_description', 'country_number',\n",
              "       'Moneda', 'Ambiente2', 'Aprobacion_tx', 'Testeos', 'Fraude',\n",
              "       'Naturaleza', 'TarjetaOfuscada', 'DocumentoOfuscado'],\n",
              "      dtype='object')"
            ]
          },
          "metadata": {},
          "execution_count": 12
        }
      ]
    },
    {
      "cell_type": "code",
      "source": [
        "# data=datosf.sample(frac=0.75,random_state=786).reset_index(drop=True) # entrenamiento\n",
        "# data_unusen =datos.drop(data.index).reset_index(drop=True) # testeo\n",
        "#data_unusen = datosf.drop(data.index).reset_index(drop=True)\n",
        "\n",
        "\n",
        "# Separar las bases de datos en conjunto de entrenamiento y conjunto de prueba\n",
        "#data = datosf.sample(frac=0.75, random_state=786).reset_index(drop=True)  # Conjunto de entrenamiento\n",
        "#data_unusen = datosf.drop(data.index).reset_index(drop=True)             # Conjunto de prueba\n",
        "\n",
        "data=datos.sample(frac=0.75,random_state=786).reset_index(drop=True) # entrenamiento\n",
        "data_unusen =datos.drop(data.index).reset_index(drop=True) # testeo\n",
        "\n",
        "\n",
        "# Verificar el tamaño de los conjuntos de entrenamiento y prueba\n",
        "print(\"Tamaño del conjunto de entrenamiento:\", data.shape)\n",
        "print(\"Tamaño del conjunto de prueba:\", data_unusen.shape)\n",
        "\n"
      ],
      "metadata": {
        "colab": {
          "base_uri": "https://localhost:8080/"
        },
        "id": "EzNvRwZVFfxc",
        "outputId": "2b0e8db9-5cb0-4a13-c8e2-e6201a6765cc"
      },
      "execution_count": 31,
      "outputs": [
        {
          "output_type": "stream",
          "name": "stdout",
          "text": [
            "Tamaño del conjunto de entrenamiento: (43648, 37)\n",
            "Tamaño del conjunto de prueba: (14549, 37)\n"
          ]
        }
      ]
    },
    {
      "cell_type": "code",
      "source": [
        "data.columns"
      ],
      "metadata": {
        "colab": {
          "base_uri": "https://localhost:8080/"
        },
        "id": "kLpWM2i2Q5Qm",
        "outputId": "466b668b-9885-4d0f-8898-5e9c2a620ff6"
      },
      "execution_count": 14,
      "outputs": [
        {
          "output_type": "execute_result",
          "data": {
            "text/plain": [
              "Index(['UTRNNO', 'TTIME', 'TRANS_TYPE', 'amount', 'MSGTYPE', 'Cod_Aprovacion',\n",
              "       'respuesta', 'POS_ENTRY_MODE', 'POS_CONDITION_CODE', 'ECI',\n",
              "       'AUTORIZADOR', 'Comercio', 'MCC', 'Terminal', 'Nombre_Comercio',\n",
              "       'Ciudad', 'COUNTRY_CODE', 'DATE_TIME', 'CARD_DATA_INPUT_MODE',\n",
              "       'bin_amount', 'card_data_input_mode_description',\n",
              "       'Tipo_Mensaje_description', 'Descripcion_Mcc', 'Description Ingles',\n",
              "       'TRANSACTION DESCRIPTION', 'pos_entry_mode_description',\n",
              "       'pos_condition_code_description', 'ECI_description', 'country_number',\n",
              "       'Moneda', 'Ambiente2', 'Aprobacion_tx', 'Testeos', 'Fraude',\n",
              "       'Naturaleza', 'TarjetaOfuscada', 'DocumentoOfuscado'],\n",
              "      dtype='object')"
            ]
          },
          "metadata": {},
          "execution_count": 14
        }
      ]
    },
    {
      "cell_type": "code",
      "source": [
        "from pycaret.classification import * # la data ya tiene una marcacion de  01\n",
        "data.reset_index(drop=True, inplace=True)  # Restablecer los índices y eliminar los índices existentes ## debido al concatenado\n",
        "#exp_clf101 = setup(data=data, target='Fraude', session_id=10001)  # Configurar el experimento de clasificación\n",
        "\n",
        "\n",
        "exp_clf101 = setup(data=data, target='Fraude', session_id=10001, fold_strategy='stratifiedkfold') # garantizar que todas las clases esten bien representadas\n"
      ],
      "metadata": {
        "id": "r95NfXX_FlNO",
        "colab": {
          "base_uri": "https://localhost:8080/",
          "height": 802
        },
        "outputId": "384098b8-58da-4f0e-aa1c-3d0921de4029"
      },
      "execution_count": 32,
      "outputs": [
        {
          "output_type": "display_data",
          "data": {
            "text/plain": [
              "<pandas.io.formats.style.Styler at 0x7ff93f20ca90>"
            ],
            "text/html": [
              "<style type=\"text/css\">\n",
              "#T_cfa66_row11_col1 {\n",
              "  background-color: lightgreen;\n",
              "}\n",
              "</style>\n",
              "<table id=\"T_cfa66\" class=\"dataframe\">\n",
              "  <thead>\n",
              "    <tr>\n",
              "      <th class=\"blank level0\" >&nbsp;</th>\n",
              "      <th id=\"T_cfa66_level0_col0\" class=\"col_heading level0 col0\" >Description</th>\n",
              "      <th id=\"T_cfa66_level0_col1\" class=\"col_heading level0 col1\" >Value</th>\n",
              "    </tr>\n",
              "  </thead>\n",
              "  <tbody>\n",
              "    <tr>\n",
              "      <th id=\"T_cfa66_level0_row0\" class=\"row_heading level0 row0\" >0</th>\n",
              "      <td id=\"T_cfa66_row0_col0\" class=\"data row0 col0\" >Session id</td>\n",
              "      <td id=\"T_cfa66_row0_col1\" class=\"data row0 col1\" >10001</td>\n",
              "    </tr>\n",
              "    <tr>\n",
              "      <th id=\"T_cfa66_level0_row1\" class=\"row_heading level0 row1\" >1</th>\n",
              "      <td id=\"T_cfa66_row1_col0\" class=\"data row1 col0\" >Target</td>\n",
              "      <td id=\"T_cfa66_row1_col1\" class=\"data row1 col1\" >Fraude</td>\n",
              "    </tr>\n",
              "    <tr>\n",
              "      <th id=\"T_cfa66_level0_row2\" class=\"row_heading level0 row2\" >2</th>\n",
              "      <td id=\"T_cfa66_row2_col0\" class=\"data row2 col0\" >Target type</td>\n",
              "      <td id=\"T_cfa66_row2_col1\" class=\"data row2 col1\" >Binary</td>\n",
              "    </tr>\n",
              "    <tr>\n",
              "      <th id=\"T_cfa66_level0_row3\" class=\"row_heading level0 row3\" >3</th>\n",
              "      <td id=\"T_cfa66_row3_col0\" class=\"data row3 col0\" >Target mapping</td>\n",
              "      <td id=\"T_cfa66_row3_col1\" class=\"data row3 col1\" >0: 0, 1: 1</td>\n",
              "    </tr>\n",
              "    <tr>\n",
              "      <th id=\"T_cfa66_level0_row4\" class=\"row_heading level0 row4\" >4</th>\n",
              "      <td id=\"T_cfa66_row4_col0\" class=\"data row4 col0\" >Original data shape</td>\n",
              "      <td id=\"T_cfa66_row4_col1\" class=\"data row4 col1\" >(43648, 37)</td>\n",
              "    </tr>\n",
              "    <tr>\n",
              "      <th id=\"T_cfa66_level0_row5\" class=\"row_heading level0 row5\" >5</th>\n",
              "      <td id=\"T_cfa66_row5_col0\" class=\"data row5 col0\" >Transformed data shape</td>\n",
              "      <td id=\"T_cfa66_row5_col1\" class=\"data row5 col1\" >(43648, 106)</td>\n",
              "    </tr>\n",
              "    <tr>\n",
              "      <th id=\"T_cfa66_level0_row6\" class=\"row_heading level0 row6\" >6</th>\n",
              "      <td id=\"T_cfa66_row6_col0\" class=\"data row6 col0\" >Transformed train set shape</td>\n",
              "      <td id=\"T_cfa66_row6_col1\" class=\"data row6 col1\" >(30553, 106)</td>\n",
              "    </tr>\n",
              "    <tr>\n",
              "      <th id=\"T_cfa66_level0_row7\" class=\"row_heading level0 row7\" >7</th>\n",
              "      <td id=\"T_cfa66_row7_col0\" class=\"data row7 col0\" >Transformed test set shape</td>\n",
              "      <td id=\"T_cfa66_row7_col1\" class=\"data row7 col1\" >(13095, 106)</td>\n",
              "    </tr>\n",
              "    <tr>\n",
              "      <th id=\"T_cfa66_level0_row8\" class=\"row_heading level0 row8\" >8</th>\n",
              "      <td id=\"T_cfa66_row8_col0\" class=\"data row8 col0\" >Numeric features</td>\n",
              "      <td id=\"T_cfa66_row8_col1\" class=\"data row8 col1\" >2</td>\n",
              "    </tr>\n",
              "    <tr>\n",
              "      <th id=\"T_cfa66_level0_row9\" class=\"row_heading level0 row9\" >9</th>\n",
              "      <td id=\"T_cfa66_row9_col0\" class=\"data row9 col0\" >Categorical features</td>\n",
              "      <td id=\"T_cfa66_row9_col1\" class=\"data row9 col1\" >34</td>\n",
              "    </tr>\n",
              "    <tr>\n",
              "      <th id=\"T_cfa66_level0_row10\" class=\"row_heading level0 row10\" >10</th>\n",
              "      <td id=\"T_cfa66_row10_col0\" class=\"data row10 col0\" >Rows with missing values</td>\n",
              "      <td id=\"T_cfa66_row10_col1\" class=\"data row10 col1\" >58.8%</td>\n",
              "    </tr>\n",
              "    <tr>\n",
              "      <th id=\"T_cfa66_level0_row11\" class=\"row_heading level0 row11\" >11</th>\n",
              "      <td id=\"T_cfa66_row11_col0\" class=\"data row11 col0\" >Preprocess</td>\n",
              "      <td id=\"T_cfa66_row11_col1\" class=\"data row11 col1\" >True</td>\n",
              "    </tr>\n",
              "    <tr>\n",
              "      <th id=\"T_cfa66_level0_row12\" class=\"row_heading level0 row12\" >12</th>\n",
              "      <td id=\"T_cfa66_row12_col0\" class=\"data row12 col0\" >Imputation type</td>\n",
              "      <td id=\"T_cfa66_row12_col1\" class=\"data row12 col1\" >simple</td>\n",
              "    </tr>\n",
              "    <tr>\n",
              "      <th id=\"T_cfa66_level0_row13\" class=\"row_heading level0 row13\" >13</th>\n",
              "      <td id=\"T_cfa66_row13_col0\" class=\"data row13 col0\" >Numeric imputation</td>\n",
              "      <td id=\"T_cfa66_row13_col1\" class=\"data row13 col1\" >mean</td>\n",
              "    </tr>\n",
              "    <tr>\n",
              "      <th id=\"T_cfa66_level0_row14\" class=\"row_heading level0 row14\" >14</th>\n",
              "      <td id=\"T_cfa66_row14_col0\" class=\"data row14 col0\" >Categorical imputation</td>\n",
              "      <td id=\"T_cfa66_row14_col1\" class=\"data row14 col1\" >mode</td>\n",
              "    </tr>\n",
              "    <tr>\n",
              "      <th id=\"T_cfa66_level0_row15\" class=\"row_heading level0 row15\" >15</th>\n",
              "      <td id=\"T_cfa66_row15_col0\" class=\"data row15 col0\" >Maximum one-hot encoding</td>\n",
              "      <td id=\"T_cfa66_row15_col1\" class=\"data row15 col1\" >25</td>\n",
              "    </tr>\n",
              "    <tr>\n",
              "      <th id=\"T_cfa66_level0_row16\" class=\"row_heading level0 row16\" >16</th>\n",
              "      <td id=\"T_cfa66_row16_col0\" class=\"data row16 col0\" >Encoding method</td>\n",
              "      <td id=\"T_cfa66_row16_col1\" class=\"data row16 col1\" >None</td>\n",
              "    </tr>\n",
              "    <tr>\n",
              "      <th id=\"T_cfa66_level0_row17\" class=\"row_heading level0 row17\" >17</th>\n",
              "      <td id=\"T_cfa66_row17_col0\" class=\"data row17 col0\" >Fold Generator</td>\n",
              "      <td id=\"T_cfa66_row17_col1\" class=\"data row17 col1\" >StratifiedKFold</td>\n",
              "    </tr>\n",
              "    <tr>\n",
              "      <th id=\"T_cfa66_level0_row18\" class=\"row_heading level0 row18\" >18</th>\n",
              "      <td id=\"T_cfa66_row18_col0\" class=\"data row18 col0\" >Fold Number</td>\n",
              "      <td id=\"T_cfa66_row18_col1\" class=\"data row18 col1\" >10</td>\n",
              "    </tr>\n",
              "    <tr>\n",
              "      <th id=\"T_cfa66_level0_row19\" class=\"row_heading level0 row19\" >19</th>\n",
              "      <td id=\"T_cfa66_row19_col0\" class=\"data row19 col0\" >CPU Jobs</td>\n",
              "      <td id=\"T_cfa66_row19_col1\" class=\"data row19 col1\" >-1</td>\n",
              "    </tr>\n",
              "    <tr>\n",
              "      <th id=\"T_cfa66_level0_row20\" class=\"row_heading level0 row20\" >20</th>\n",
              "      <td id=\"T_cfa66_row20_col0\" class=\"data row20 col0\" >Use GPU</td>\n",
              "      <td id=\"T_cfa66_row20_col1\" class=\"data row20 col1\" >False</td>\n",
              "    </tr>\n",
              "    <tr>\n",
              "      <th id=\"T_cfa66_level0_row21\" class=\"row_heading level0 row21\" >21</th>\n",
              "      <td id=\"T_cfa66_row21_col0\" class=\"data row21 col0\" >Log Experiment</td>\n",
              "      <td id=\"T_cfa66_row21_col1\" class=\"data row21 col1\" >False</td>\n",
              "    </tr>\n",
              "    <tr>\n",
              "      <th id=\"T_cfa66_level0_row22\" class=\"row_heading level0 row22\" >22</th>\n",
              "      <td id=\"T_cfa66_row22_col0\" class=\"data row22 col0\" >Experiment Name</td>\n",
              "      <td id=\"T_cfa66_row22_col1\" class=\"data row22 col1\" >clf-default-name</td>\n",
              "    </tr>\n",
              "    <tr>\n",
              "      <th id=\"T_cfa66_level0_row23\" class=\"row_heading level0 row23\" >23</th>\n",
              "      <td id=\"T_cfa66_row23_col0\" class=\"data row23 col0\" >USI</td>\n",
              "      <td id=\"T_cfa66_row23_col1\" class=\"data row23 col1\" >2c35</td>\n",
              "    </tr>\n",
              "  </tbody>\n",
              "</table>\n"
            ]
          },
          "metadata": {}
        }
      ]
    },
    {
      "cell_type": "code",
      "source": [
        "best_model=compare_models()"
      ],
      "metadata": {
        "colab": {
          "base_uri": "https://localhost:8080/",
          "height": 520,
          "referenced_widgets": [
            "c2aab06576ae486f9d70b5350b8a7f6c",
            "304b2892559b467d84beb075d27855c5",
            "4e21816cd7b74548a97fd202934fb308",
            "36fa5055de954435afb86c03146f0be2",
            "b84b66e9f3d94f85b4b447e12c326e40",
            "6710d4eb89274cdbbab9472795cbe6bf",
            "41dd09edaffe48a2a45572c76eb10217",
            "1d95fb46e6004077a0d2c3bbcbae7dc2",
            "d7472150eb454ef29a3d3fcb4a1b4ee9",
            "93566f6fa95f471497f0f02c777372d3",
            "9668bc7f4486421db57553962e63d8f9"
          ]
        },
        "id": "dYp28L3HFnIt",
        "outputId": "24097da6-63bb-4da4-c745-654f334bd164"
      },
      "execution_count": 34,
      "outputs": [
        {
          "output_type": "display_data",
          "data": {
            "text/plain": [
              "<IPython.core.display.HTML object>"
            ],
            "text/html": []
          },
          "metadata": {}
        },
        {
          "output_type": "display_data",
          "data": {
            "text/plain": [
              "<pandas.io.formats.style.Styler at 0x7ff940a142b0>"
            ],
            "text/html": [
              "<style type=\"text/css\">\n",
              "#T_8551a th {\n",
              "  text-align: left;\n",
              "}\n",
              "#T_8551a_row0_col0, #T_8551a_row1_col0, #T_8551a_row1_col1, #T_8551a_row1_col2, #T_8551a_row1_col3, #T_8551a_row1_col4, #T_8551a_row1_col5, #T_8551a_row1_col6, #T_8551a_row1_col7, #T_8551a_row2_col0, #T_8551a_row2_col1, #T_8551a_row2_col2, #T_8551a_row2_col3, #T_8551a_row2_col4, #T_8551a_row2_col5, #T_8551a_row2_col6, #T_8551a_row2_col7, #T_8551a_row3_col0, #T_8551a_row3_col1, #T_8551a_row3_col2, #T_8551a_row3_col3, #T_8551a_row3_col4, #T_8551a_row3_col5, #T_8551a_row3_col6, #T_8551a_row3_col7, #T_8551a_row4_col0, #T_8551a_row4_col1, #T_8551a_row4_col2, #T_8551a_row4_col3, #T_8551a_row4_col4, #T_8551a_row4_col5, #T_8551a_row4_col6, #T_8551a_row4_col7, #T_8551a_row5_col0, #T_8551a_row5_col1, #T_8551a_row5_col2, #T_8551a_row5_col3, #T_8551a_row5_col4, #T_8551a_row5_col5, #T_8551a_row5_col6, #T_8551a_row5_col7, #T_8551a_row6_col0, #T_8551a_row6_col1, #T_8551a_row6_col2, #T_8551a_row6_col3, #T_8551a_row6_col4, #T_8551a_row6_col5, #T_8551a_row6_col6, #T_8551a_row6_col7, #T_8551a_row7_col0, #T_8551a_row7_col1, #T_8551a_row7_col2, #T_8551a_row7_col3, #T_8551a_row7_col4, #T_8551a_row7_col5, #T_8551a_row7_col6, #T_8551a_row7_col7, #T_8551a_row8_col0, #T_8551a_row8_col1, #T_8551a_row8_col2, #T_8551a_row8_col3, #T_8551a_row8_col4, #T_8551a_row8_col5, #T_8551a_row8_col6, #T_8551a_row8_col7, #T_8551a_row9_col0, #T_8551a_row9_col1, #T_8551a_row9_col2, #T_8551a_row9_col3, #T_8551a_row9_col4, #T_8551a_row9_col5, #T_8551a_row9_col6, #T_8551a_row9_col7, #T_8551a_row10_col0, #T_8551a_row10_col1, #T_8551a_row10_col2, #T_8551a_row10_col3, #T_8551a_row10_col4, #T_8551a_row10_col5, #T_8551a_row10_col6, #T_8551a_row10_col7, #T_8551a_row11_col0, #T_8551a_row11_col1, #T_8551a_row11_col2, #T_8551a_row11_col3, #T_8551a_row11_col4, #T_8551a_row11_col5, #T_8551a_row11_col6, #T_8551a_row11_col7, #T_8551a_row12_col0, #T_8551a_row12_col1, #T_8551a_row12_col2, #T_8551a_row12_col3, #T_8551a_row12_col4, #T_8551a_row12_col5, #T_8551a_row12_col6, #T_8551a_row12_col7, #T_8551a_row13_col0, #T_8551a_row13_col1, #T_8551a_row13_col2, #T_8551a_row13_col3, #T_8551a_row13_col4, #T_8551a_row13_col5, #T_8551a_row13_col6, #T_8551a_row13_col7, #T_8551a_row14_col0, #T_8551a_row14_col1, #T_8551a_row14_col2, #T_8551a_row14_col3, #T_8551a_row14_col4, #T_8551a_row14_col5, #T_8551a_row14_col6, #T_8551a_row14_col7 {\n",
              "  text-align: left;\n",
              "}\n",
              "#T_8551a_row0_col1, #T_8551a_row0_col2, #T_8551a_row0_col3, #T_8551a_row0_col4, #T_8551a_row0_col5, #T_8551a_row0_col6, #T_8551a_row0_col7 {\n",
              "  text-align: left;\n",
              "  background-color: yellow;\n",
              "}\n",
              "#T_8551a_row0_col8, #T_8551a_row1_col8, #T_8551a_row2_col8, #T_8551a_row3_col8, #T_8551a_row5_col8, #T_8551a_row6_col8, #T_8551a_row7_col8, #T_8551a_row8_col8, #T_8551a_row9_col8, #T_8551a_row10_col8, #T_8551a_row11_col8, #T_8551a_row12_col8, #T_8551a_row13_col8, #T_8551a_row14_col8 {\n",
              "  text-align: left;\n",
              "  background-color: lightgrey;\n",
              "}\n",
              "#T_8551a_row4_col8 {\n",
              "  text-align: left;\n",
              "  background-color: yellow;\n",
              "  background-color: lightgrey;\n",
              "}\n",
              "</style>\n",
              "<table id=\"T_8551a\" class=\"dataframe\">\n",
              "  <thead>\n",
              "    <tr>\n",
              "      <th class=\"blank level0\" >&nbsp;</th>\n",
              "      <th id=\"T_8551a_level0_col0\" class=\"col_heading level0 col0\" >Model</th>\n",
              "      <th id=\"T_8551a_level0_col1\" class=\"col_heading level0 col1\" >Accuracy</th>\n",
              "      <th id=\"T_8551a_level0_col2\" class=\"col_heading level0 col2\" >AUC</th>\n",
              "      <th id=\"T_8551a_level0_col3\" class=\"col_heading level0 col3\" >Recall</th>\n",
              "      <th id=\"T_8551a_level0_col4\" class=\"col_heading level0 col4\" >Prec.</th>\n",
              "      <th id=\"T_8551a_level0_col5\" class=\"col_heading level0 col5\" >F1</th>\n",
              "      <th id=\"T_8551a_level0_col6\" class=\"col_heading level0 col6\" >Kappa</th>\n",
              "      <th id=\"T_8551a_level0_col7\" class=\"col_heading level0 col7\" >MCC</th>\n",
              "      <th id=\"T_8551a_level0_col8\" class=\"col_heading level0 col8\" >TT (Sec)</th>\n",
              "    </tr>\n",
              "  </thead>\n",
              "  <tbody>\n",
              "    <tr>\n",
              "      <th id=\"T_8551a_level0_row0\" class=\"row_heading level0 row0\" >lr</th>\n",
              "      <td id=\"T_8551a_row0_col0\" class=\"data row0 col0\" >Logistic Regression</td>\n",
              "      <td id=\"T_8551a_row0_col1\" class=\"data row0 col1\" >0.9441</td>\n",
              "      <td id=\"T_8551a_row0_col2\" class=\"data row0 col2\" >0.9617</td>\n",
              "      <td id=\"T_8551a_row0_col3\" class=\"data row0 col3\" >0.9441</td>\n",
              "      <td id=\"T_8551a_row0_col4\" class=\"data row0 col4\" >0.9451</td>\n",
              "      <td id=\"T_8551a_row0_col5\" class=\"data row0 col5\" >0.9390</td>\n",
              "      <td id=\"T_8551a_row0_col6\" class=\"data row0 col6\" >0.7314</td>\n",
              "      <td id=\"T_8551a_row0_col7\" class=\"data row0 col7\" >0.7526</td>\n",
              "      <td id=\"T_8551a_row0_col8\" class=\"data row0 col8\" >15.5400</td>\n",
              "    </tr>\n",
              "    <tr>\n",
              "      <th id=\"T_8551a_level0_row1\" class=\"row_heading level0 row1\" >knn</th>\n",
              "      <td id=\"T_8551a_row1_col0\" class=\"data row1 col0\" >K Neighbors Classifier</td>\n",
              "      <td id=\"T_8551a_row1_col1\" class=\"data row1 col1\" >0.9238</td>\n",
              "      <td id=\"T_8551a_row1_col2\" class=\"data row1 col2\" >0.8492</td>\n",
              "      <td id=\"T_8551a_row1_col3\" class=\"data row1 col3\" >0.9238</td>\n",
              "      <td id=\"T_8551a_row1_col4\" class=\"data row1 col4\" >0.9193</td>\n",
              "      <td id=\"T_8551a_row1_col5\" class=\"data row1 col5\" >0.9185</td>\n",
              "      <td id=\"T_8551a_row1_col6\" class=\"data row1 col6\" >0.6461</td>\n",
              "      <td id=\"T_8551a_row1_col7\" class=\"data row1 col7\" >0.6572</td>\n",
              "      <td id=\"T_8551a_row1_col8\" class=\"data row1 col8\" >5.4480</td>\n",
              "    </tr>\n",
              "    <tr>\n",
              "      <th id=\"T_8551a_level0_row2\" class=\"row_heading level0 row2\" >et</th>\n",
              "      <td id=\"T_8551a_row2_col0\" class=\"data row2 col0\" >Extra Trees Classifier</td>\n",
              "      <td id=\"T_8551a_row2_col1\" class=\"data row2 col1\" >0.8584</td>\n",
              "      <td id=\"T_8551a_row2_col2\" class=\"data row2 col2\" >0.8620</td>\n",
              "      <td id=\"T_8551a_row2_col3\" class=\"data row2 col3\" >0.8584</td>\n",
              "      <td id=\"T_8551a_row2_col4\" class=\"data row2 col4\" >0.7933</td>\n",
              "      <td id=\"T_8551a_row2_col5\" class=\"data row2 col5\" >0.7932</td>\n",
              "      <td id=\"T_8551a_row2_col6\" class=\"data row2 col6\" >0.0032</td>\n",
              "      <td id=\"T_8551a_row2_col7\" class=\"data row2 col7\" >0.0241</td>\n",
              "      <td id=\"T_8551a_row2_col8\" class=\"data row2 col8\" >4.6330</td>\n",
              "    </tr>\n",
              "    <tr>\n",
              "      <th id=\"T_8551a_level0_row3\" class=\"row_heading level0 row3\" >dt</th>\n",
              "      <td id=\"T_8551a_row3_col0\" class=\"data row3 col0\" >Decision Tree Classifier</td>\n",
              "      <td id=\"T_8551a_row3_col1\" class=\"data row3 col1\" >0.8582</td>\n",
              "      <td id=\"T_8551a_row3_col2\" class=\"data row3 col2\" >0.5002</td>\n",
              "      <td id=\"T_8551a_row3_col3\" class=\"data row3 col3\" >0.8582</td>\n",
              "      <td id=\"T_8551a_row3_col4\" class=\"data row3 col4\" >0.7648</td>\n",
              "      <td id=\"T_8551a_row3_col5\" class=\"data row3 col5\" >0.7927</td>\n",
              "      <td id=\"T_8551a_row3_col6\" class=\"data row3 col6\" >0.0008</td>\n",
              "      <td id=\"T_8551a_row3_col7\" class=\"data row3 col7\" >0.0089</td>\n",
              "      <td id=\"T_8551a_row3_col8\" class=\"data row3 col8\" >3.4640</td>\n",
              "    </tr>\n",
              "    <tr>\n",
              "      <th id=\"T_8551a_level0_row4\" class=\"row_heading level0 row4\" >ridge</th>\n",
              "      <td id=\"T_8551a_row4_col0\" class=\"data row4 col0\" >Ridge Classifier</td>\n",
              "      <td id=\"T_8551a_row4_col1\" class=\"data row4 col1\" >0.8582</td>\n",
              "      <td id=\"T_8551a_row4_col2\" class=\"data row4 col2\" >0.9122</td>\n",
              "      <td id=\"T_8551a_row4_col3\" class=\"data row4 col3\" >0.8582</td>\n",
              "      <td id=\"T_8551a_row4_col4\" class=\"data row4 col4\" >0.7648</td>\n",
              "      <td id=\"T_8551a_row4_col5\" class=\"data row4 col5\" >0.7927</td>\n",
              "      <td id=\"T_8551a_row4_col6\" class=\"data row4 col6\" >0.0008</td>\n",
              "      <td id=\"T_8551a_row4_col7\" class=\"data row4 col7\" >0.0089</td>\n",
              "      <td id=\"T_8551a_row4_col8\" class=\"data row4 col8\" >3.2690</td>\n",
              "    </tr>\n",
              "    <tr>\n",
              "      <th id=\"T_8551a_level0_row5\" class=\"row_heading level0 row5\" >rf</th>\n",
              "      <td id=\"T_8551a_row5_col0\" class=\"data row5 col0\" >Random Forest Classifier</td>\n",
              "      <td id=\"T_8551a_row5_col1\" class=\"data row5 col1\" >0.8582</td>\n",
              "      <td id=\"T_8551a_row5_col2\" class=\"data row5 col2\" >0.9019</td>\n",
              "      <td id=\"T_8551a_row5_col3\" class=\"data row5 col3\" >0.8582</td>\n",
              "      <td id=\"T_8551a_row5_col4\" class=\"data row5 col4\" >0.7648</td>\n",
              "      <td id=\"T_8551a_row5_col5\" class=\"data row5 col5\" >0.7927</td>\n",
              "      <td id=\"T_8551a_row5_col6\" class=\"data row5 col6\" >0.0008</td>\n",
              "      <td id=\"T_8551a_row5_col7\" class=\"data row5 col7\" >0.0089</td>\n",
              "      <td id=\"T_8551a_row5_col8\" class=\"data row5 col8\" >4.6930</td>\n",
              "    </tr>\n",
              "    <tr>\n",
              "      <th id=\"T_8551a_level0_row6\" class=\"row_heading level0 row6\" >qda</th>\n",
              "      <td id=\"T_8551a_row6_col0\" class=\"data row6 col0\" >Quadratic Discriminant Analysis</td>\n",
              "      <td id=\"T_8551a_row6_col1\" class=\"data row6 col1\" >0.8581</td>\n",
              "      <td id=\"T_8551a_row6_col2\" class=\"data row6 col2\" >0.7969</td>\n",
              "      <td id=\"T_8551a_row6_col3\" class=\"data row6 col3\" >0.8581</td>\n",
              "      <td id=\"T_8551a_row6_col4\" class=\"data row6 col4\" >0.7364</td>\n",
              "      <td id=\"T_8551a_row6_col5\" class=\"data row6 col5\" >0.7926</td>\n",
              "      <td id=\"T_8551a_row6_col6\" class=\"data row6 col6\" >-0.0001</td>\n",
              "      <td id=\"T_8551a_row6_col7\" class=\"data row6 col7\" >-0.0007</td>\n",
              "      <td id=\"T_8551a_row6_col8\" class=\"data row6 col8\" >3.7690</td>\n",
              "    </tr>\n",
              "    <tr>\n",
              "      <th id=\"T_8551a_level0_row7\" class=\"row_heading level0 row7\" >ada</th>\n",
              "      <td id=\"T_8551a_row7_col0\" class=\"data row7 col0\" >Ada Boost Classifier</td>\n",
              "      <td id=\"T_8551a_row7_col1\" class=\"data row7 col1\" >0.8581</td>\n",
              "      <td id=\"T_8551a_row7_col2\" class=\"data row7 col2\" >0.5000</td>\n",
              "      <td id=\"T_8551a_row7_col3\" class=\"data row7 col3\" >0.8581</td>\n",
              "      <td id=\"T_8551a_row7_col4\" class=\"data row7 col4\" >0.7364</td>\n",
              "      <td id=\"T_8551a_row7_col5\" class=\"data row7 col5\" >0.7926</td>\n",
              "      <td id=\"T_8551a_row7_col6\" class=\"data row7 col6\" >0.0000</td>\n",
              "      <td id=\"T_8551a_row7_col7\" class=\"data row7 col7\" >0.0000</td>\n",
              "      <td id=\"T_8551a_row7_col8\" class=\"data row7 col8\" >3.4750</td>\n",
              "    </tr>\n",
              "    <tr>\n",
              "      <th id=\"T_8551a_level0_row8\" class=\"row_heading level0 row8\" >gbc</th>\n",
              "      <td id=\"T_8551a_row8_col0\" class=\"data row8 col0\" >Gradient Boosting Classifier</td>\n",
              "      <td id=\"T_8551a_row8_col1\" class=\"data row8 col1\" >0.8581</td>\n",
              "      <td id=\"T_8551a_row8_col2\" class=\"data row8 col2\" >0.5002</td>\n",
              "      <td id=\"T_8551a_row8_col3\" class=\"data row8 col3\" >0.8581</td>\n",
              "      <td id=\"T_8551a_row8_col4\" class=\"data row8 col4\" >0.7364</td>\n",
              "      <td id=\"T_8551a_row8_col5\" class=\"data row8 col5\" >0.7926</td>\n",
              "      <td id=\"T_8551a_row8_col6\" class=\"data row8 col6\" >0.0000</td>\n",
              "      <td id=\"T_8551a_row8_col7\" class=\"data row8 col7\" >0.0000</td>\n",
              "      <td id=\"T_8551a_row8_col8\" class=\"data row8 col8\" >7.3410</td>\n",
              "    </tr>\n",
              "    <tr>\n",
              "      <th id=\"T_8551a_level0_row9\" class=\"row_heading level0 row9\" >lda</th>\n",
              "      <td id=\"T_8551a_row9_col0\" class=\"data row9 col0\" >Linear Discriminant Analysis</td>\n",
              "      <td id=\"T_8551a_row9_col1\" class=\"data row9 col1\" >0.8581</td>\n",
              "      <td id=\"T_8551a_row9_col2\" class=\"data row9 col2\" >0.5000</td>\n",
              "      <td id=\"T_8551a_row9_col3\" class=\"data row9 col3\" >0.8581</td>\n",
              "      <td id=\"T_8551a_row9_col4\" class=\"data row9 col4\" >0.7364</td>\n",
              "      <td id=\"T_8551a_row9_col5\" class=\"data row9 col5\" >0.7926</td>\n",
              "      <td id=\"T_8551a_row9_col6\" class=\"data row9 col6\" >0.0000</td>\n",
              "      <td id=\"T_8551a_row9_col7\" class=\"data row9 col7\" >0.0000</td>\n",
              "      <td id=\"T_8551a_row9_col8\" class=\"data row9 col8\" >4.0560</td>\n",
              "    </tr>\n",
              "    <tr>\n",
              "      <th id=\"T_8551a_level0_row10\" class=\"row_heading level0 row10\" >xgboost</th>\n",
              "      <td id=\"T_8551a_row10_col0\" class=\"data row10 col0\" >Extreme Gradient Boosting</td>\n",
              "      <td id=\"T_8551a_row10_col1\" class=\"data row10 col1\" >0.8581</td>\n",
              "      <td id=\"T_8551a_row10_col2\" class=\"data row10 col2\" >0.9266</td>\n",
              "      <td id=\"T_8551a_row10_col3\" class=\"data row10 col3\" >0.8581</td>\n",
              "      <td id=\"T_8551a_row10_col4\" class=\"data row10 col4\" >0.7364</td>\n",
              "      <td id=\"T_8551a_row10_col5\" class=\"data row10 col5\" >0.7926</td>\n",
              "      <td id=\"T_8551a_row10_col6\" class=\"data row10 col6\" >0.0000</td>\n",
              "      <td id=\"T_8551a_row10_col7\" class=\"data row10 col7\" >0.0000</td>\n",
              "      <td id=\"T_8551a_row10_col8\" class=\"data row10 col8\" >3.8900</td>\n",
              "    </tr>\n",
              "    <tr>\n",
              "      <th id=\"T_8551a_level0_row11\" class=\"row_heading level0 row11\" >lightgbm</th>\n",
              "      <td id=\"T_8551a_row11_col0\" class=\"data row11 col0\" >Light Gradient Boosting Machine</td>\n",
              "      <td id=\"T_8551a_row11_col1\" class=\"data row11 col1\" >0.8581</td>\n",
              "      <td id=\"T_8551a_row11_col2\" class=\"data row11 col2\" >0.8932</td>\n",
              "      <td id=\"T_8551a_row11_col3\" class=\"data row11 col3\" >0.8581</td>\n",
              "      <td id=\"T_8551a_row11_col4\" class=\"data row11 col4\" >0.7364</td>\n",
              "      <td id=\"T_8551a_row11_col5\" class=\"data row11 col5\" >0.7926</td>\n",
              "      <td id=\"T_8551a_row11_col6\" class=\"data row11 col6\" >0.0000</td>\n",
              "      <td id=\"T_8551a_row11_col7\" class=\"data row11 col7\" >0.0000</td>\n",
              "      <td id=\"T_8551a_row11_col8\" class=\"data row11 col8\" >4.5530</td>\n",
              "    </tr>\n",
              "    <tr>\n",
              "      <th id=\"T_8551a_level0_row12\" class=\"row_heading level0 row12\" >dummy</th>\n",
              "      <td id=\"T_8551a_row12_col0\" class=\"data row12 col0\" >Dummy Classifier</td>\n",
              "      <td id=\"T_8551a_row12_col1\" class=\"data row12 col1\" >0.8581</td>\n",
              "      <td id=\"T_8551a_row12_col2\" class=\"data row12 col2\" >0.5000</td>\n",
              "      <td id=\"T_8551a_row12_col3\" class=\"data row12 col3\" >0.8581</td>\n",
              "      <td id=\"T_8551a_row12_col4\" class=\"data row12 col4\" >0.7364</td>\n",
              "      <td id=\"T_8551a_row12_col5\" class=\"data row12 col5\" >0.7926</td>\n",
              "      <td id=\"T_8551a_row12_col6\" class=\"data row12 col6\" >0.0000</td>\n",
              "      <td id=\"T_8551a_row12_col7\" class=\"data row12 col7\" >0.0000</td>\n",
              "      <td id=\"T_8551a_row12_col8\" class=\"data row12 col8\" >3.3250</td>\n",
              "    </tr>\n",
              "    <tr>\n",
              "      <th id=\"T_8551a_level0_row13\" class=\"row_heading level0 row13\" >nb</th>\n",
              "      <td id=\"T_8551a_row13_col0\" class=\"data row13 col0\" >Naive Bayes</td>\n",
              "      <td id=\"T_8551a_row13_col1\" class=\"data row13 col1\" >0.8535</td>\n",
              "      <td id=\"T_8551a_row13_col2\" class=\"data row13 col2\" >0.8214</td>\n",
              "      <td id=\"T_8551a_row13_col3\" class=\"data row13 col3\" >0.8535</td>\n",
              "      <td id=\"T_8551a_row13_col4\" class=\"data row13 col4\" >0.7978</td>\n",
              "      <td id=\"T_8551a_row13_col5\" class=\"data row13 col5\" >0.8049</td>\n",
              "      <td id=\"T_8551a_row13_col6\" class=\"data row13 col6\" >0.0718</td>\n",
              "      <td id=\"T_8551a_row13_col7\" class=\"data row13 col7\" >0.1101</td>\n",
              "      <td id=\"T_8551a_row13_col8\" class=\"data row13 col8\" >3.3840</td>\n",
              "    </tr>\n",
              "    <tr>\n",
              "      <th id=\"T_8551a_level0_row14\" class=\"row_heading level0 row14\" >svm</th>\n",
              "      <td id=\"T_8551a_row14_col0\" class=\"data row14 col0\" >SVM - Linear Kernel</td>\n",
              "      <td id=\"T_8551a_row14_col1\" class=\"data row14 col1\" >0.6207</td>\n",
              "      <td id=\"T_8551a_row14_col2\" class=\"data row14 col2\" >0.5316</td>\n",
              "      <td id=\"T_8551a_row14_col3\" class=\"data row14 col3\" >0.6207</td>\n",
              "      <td id=\"T_8551a_row14_col4\" class=\"data row14 col4\" >0.8418</td>\n",
              "      <td id=\"T_8551a_row14_col5\" class=\"data row14 col5\" >0.6196</td>\n",
              "      <td id=\"T_8551a_row14_col6\" class=\"data row14 col6\" >0.0654</td>\n",
              "      <td id=\"T_8551a_row14_col7\" class=\"data row14 col7\" >0.1508</td>\n",
              "      <td id=\"T_8551a_row14_col8\" class=\"data row14 col8\" >4.1660</td>\n",
              "    </tr>\n",
              "  </tbody>\n",
              "</table>\n"
            ]
          },
          "metadata": {}
        },
        {
          "output_type": "display_data",
          "data": {
            "text/plain": [
              "Processing:   0%|          | 0/65 [00:00<?, ?it/s]"
            ],
            "application/vnd.jupyter.widget-view+json": {
              "version_major": 2,
              "version_minor": 0,
              "model_id": "c2aab06576ae486f9d70b5350b8a7f6c"
            }
          },
          "metadata": {
            "application/vnd.jupyter.widget-view+json": {
              "colab": {
                "custom_widget_manager": {
                  "url": "https://ssl.gstatic.com/colaboratory-static/widgets/colab-cdn-widget-manager/2b70e893a8ba7c0f/manager.min.js"
                }
              }
            }
          }
        },
        {
          "output_type": "display_data",
          "data": {
            "text/plain": [
              "<IPython.core.display.HTML object>"
            ],
            "text/html": []
          },
          "metadata": {}
        }
      ]
    },
    {
      "cell_type": "markdown",
      "source": [
        "* Accuracy: La precisión del modelo es del 94.41%. Esto indica la proporción de predicciones correctas que el modelo ha hecho en el conjunto de datos de prueba. Una precisión alta sugiere que el modelo es capaz de clasificar correctamente la mayoría de las instancias.\n",
        "* AUC (Area Under Curve): El área bajo la curva ROC (AUC) es del 96.17%. La curva ROC es una representación gráfica de la sensibilidad (Recall) frente a la especificidad. Un AUC alto sugiere que el modelo es capaz de distinguir entre las clases positivas y negativas de manera efectiva.\n",
        "Recall: El recall del modelo es del 94.41%. Esto indica la proporción de instancias positivas que el modelo ha identificado correctamente de todas las instancias positivas presentes en el conjunto de datos de prueba. Un recall alto sugiere que el modelo es capaz de identificar la mayoría de las instancias positivas.\n",
        "* Precisión: La precisión del modelo es del 94.51%. Esto indica la proporción de instancias clasificadas como positivas que realmente son positivas. Una precisión alta sugiere que el modelo hace pocas falsas alarmas al predecir instancias positivas.\n",
        "* F1-score: El F1-score del modelo es del 93.90%. El F1-score es la media armónica de la precisión y el recall. Es útil cuando hay un desequilibrio entre las clases. Un F1-score alto indica un buen equilibrio entre precisión y recall.\n",
        "* Kappa: El coeficiente kappa del modelo es de 0.7314. El coeficiente kappa mide la concordancia entre las predicciones del modelo y las etiquetas reales, teniendo en cuenta la posibilidad de que las coincidencias ocurran al azar. Un valor alto de kappa sugiere una buena concordancia entre las predicciones y las etiquetas reales.\n",
        "* MCC (Matthews correlation coefficient): El coeficiente de correlación de Matthews (MCC) del modelo es de 0.7526. Es una medida de la calidad de la clasificación binaria que tiene en cuenta los cuatro resultados posibles de la clasificación. Un valor alto de MCC indica una buena calidad de clasificación.\n",
        "En resumen, el modelo de regresión logística parece tener un buen rendimiento en términos de precisión, recall, precisión y F1-score, así como una buena capacidad de distinguir entre clases positivas y negativas según el AUC."
      ],
      "metadata": {
        "id": "MfRI2O8_b86b"
      }
    },
    {
      "cell_type": "code",
      "source": [
        "modelo = create_model('lr')"
      ],
      "metadata": {
        "id": "btBsUqc6FqEE",
        "colab": {
          "base_uri": "https://localhost:8080/",
          "height": 457,
          "referenced_widgets": [
            "9f8d8d7321ed4653b70cbd8c93634689",
            "165c611c599042bca75f98c9c84972e2",
            "8f184f8eb3594ba2bd93db70b02ecfac",
            "d19bad2409614faeb2960a38427c8e0a",
            "7b21f699e6b04188a66be3360165d6a6",
            "44ef99586c6a499f8cfb13c6a544cbdf",
            "b63eec2f52294f838542d9e969c87268",
            "e88ae2ffc00246ffbc514b2ec726c54f",
            "ed80d3f4e5b2445aa8db0af0df9eb592",
            "1ef55856c3f943838e2a1de0e16ed63a",
            "7003984afdf14b77899cc21051ac313f"
          ]
        },
        "outputId": "e2ab3530-220e-4be4-817d-cacd0f167473"
      },
      "execution_count": 35,
      "outputs": [
        {
          "output_type": "display_data",
          "data": {
            "text/plain": [
              "<IPython.core.display.HTML object>"
            ],
            "text/html": []
          },
          "metadata": {}
        },
        {
          "output_type": "display_data",
          "data": {
            "text/plain": [
              "<pandas.io.formats.style.Styler at 0x7ff94099c040>"
            ],
            "text/html": [
              "<style type=\"text/css\">\n",
              "#T_74327_row10_col0, #T_74327_row10_col1, #T_74327_row10_col2, #T_74327_row10_col3, #T_74327_row10_col4, #T_74327_row10_col5, #T_74327_row10_col6 {\n",
              "  background: yellow;\n",
              "}\n",
              "</style>\n",
              "<table id=\"T_74327\" class=\"dataframe\">\n",
              "  <thead>\n",
              "    <tr>\n",
              "      <th class=\"blank level0\" >&nbsp;</th>\n",
              "      <th id=\"T_74327_level0_col0\" class=\"col_heading level0 col0\" >Accuracy</th>\n",
              "      <th id=\"T_74327_level0_col1\" class=\"col_heading level0 col1\" >AUC</th>\n",
              "      <th id=\"T_74327_level0_col2\" class=\"col_heading level0 col2\" >Recall</th>\n",
              "      <th id=\"T_74327_level0_col3\" class=\"col_heading level0 col3\" >Prec.</th>\n",
              "      <th id=\"T_74327_level0_col4\" class=\"col_heading level0 col4\" >F1</th>\n",
              "      <th id=\"T_74327_level0_col5\" class=\"col_heading level0 col5\" >Kappa</th>\n",
              "      <th id=\"T_74327_level0_col6\" class=\"col_heading level0 col6\" >MCC</th>\n",
              "    </tr>\n",
              "    <tr>\n",
              "      <th class=\"index_name level0\" >Fold</th>\n",
              "      <th class=\"blank col0\" >&nbsp;</th>\n",
              "      <th class=\"blank col1\" >&nbsp;</th>\n",
              "      <th class=\"blank col2\" >&nbsp;</th>\n",
              "      <th class=\"blank col3\" >&nbsp;</th>\n",
              "      <th class=\"blank col4\" >&nbsp;</th>\n",
              "      <th class=\"blank col5\" >&nbsp;</th>\n",
              "      <th class=\"blank col6\" >&nbsp;</th>\n",
              "    </tr>\n",
              "  </thead>\n",
              "  <tbody>\n",
              "    <tr>\n",
              "      <th id=\"T_74327_level0_row0\" class=\"row_heading level0 row0\" >0</th>\n",
              "      <td id=\"T_74327_row0_col0\" class=\"data row0 col0\" >0.9362</td>\n",
              "      <td id=\"T_74327_row0_col1\" class=\"data row0 col1\" >0.9595</td>\n",
              "      <td id=\"T_74327_row0_col2\" class=\"data row0 col2\" >0.9362</td>\n",
              "      <td id=\"T_74327_row0_col3\" class=\"data row0 col3\" >0.9371</td>\n",
              "      <td id=\"T_74327_row0_col4\" class=\"data row0 col4\" >0.9295</td>\n",
              "      <td id=\"T_74327_row0_col5\" class=\"data row0 col5\" >0.6874</td>\n",
              "      <td id=\"T_74327_row0_col6\" class=\"data row0 col6\" >0.7141</td>\n",
              "    </tr>\n",
              "    <tr>\n",
              "      <th id=\"T_74327_level0_row1\" class=\"row_heading level0 row1\" >1</th>\n",
              "      <td id=\"T_74327_row1_col0\" class=\"data row1 col0\" >0.9418</td>\n",
              "      <td id=\"T_74327_row1_col1\" class=\"data row1 col1\" >0.9684</td>\n",
              "      <td id=\"T_74327_row1_col2\" class=\"data row1 col2\" >0.9418</td>\n",
              "      <td id=\"T_74327_row1_col3\" class=\"data row1 col3\" >0.9441</td>\n",
              "      <td id=\"T_74327_row1_col4\" class=\"data row1 col4\" >0.9357</td>\n",
              "      <td id=\"T_74327_row1_col5\" class=\"data row1 col5\" >0.7149</td>\n",
              "      <td id=\"T_74327_row1_col6\" class=\"data row1 col6\" >0.7423</td>\n",
              "    </tr>\n",
              "    <tr>\n",
              "      <th id=\"T_74327_level0_row2\" class=\"row_heading level0 row2\" >2</th>\n",
              "      <td id=\"T_74327_row2_col0\" class=\"data row2 col0\" >0.9532</td>\n",
              "      <td id=\"T_74327_row2_col1\" class=\"data row2 col1\" >0.9587</td>\n",
              "      <td id=\"T_74327_row2_col2\" class=\"data row2 col2\" >0.9532</td>\n",
              "      <td id=\"T_74327_row2_col3\" class=\"data row2 col3\" >0.9524</td>\n",
              "      <td id=\"T_74327_row2_col4\" class=\"data row2 col4\" >0.9507</td>\n",
              "      <td id=\"T_74327_row2_col5\" class=\"data row2 col5\" >0.7882</td>\n",
              "      <td id=\"T_74327_row2_col6\" class=\"data row2 col6\" >0.7965</td>\n",
              "    </tr>\n",
              "    <tr>\n",
              "      <th id=\"T_74327_level0_row3\" class=\"row_heading level0 row3\" >3</th>\n",
              "      <td id=\"T_74327_row3_col0\" class=\"data row3 col0\" >0.9388</td>\n",
              "      <td id=\"T_74327_row3_col1\" class=\"data row3 col1\" >0.9560</td>\n",
              "      <td id=\"T_74327_row3_col2\" class=\"data row3 col2\" >0.9388</td>\n",
              "      <td id=\"T_74327_row3_col3\" class=\"data row3 col3\" >0.9398</td>\n",
              "      <td id=\"T_74327_row3_col4\" class=\"data row3 col4\" >0.9326</td>\n",
              "      <td id=\"T_74327_row3_col5\" class=\"data row3 col5\" >0.7015</td>\n",
              "      <td id=\"T_74327_row3_col6\" class=\"data row3 col6\" >0.7265</td>\n",
              "    </tr>\n",
              "    <tr>\n",
              "      <th id=\"T_74327_level0_row4\" class=\"row_heading level0 row4\" >4</th>\n",
              "      <td id=\"T_74327_row4_col0\" class=\"data row4 col0\" >0.9480</td>\n",
              "      <td id=\"T_74327_row4_col1\" class=\"data row4 col1\" >0.9570</td>\n",
              "      <td id=\"T_74327_row4_col2\" class=\"data row4 col2\" >0.9480</td>\n",
              "      <td id=\"T_74327_row4_col3\" class=\"data row4 col3\" >0.9489</td>\n",
              "      <td id=\"T_74327_row4_col4\" class=\"data row4 col4\" >0.9437</td>\n",
              "      <td id=\"T_74327_row4_col5\" class=\"data row4 col5\" >0.7530</td>\n",
              "      <td id=\"T_74327_row4_col6\" class=\"data row4 col6\" >0.7712</td>\n",
              "    </tr>\n",
              "    <tr>\n",
              "      <th id=\"T_74327_level0_row5\" class=\"row_heading level0 row5\" >5</th>\n",
              "      <td id=\"T_74327_row5_col0\" class=\"data row5 col0\" >0.9480</td>\n",
              "      <td id=\"T_74327_row5_col1\" class=\"data row5 col1\" >0.9677</td>\n",
              "      <td id=\"T_74327_row5_col2\" class=\"data row5 col2\" >0.9480</td>\n",
              "      <td id=\"T_74327_row5_col3\" class=\"data row5 col3\" >0.9500</td>\n",
              "      <td id=\"T_74327_row5_col4\" class=\"data row5 col4\" >0.9432</td>\n",
              "      <td id=\"T_74327_row5_col5\" class=\"data row5 col5\" >0.7496</td>\n",
              "      <td id=\"T_74327_row5_col6\" class=\"data row5 col6\" >0.7718</td>\n",
              "    </tr>\n",
              "    <tr>\n",
              "      <th id=\"T_74327_level0_row6\" class=\"row_heading level0 row6\" >6</th>\n",
              "      <td id=\"T_74327_row6_col0\" class=\"data row6 col0\" >0.9463</td>\n",
              "      <td id=\"T_74327_row6_col1\" class=\"data row6 col1\" >0.9625</td>\n",
              "      <td id=\"T_74327_row6_col2\" class=\"data row6 col2\" >0.9463</td>\n",
              "      <td id=\"T_74327_row6_col3\" class=\"data row6 col3\" >0.9473</td>\n",
              "      <td id=\"T_74327_row6_col4\" class=\"data row6 col4\" >0.9417</td>\n",
              "      <td id=\"T_74327_row6_col5\" class=\"data row6 col5\" >0.7438</td>\n",
              "      <td id=\"T_74327_row6_col6\" class=\"data row6 col6\" >0.7633</td>\n",
              "    </tr>\n",
              "    <tr>\n",
              "      <th id=\"T_74327_level0_row7\" class=\"row_heading level0 row7\" >7</th>\n",
              "      <td id=\"T_74327_row7_col0\" class=\"data row7 col0\" >0.9421</td>\n",
              "      <td id=\"T_74327_row7_col1\" class=\"data row7 col1\" >0.9650</td>\n",
              "      <td id=\"T_74327_row7_col2\" class=\"data row7 col2\" >0.9421</td>\n",
              "      <td id=\"T_74327_row7_col3\" class=\"data row7 col3\" >0.9435</td>\n",
              "      <td id=\"T_74327_row7_col4\" class=\"data row7 col4\" >0.9364</td>\n",
              "      <td id=\"T_74327_row7_col5\" class=\"data row7 col5\" >0.7187</td>\n",
              "      <td id=\"T_74327_row7_col6\" class=\"data row7 col6\" >0.7428</td>\n",
              "    </tr>\n",
              "    <tr>\n",
              "      <th id=\"T_74327_level0_row8\" class=\"row_heading level0 row8\" >8</th>\n",
              "      <td id=\"T_74327_row8_col0\" class=\"data row8 col0\" >0.9460</td>\n",
              "      <td id=\"T_74327_row8_col1\" class=\"data row8 col1\" >0.9596</td>\n",
              "      <td id=\"T_74327_row8_col2\" class=\"data row8 col2\" >0.9460</td>\n",
              "      <td id=\"T_74327_row8_col3\" class=\"data row8 col3\" >0.9462</td>\n",
              "      <td id=\"T_74327_row8_col4\" class=\"data row8 col4\" >0.9417</td>\n",
              "      <td id=\"T_74327_row8_col5\" class=\"data row8 col5\" >0.7454</td>\n",
              "      <td id=\"T_74327_row8_col6\" class=\"data row8 col6\" >0.7621</td>\n",
              "    </tr>\n",
              "    <tr>\n",
              "      <th id=\"T_74327_level0_row9\" class=\"row_heading level0 row9\" >9</th>\n",
              "      <td id=\"T_74327_row9_col0\" class=\"data row9 col0\" >0.9404</td>\n",
              "      <td id=\"T_74327_row9_col1\" class=\"data row9 col1\" >0.9633</td>\n",
              "      <td id=\"T_74327_row9_col2\" class=\"data row9 col2\" >0.9404</td>\n",
              "      <td id=\"T_74327_row9_col3\" class=\"data row9 col3\" >0.9415</td>\n",
              "      <td id=\"T_74327_row9_col4\" class=\"data row9 col4\" >0.9346</td>\n",
              "      <td id=\"T_74327_row9_col5\" class=\"data row9 col5\" >0.7112</td>\n",
              "      <td id=\"T_74327_row9_col6\" class=\"data row9 col6\" >0.7353</td>\n",
              "    </tr>\n",
              "    <tr>\n",
              "      <th id=\"T_74327_level0_row10\" class=\"row_heading level0 row10\" >Mean</th>\n",
              "      <td id=\"T_74327_row10_col0\" class=\"data row10 col0\" >0.9441</td>\n",
              "      <td id=\"T_74327_row10_col1\" class=\"data row10 col1\" >0.9617</td>\n",
              "      <td id=\"T_74327_row10_col2\" class=\"data row10 col2\" >0.9441</td>\n",
              "      <td id=\"T_74327_row10_col3\" class=\"data row10 col3\" >0.9451</td>\n",
              "      <td id=\"T_74327_row10_col4\" class=\"data row10 col4\" >0.9390</td>\n",
              "      <td id=\"T_74327_row10_col5\" class=\"data row10 col5\" >0.7314</td>\n",
              "      <td id=\"T_74327_row10_col6\" class=\"data row10 col6\" >0.7526</td>\n",
              "    </tr>\n",
              "    <tr>\n",
              "      <th id=\"T_74327_level0_row11\" class=\"row_heading level0 row11\" >Std</th>\n",
              "      <td id=\"T_74327_row11_col0\" class=\"data row11 col0\" >0.0048</td>\n",
              "      <td id=\"T_74327_row11_col1\" class=\"data row11 col1\" >0.0041</td>\n",
              "      <td id=\"T_74327_row11_col2\" class=\"data row11 col2\" >0.0048</td>\n",
              "      <td id=\"T_74327_row11_col3\" class=\"data row11 col3\" >0.0046</td>\n",
              "      <td id=\"T_74327_row11_col4\" class=\"data row11 col4\" >0.0060</td>\n",
              "      <td id=\"T_74327_row11_col5\" class=\"data row11 col5\" >0.0284</td>\n",
              "      <td id=\"T_74327_row11_col6\" class=\"data row11 col6\" >0.0235</td>\n",
              "    </tr>\n",
              "  </tbody>\n",
              "</table>\n"
            ]
          },
          "metadata": {}
        },
        {
          "output_type": "display_data",
          "data": {
            "text/plain": [
              "Processing:   0%|          | 0/4 [00:00<?, ?it/s]"
            ],
            "application/vnd.jupyter.widget-view+json": {
              "version_major": 2,
              "version_minor": 0,
              "model_id": "9f8d8d7321ed4653b70cbd8c93634689"
            }
          },
          "metadata": {
            "application/vnd.jupyter.widget-view+json": {
              "colab": {
                "custom_widget_manager": {
                  "url": "https://ssl.gstatic.com/colaboratory-static/widgets/colab-cdn-widget-manager/2b70e893a8ba7c0f/manager.min.js"
                }
              }
            }
          }
        },
        {
          "output_type": "display_data",
          "data": {
            "text/plain": [
              "<IPython.core.display.HTML object>"
            ],
            "text/html": []
          },
          "metadata": {}
        }
      ]
    },
    {
      "cell_type": "code",
      "source": [
        "tuned_modelo = tune_model(modelo)\n"
      ],
      "metadata": {
        "id": "iV6mDTopGeve",
        "colab": {
          "base_uri": "https://localhost:8080/",
          "height": 459,
          "referenced_widgets": [
            "dd14e0c8128347b8929e0d93c1b1cc32",
            "0a738cb55be4451f86c5a4bea4abb178",
            "d6664fc9dd314c639a2f067a0a498bf3",
            "51a5f909466745c8b166e74b7f729ded",
            "91342dd9ff8f4853bf7f8b73d5cd157b",
            "525b807948d546ae811ad18953042b6d",
            "58d6113b009e4508b7a66a362c7bfa97",
            "1f1b629727704d2199ed023180f31e07",
            "ea6a2c686f9446ea8112e0778c0af5ed",
            "0af10491eb354515b4dd2beca9fd468e",
            "df9b23564b1e4b65ab51f2ed11dad6f6"
          ]
        },
        "outputId": "d052f468-5dc4-4257-f14e-9564eb7a2b5c"
      },
      "execution_count": 36,
      "outputs": [
        {
          "output_type": "display_data",
          "data": {
            "text/plain": [
              "                                                                         \n",
              "                                                                         \n",
              "Initiated  . . . . . . . . . . . . . . . . . .                   21:48:36\n",
              "Status     . . . . . . . . . . . . . . . . . .  Searching Hyperparameters\n",
              "Estimator  . . . . . . . . . . . . . . . . . .        Logistic Regression"
            ],
            "text/html": [
              "\n",
              "  <div id=\"df-b29f4375-3a24-4218-aa7d-fdf3d1339c60\" class=\"colab-df-container\">\n",
              "    <div>\n",
              "<style scoped>\n",
              "    .dataframe tbody tr th:only-of-type {\n",
              "        vertical-align: middle;\n",
              "    }\n",
              "\n",
              "    .dataframe tbody tr th {\n",
              "        vertical-align: top;\n",
              "    }\n",
              "\n",
              "    .dataframe thead th {\n",
              "        text-align: right;\n",
              "    }\n",
              "</style>\n",
              "<table border=\"1\" class=\"dataframe\">\n",
              "  <thead>\n",
              "    <tr style=\"text-align: right;\">\n",
              "      <th></th>\n",
              "      <th></th>\n",
              "      <th></th>\n",
              "    </tr>\n",
              "    <tr>\n",
              "      <th></th>\n",
              "      <th></th>\n",
              "      <th></th>\n",
              "    </tr>\n",
              "  </thead>\n",
              "  <tbody>\n",
              "    <tr>\n",
              "      <th>Initiated</th>\n",
              "      <td>. . . . . . . . . . . . . . . . . .</td>\n",
              "      <td>21:48:36</td>\n",
              "    </tr>\n",
              "    <tr>\n",
              "      <th>Status</th>\n",
              "      <td>. . . . . . . . . . . . . . . . . .</td>\n",
              "      <td>Searching Hyperparameters</td>\n",
              "    </tr>\n",
              "    <tr>\n",
              "      <th>Estimator</th>\n",
              "      <td>. . . . . . . . . . . . . . . . . .</td>\n",
              "      <td>Logistic Regression</td>\n",
              "    </tr>\n",
              "  </tbody>\n",
              "</table>\n",
              "</div>\n",
              "    <div class=\"colab-df-buttons\">\n",
              "\n",
              "  <div class=\"colab-df-container\">\n",
              "    <button class=\"colab-df-convert\" onclick=\"convertToInteractive('df-b29f4375-3a24-4218-aa7d-fdf3d1339c60')\"\n",
              "            title=\"Convert this dataframe to an interactive table.\"\n",
              "            style=\"display:none;\">\n",
              "\n",
              "  <svg xmlns=\"http://www.w3.org/2000/svg\" height=\"24px\" viewBox=\"0 -960 960 960\">\n",
              "    <path d=\"M120-120v-720h720v720H120Zm60-500h600v-160H180v160Zm220 220h160v-160H400v160Zm0 220h160v-160H400v160ZM180-400h160v-160H180v160Zm440 0h160v-160H620v160ZM180-180h160v-160H180v160Zm440 0h160v-160H620v160Z\"/>\n",
              "  </svg>\n",
              "    </button>\n",
              "\n",
              "  <style>\n",
              "    .colab-df-container {\n",
              "      display:flex;\n",
              "      gap: 12px;\n",
              "    }\n",
              "\n",
              "    .colab-df-convert {\n",
              "      background-color: #E8F0FE;\n",
              "      border: none;\n",
              "      border-radius: 50%;\n",
              "      cursor: pointer;\n",
              "      display: none;\n",
              "      fill: #1967D2;\n",
              "      height: 32px;\n",
              "      padding: 0 0 0 0;\n",
              "      width: 32px;\n",
              "    }\n",
              "\n",
              "    .colab-df-convert:hover {\n",
              "      background-color: #E2EBFA;\n",
              "      box-shadow: 0px 1px 2px rgba(60, 64, 67, 0.3), 0px 1px 3px 1px rgba(60, 64, 67, 0.15);\n",
              "      fill: #174EA6;\n",
              "    }\n",
              "\n",
              "    .colab-df-buttons div {\n",
              "      margin-bottom: 4px;\n",
              "    }\n",
              "\n",
              "    [theme=dark] .colab-df-convert {\n",
              "      background-color: #3B4455;\n",
              "      fill: #D2E3FC;\n",
              "    }\n",
              "\n",
              "    [theme=dark] .colab-df-convert:hover {\n",
              "      background-color: #434B5C;\n",
              "      box-shadow: 0px 1px 3px 1px rgba(0, 0, 0, 0.15);\n",
              "      filter: drop-shadow(0px 1px 2px rgba(0, 0, 0, 0.3));\n",
              "      fill: #FFFFFF;\n",
              "    }\n",
              "  </style>\n",
              "\n",
              "    <script>\n",
              "      const buttonEl =\n",
              "        document.querySelector('#df-b29f4375-3a24-4218-aa7d-fdf3d1339c60 button.colab-df-convert');\n",
              "      buttonEl.style.display =\n",
              "        google.colab.kernel.accessAllowed ? 'block' : 'none';\n",
              "\n",
              "      async function convertToInteractive(key) {\n",
              "        const element = document.querySelector('#df-b29f4375-3a24-4218-aa7d-fdf3d1339c60');\n",
              "        const dataTable =\n",
              "          await google.colab.kernel.invokeFunction('convertToInteractive',\n",
              "                                                    [key], {});\n",
              "        if (!dataTable) return;\n",
              "\n",
              "        const docLinkHtml = 'Like what you see? Visit the ' +\n",
              "          '<a target=\"_blank\" href=https://colab.research.google.com/notebooks/data_table.ipynb>data table notebook</a>'\n",
              "          + ' to learn more about interactive tables.';\n",
              "        element.innerHTML = '';\n",
              "        dataTable['output_type'] = 'display_data';\n",
              "        await google.colab.output.renderOutput(dataTable, element);\n",
              "        const docLink = document.createElement('div');\n",
              "        docLink.innerHTML = docLinkHtml;\n",
              "        element.appendChild(docLink);\n",
              "      }\n",
              "    </script>\n",
              "  </div>\n",
              "\n",
              "\n",
              "<div id=\"df-06d9c38b-b3ee-481e-a5f6-1b1ced7d2277\">\n",
              "  <button class=\"colab-df-quickchart\" onclick=\"quickchart('df-06d9c38b-b3ee-481e-a5f6-1b1ced7d2277')\"\n",
              "            title=\"Suggest charts\"\n",
              "            style=\"display:none;\">\n",
              "\n",
              "<svg xmlns=\"http://www.w3.org/2000/svg\" height=\"24px\"viewBox=\"0 0 24 24\"\n",
              "     width=\"24px\">\n",
              "    <g>\n",
              "        <path d=\"M19 3H5c-1.1 0-2 .9-2 2v14c0 1.1.9 2 2 2h14c1.1 0 2-.9 2-2V5c0-1.1-.9-2-2-2zM9 17H7v-7h2v7zm4 0h-2V7h2v10zm4 0h-2v-4h2v4z\"/>\n",
              "    </g>\n",
              "</svg>\n",
              "  </button>\n",
              "\n",
              "<style>\n",
              "  .colab-df-quickchart {\n",
              "      --bg-color: #E8F0FE;\n",
              "      --fill-color: #1967D2;\n",
              "      --hover-bg-color: #E2EBFA;\n",
              "      --hover-fill-color: #174EA6;\n",
              "      --disabled-fill-color: #AAA;\n",
              "      --disabled-bg-color: #DDD;\n",
              "  }\n",
              "\n",
              "  [theme=dark] .colab-df-quickchart {\n",
              "      --bg-color: #3B4455;\n",
              "      --fill-color: #D2E3FC;\n",
              "      --hover-bg-color: #434B5C;\n",
              "      --hover-fill-color: #FFFFFF;\n",
              "      --disabled-bg-color: #3B4455;\n",
              "      --disabled-fill-color: #666;\n",
              "  }\n",
              "\n",
              "  .colab-df-quickchart {\n",
              "    background-color: var(--bg-color);\n",
              "    border: none;\n",
              "    border-radius: 50%;\n",
              "    cursor: pointer;\n",
              "    display: none;\n",
              "    fill: var(--fill-color);\n",
              "    height: 32px;\n",
              "    padding: 0;\n",
              "    width: 32px;\n",
              "  }\n",
              "\n",
              "  .colab-df-quickchart:hover {\n",
              "    background-color: var(--hover-bg-color);\n",
              "    box-shadow: 0 1px 2px rgba(60, 64, 67, 0.3), 0 1px 3px 1px rgba(60, 64, 67, 0.15);\n",
              "    fill: var(--button-hover-fill-color);\n",
              "  }\n",
              "\n",
              "  .colab-df-quickchart-complete:disabled,\n",
              "  .colab-df-quickchart-complete:disabled:hover {\n",
              "    background-color: var(--disabled-bg-color);\n",
              "    fill: var(--disabled-fill-color);\n",
              "    box-shadow: none;\n",
              "  }\n",
              "\n",
              "  .colab-df-spinner {\n",
              "    border: 2px solid var(--fill-color);\n",
              "    border-color: transparent;\n",
              "    border-bottom-color: var(--fill-color);\n",
              "    animation:\n",
              "      spin 1s steps(1) infinite;\n",
              "  }\n",
              "\n",
              "  @keyframes spin {\n",
              "    0% {\n",
              "      border-color: transparent;\n",
              "      border-bottom-color: var(--fill-color);\n",
              "      border-left-color: var(--fill-color);\n",
              "    }\n",
              "    20% {\n",
              "      border-color: transparent;\n",
              "      border-left-color: var(--fill-color);\n",
              "      border-top-color: var(--fill-color);\n",
              "    }\n",
              "    30% {\n",
              "      border-color: transparent;\n",
              "      border-left-color: var(--fill-color);\n",
              "      border-top-color: var(--fill-color);\n",
              "      border-right-color: var(--fill-color);\n",
              "    }\n",
              "    40% {\n",
              "      border-color: transparent;\n",
              "      border-right-color: var(--fill-color);\n",
              "      border-top-color: var(--fill-color);\n",
              "    }\n",
              "    60% {\n",
              "      border-color: transparent;\n",
              "      border-right-color: var(--fill-color);\n",
              "    }\n",
              "    80% {\n",
              "      border-color: transparent;\n",
              "      border-right-color: var(--fill-color);\n",
              "      border-bottom-color: var(--fill-color);\n",
              "    }\n",
              "    90% {\n",
              "      border-color: transparent;\n",
              "      border-bottom-color: var(--fill-color);\n",
              "    }\n",
              "  }\n",
              "</style>\n",
              "\n",
              "  <script>\n",
              "    async function quickchart(key) {\n",
              "      const quickchartButtonEl =\n",
              "        document.querySelector('#' + key + ' button');\n",
              "      quickchartButtonEl.disabled = true;  // To prevent multiple clicks.\n",
              "      quickchartButtonEl.classList.add('colab-df-spinner');\n",
              "      try {\n",
              "        const charts = await google.colab.kernel.invokeFunction(\n",
              "            'suggestCharts', [key], {});\n",
              "      } catch (error) {\n",
              "        console.error('Error during call to suggestCharts:', error);\n",
              "      }\n",
              "      quickchartButtonEl.classList.remove('colab-df-spinner');\n",
              "      quickchartButtonEl.classList.add('colab-df-quickchart-complete');\n",
              "    }\n",
              "    (() => {\n",
              "      let quickchartButtonEl =\n",
              "        document.querySelector('#df-06d9c38b-b3ee-481e-a5f6-1b1ced7d2277 button');\n",
              "      quickchartButtonEl.style.display =\n",
              "        google.colab.kernel.accessAllowed ? 'block' : 'none';\n",
              "    })();\n",
              "  </script>\n",
              "</div>\n",
              "    </div>\n",
              "  </div>\n"
            ],
            "application/vnd.google.colaboratory.intrinsic+json": {
              "type": "dataframe",
              "summary": "{\n  \"name\": \"tuned_modelo = tune_model(modelo)\",\n  \"rows\": 3,\n  \"fields\": [\n    {\n      \"column\": \" \",\n      \"properties\": {\n        \"dtype\": \"category\",\n        \"num_unique_values\": 1,\n        \"samples\": [\n          \". . . . . . . . . . . . . . . . . .\"\n        ],\n        \"semantic_type\": \"\",\n        \"description\": \"\"\n      }\n    },\n    {\n      \"column\": \"  \",\n      \"properties\": {\n        \"dtype\": \"string\",\n        \"num_unique_values\": 3,\n        \"samples\": [\n          \"21:48:36\"\n        ],\n        \"semantic_type\": \"\",\n        \"description\": \"\"\n      }\n    }\n  ]\n}"
            }
          },
          "metadata": {}
        },
        {
          "output_type": "display_data",
          "data": {
            "text/plain": [
              "<IPython.core.display.HTML object>"
            ],
            "text/html": []
          },
          "metadata": {}
        },
        {
          "output_type": "display_data",
          "data": {
            "text/plain": [
              "Processing:   0%|          | 0/7 [00:00<?, ?it/s]"
            ],
            "application/vnd.jupyter.widget-view+json": {
              "version_major": 2,
              "version_minor": 0,
              "model_id": "dd14e0c8128347b8929e0d93c1b1cc32"
            }
          },
          "metadata": {
            "application/vnd.jupyter.widget-view+json": {
              "colab": {
                "custom_widget_manager": {
                  "url": "https://ssl.gstatic.com/colaboratory-static/widgets/colab-cdn-widget-manager/2b70e893a8ba7c0f/manager.min.js"
                }
              }
            }
          }
        },
        {
          "output_type": "stream",
          "name": "stdout",
          "text": [
            "Fitting 10 folds for each of 10 candidates, totalling 100 fits\n"
          ]
        },
        {
          "output_type": "error",
          "ename": "KeyboardInterrupt",
          "evalue": "",
          "traceback": [
            "\u001b[0;31m---------------------------------------------------------------------------\u001b[0m",
            "\u001b[0;31mKeyboardInterrupt\u001b[0m                         Traceback (most recent call last)",
            "\u001b[0;32m<ipython-input-36-d5eda9f6cdc9>\u001b[0m in \u001b[0;36m<cell line: 1>\u001b[0;34m()\u001b[0m\n\u001b[0;32m----> 1\u001b[0;31m \u001b[0mtuned_modelo\u001b[0m \u001b[0;34m=\u001b[0m \u001b[0mtune_model\u001b[0m\u001b[0;34m(\u001b[0m\u001b[0mmodelo\u001b[0m\u001b[0;34m)\u001b[0m\u001b[0;34m\u001b[0m\u001b[0;34m\u001b[0m\u001b[0m\n\u001b[0m",
            "\u001b[0;32m/usr/local/lib/python3.10/dist-packages/pycaret/utils/generic.py\u001b[0m in \u001b[0;36mwrapper\u001b[0;34m(*args, **kwargs)\u001b[0m\n\u001b[1;32m    962\u001b[0m                 \u001b[0;32mif\u001b[0m \u001b[0mglobals_d\u001b[0m\u001b[0;34m[\u001b[0m\u001b[0mname\u001b[0m\u001b[0;34m]\u001b[0m \u001b[0;32mis\u001b[0m \u001b[0;32mNone\u001b[0m\u001b[0;34m:\u001b[0m\u001b[0;34m\u001b[0m\u001b[0;34m\u001b[0m\u001b[0m\n\u001b[1;32m    963\u001b[0m                     \u001b[0;32mraise\u001b[0m \u001b[0mValueError\u001b[0m\u001b[0;34m(\u001b[0m\u001b[0mmessage\u001b[0m\u001b[0;34m)\u001b[0m\u001b[0;34m\u001b[0m\u001b[0;34m\u001b[0m\u001b[0m\n\u001b[0;32m--> 964\u001b[0;31m             \u001b[0;32mreturn\u001b[0m \u001b[0mfunc\u001b[0m\u001b[0;34m(\u001b[0m\u001b[0;34m*\u001b[0m\u001b[0margs\u001b[0m\u001b[0;34m,\u001b[0m \u001b[0;34m**\u001b[0m\u001b[0mkwargs\u001b[0m\u001b[0;34m)\u001b[0m\u001b[0;34m\u001b[0m\u001b[0;34m\u001b[0m\u001b[0m\n\u001b[0m\u001b[1;32m    965\u001b[0m \u001b[0;34m\u001b[0m\u001b[0m\n\u001b[1;32m    966\u001b[0m         \u001b[0;32mreturn\u001b[0m \u001b[0mwrapper\u001b[0m\u001b[0;34m\u001b[0m\u001b[0;34m\u001b[0m\u001b[0m\n",
            "\u001b[0;32m/usr/local/lib/python3.10/dist-packages/pycaret/classification/functional.py\u001b[0m in \u001b[0;36mtune_model\u001b[0;34m(estimator, fold, round, n_iter, custom_grid, optimize, custom_scorer, search_library, search_algorithm, early_stopping, early_stopping_max_iters, choose_better, fit_kwargs, groups, return_tuner, verbose, tuner_verbose, return_train_score, **kwargs)\u001b[0m\n\u001b[1;32m   1206\u001b[0m     \"\"\"\n\u001b[1;32m   1207\u001b[0m \u001b[0;34m\u001b[0m\u001b[0m\n\u001b[0;32m-> 1208\u001b[0;31m     return _CURRENT_EXPERIMENT.tune_model(\n\u001b[0m\u001b[1;32m   1209\u001b[0m         \u001b[0mestimator\u001b[0m\u001b[0;34m=\u001b[0m\u001b[0mestimator\u001b[0m\u001b[0;34m,\u001b[0m\u001b[0;34m\u001b[0m\u001b[0;34m\u001b[0m\u001b[0m\n\u001b[1;32m   1210\u001b[0m         \u001b[0mfold\u001b[0m\u001b[0;34m=\u001b[0m\u001b[0mfold\u001b[0m\u001b[0;34m,\u001b[0m\u001b[0;34m\u001b[0m\u001b[0;34m\u001b[0m\u001b[0m\n",
            "\u001b[0;32m/usr/local/lib/python3.10/dist-packages/pycaret/classification/oop.py\u001b[0m in \u001b[0;36mtune_model\u001b[0;34m(self, estimator, fold, round, n_iter, custom_grid, optimize, custom_scorer, search_library, search_algorithm, early_stopping, early_stopping_max_iters, choose_better, fit_kwargs, groups, return_tuner, verbose, tuner_verbose, return_train_score, **kwargs)\u001b[0m\n\u001b[1;32m   1556\u001b[0m         \"\"\"\n\u001b[1;32m   1557\u001b[0m \u001b[0;34m\u001b[0m\u001b[0m\n\u001b[0;32m-> 1558\u001b[0;31m         return super().tune_model(\n\u001b[0m\u001b[1;32m   1559\u001b[0m             \u001b[0mestimator\u001b[0m\u001b[0;34m=\u001b[0m\u001b[0mestimator\u001b[0m\u001b[0;34m,\u001b[0m\u001b[0;34m\u001b[0m\u001b[0;34m\u001b[0m\u001b[0m\n\u001b[1;32m   1560\u001b[0m             \u001b[0mfold\u001b[0m\u001b[0;34m=\u001b[0m\u001b[0mfold\u001b[0m\u001b[0;34m,\u001b[0m\u001b[0;34m\u001b[0m\u001b[0;34m\u001b[0m\u001b[0m\n",
            "\u001b[0;32m/usr/local/lib/python3.10/dist-packages/pycaret/internal/pycaret_experiment/supervised_experiment.py\u001b[0m in \u001b[0;36mtune_model\u001b[0;34m(self, estimator, fold, round, n_iter, custom_grid, optimize, custom_scorer, search_library, search_algorithm, early_stopping, early_stopping_max_iters, choose_better, fit_kwargs, groups, return_tuner, verbose, tuner_verbose, return_train_score, **kwargs)\u001b[0m\n\u001b[1;32m   2678\u001b[0m                         \u001b[0mpycaret\u001b[0m\u001b[0;34m.\u001b[0m\u001b[0minternal\u001b[0m\u001b[0;34m.\u001b[0m\u001b[0mpatches\u001b[0m\u001b[0;34m.\u001b[0m\u001b[0msklearn\u001b[0m\u001b[0;34m.\u001b[0m\u001b[0m_mp_ParameterGrid_getitem\u001b[0m\u001b[0;34m,\u001b[0m\u001b[0;34m\u001b[0m\u001b[0;34m\u001b[0m\u001b[0m\n\u001b[1;32m   2679\u001b[0m                     ):\n\u001b[0;32m-> 2680\u001b[0;31m                         \u001b[0mmodel_grid\u001b[0m\u001b[0;34m.\u001b[0m\u001b[0mfit\u001b[0m\u001b[0;34m(\u001b[0m\u001b[0mdata_X\u001b[0m\u001b[0;34m,\u001b[0m \u001b[0mdata_y\u001b[0m\u001b[0;34m,\u001b[0m \u001b[0mgroups\u001b[0m\u001b[0;34m=\u001b[0m\u001b[0mgroups\u001b[0m\u001b[0;34m,\u001b[0m \u001b[0;34m**\u001b[0m\u001b[0mfit_kwargs\u001b[0m\u001b[0;34m)\u001b[0m\u001b[0;34m\u001b[0m\u001b[0;34m\u001b[0m\u001b[0m\n\u001b[0m\u001b[1;32m   2681\u001b[0m             \u001b[0;32melse\u001b[0m\u001b[0;34m:\u001b[0m\u001b[0;34m\u001b[0m\u001b[0;34m\u001b[0m\u001b[0m\n\u001b[1;32m   2682\u001b[0m                 \u001b[0mmodel_grid\u001b[0m\u001b[0;34m.\u001b[0m\u001b[0mfit\u001b[0m\u001b[0;34m(\u001b[0m\u001b[0mdata_X\u001b[0m\u001b[0;34m,\u001b[0m \u001b[0mdata_y\u001b[0m\u001b[0;34m,\u001b[0m \u001b[0mgroups\u001b[0m\u001b[0;34m=\u001b[0m\u001b[0mgroups\u001b[0m\u001b[0;34m,\u001b[0m \u001b[0;34m**\u001b[0m\u001b[0mfit_kwargs\u001b[0m\u001b[0;34m)\u001b[0m\u001b[0;34m\u001b[0m\u001b[0;34m\u001b[0m\u001b[0m\n",
            "\u001b[0;32m/usr/local/lib/python3.10/dist-packages/sklearn/base.py\u001b[0m in \u001b[0;36mwrapper\u001b[0;34m(estimator, *args, **kwargs)\u001b[0m\n\u001b[1;32m   1472\u001b[0m                 )\n\u001b[1;32m   1473\u001b[0m             ):\n\u001b[0;32m-> 1474\u001b[0;31m                 \u001b[0;32mreturn\u001b[0m \u001b[0mfit_method\u001b[0m\u001b[0;34m(\u001b[0m\u001b[0mestimator\u001b[0m\u001b[0;34m,\u001b[0m \u001b[0;34m*\u001b[0m\u001b[0margs\u001b[0m\u001b[0;34m,\u001b[0m \u001b[0;34m**\u001b[0m\u001b[0mkwargs\u001b[0m\u001b[0;34m)\u001b[0m\u001b[0;34m\u001b[0m\u001b[0;34m\u001b[0m\u001b[0m\n\u001b[0m\u001b[1;32m   1475\u001b[0m \u001b[0;34m\u001b[0m\u001b[0m\n\u001b[1;32m   1476\u001b[0m         \u001b[0;32mreturn\u001b[0m \u001b[0mwrapper\u001b[0m\u001b[0;34m\u001b[0m\u001b[0;34m\u001b[0m\u001b[0m\n",
            "\u001b[0;32m/usr/local/lib/python3.10/dist-packages/sklearn/model_selection/_search.py\u001b[0m in \u001b[0;36mfit\u001b[0;34m(self, X, y, **params)\u001b[0m\n\u001b[1;32m    968\u001b[0m                 \u001b[0;32mreturn\u001b[0m \u001b[0mresults\u001b[0m\u001b[0;34m\u001b[0m\u001b[0;34m\u001b[0m\u001b[0m\n\u001b[1;32m    969\u001b[0m \u001b[0;34m\u001b[0m\u001b[0m\n\u001b[0;32m--> 970\u001b[0;31m             \u001b[0mself\u001b[0m\u001b[0;34m.\u001b[0m\u001b[0m_run_search\u001b[0m\u001b[0;34m(\u001b[0m\u001b[0mevaluate_candidates\u001b[0m\u001b[0;34m)\u001b[0m\u001b[0;34m\u001b[0m\u001b[0;34m\u001b[0m\u001b[0m\n\u001b[0m\u001b[1;32m    971\u001b[0m \u001b[0;34m\u001b[0m\u001b[0m\n\u001b[1;32m    972\u001b[0m             \u001b[0;31m# multimetric is determined here because in the case of a callable\u001b[0m\u001b[0;34m\u001b[0m\u001b[0;34m\u001b[0m\u001b[0m\n",
            "\u001b[0;32m/usr/local/lib/python3.10/dist-packages/sklearn/model_selection/_search.py\u001b[0m in \u001b[0;36m_run_search\u001b[0;34m(self, evaluate_candidates)\u001b[0m\n\u001b[1;32m   1912\u001b[0m     \u001b[0;32mdef\u001b[0m \u001b[0m_run_search\u001b[0m\u001b[0;34m(\u001b[0m\u001b[0mself\u001b[0m\u001b[0;34m,\u001b[0m \u001b[0mevaluate_candidates\u001b[0m\u001b[0;34m)\u001b[0m\u001b[0;34m:\u001b[0m\u001b[0;34m\u001b[0m\u001b[0;34m\u001b[0m\u001b[0m\n\u001b[1;32m   1913\u001b[0m         \u001b[0;34m\"\"\"Search n_iter candidates from param_distributions\"\"\"\u001b[0m\u001b[0;34m\u001b[0m\u001b[0;34m\u001b[0m\u001b[0m\n\u001b[0;32m-> 1914\u001b[0;31m         evaluate_candidates(\n\u001b[0m\u001b[1;32m   1915\u001b[0m             ParameterSampler(\n\u001b[1;32m   1916\u001b[0m                 \u001b[0mself\u001b[0m\u001b[0;34m.\u001b[0m\u001b[0mparam_distributions\u001b[0m\u001b[0;34m,\u001b[0m \u001b[0mself\u001b[0m\u001b[0;34m.\u001b[0m\u001b[0mn_iter\u001b[0m\u001b[0;34m,\u001b[0m \u001b[0mrandom_state\u001b[0m\u001b[0;34m=\u001b[0m\u001b[0mself\u001b[0m\u001b[0;34m.\u001b[0m\u001b[0mrandom_state\u001b[0m\u001b[0;34m\u001b[0m\u001b[0;34m\u001b[0m\u001b[0m\n",
            "\u001b[0;32m/usr/local/lib/python3.10/dist-packages/sklearn/model_selection/_search.py\u001b[0m in \u001b[0;36mevaluate_candidates\u001b[0;34m(candidate_params, cv, more_results)\u001b[0m\n\u001b[1;32m    914\u001b[0m                     )\n\u001b[1;32m    915\u001b[0m \u001b[0;34m\u001b[0m\u001b[0m\n\u001b[0;32m--> 916\u001b[0;31m                 out = parallel(\n\u001b[0m\u001b[1;32m    917\u001b[0m                     delayed(_fit_and_score)(\n\u001b[1;32m    918\u001b[0m                         \u001b[0mclone\u001b[0m\u001b[0;34m(\u001b[0m\u001b[0mbase_estimator\u001b[0m\u001b[0;34m)\u001b[0m\u001b[0;34m,\u001b[0m\u001b[0;34m\u001b[0m\u001b[0;34m\u001b[0m\u001b[0m\n",
            "\u001b[0;32m/usr/local/lib/python3.10/dist-packages/sklearn/utils/parallel.py\u001b[0m in \u001b[0;36m__call__\u001b[0;34m(self, iterable)\u001b[0m\n\u001b[1;32m     65\u001b[0m             \u001b[0;32mfor\u001b[0m \u001b[0mdelayed_func\u001b[0m\u001b[0;34m,\u001b[0m \u001b[0margs\u001b[0m\u001b[0;34m,\u001b[0m \u001b[0mkwargs\u001b[0m \u001b[0;32min\u001b[0m \u001b[0miterable\u001b[0m\u001b[0;34m\u001b[0m\u001b[0;34m\u001b[0m\u001b[0m\n\u001b[1;32m     66\u001b[0m         )\n\u001b[0;32m---> 67\u001b[0;31m         \u001b[0;32mreturn\u001b[0m \u001b[0msuper\u001b[0m\u001b[0;34m(\u001b[0m\u001b[0;34m)\u001b[0m\u001b[0;34m.\u001b[0m\u001b[0m__call__\u001b[0m\u001b[0;34m(\u001b[0m\u001b[0miterable_with_config\u001b[0m\u001b[0;34m)\u001b[0m\u001b[0;34m\u001b[0m\u001b[0;34m\u001b[0m\u001b[0m\n\u001b[0m\u001b[1;32m     68\u001b[0m \u001b[0;34m\u001b[0m\u001b[0m\n\u001b[1;32m     69\u001b[0m \u001b[0;34m\u001b[0m\u001b[0m\n",
            "\u001b[0;32m/usr/local/lib/python3.10/dist-packages/joblib/parallel.py\u001b[0m in \u001b[0;36m__call__\u001b[0;34m(self, iterable)\u001b[0m\n\u001b[1;32m   1950\u001b[0m         \u001b[0mnext\u001b[0m\u001b[0;34m(\u001b[0m\u001b[0moutput\u001b[0m\u001b[0;34m)\u001b[0m\u001b[0;34m\u001b[0m\u001b[0;34m\u001b[0m\u001b[0m\n\u001b[1;32m   1951\u001b[0m \u001b[0;34m\u001b[0m\u001b[0m\n\u001b[0;32m-> 1952\u001b[0;31m         \u001b[0;32mreturn\u001b[0m \u001b[0moutput\u001b[0m \u001b[0;32mif\u001b[0m \u001b[0mself\u001b[0m\u001b[0;34m.\u001b[0m\u001b[0mreturn_generator\u001b[0m \u001b[0;32melse\u001b[0m \u001b[0mlist\u001b[0m\u001b[0;34m(\u001b[0m\u001b[0moutput\u001b[0m\u001b[0;34m)\u001b[0m\u001b[0;34m\u001b[0m\u001b[0;34m\u001b[0m\u001b[0m\n\u001b[0m\u001b[1;32m   1953\u001b[0m \u001b[0;34m\u001b[0m\u001b[0m\n\u001b[1;32m   1954\u001b[0m     \u001b[0;32mdef\u001b[0m \u001b[0m__repr__\u001b[0m\u001b[0;34m(\u001b[0m\u001b[0mself\u001b[0m\u001b[0;34m)\u001b[0m\u001b[0;34m:\u001b[0m\u001b[0;34m\u001b[0m\u001b[0;34m\u001b[0m\u001b[0m\n",
            "\u001b[0;32m/usr/local/lib/python3.10/dist-packages/joblib/parallel.py\u001b[0m in \u001b[0;36m_get_outputs\u001b[0;34m(self, iterator, pre_dispatch)\u001b[0m\n\u001b[1;32m   1593\u001b[0m \u001b[0;34m\u001b[0m\u001b[0m\n\u001b[1;32m   1594\u001b[0m             \u001b[0;32mwith\u001b[0m \u001b[0mself\u001b[0m\u001b[0;34m.\u001b[0m\u001b[0m_backend\u001b[0m\u001b[0;34m.\u001b[0m\u001b[0mretrieval_context\u001b[0m\u001b[0;34m(\u001b[0m\u001b[0;34m)\u001b[0m\u001b[0;34m:\u001b[0m\u001b[0;34m\u001b[0m\u001b[0;34m\u001b[0m\u001b[0m\n\u001b[0;32m-> 1595\u001b[0;31m                 \u001b[0;32myield\u001b[0m \u001b[0;32mfrom\u001b[0m \u001b[0mself\u001b[0m\u001b[0;34m.\u001b[0m\u001b[0m_retrieve\u001b[0m\u001b[0;34m(\u001b[0m\u001b[0;34m)\u001b[0m\u001b[0;34m\u001b[0m\u001b[0;34m\u001b[0m\u001b[0m\n\u001b[0m\u001b[1;32m   1596\u001b[0m \u001b[0;34m\u001b[0m\u001b[0m\n\u001b[1;32m   1597\u001b[0m         \u001b[0;32mexcept\u001b[0m \u001b[0mGeneratorExit\u001b[0m\u001b[0;34m:\u001b[0m\u001b[0;34m\u001b[0m\u001b[0;34m\u001b[0m\u001b[0m\n",
            "\u001b[0;32m/usr/local/lib/python3.10/dist-packages/joblib/parallel.py\u001b[0m in \u001b[0;36m_retrieve\u001b[0;34m(self)\u001b[0m\n\u001b[1;32m   1705\u001b[0m                 (self._jobs[0].get_status(\n\u001b[1;32m   1706\u001b[0m                     timeout=self.timeout) == TASK_PENDING)):\n\u001b[0;32m-> 1707\u001b[0;31m                 \u001b[0mtime\u001b[0m\u001b[0;34m.\u001b[0m\u001b[0msleep\u001b[0m\u001b[0;34m(\u001b[0m\u001b[0;36m0.01\u001b[0m\u001b[0;34m)\u001b[0m\u001b[0;34m\u001b[0m\u001b[0;34m\u001b[0m\u001b[0m\n\u001b[0m\u001b[1;32m   1708\u001b[0m                 \u001b[0;32mcontinue\u001b[0m\u001b[0;34m\u001b[0m\u001b[0;34m\u001b[0m\u001b[0m\n\u001b[1;32m   1709\u001b[0m \u001b[0;34m\u001b[0m\u001b[0m\n",
            "\u001b[0;31mKeyboardInterrupt\u001b[0m: "
          ]
        }
      ]
    },
    {
      "cell_type": "code",
      "source": [
        "print(tuned_modelo)"
      ],
      "metadata": {
        "id": "EzU3j8vGGhO2",
        "colab": {
          "base_uri": "https://localhost:8080/"
        },
        "outputId": "bcc4f046-ebb4-407a-de44-9e77804f0d56"
      },
      "execution_count": 19,
      "outputs": [
        {
          "output_type": "stream",
          "name": "stdout",
          "text": [
            "LogisticRegression(C=1.277, class_weight={}, dual=False, fit_intercept=True,\n",
            "                   intercept_scaling=1, l1_ratio=None, max_iter=1000,\n",
            "                   multi_class='auto', n_jobs=None, penalty='l2',\n",
            "                   random_state=10001, solver='lbfgs', tol=0.0001, verbose=0,\n",
            "                   warm_start=False)\n"
          ]
        }
      ]
    },
    {
      "cell_type": "code",
      "source": [
        "help(plot_model) # validacion visual"
      ],
      "metadata": {
        "id": "76nzADhvGjHf"
      },
      "execution_count": null,
      "outputs": []
    },
    {
      "cell_type": "code",
      "source": [
        "plot_model(tuned_modelo,plot='auc')"
      ],
      "metadata": {
        "id": "Fia8EpgWGlfO",
        "colab": {
          "base_uri": "https://localhost:8080/",
          "height": 524
        },
        "outputId": "d8d3d044-0bfe-498d-9112-54cb073ace4a"
      },
      "execution_count": 20,
      "outputs": [
        {
          "output_type": "display_data",
          "data": {
            "text/plain": [
              "<IPython.core.display.HTML object>"
            ],
            "text/html": []
          },
          "metadata": {}
        },
        {
          "output_type": "display_data",
          "data": {
            "text/plain": [
              "<Figure size 800x550 with 1 Axes>"
            ],
            "image/png": "[encoded data removed]"
          },
          "metadata": {}
        }
      ]
    },
    {
      "cell_type": "code",
      "source": [
        "# feature importance\n",
        "plot_model(tuned_modelo,plot='feature')"
      ],
      "metadata": {
        "id": "-0zvtnvWGns2",
        "colab": {
          "base_uri": "https://localhost:8080/",
          "height": 485
        },
        "outputId": "19189f57-1348-4c95-9a26-66c00ff88abd"
      },
      "execution_count": 21,
      "outputs": [
        {
          "output_type": "display_data",
          "data": {
            "text/plain": [
              "<IPython.core.display.HTML object>"
            ],
            "text/html": []
          },
          "metadata": {}
        },
        {
          "output_type": "display_data",
          "data": {
            "text/plain": [
              "<Figure size 800x500 with 1 Axes>"
            ],
            "image/png": "[encoded data removed]"
          },
          "metadata": {}
        }
      ]
    },
    {
      "cell_type": "code",
      "source": [
        "## Decision Boundary\n",
        "plot_model(tuned_modelo, plot = 'boundary')"
      ],
      "metadata": {
        "id": "YbxU1lHRGphG",
        "colab": {
          "base_uri": "https://localhost:8080/",
          "height": 503
        },
        "outputId": "8f8011dd-c795-459a-9beb-f4ed10d75efe"
      },
      "execution_count": 22,
      "outputs": [
        {
          "output_type": "display_data",
          "data": {
            "text/plain": [
              "<IPython.core.display.HTML object>"
            ],
            "text/html": []
          },
          "metadata": {}
        },
        {
          "output_type": "display_data",
          "data": {
            "text/plain": [
              "<Figure size 800x550 with 1 Axes>"
            ],
            "image/png": "[encoded data removed]"
          },
          "metadata": {}
        }
      ]
    },
    {
      "cell_type": "code",
      "source": [
        "# Precision Recall Curve\n",
        "plot_model(tuned_modelo, plot = 'pr')\n"
      ],
      "metadata": {
        "id": "N59t63KbGrUm",
        "colab": {
          "base_uri": "https://localhost:8080/",
          "height": 524
        },
        "outputId": "368b431a-6169-4f7b-ca4f-50d84db0eaf6"
      },
      "execution_count": 23,
      "outputs": [
        {
          "output_type": "display_data",
          "data": {
            "text/plain": [
              "<IPython.core.display.HTML object>"
            ],
            "text/html": []
          },
          "metadata": {}
        },
        {
          "output_type": "display_data",
          "data": {
            "text/plain": [
              "<Figure size 800x550 with 1 Axes>"
            ],
            "image/png": "[encoded data removed]"
          },
          "metadata": {}
        }
      ]
    },
    {
      "cell_type": "code",
      "source": [
        "# Validation Curve\n",
        "plot_model(tuned_modelo, plot = 'vc')\n"
      ],
      "metadata": {
        "id": "28AUogFIGtUH"
      },
      "execution_count": null,
      "outputs": []
    },
    {
      "cell_type": "code",
      "source": [
        "from pycaret.classification import *\n",
        "predicciones = predict_model(tuned_modelo,data=data_unusen)\n",
        "\n",
        "predicciones.head()"
      ],
      "metadata": {
        "id": "3-LTO6-lGvEv"
      },
      "execution_count": null,
      "outputs": []
    },
    {
      "cell_type": "code",
      "source": [
        "\n",
        "plot_model(tuned_modelo,'confusion_matrix')"
      ],
      "metadata": {
        "id": "vlOVQXaMGw0O"
      },
      "execution_count": null,
      "outputs": []
    },
    {
      "cell_type": "code",
      "source": [
        "# modelo final entrenado con todo el conjunto de datos\n",
        "\n",
        "final_modelo=finalize_model(tuned_modelo)"
      ],
      "metadata": {
        "id": "_Rwn1Q1EGzT-"
      },
      "execution_count": null,
      "outputs": []
    },
    {
      "cell_type": "code",
      "source": [
        "print(final_modelo)"
      ],
      "metadata": {
        "id": "mSWBDfxPG1F2"
      },
      "execution_count": null,
      "outputs": []
    },
    {
      "cell_type": "code",
      "source": [
        "# save_model(final_modelo,'ModeloProduccionFacturacion')\n",
        "save_model(final_modelo, model_name='C:\\\\Users\\\\josgom\\\\Desktop\\\\python\\\\Modelos\\\\ModeloProduccionFacturacion')"
      ],
      "metadata": {
        "id": "Cl7YzztFG3Zu"
      },
      "execution_count": null,
      "outputs": []
    }
  ]
}