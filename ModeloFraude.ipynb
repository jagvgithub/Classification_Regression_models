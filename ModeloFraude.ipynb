{
  "nbformat": 4,
  "nbformat_minor": 0,
  "metadata": {
    "colab": {
      "provenance": [],
      "authorship_tag": "ABX9TyMqVa3jLxN0O/YWfwUZ5TrK",
      "include_colab_link": true
    },
    "kernelspec": {
      "name": "python3",
      "display_name": "Python 3"
    },
    "language_info": {
      "name": "python"
    },
    "widgets": {
      "application/vnd.jupyter.widget-state+json": {
        "1d49fa8c2d374b698b01bedf8ac41365": {
          "model_module": "@jupyter-widgets/controls",
          "model_name": "HBoxModel",
          "model_module_version": "1.5.0",
          "state": {
            "_dom_classes": [],
            "_model_module": "@jupyter-widgets/controls",
            "_model_module_version": "1.5.0",
            "_model_name": "HBoxModel",
            "_view_count": null,
            "_view_module": "@jupyter-widgets/controls",
            "_view_module_version": "1.5.0",
            "_view_name": "HBoxView",
            "box_style": "",
            "children": [
              "IPY_MODEL_fc962d65dcb141d5856c94b2e0356e3f",
              "IPY_MODEL_5d8f27f0fb464b1cbbee05d13285b5af",
              "IPY_MODEL_4d630e6cc1a84015b6aef1ab64e6df1d"
            ],
            "layout": "IPY_MODEL_2c2df407624540ceb3c256898c8ea4f6"
          }
        },
        "fc962d65dcb141d5856c94b2e0356e3f": {
          "model_module": "@jupyter-widgets/controls",
          "model_name": "HTMLModel",
          "model_module_version": "1.5.0",
          "state": {
            "_dom_classes": [],
            "_model_module": "@jupyter-widgets/controls",
            "_model_module_version": "1.5.0",
            "_model_name": "HTMLModel",
            "_view_count": null,
            "_view_module": "@jupyter-widgets/controls",
            "_view_module_version": "1.5.0",
            "_view_name": "HTMLView",
            "description": "",
            "description_tooltip": null,
            "layout": "IPY_MODEL_cec6d265b5ea4899b537f0cbe0966115",
            "placeholder": "​",
            "style": "IPY_MODEL_8f04d03c7aea4fe2bba00dc13b246d7c",
            "value": "Processing: 100%"
          }
        },
        "5d8f27f0fb464b1cbbee05d13285b5af": {
          "model_module": "@jupyter-widgets/controls",
          "model_name": "FloatProgressModel",
          "model_module_version": "1.5.0",
          "state": {
            "_dom_classes": [],
            "_model_module": "@jupyter-widgets/controls",
            "_model_module_version": "1.5.0",
            "_model_name": "FloatProgressModel",
            "_view_count": null,
            "_view_module": "@jupyter-widgets/controls",
            "_view_module_version": "1.5.0",
            "_view_name": "ProgressView",
            "bar_style": "",
            "description": "",
            "description_tooltip": null,
            "layout": "IPY_MODEL_914762a782244a1cbc711847ca523bdd",
            "max": 65,
            "min": 0,
            "orientation": "horizontal",
            "style": "IPY_MODEL_92f4e2344cea4ed18a348a7386beae69",
            "value": 65
          }
        },
        "4d630e6cc1a84015b6aef1ab64e6df1d": {
          "model_module": "@jupyter-widgets/controls",
          "model_name": "HTMLModel",
          "model_module_version": "1.5.0",
          "state": {
            "_dom_classes": [],
            "_model_module": "@jupyter-widgets/controls",
            "_model_module_version": "1.5.0",
            "_model_name": "HTMLModel",
            "_view_count": null,
            "_view_module": "@jupyter-widgets/controls",
            "_view_module_version": "1.5.0",
            "_view_name": "HTMLView",
            "description": "",
            "description_tooltip": null,
            "layout": "IPY_MODEL_1e5e59c3e08347c09e4edd40f9833036",
            "placeholder": "​",
            "style": "IPY_MODEL_9de4fae9ddc84811a14b93554492bffa",
            "value": " 65/65 [13:00&lt;00:00,  9.13s/it]"
          }
        },
        "2c2df407624540ceb3c256898c8ea4f6": {
          "model_module": "@jupyter-widgets/base",
          "model_name": "LayoutModel",
          "model_module_version": "1.2.0",
          "state": {
            "_model_module": "@jupyter-widgets/base",
            "_model_module_version": "1.2.0",
            "_model_name": "LayoutModel",
            "_view_count": null,
            "_view_module": "@jupyter-widgets/base",
            "_view_module_version": "1.2.0",
            "_view_name": "LayoutView",
            "align_content": null,
            "align_items": null,
            "align_self": null,
            "border": null,
            "bottom": null,
            "display": null,
            "flex": null,
            "flex_flow": null,
            "grid_area": null,
            "grid_auto_columns": null,
            "grid_auto_flow": null,
            "grid_auto_rows": null,
            "grid_column": null,
            "grid_gap": null,
            "grid_row": null,
            "grid_template_areas": null,
            "grid_template_columns": null,
            "grid_template_rows": null,
            "height": null,
            "justify_content": null,
            "justify_items": null,
            "left": null,
            "margin": null,
            "max_height": null,
            "max_width": null,
            "min_height": null,
            "min_width": null,
            "object_fit": null,
            "object_position": null,
            "order": null,
            "overflow": null,
            "overflow_x": null,
            "overflow_y": null,
            "padding": null,
            "right": null,
            "top": null,
            "visibility": "hidden",
            "width": null
          }
        },
        "cec6d265b5ea4899b537f0cbe0966115": {
          "model_module": "@jupyter-widgets/base",
          "model_name": "LayoutModel",
          "model_module_version": "1.2.0",
          "state": {
            "_model_module": "@jupyter-widgets/base",
            "_model_module_version": "1.2.0",
            "_model_name": "LayoutModel",
            "_view_count": null,
            "_view_module": "@jupyter-widgets/base",
            "_view_module_version": "1.2.0",
            "_view_name": "LayoutView",
            "align_content": null,
            "align_items": null,
            "align_self": null,
            "border": null,
            "bottom": null,
            "display": null,
            "flex": null,
            "flex_flow": null,
            "grid_area": null,
            "grid_auto_columns": null,
            "grid_auto_flow": null,
            "grid_auto_rows": null,
            "grid_column": null,
            "grid_gap": null,
            "grid_row": null,
            "grid_template_areas": null,
            "grid_template_columns": null,
            "grid_template_rows": null,
            "height": null,
            "justify_content": null,
            "justify_items": null,
            "left": null,
            "margin": null,
            "max_height": null,
            "max_width": null,
            "min_height": null,
            "min_width": null,
            "object_fit": null,
            "object_position": null,
            "order": null,
            "overflow": null,
            "overflow_x": null,
            "overflow_y": null,
            "padding": null,
            "right": null,
            "top": null,
            "visibility": null,
            "width": null
          }
        },
        "8f04d03c7aea4fe2bba00dc13b246d7c": {
          "model_module": "@jupyter-widgets/controls",
          "model_name": "DescriptionStyleModel",
          "model_module_version": "1.5.0",
          "state": {
            "_model_module": "@jupyter-widgets/controls",
            "_model_module_version": "1.5.0",
            "_model_name": "DescriptionStyleModel",
            "_view_count": null,
            "_view_module": "@jupyter-widgets/base",
            "_view_module_version": "1.2.0",
            "_view_name": "StyleView",
            "description_width": ""
          }
        },
        "914762a782244a1cbc711847ca523bdd": {
          "model_module": "@jupyter-widgets/base",
          "model_name": "LayoutModel",
          "model_module_version": "1.2.0",
          "state": {
            "_model_module": "@jupyter-widgets/base",
            "_model_module_version": "1.2.0",
            "_model_name": "LayoutModel",
            "_view_count": null,
            "_view_module": "@jupyter-widgets/base",
            "_view_module_version": "1.2.0",
            "_view_name": "LayoutView",
            "align_content": null,
            "align_items": null,
            "align_self": null,
            "border": null,
            "bottom": null,
            "display": null,
            "flex": null,
            "flex_flow": null,
            "grid_area": null,
            "grid_auto_columns": null,
            "grid_auto_flow": null,
            "grid_auto_rows": null,
            "grid_column": null,
            "grid_gap": null,
            "grid_row": null,
            "grid_template_areas": null,
            "grid_template_columns": null,
            "grid_template_rows": null,
            "height": null,
            "justify_content": null,
            "justify_items": null,
            "left": null,
            "margin": null,
            "max_height": null,
            "max_width": null,
            "min_height": null,
            "min_width": null,
            "object_fit": null,
            "object_position": null,
            "order": null,
            "overflow": null,
            "overflow_x": null,
            "overflow_y": null,
            "padding": null,
            "right": null,
            "top": null,
            "visibility": null,
            "width": null
          }
        },
        "92f4e2344cea4ed18a348a7386beae69": {
          "model_module": "@jupyter-widgets/controls",
          "model_name": "ProgressStyleModel",
          "model_module_version": "1.5.0",
          "state": {
            "_model_module": "@jupyter-widgets/controls",
            "_model_module_version": "1.5.0",
            "_model_name": "ProgressStyleModel",
            "_view_count": null,
            "_view_module": "@jupyter-widgets/base",
            "_view_module_version": "1.2.0",
            "_view_name": "StyleView",
            "bar_color": null,
            "description_width": ""
          }
        },
        "1e5e59c3e08347c09e4edd40f9833036": {
          "model_module": "@jupyter-widgets/base",
          "model_name": "LayoutModel",
          "model_module_version": "1.2.0",
          "state": {
            "_model_module": "@jupyter-widgets/base",
            "_model_module_version": "1.2.0",
            "_model_name": "LayoutModel",
            "_view_count": null,
            "_view_module": "@jupyter-widgets/base",
            "_view_module_version": "1.2.0",
            "_view_name": "LayoutView",
            "align_content": null,
            "align_items": null,
            "align_self": null,
            "border": null,
            "bottom": null,
            "display": null,
            "flex": null,
            "flex_flow": null,
            "grid_area": null,
            "grid_auto_columns": null,
            "grid_auto_flow": null,
            "grid_auto_rows": null,
            "grid_column": null,
            "grid_gap": null,
            "grid_row": null,
            "grid_template_areas": null,
            "grid_template_columns": null,
            "grid_template_rows": null,
            "height": null,
            "justify_content": null,
            "justify_items": null,
            "left": null,
            "margin": null,
            "max_height": null,
            "max_width": null,
            "min_height": null,
            "min_width": null,
            "object_fit": null,
            "object_position": null,
            "order": null,
            "overflow": null,
            "overflow_x": null,
            "overflow_y": null,
            "padding": null,
            "right": null,
            "top": null,
            "visibility": null,
            "width": null
          }
        },
        "9de4fae9ddc84811a14b93554492bffa": {
          "model_module": "@jupyter-widgets/controls",
          "model_name": "DescriptionStyleModel",
          "model_module_version": "1.5.0",
          "state": {
            "_model_module": "@jupyter-widgets/controls",
            "_model_module_version": "1.5.0",
            "_model_name": "DescriptionStyleModel",
            "_view_count": null,
            "_view_module": "@jupyter-widgets/base",
            "_view_module_version": "1.2.0",
            "_view_name": "StyleView",
            "description_width": ""
          }
        },
        "6f4ea4781ce64dd196b0654a5d130fd1": {
          "model_module": "@jupyter-widgets/controls",
          "model_name": "HBoxModel",
          "model_module_version": "1.5.0",
          "state": {
            "_dom_classes": [],
            "_model_module": "@jupyter-widgets/controls",
            "_model_module_version": "1.5.0",
            "_model_name": "HBoxModel",
            "_view_count": null,
            "_view_module": "@jupyter-widgets/controls",
            "_view_module_version": "1.5.0",
            "_view_name": "HBoxView",
            "box_style": "",
            "children": [
              "IPY_MODEL_0153c37b0fd3485fb8bdc9aa71232504",
              "IPY_MODEL_cddac423a95c48d89ed7f4bc94b6a5e0",
              "IPY_MODEL_f9e85e716fc94a29bd28c4c94b181fc3"
            ],
            "layout": "IPY_MODEL_c3991770434e42908befbf09cd25a4ad"
          }
        },
        "0153c37b0fd3485fb8bdc9aa71232504": {
          "model_module": "@jupyter-widgets/controls",
          "model_name": "HTMLModel",
          "model_module_version": "1.5.0",
          "state": {
            "_dom_classes": [],
            "_model_module": "@jupyter-widgets/controls",
            "_model_module_version": "1.5.0",
            "_model_name": "HTMLModel",
            "_view_count": null,
            "_view_module": "@jupyter-widgets/controls",
            "_view_module_version": "1.5.0",
            "_view_name": "HTMLView",
            "description": "",
            "description_tooltip": null,
            "layout": "IPY_MODEL_dc56a5703c8e4d84836765af816be5a9",
            "placeholder": "​",
            "style": "IPY_MODEL_e3696d27f2ee433aa27a2ad9364874f5",
            "value": "Processing: 100%"
          }
        },
        "cddac423a95c48d89ed7f4bc94b6a5e0": {
          "model_module": "@jupyter-widgets/controls",
          "model_name": "FloatProgressModel",
          "model_module_version": "1.5.0",
          "state": {
            "_dom_classes": [],
            "_model_module": "@jupyter-widgets/controls",
            "_model_module_version": "1.5.0",
            "_model_name": "FloatProgressModel",
            "_view_count": null,
            "_view_module": "@jupyter-widgets/controls",
            "_view_module_version": "1.5.0",
            "_view_name": "ProgressView",
            "bar_style": "",
            "description": "",
            "description_tooltip": null,
            "layout": "IPY_MODEL_6b0906f8cbf846288088a3ec108ba779",
            "max": 4,
            "min": 0,
            "orientation": "horizontal",
            "style": "IPY_MODEL_21314ae8671d4bc7b30acd00ec4881a1",
            "value": 4
          }
        },
        "f9e85e716fc94a29bd28c4c94b181fc3": {
          "model_module": "@jupyter-widgets/controls",
          "model_name": "HTMLModel",
          "model_module_version": "1.5.0",
          "state": {
            "_dom_classes": [],
            "_model_module": "@jupyter-widgets/controls",
            "_model_module_version": "1.5.0",
            "_model_name": "HTMLModel",
            "_view_count": null,
            "_view_module": "@jupyter-widgets/controls",
            "_view_module_version": "1.5.0",
            "_view_name": "HTMLView",
            "description": "",
            "description_tooltip": null,
            "layout": "IPY_MODEL_358a2c882e3f482cb105ddef331d0d4e",
            "placeholder": "​",
            "style": "IPY_MODEL_f54c1c4d56af4fd8bec852369f1529c2",
            "value": " 4/4 [03:03&lt;00:00, 43.35s/it]"
          }
        },
        "c3991770434e42908befbf09cd25a4ad": {
          "model_module": "@jupyter-widgets/base",
          "model_name": "LayoutModel",
          "model_module_version": "1.2.0",
          "state": {
            "_model_module": "@jupyter-widgets/base",
            "_model_module_version": "1.2.0",
            "_model_name": "LayoutModel",
            "_view_count": null,
            "_view_module": "@jupyter-widgets/base",
            "_view_module_version": "1.2.0",
            "_view_name": "LayoutView",
            "align_content": null,
            "align_items": null,
            "align_self": null,
            "border": null,
            "bottom": null,
            "display": null,
            "flex": null,
            "flex_flow": null,
            "grid_area": null,
            "grid_auto_columns": null,
            "grid_auto_flow": null,
            "grid_auto_rows": null,
            "grid_column": null,
            "grid_gap": null,
            "grid_row": null,
            "grid_template_areas": null,
            "grid_template_columns": null,
            "grid_template_rows": null,
            "height": null,
            "justify_content": null,
            "justify_items": null,
            "left": null,
            "margin": null,
            "max_height": null,
            "max_width": null,
            "min_height": null,
            "min_width": null,
            "object_fit": null,
            "object_position": null,
            "order": null,
            "overflow": null,
            "overflow_x": null,
            "overflow_y": null,
            "padding": null,
            "right": null,
            "top": null,
            "visibility": "hidden",
            "width": null
          }
        },
        "dc56a5703c8e4d84836765af816be5a9": {
          "model_module": "@jupyter-widgets/base",
          "model_name": "LayoutModel",
          "model_module_version": "1.2.0",
          "state": {
            "_model_module": "@jupyter-widgets/base",
            "_model_module_version": "1.2.0",
            "_model_name": "LayoutModel",
            "_view_count": null,
            "_view_module": "@jupyter-widgets/base",
            "_view_module_version": "1.2.0",
            "_view_name": "LayoutView",
            "align_content": null,
            "align_items": null,
            "align_self": null,
            "border": null,
            "bottom": null,
            "display": null,
            "flex": null,
            "flex_flow": null,
            "grid_area": null,
            "grid_auto_columns": null,
            "grid_auto_flow": null,
            "grid_auto_rows": null,
            "grid_column": null,
            "grid_gap": null,
            "grid_row": null,
            "grid_template_areas": null,
            "grid_template_columns": null,
            "grid_template_rows": null,
            "height": null,
            "justify_content": null,
            "justify_items": null,
            "left": null,
            "margin": null,
            "max_height": null,
            "max_width": null,
            "min_height": null,
            "min_width": null,
            "object_fit": null,
            "object_position": null,
            "order": null,
            "overflow": null,
            "overflow_x": null,
            "overflow_y": null,
            "padding": null,
            "right": null,
            "top": null,
            "visibility": null,
            "width": null
          }
        },
        "e3696d27f2ee433aa27a2ad9364874f5": {
          "model_module": "@jupyter-widgets/controls",
          "model_name": "DescriptionStyleModel",
          "model_module_version": "1.5.0",
          "state": {
            "_model_module": "@jupyter-widgets/controls",
            "_model_module_version": "1.5.0",
            "_model_name": "DescriptionStyleModel",
            "_view_count": null,
            "_view_module": "@jupyter-widgets/base",
            "_view_module_version": "1.2.0",
            "_view_name": "StyleView",
            "description_width": ""
          }
        },
        "6b0906f8cbf846288088a3ec108ba779": {
          "model_module": "@jupyter-widgets/base",
          "model_name": "LayoutModel",
          "model_module_version": "1.2.0",
          "state": {
            "_model_module": "@jupyter-widgets/base",
            "_model_module_version": "1.2.0",
            "_model_name": "LayoutModel",
            "_view_count": null,
            "_view_module": "@jupyter-widgets/base",
            "_view_module_version": "1.2.0",
            "_view_name": "LayoutView",
            "align_content": null,
            "align_items": null,
            "align_self": null,
            "border": null,
            "bottom": null,
            "display": null,
            "flex": null,
            "flex_flow": null,
            "grid_area": null,
            "grid_auto_columns": null,
            "grid_auto_flow": null,
            "grid_auto_rows": null,
            "grid_column": null,
            "grid_gap": null,
            "grid_row": null,
            "grid_template_areas": null,
            "grid_template_columns": null,
            "grid_template_rows": null,
            "height": null,
            "justify_content": null,
            "justify_items": null,
            "left": null,
            "margin": null,
            "max_height": null,
            "max_width": null,
            "min_height": null,
            "min_width": null,
            "object_fit": null,
            "object_position": null,
            "order": null,
            "overflow": null,
            "overflow_x": null,
            "overflow_y": null,
            "padding": null,
            "right": null,
            "top": null,
            "visibility": null,
            "width": null
          }
        },
        "21314ae8671d4bc7b30acd00ec4881a1": {
          "model_module": "@jupyter-widgets/controls",
          "model_name": "ProgressStyleModel",
          "model_module_version": "1.5.0",
          "state": {
            "_model_module": "@jupyter-widgets/controls",
            "_model_module_version": "1.5.0",
            "_model_name": "ProgressStyleModel",
            "_view_count": null,
            "_view_module": "@jupyter-widgets/base",
            "_view_module_version": "1.2.0",
            "_view_name": "StyleView",
            "bar_color": null,
            "description_width": ""
          }
        },
        "358a2c882e3f482cb105ddef331d0d4e": {
          "model_module": "@jupyter-widgets/base",
          "model_name": "LayoutModel",
          "model_module_version": "1.2.0",
          "state": {
            "_model_module": "@jupyter-widgets/base",
            "_model_module_version": "1.2.0",
            "_model_name": "LayoutModel",
            "_view_count": null,
            "_view_module": "@jupyter-widgets/base",
            "_view_module_version": "1.2.0",
            "_view_name": "LayoutView",
            "align_content": null,
            "align_items": null,
            "align_self": null,
            "border": null,
            "bottom": null,
            "display": null,
            "flex": null,
            "flex_flow": null,
            "grid_area": null,
            "grid_auto_columns": null,
            "grid_auto_flow": null,
            "grid_auto_rows": null,
            "grid_column": null,
            "grid_gap": null,
            "grid_row": null,
            "grid_template_areas": null,
            "grid_template_columns": null,
            "grid_template_rows": null,
            "height": null,
            "justify_content": null,
            "justify_items": null,
            "left": null,
            "margin": null,
            "max_height": null,
            "max_width": null,
            "min_height": null,
            "min_width": null,
            "object_fit": null,
            "object_position": null,
            "order": null,
            "overflow": null,
            "overflow_x": null,
            "overflow_y": null,
            "padding": null,
            "right": null,
            "top": null,
            "visibility": null,
            "width": null
          }
        },
        "f54c1c4d56af4fd8bec852369f1529c2": {
          "model_module": "@jupyter-widgets/controls",
          "model_name": "DescriptionStyleModel",
          "model_module_version": "1.5.0",
          "state": {
            "_model_module": "@jupyter-widgets/controls",
            "_model_module_version": "1.5.0",
            "_model_name": "DescriptionStyleModel",
            "_view_count": null,
            "_view_module": "@jupyter-widgets/base",
            "_view_module_version": "1.2.0",
            "_view_name": "StyleView",
            "description_width": ""
          }
        },
        "072762130b98410aaa628c94c4d572b3": {
          "model_module": "@jupyter-widgets/controls",
          "model_name": "HBoxModel",
          "model_module_version": "1.5.0",
          "state": {
            "_dom_classes": [],
            "_model_module": "@jupyter-widgets/controls",
            "_model_module_version": "1.5.0",
            "_model_name": "HBoxModel",
            "_view_count": null,
            "_view_module": "@jupyter-widgets/controls",
            "_view_module_version": "1.5.0",
            "_view_name": "HBoxView",
            "box_style": "",
            "children": [
              "IPY_MODEL_340a6f732cc94236a283f7b47410352a",
              "IPY_MODEL_48d251903453480b81195a6633dfa32a",
              "IPY_MODEL_6a37fca721194a93bba60709262cfcd8"
            ],
            "layout": "IPY_MODEL_3c85238d3de4489e90230317eb2dd35e"
          }
        },
        "340a6f732cc94236a283f7b47410352a": {
          "model_module": "@jupyter-widgets/controls",
          "model_name": "HTMLModel",
          "model_module_version": "1.5.0",
          "state": {
            "_dom_classes": [],
            "_model_module": "@jupyter-widgets/controls",
            "_model_module_version": "1.5.0",
            "_model_name": "HTMLModel",
            "_view_count": null,
            "_view_module": "@jupyter-widgets/controls",
            "_view_module_version": "1.5.0",
            "_view_name": "HTMLView",
            "description": "",
            "description_tooltip": null,
            "layout": "IPY_MODEL_d730414477b54453a8fac1ad3c9a7f10",
            "placeholder": "​",
            "style": "IPY_MODEL_9b460990ccda432e9f844d90e3d714b5",
            "value": "Processing: 100%"
          }
        },
        "48d251903453480b81195a6633dfa32a": {
          "model_module": "@jupyter-widgets/controls",
          "model_name": "FloatProgressModel",
          "model_module_version": "1.5.0",
          "state": {
            "_dom_classes": [],
            "_model_module": "@jupyter-widgets/controls",
            "_model_module_version": "1.5.0",
            "_model_name": "FloatProgressModel",
            "_view_count": null,
            "_view_module": "@jupyter-widgets/controls",
            "_view_module_version": "1.5.0",
            "_view_name": "ProgressView",
            "bar_style": "",
            "description": "",
            "description_tooltip": null,
            "layout": "IPY_MODEL_e1b01cd6faac4a34a9898d15131f65fb",
            "max": 7,
            "min": 0,
            "orientation": "horizontal",
            "style": "IPY_MODEL_a3f6d2786f724599832d5349ea45c6b0",
            "value": 7
          }
        },
        "6a37fca721194a93bba60709262cfcd8": {
          "model_module": "@jupyter-widgets/controls",
          "model_name": "HTMLModel",
          "model_module_version": "1.5.0",
          "state": {
            "_dom_classes": [],
            "_model_module": "@jupyter-widgets/controls",
            "_model_module_version": "1.5.0",
            "_model_name": "HTMLModel",
            "_view_count": null,
            "_view_module": "@jupyter-widgets/controls",
            "_view_module_version": "1.5.0",
            "_view_name": "HTMLView",
            "description": "",
            "description_tooltip": null,
            "layout": "IPY_MODEL_b8d93640968a40b8bba4fe2301166063",
            "placeholder": "​",
            "style": "IPY_MODEL_96b63f90d1bd40c1bcabd2c533e1fbf6",
            "value": " 7/7 [28:31&lt;00:00, 177.03s/it]"
          }
        },
        "3c85238d3de4489e90230317eb2dd35e": {
          "model_module": "@jupyter-widgets/base",
          "model_name": "LayoutModel",
          "model_module_version": "1.2.0",
          "state": {
            "_model_module": "@jupyter-widgets/base",
            "_model_module_version": "1.2.0",
            "_model_name": "LayoutModel",
            "_view_count": null,
            "_view_module": "@jupyter-widgets/base",
            "_view_module_version": "1.2.0",
            "_view_name": "LayoutView",
            "align_content": null,
            "align_items": null,
            "align_self": null,
            "border": null,
            "bottom": null,
            "display": null,
            "flex": null,
            "flex_flow": null,
            "grid_area": null,
            "grid_auto_columns": null,
            "grid_auto_flow": null,
            "grid_auto_rows": null,
            "grid_column": null,
            "grid_gap": null,
            "grid_row": null,
            "grid_template_areas": null,
            "grid_template_columns": null,
            "grid_template_rows": null,
            "height": null,
            "justify_content": null,
            "justify_items": null,
            "left": null,
            "margin": null,
            "max_height": null,
            "max_width": null,
            "min_height": null,
            "min_width": null,
            "object_fit": null,
            "object_position": null,
            "order": null,
            "overflow": null,
            "overflow_x": null,
            "overflow_y": null,
            "padding": null,
            "right": null,
            "top": null,
            "visibility": "hidden",
            "width": null
          }
        },
        "d730414477b54453a8fac1ad3c9a7f10": {
          "model_module": "@jupyter-widgets/base",
          "model_name": "LayoutModel",
          "model_module_version": "1.2.0",
          "state": {
            "_model_module": "@jupyter-widgets/base",
            "_model_module_version": "1.2.0",
            "_model_name": "LayoutModel",
            "_view_count": null,
            "_view_module": "@jupyter-widgets/base",
            "_view_module_version": "1.2.0",
            "_view_name": "LayoutView",
            "align_content": null,
            "align_items": null,
            "align_self": null,
            "border": null,
            "bottom": null,
            "display": null,
            "flex": null,
            "flex_flow": null,
            "grid_area": null,
            "grid_auto_columns": null,
            "grid_auto_flow": null,
            "grid_auto_rows": null,
            "grid_column": null,
            "grid_gap": null,
            "grid_row": null,
            "grid_template_areas": null,
            "grid_template_columns": null,
            "grid_template_rows": null,
            "height": null,
            "justify_content": null,
            "justify_items": null,
            "left": null,
            "margin": null,
            "max_height": null,
            "max_width": null,
            "min_height": null,
            "min_width": null,
            "object_fit": null,
            "object_position": null,
            "order": null,
            "overflow": null,
            "overflow_x": null,
            "overflow_y": null,
            "padding": null,
            "right": null,
            "top": null,
            "visibility": null,
            "width": null
          }
        },
        "9b460990ccda432e9f844d90e3d714b5": {
          "model_module": "@jupyter-widgets/controls",
          "model_name": "DescriptionStyleModel",
          "model_module_version": "1.5.0",
          "state": {
            "_model_module": "@jupyter-widgets/controls",
            "_model_module_version": "1.5.0",
            "_model_name": "DescriptionStyleModel",
            "_view_count": null,
            "_view_module": "@jupyter-widgets/base",
            "_view_module_version": "1.2.0",
            "_view_name": "StyleView",
            "description_width": ""
          }
        },
        "e1b01cd6faac4a34a9898d15131f65fb": {
          "model_module": "@jupyter-widgets/base",
          "model_name": "LayoutModel",
          "model_module_version": "1.2.0",
          "state": {
            "_model_module": "@jupyter-widgets/base",
            "_model_module_version": "1.2.0",
            "_model_name": "LayoutModel",
            "_view_count": null,
            "_view_module": "@jupyter-widgets/base",
            "_view_module_version": "1.2.0",
            "_view_name": "LayoutView",
            "align_content": null,
            "align_items": null,
            "align_self": null,
            "border": null,
            "bottom": null,
            "display": null,
            "flex": null,
            "flex_flow": null,
            "grid_area": null,
            "grid_auto_columns": null,
            "grid_auto_flow": null,
            "grid_auto_rows": null,
            "grid_column": null,
            "grid_gap": null,
            "grid_row": null,
            "grid_template_areas": null,
            "grid_template_columns": null,
            "grid_template_rows": null,
            "height": null,
            "justify_content": null,
            "justify_items": null,
            "left": null,
            "margin": null,
            "max_height": null,
            "max_width": null,
            "min_height": null,
            "min_width": null,
            "object_fit": null,
            "object_position": null,
            "order": null,
            "overflow": null,
            "overflow_x": null,
            "overflow_y": null,
            "padding": null,
            "right": null,
            "top": null,
            "visibility": null,
            "width": null
          }
        },
        "a3f6d2786f724599832d5349ea45c6b0": {
          "model_module": "@jupyter-widgets/controls",
          "model_name": "ProgressStyleModel",
          "model_module_version": "1.5.0",
          "state": {
            "_model_module": "@jupyter-widgets/controls",
            "_model_module_version": "1.5.0",
            "_model_name": "ProgressStyleModel",
            "_view_count": null,
            "_view_module": "@jupyter-widgets/base",
            "_view_module_version": "1.2.0",
            "_view_name": "StyleView",
            "bar_color": null,
            "description_width": ""
          }
        },
        "b8d93640968a40b8bba4fe2301166063": {
          "model_module": "@jupyter-widgets/base",
          "model_name": "LayoutModel",
          "model_module_version": "1.2.0",
          "state": {
            "_model_module": "@jupyter-widgets/base",
            "_model_module_version": "1.2.0",
            "_model_name": "LayoutModel",
            "_view_count": null,
            "_view_module": "@jupyter-widgets/base",
            "_view_module_version": "1.2.0",
            "_view_name": "LayoutView",
            "align_content": null,
            "align_items": null,
            "align_self": null,
            "border": null,
            "bottom": null,
            "display": null,
            "flex": null,
            "flex_flow": null,
            "grid_area": null,
            "grid_auto_columns": null,
            "grid_auto_flow": null,
            "grid_auto_rows": null,
            "grid_column": null,
            "grid_gap": null,
            "grid_row": null,
            "grid_template_areas": null,
            "grid_template_columns": null,
            "grid_template_rows": null,
            "height": null,
            "justify_content": null,
            "justify_items": null,
            "left": null,
            "margin": null,
            "max_height": null,
            "max_width": null,
            "min_height": null,
            "min_width": null,
            "object_fit": null,
            "object_position": null,
            "order": null,
            "overflow": null,
            "overflow_x": null,
            "overflow_y": null,
            "padding": null,
            "right": null,
            "top": null,
            "visibility": null,
            "width": null
          }
        },
        "96b63f90d1bd40c1bcabd2c533e1fbf6": {
          "model_module": "@jupyter-widgets/controls",
          "model_name": "DescriptionStyleModel",
          "model_module_version": "1.5.0",
          "state": {
            "_model_module": "@jupyter-widgets/controls",
            "_model_module_version": "1.5.0",
            "_model_name": "DescriptionStyleModel",
            "_view_count": null,
            "_view_module": "@jupyter-widgets/base",
            "_view_module_version": "1.2.0",
            "_view_name": "StyleView",
            "description_width": ""
          }
        }
      }
    }
  },
  "cells": [
    {
      "cell_type": "markdown",
      "metadata": {
        "id": "view-in-github",
        "colab_type": "text"
      },
      "source": [
        "<a href=\"https://colab.research.google.com/github/jagvgithub/Classification_Regression_models/blob/main/ModeloFraude.ipynb\" target=\"_parent\"><img src=\"https://colab.research.google.com/assets/colab-badge.svg\" alt=\"Open In Colab\"/></a>"
      ]
    },
    {
      "cell_type": "code",
      "execution_count": 41,
      "metadata": {
        "colab": {
          "base_uri": "https://localhost:8080/"
        },
        "id": "4dW2D6PDEmWs",
        "outputId": "696179d1-efce-4244-90e2-73a9c82c46a4"
      },
      "outputs": [
        {
          "output_type": "stream",
          "name": "stdout",
          "text": [
            "Requirement already satisfied: pycaret in /usr/local/lib/python3.10/dist-packages (3.3.2)\n",
            "Requirement already satisfied: ipython>=5.5.0 in /usr/local/lib/python3.10/dist-packages (from pycaret) (7.34.0)\n",
            "Requirement already satisfied: ipywidgets>=7.6.5 in /usr/local/lib/python3.10/dist-packages (from pycaret) (7.7.1)\n",
            "Requirement already satisfied: tqdm>=4.62.0 in /usr/local/lib/python3.10/dist-packages (from pycaret) (4.66.2)\n",
            "Requirement already satisfied: numpy<1.27,>=1.21 in /usr/local/lib/python3.10/dist-packages (from pycaret) (1.25.2)\n",
            "Requirement already satisfied: pandas<2.2.0 in /usr/local/lib/python3.10/dist-packages (from pycaret) (2.0.3)\n",
            "Requirement already satisfied: jinja2>=3 in /usr/local/lib/python3.10/dist-packages (from pycaret) (3.1.3)\n",
            "Requirement already satisfied: scipy<=1.11.4,>=1.6.1 in /usr/local/lib/python3.10/dist-packages (from pycaret) (1.11.4)\n",
            "Requirement already satisfied: joblib<1.4,>=1.2.0 in /usr/local/lib/python3.10/dist-packages (from pycaret) (1.3.2)\n",
            "Requirement already satisfied: scikit-learn>1.4.0 in /usr/local/lib/python3.10/dist-packages (from pycaret) (1.4.2)\n",
            "Requirement already satisfied: pyod>=1.1.3 in /usr/local/lib/python3.10/dist-packages (from pycaret) (1.1.3)\n",
            "Requirement already satisfied: imbalanced-learn>=0.12.0 in /usr/local/lib/python3.10/dist-packages (from pycaret) (0.12.2)\n",
            "Requirement already satisfied: category-encoders>=2.4.0 in /usr/local/lib/python3.10/dist-packages (from pycaret) (2.6.3)\n",
            "Requirement already satisfied: lightgbm>=3.0.0 in /usr/local/lib/python3.10/dist-packages (from pycaret) (4.1.0)\n",
            "Requirement already satisfied: numba>=0.55.0 in /usr/local/lib/python3.10/dist-packages (from pycaret) (0.58.1)\n",
            "Requirement already satisfied: requests>=2.27.1 in /usr/local/lib/python3.10/dist-packages (from pycaret) (2.31.0)\n",
            "Requirement already satisfied: psutil>=5.9.0 in /usr/local/lib/python3.10/dist-packages (from pycaret) (5.9.5)\n",
            "Requirement already satisfied: markupsafe>=2.0.1 in /usr/local/lib/python3.10/dist-packages (from pycaret) (2.1.5)\n",
            "Requirement already satisfied: importlib-metadata>=4.12.0 in /usr/local/lib/python3.10/dist-packages (from pycaret) (7.1.0)\n",
            "Requirement already satisfied: nbformat>=4.2.0 in /usr/local/lib/python3.10/dist-packages (from pycaret) (5.10.4)\n",
            "Requirement already satisfied: cloudpickle in /usr/local/lib/python3.10/dist-packages (from pycaret) (2.2.1)\n",
            "Requirement already satisfied: deprecation>=2.1.0 in /usr/local/lib/python3.10/dist-packages (from pycaret) (2.1.0)\n",
            "Requirement already satisfied: xxhash in /usr/local/lib/python3.10/dist-packages (from pycaret) (3.4.1)\n",
            "Requirement already satisfied: matplotlib<3.8.0 in /usr/local/lib/python3.10/dist-packages (from pycaret) (3.7.1)\n",
            "Requirement already satisfied: scikit-plot>=0.3.7 in /usr/local/lib/python3.10/dist-packages (from pycaret) (0.3.7)\n",
            "Requirement already satisfied: yellowbrick>=1.4 in /usr/local/lib/python3.10/dist-packages (from pycaret) (1.5)\n",
            "Requirement already satisfied: plotly>=5.14.0 in /usr/local/lib/python3.10/dist-packages (from pycaret) (5.15.0)\n",
            "Requirement already satisfied: kaleido>=0.2.1 in /usr/local/lib/python3.10/dist-packages (from pycaret) (0.2.1)\n",
            "Requirement already satisfied: schemdraw==0.15 in /usr/local/lib/python3.10/dist-packages (from pycaret) (0.15)\n",
            "Requirement already satisfied: plotly-resampler>=0.8.3.1 in /usr/local/lib/python3.10/dist-packages (from pycaret) (0.10.0)\n",
            "Requirement already satisfied: statsmodels>=0.12.1 in /usr/local/lib/python3.10/dist-packages (from pycaret) (0.14.2)\n",
            "Requirement already satisfied: sktime==0.26.0 in /usr/local/lib/python3.10/dist-packages (from pycaret) (0.26.0)\n",
            "Requirement already satisfied: tbats>=1.1.3 in /usr/local/lib/python3.10/dist-packages (from pycaret) (1.1.3)\n",
            "Requirement already satisfied: pmdarima>=2.0.4 in /usr/local/lib/python3.10/dist-packages (from pycaret) (2.0.4)\n",
            "Requirement already satisfied: wurlitzer in /usr/local/lib/python3.10/dist-packages (from pycaret) (3.1.0)\n",
            "Requirement already satisfied: packaging in /usr/local/lib/python3.10/dist-packages (from sktime==0.26.0->pycaret) (24.0)\n",
            "Requirement already satisfied: scikit-base<0.8.0 in /usr/local/lib/python3.10/dist-packages (from sktime==0.26.0->pycaret) (0.7.7)\n",
            "Requirement already satisfied: patsy>=0.5.1 in /usr/local/lib/python3.10/dist-packages (from category-encoders>=2.4.0->pycaret) (0.5.6)\n",
            "Requirement already satisfied: threadpoolctl>=2.0.0 in /usr/local/lib/python3.10/dist-packages (from imbalanced-learn>=0.12.0->pycaret) (3.4.0)\n",
            "Requirement already satisfied: zipp>=0.5 in /usr/local/lib/python3.10/dist-packages (from importlib-metadata>=4.12.0->pycaret) (3.18.1)\n",
            "Requirement already satisfied: setuptools>=18.5 in /usr/local/lib/python3.10/dist-packages (from ipython>=5.5.0->pycaret) (67.7.2)\n",
            "Requirement already satisfied: jedi>=0.16 in /usr/local/lib/python3.10/dist-packages (from ipython>=5.5.0->pycaret) (0.19.1)\n",
            "Requirement already satisfied: decorator in /usr/local/lib/python3.10/dist-packages (from ipython>=5.5.0->pycaret) (4.4.2)\n",
            "Requirement already satisfied: pickleshare in /usr/local/lib/python3.10/dist-packages (from ipython>=5.5.0->pycaret) (0.7.5)\n",
            "Requirement already satisfied: traitlets>=4.2 in /usr/local/lib/python3.10/dist-packages (from ipython>=5.5.0->pycaret) (5.7.1)\n",
            "Requirement already satisfied: prompt-toolkit!=3.0.0,!=3.0.1,<3.1.0,>=2.0.0 in /usr/local/lib/python3.10/dist-packages (from ipython>=5.5.0->pycaret) (3.0.43)\n",
            "Requirement already satisfied: pygments in /usr/local/lib/python3.10/dist-packages (from ipython>=5.5.0->pycaret) (2.16.1)\n",
            "Requirement already satisfied: backcall in /usr/local/lib/python3.10/dist-packages (from ipython>=5.5.0->pycaret) (0.2.0)\n",
            "Requirement already satisfied: matplotlib-inline in /usr/local/lib/python3.10/dist-packages (from ipython>=5.5.0->pycaret) (0.1.7)\n",
            "Requirement already satisfied: pexpect>4.3 in /usr/local/lib/python3.10/dist-packages (from ipython>=5.5.0->pycaret) (4.9.0)\n",
            "Requirement already satisfied: ipykernel>=4.5.1 in /usr/local/lib/python3.10/dist-packages (from ipywidgets>=7.6.5->pycaret) (5.5.6)\n",
            "Requirement already satisfied: ipython-genutils~=0.2.0 in /usr/local/lib/python3.10/dist-packages (from ipywidgets>=7.6.5->pycaret) (0.2.0)\n",
            "Requirement already satisfied: widgetsnbextension~=3.6.0 in /usr/local/lib/python3.10/dist-packages (from ipywidgets>=7.6.5->pycaret) (3.6.6)\n",
            "Requirement already satisfied: jupyterlab-widgets>=1.0.0 in /usr/local/lib/python3.10/dist-packages (from ipywidgets>=7.6.5->pycaret) (3.0.10)\n",
            "Requirement already satisfied: contourpy>=1.0.1 in /usr/local/lib/python3.10/dist-packages (from matplotlib<3.8.0->pycaret) (1.2.1)\n",
            "Requirement already satisfied: cycler>=0.10 in /usr/local/lib/python3.10/dist-packages (from matplotlib<3.8.0->pycaret) (0.12.1)\n",
            "Requirement already satisfied: fonttools>=4.22.0 in /usr/local/lib/python3.10/dist-packages (from matplotlib<3.8.0->pycaret) (4.51.0)\n",
            "Requirement already satisfied: kiwisolver>=1.0.1 in /usr/local/lib/python3.10/dist-packages (from matplotlib<3.8.0->pycaret) (1.4.5)\n",
            "Requirement already satisfied: pillow>=6.2.0 in /usr/local/lib/python3.10/dist-packages (from matplotlib<3.8.0->pycaret) (9.4.0)\n",
            "Requirement already satisfied: pyparsing>=2.3.1 in /usr/local/lib/python3.10/dist-packages (from matplotlib<3.8.0->pycaret) (3.1.2)\n",
            "Requirement already satisfied: python-dateutil>=2.7 in /usr/local/lib/python3.10/dist-packages (from matplotlib<3.8.0->pycaret) (2.8.2)\n",
            "Requirement already satisfied: fastjsonschema>=2.15 in /usr/local/lib/python3.10/dist-packages (from nbformat>=4.2.0->pycaret) (2.19.1)\n",
            "Requirement already satisfied: jsonschema>=2.6 in /usr/local/lib/python3.10/dist-packages (from nbformat>=4.2.0->pycaret) (4.19.2)\n",
            "Requirement already satisfied: jupyter-core!=5.0.*,>=4.12 in /usr/local/lib/python3.10/dist-packages (from nbformat>=4.2.0->pycaret) (5.7.2)\n",
            "Requirement already satisfied: llvmlite<0.42,>=0.41.0dev0 in /usr/local/lib/python3.10/dist-packages (from numba>=0.55.0->pycaret) (0.41.1)\n",
            "Requirement already satisfied: pytz>=2020.1 in /usr/local/lib/python3.10/dist-packages (from pandas<2.2.0->pycaret) (2023.4)\n",
            "Requirement already satisfied: tzdata>=2022.1 in /usr/local/lib/python3.10/dist-packages (from pandas<2.2.0->pycaret) (2024.1)\n",
            "Requirement already satisfied: tenacity>=6.2.0 in /usr/local/lib/python3.10/dist-packages (from plotly>=5.14.0->pycaret) (8.2.3)\n",
            "Requirement already satisfied: dash>=2.9.0 in /usr/local/lib/python3.10/dist-packages (from plotly-resampler>=0.8.3.1->pycaret) (2.16.1)\n",
            "Requirement already satisfied: orjson<4.0.0,>=3.8.0 in /usr/local/lib/python3.10/dist-packages (from plotly-resampler>=0.8.3.1->pycaret) (3.10.1)\n",
            "Requirement already satisfied: tsdownsample>=0.1.3 in /usr/local/lib/python3.10/dist-packages (from plotly-resampler>=0.8.3.1->pycaret) (0.1.3)\n",
            "Requirement already satisfied: Cython!=0.29.18,!=0.29.31,>=0.29 in /usr/local/lib/python3.10/dist-packages (from pmdarima>=2.0.4->pycaret) (3.0.10)\n",
            "Requirement already satisfied: urllib3 in /usr/local/lib/python3.10/dist-packages (from pmdarima>=2.0.4->pycaret) (2.0.7)\n",
            "Requirement already satisfied: six in /usr/local/lib/python3.10/dist-packages (from pyod>=1.1.3->pycaret) (1.16.0)\n",
            "Requirement already satisfied: charset-normalizer<4,>=2 in /usr/local/lib/python3.10/dist-packages (from requests>=2.27.1->pycaret) (3.3.2)\n",
            "Requirement already satisfied: idna<4,>=2.5 in /usr/local/lib/python3.10/dist-packages (from requests>=2.27.1->pycaret) (3.7)\n",
            "Requirement already satisfied: certifi>=2017.4.17 in /usr/local/lib/python3.10/dist-packages (from requests>=2.27.1->pycaret) (2024.2.2)\n",
            "Requirement already satisfied: Flask<3.1,>=1.0.4 in /usr/local/lib/python3.10/dist-packages (from dash>=2.9.0->plotly-resampler>=0.8.3.1->pycaret) (2.2.5)\n",
            "Requirement already satisfied: Werkzeug<3.1 in /usr/local/lib/python3.10/dist-packages (from dash>=2.9.0->plotly-resampler>=0.8.3.1->pycaret) (3.0.2)\n",
            "Requirement already satisfied: dash-html-components==2.0.0 in /usr/local/lib/python3.10/dist-packages (from dash>=2.9.0->plotly-resampler>=0.8.3.1->pycaret) (2.0.0)\n",
            "Requirement already satisfied: dash-core-components==2.0.0 in /usr/local/lib/python3.10/dist-packages (from dash>=2.9.0->plotly-resampler>=0.8.3.1->pycaret) (2.0.0)\n",
            "Requirement already satisfied: dash-table==5.0.0 in /usr/local/lib/python3.10/dist-packages (from dash>=2.9.0->plotly-resampler>=0.8.3.1->pycaret) (5.0.0)\n",
            "Requirement already satisfied: typing-extensions>=4.1.1 in /usr/local/lib/python3.10/dist-packages (from dash>=2.9.0->plotly-resampler>=0.8.3.1->pycaret) (4.11.0)\n",
            "Requirement already satisfied: retrying in /usr/local/lib/python3.10/dist-packages (from dash>=2.9.0->plotly-resampler>=0.8.3.1->pycaret) (1.3.4)\n",
            "Requirement already satisfied: nest-asyncio in /usr/local/lib/python3.10/dist-packages (from dash>=2.9.0->plotly-resampler>=0.8.3.1->pycaret) (1.6.0)\n",
            "Requirement already satisfied: jupyter-client in /usr/local/lib/python3.10/dist-packages (from ipykernel>=4.5.1->ipywidgets>=7.6.5->pycaret) (6.1.12)\n",
            "Requirement already satisfied: tornado>=4.2 in /usr/local/lib/python3.10/dist-packages (from ipykernel>=4.5.1->ipywidgets>=7.6.5->pycaret) (6.3.3)\n",
            "Requirement already satisfied: parso<0.9.0,>=0.8.3 in /usr/local/lib/python3.10/dist-packages (from jedi>=0.16->ipython>=5.5.0->pycaret) (0.8.4)\n",
            "Requirement already satisfied: attrs>=22.2.0 in /usr/local/lib/python3.10/dist-packages (from jsonschema>=2.6->nbformat>=4.2.0->pycaret) (23.2.0)\n",
            "Requirement already satisfied: jsonschema-specifications>=2023.03.6 in /usr/local/lib/python3.10/dist-packages (from jsonschema>=2.6->nbformat>=4.2.0->pycaret) (2023.12.1)\n",
            "Requirement already satisfied: referencing>=0.28.4 in /usr/local/lib/python3.10/dist-packages (from jsonschema>=2.6->nbformat>=4.2.0->pycaret) (0.34.0)\n",
            "Requirement already satisfied: rpds-py>=0.7.1 in /usr/local/lib/python3.10/dist-packages (from jsonschema>=2.6->nbformat>=4.2.0->pycaret) (0.18.0)\n",
            "Requirement already satisfied: platformdirs>=2.5 in /usr/local/lib/python3.10/dist-packages (from jupyter-core!=5.0.*,>=4.12->nbformat>=4.2.0->pycaret) (4.2.0)\n",
            "Requirement already satisfied: ptyprocess>=0.5 in /usr/local/lib/python3.10/dist-packages (from pexpect>4.3->ipython>=5.5.0->pycaret) (0.7.0)\n",
            "Requirement already satisfied: wcwidth in /usr/local/lib/python3.10/dist-packages (from prompt-toolkit!=3.0.0,!=3.0.1,<3.1.0,>=2.0.0->ipython>=5.5.0->pycaret) (0.2.13)\n",
            "Requirement already satisfied: notebook>=4.4.1 in /usr/local/lib/python3.10/dist-packages (from widgetsnbextension~=3.6.0->ipywidgets>=7.6.5->pycaret) (6.5.5)\n",
            "Requirement already satisfied: itsdangerous>=2.0 in /usr/local/lib/python3.10/dist-packages (from Flask<3.1,>=1.0.4->dash>=2.9.0->plotly-resampler>=0.8.3.1->pycaret) (2.2.0)\n",
            "Requirement already satisfied: click>=8.0 in /usr/local/lib/python3.10/dist-packages (from Flask<3.1,>=1.0.4->dash>=2.9.0->plotly-resampler>=0.8.3.1->pycaret) (8.1.7)\n",
            "Requirement already satisfied: pyzmq<25,>=17 in /usr/local/lib/python3.10/dist-packages (from notebook>=4.4.1->widgetsnbextension~=3.6.0->ipywidgets>=7.6.5->pycaret) (23.2.1)\n",
            "Requirement already satisfied: argon2-cffi in /usr/local/lib/python3.10/dist-packages (from notebook>=4.4.1->widgetsnbextension~=3.6.0->ipywidgets>=7.6.5->pycaret) (23.1.0)\n",
            "Requirement already satisfied: nbconvert>=5 in /usr/local/lib/python3.10/dist-packages (from notebook>=4.4.1->widgetsnbextension~=3.6.0->ipywidgets>=7.6.5->pycaret) (6.5.4)\n",
            "Requirement already satisfied: Send2Trash>=1.8.0 in /usr/local/lib/python3.10/dist-packages (from notebook>=4.4.1->widgetsnbextension~=3.6.0->ipywidgets>=7.6.5->pycaret) (1.8.3)\n",
            "Requirement already satisfied: terminado>=0.8.3 in /usr/local/lib/python3.10/dist-packages (from notebook>=4.4.1->widgetsnbextension~=3.6.0->ipywidgets>=7.6.5->pycaret) (0.18.1)\n",
            "Requirement already satisfied: prometheus-client in /usr/local/lib/python3.10/dist-packages (from notebook>=4.4.1->widgetsnbextension~=3.6.0->ipywidgets>=7.6.5->pycaret) (0.20.0)\n",
            "Requirement already satisfied: nbclassic>=0.4.7 in /usr/local/lib/python3.10/dist-packages (from notebook>=4.4.1->widgetsnbextension~=3.6.0->ipywidgets>=7.6.5->pycaret) (1.0.0)\n",
            "Requirement already satisfied: jupyter-server>=1.8 in /usr/local/lib/python3.10/dist-packages (from nbclassic>=0.4.7->notebook>=4.4.1->widgetsnbextension~=3.6.0->ipywidgets>=7.6.5->pycaret) (1.24.0)\n",
            "Requirement already satisfied: notebook-shim>=0.2.3 in /usr/local/lib/python3.10/dist-packages (from nbclassic>=0.4.7->notebook>=4.4.1->widgetsnbextension~=3.6.0->ipywidgets>=7.6.5->pycaret) (0.2.4)\n",
            "Requirement already satisfied: lxml in /usr/local/lib/python3.10/dist-packages (from nbconvert>=5->notebook>=4.4.1->widgetsnbextension~=3.6.0->ipywidgets>=7.6.5->pycaret) (4.9.4)\n",
            "Requirement already satisfied: beautifulsoup4 in /usr/local/lib/python3.10/dist-packages (from nbconvert>=5->notebook>=4.4.1->widgetsnbextension~=3.6.0->ipywidgets>=7.6.5->pycaret) (4.12.3)\n",
            "Requirement already satisfied: bleach in /usr/local/lib/python3.10/dist-packages (from nbconvert>=5->notebook>=4.4.1->widgetsnbextension~=3.6.0->ipywidgets>=7.6.5->pycaret) (6.1.0)\n",
            "Requirement already satisfied: defusedxml in /usr/local/lib/python3.10/dist-packages (from nbconvert>=5->notebook>=4.4.1->widgetsnbextension~=3.6.0->ipywidgets>=7.6.5->pycaret) (0.7.1)\n",
            "Requirement already satisfied: entrypoints>=0.2.2 in /usr/local/lib/python3.10/dist-packages (from nbconvert>=5->notebook>=4.4.1->widgetsnbextension~=3.6.0->ipywidgets>=7.6.5->pycaret) (0.4)\n",
            "Requirement already satisfied: jupyterlab-pygments in /usr/local/lib/python3.10/dist-packages (from nbconvert>=5->notebook>=4.4.1->widgetsnbextension~=3.6.0->ipywidgets>=7.6.5->pycaret) (0.3.0)\n",
            "Requirement already satisfied: mistune<2,>=0.8.1 in /usr/local/lib/python3.10/dist-packages (from nbconvert>=5->notebook>=4.4.1->widgetsnbextension~=3.6.0->ipywidgets>=7.6.5->pycaret) (0.8.4)\n",
            "Requirement already satisfied: nbclient>=0.5.0 in /usr/local/lib/python3.10/dist-packages (from nbconvert>=5->notebook>=4.4.1->widgetsnbextension~=3.6.0->ipywidgets>=7.6.5->pycaret) (0.10.0)\n",
            "Requirement already satisfied: pandocfilters>=1.4.1 in /usr/local/lib/python3.10/dist-packages (from nbconvert>=5->notebook>=4.4.1->widgetsnbextension~=3.6.0->ipywidgets>=7.6.5->pycaret) (1.5.1)\n",
            "Requirement already satisfied: tinycss2 in /usr/local/lib/python3.10/dist-packages (from nbconvert>=5->notebook>=4.4.1->widgetsnbextension~=3.6.0->ipywidgets>=7.6.5->pycaret) (1.2.1)\n",
            "Requirement already satisfied: argon2-cffi-bindings in /usr/local/lib/python3.10/dist-packages (from argon2-cffi->notebook>=4.4.1->widgetsnbextension~=3.6.0->ipywidgets>=7.6.5->pycaret) (21.2.0)\n",
            "Requirement already satisfied: anyio<4,>=3.1.0 in /usr/local/lib/python3.10/dist-packages (from jupyter-server>=1.8->nbclassic>=0.4.7->notebook>=4.4.1->widgetsnbextension~=3.6.0->ipywidgets>=7.6.5->pycaret) (3.7.1)\n",
            "Requirement already satisfied: websocket-client in /usr/local/lib/python3.10/dist-packages (from jupyter-server>=1.8->nbclassic>=0.4.7->notebook>=4.4.1->widgetsnbextension~=3.6.0->ipywidgets>=7.6.5->pycaret) (1.7.0)\n",
            "Requirement already satisfied: cffi>=1.0.1 in /usr/local/lib/python3.10/dist-packages (from argon2-cffi-bindings->argon2-cffi->notebook>=4.4.1->widgetsnbextension~=3.6.0->ipywidgets>=7.6.5->pycaret) (1.16.0)\n",
            "Requirement already satisfied: soupsieve>1.2 in /usr/local/lib/python3.10/dist-packages (from beautifulsoup4->nbconvert>=5->notebook>=4.4.1->widgetsnbextension~=3.6.0->ipywidgets>=7.6.5->pycaret) (2.5)\n",
            "Requirement already satisfied: webencodings in /usr/local/lib/python3.10/dist-packages (from bleach->nbconvert>=5->notebook>=4.4.1->widgetsnbextension~=3.6.0->ipywidgets>=7.6.5->pycaret) (0.5.1)\n",
            "Requirement already satisfied: sniffio>=1.1 in /usr/local/lib/python3.10/dist-packages (from anyio<4,>=3.1.0->jupyter-server>=1.8->nbclassic>=0.4.7->notebook>=4.4.1->widgetsnbextension~=3.6.0->ipywidgets>=7.6.5->pycaret) (1.3.1)\n",
            "Requirement already satisfied: exceptiongroup in /usr/local/lib/python3.10/dist-packages (from anyio<4,>=3.1.0->jupyter-server>=1.8->nbclassic>=0.4.7->notebook>=4.4.1->widgetsnbextension~=3.6.0->ipywidgets>=7.6.5->pycaret) (1.2.1)\n",
            "Requirement already satisfied: pycparser in /usr/local/lib/python3.10/dist-packages (from cffi>=1.0.1->argon2-cffi-bindings->argon2-cffi->notebook>=4.4.1->widgetsnbextension~=3.6.0->ipywidgets>=7.6.5->pycaret) (2.22)\n"
          ]
        }
      ],
      "source": [
        "# paquetes necesarios\n",
        "!pip install pycaret\n",
        "\n",
        "# Librerias necearias\n",
        "from google.colab import files  # carga de datos\n",
        "import pandas as pd # manipulación de bases de datos\n",
        "import numpy as np # manipulación de bases de datos\n",
        "#import gender_guesser.detector as gender\n",
        "#import gender_guesser.detector as gender # estimación de género a partir del primer y segundo nombre"
      ]
    },
    {
      "cell_type": "code",
      "source": [
        "from google.colab import files\n",
        "import pandas as pd\n",
        "\n",
        "# Cargar el archivo CSV\n",
        "uploaded = files.upload()"
      ],
      "metadata": {
        "colab": {
          "base_uri": "https://localhost:8080/",
          "height": 73
        },
        "id": "P75zacOIEuME",
        "outputId": "c8c57c38-1063-458d-8354-148d2542fee1"
      },
      "execution_count": 46,
      "outputs": [
        {
          "output_type": "display_data",
          "data": {
            "text/plain": [
              "<IPython.core.display.HTML object>"
            ],
            "text/html": [
              "\n",
              "     <input type=\"file\" id=\"files-382600bb-16f3-4a6e-87f0-c37bc19c9692\" name=\"files[]\" multiple disabled\n",
              "        style=\"border:none\" />\n",
              "     <output id=\"result-382600bb-16f3-4a6e-87f0-c37bc19c9692\">\n",
              "      Upload widget is only available when the cell has been executed in the\n",
              "      current browser session. Please rerun this cell to enable.\n",
              "      </output>\n",
              "      <script>// Copyright 2017 Google LLC\n",
              "//\n",
              "// Licensed under the Apache License, Version 2.0 (the \"License\");\n",
              "// you may not use this file except in compliance with the License.\n",
              "// You may obtain a copy of the License at\n",
              "//\n",
              "//      http://www.apache.org/licenses/LICENSE-2.0\n",
              "//\n",
              "// Unless required by applicable law or agreed to in writing, software\n",
              "// distributed under the License is distributed on an \"AS IS\" BASIS,\n",
              "// WITHOUT WARRANTIES OR CONDITIONS OF ANY KIND, either express or implied.\n",
              "// See the License for the specific language governing permissions and\n",
              "// limitations under the License.\n",
              "\n",
              "/**\n",
              " * @fileoverview Helpers for google.colab Python module.\n",
              " */\n",
              "(function(scope) {\n",
              "function span(text, styleAttributes = {}) {\n",
              "  const element = document.createElement('span');\n",
              "  element.textContent = text;\n",
              "  for (const key of Object.keys(styleAttributes)) {\n",
              "    element.style[key] = styleAttributes[key];\n",
              "  }\n",
              "  return element;\n",
              "}\n",
              "\n",
              "// Max number of bytes which will be uploaded at a time.\n",
              "const MAX_PAYLOAD_SIZE = 100 * 1024;\n",
              "\n",
              "function _uploadFiles(inputId, outputId) {\n",
              "  const steps = uploadFilesStep(inputId, outputId);\n",
              "  const outputElement = document.getElementById(outputId);\n",
              "  // Cache steps on the outputElement to make it available for the next call\n",
              "  // to uploadFilesContinue from Python.\n",
              "  outputElement.steps = steps;\n",
              "\n",
              "  return _uploadFilesContinue(outputId);\n",
              "}\n",
              "\n",
              "// This is roughly an async generator (not supported in the browser yet),\n",
              "// where there are multiple asynchronous steps and the Python side is going\n",
              "// to poll for completion of each step.\n",
              "// This uses a Promise to block the python side on completion of each step,\n",
              "// then passes the result of the previous step as the input to the next step.\n",
              "function _uploadFilesContinue(outputId) {\n",
              "  const outputElement = document.getElementById(outputId);\n",
              "  const steps = outputElement.steps;\n",
              "\n",
              "  const next = steps.next(outputElement.lastPromiseValue);\n",
              "  return Promise.resolve(next.value.promise).then((value) => {\n",
              "    // Cache the last promise value to make it available to the next\n",
              "    // step of the generator.\n",
              "    outputElement.lastPromiseValue = value;\n",
              "    return next.value.response;\n",
              "  });\n",
              "}\n",
              "\n",
              "/**\n",
              " * Generator function which is called between each async step of the upload\n",
              " * process.\n",
              " * @param {string} inputId Element ID of the input file picker element.\n",
              " * @param {string} outputId Element ID of the output display.\n",
              " * @return {!Iterable<!Object>} Iterable of next steps.\n",
              " */\n",
              "function* uploadFilesStep(inputId, outputId) {\n",
              "  const inputElement = document.getElementById(inputId);\n",
              "  inputElement.disabled = false;\n",
              "\n",
              "  const outputElement = document.getElementById(outputId);\n",
              "  outputElement.innerHTML = '';\n",
              "\n",
              "  const pickedPromise = new Promise((resolve) => {\n",
              "    inputElement.addEventListener('change', (e) => {\n",
              "      resolve(e.target.files);\n",
              "    });\n",
              "  });\n",
              "\n",
              "  const cancel = document.createElement('button');\n",
              "  inputElement.parentElement.appendChild(cancel);\n",
              "  cancel.textContent = 'Cancel upload';\n",
              "  const cancelPromise = new Promise((resolve) => {\n",
              "    cancel.onclick = () => {\n",
              "      resolve(null);\n",
              "    };\n",
              "  });\n",
              "\n",
              "  // Wait for the user to pick the files.\n",
              "  const files = yield {\n",
              "    promise: Promise.race([pickedPromise, cancelPromise]),\n",
              "    response: {\n",
              "      action: 'starting',\n",
              "    }\n",
              "  };\n",
              "\n",
              "  cancel.remove();\n",
              "\n",
              "  // Disable the input element since further picks are not allowed.\n",
              "  inputElement.disabled = true;\n",
              "\n",
              "  if (!files) {\n",
              "    return {\n",
              "      response: {\n",
              "        action: 'complete',\n",
              "      }\n",
              "    };\n",
              "  }\n",
              "\n",
              "  for (const file of files) {\n",
              "    const li = document.createElement('li');\n",
              "    li.append(span(file.name, {fontWeight: 'bold'}));\n",
              "    li.append(span(\n",
              "        `(${file.type || 'n/a'}) - ${file.size} bytes, ` +\n",
              "        `last modified: ${\n",
              "            file.lastModifiedDate ? file.lastModifiedDate.toLocaleDateString() :\n",
              "                                    'n/a'} - `));\n",
              "    const percent = span('0% done');\n",
              "    li.appendChild(percent);\n",
              "\n",
              "    outputElement.appendChild(li);\n",
              "\n",
              "    const fileDataPromise = new Promise((resolve) => {\n",
              "      const reader = new FileReader();\n",
              "      reader.onload = (e) => {\n",
              "        resolve(e.target.result);\n",
              "      };\n",
              "      reader.readAsArrayBuffer(file);\n",
              "    });\n",
              "    // Wait for the data to be ready.\n",
              "    let fileData = yield {\n",
              "      promise: fileDataPromise,\n",
              "      response: {\n",
              "        action: 'continue',\n",
              "      }\n",
              "    };\n",
              "\n",
              "    // Use a chunked sending to avoid message size limits. See b/62115660.\n",
              "    let position = 0;\n",
              "    do {\n",
              "      const length = Math.min(fileData.byteLength - position, MAX_PAYLOAD_SIZE);\n",
              "      const chunk = new Uint8Array(fileData, position, length);\n",
              "      position += length;\n",
              "\n",
              "      const base64 = btoa(String.fromCharCode.apply(null, chunk));\n",
              "      yield {\n",
              "        response: {\n",
              "          action: 'append',\n",
              "          file: file.name,\n",
              "          data: base64,\n",
              "        },\n",
              "      };\n",
              "\n",
              "      let percentDone = fileData.byteLength === 0 ?\n",
              "          100 :\n",
              "          Math.round((position / fileData.byteLength) * 100);\n",
              "      percent.textContent = `${percentDone}% done`;\n",
              "\n",
              "    } while (position < fileData.byteLength);\n",
              "  }\n",
              "\n",
              "  // All done.\n",
              "  yield {\n",
              "    response: {\n",
              "      action: 'complete',\n",
              "    }\n",
              "  };\n",
              "}\n",
              "\n",
              "scope.google = scope.google || {};\n",
              "scope.google.colab = scope.google.colab || {};\n",
              "scope.google.colab._files = {\n",
              "  _uploadFiles,\n",
              "  _uploadFilesContinue,\n",
              "};\n",
              "})(self);\n",
              "</script> "
            ]
          },
          "metadata": {}
        },
        {
          "output_type": "stream",
          "name": "stdout",
          "text": [
            "Saving fraude_model.csv to fraude_model.csv\n"
          ]
        }
      ]
    },
    {
      "cell_type": "code",
      "source": [
        "# Ruta al archivo xlsx en Google Colab\n",
        "ruta_archivo = '/content/fraude_model.csv'  # Asegúrate de que la ruta sea correcta según la ubicación del archivo cargado\n",
        "\n",
        "# Leer el archivo xlsx usando pandas\n",
        "datos = pd.read_csv(ruta_archivo,sep='|', encoding='latin1')\n",
        "datos=pd.DataFrame(datos)"
      ],
      "metadata": {
        "id": "L9TirQPBEyEc"
      },
      "execution_count": 47,
      "outputs": []
    },
    {
      "cell_type": "code",
      "source": [
        "print(datos.shape)"
      ],
      "metadata": {
        "colab": {
          "base_uri": "https://localhost:8080/"
        },
        "id": "kCuQK-X4E4VF",
        "outputId": "98808ecd-db66-43e4-c3d4-cf5027fb1907"
      },
      "execution_count": 48,
      "outputs": [
        {
          "output_type": "stream",
          "name": "stdout",
          "text": [
            "(58197, 35)\n"
          ]
        }
      ]
    },
    {
      "cell_type": "code",
      "source": [
        "datos_numericos = datos.select_dtypes(include=['int', 'float'])\n",
        "\n",
        "# Mostrar los tipos de datos de las columnas seleccionadas\n",
        "print(datos_numericos.dtypes)"
      ],
      "metadata": {
        "colab": {
          "base_uri": "https://localhost:8080/"
        },
        "id": "6UiZSOx3FVvu",
        "outputId": "9f60cfc2-e0c3-4cec-bf84-a92e6305d94f"
      },
      "execution_count": 49,
      "outputs": [
        {
          "output_type": "stream",
          "name": "stdout",
          "text": [
            "UTRNNO                  int64\n",
            "TRANS_TYPE              int64\n",
            "MSGTYPE                 int64\n",
            "Cod_Aprovacion        float64\n",
            "respuesta               int64\n",
            "POS_ENTRY_MODE          int64\n",
            "POS_CONDITION_CODE      int64\n",
            "ECI                   float64\n",
            "MCC                     int64\n",
            "bin_amount            float64\n",
            "country_number        float64\n",
            "Testeos                 int64\n",
            "Fraude                  int64\n",
            "dtype: object\n"
          ]
        }
      ]
    },
    {
      "cell_type": "code",
      "source": [
        "columnas = ['UTRNNO', 'TRANS_TYPE','MSGTYPE', 'Cod_Aprovacion','respuesta','POS_ENTRY_MODE','POS_CONDITION_CODE','ECI', 'MCC', 'country_number','Fraude','Testeos']\n",
        "\n",
        "datos[columnas] = datos[columnas].astype(str)\n",
        "print(datos.head())"
      ],
      "metadata": {
        "colab": {
          "base_uri": "https://localhost:8080/"
        },
        "id": "aZaMmaDlNf4P",
        "outputId": "bc84e799-d57c-421b-a564-050d3b079ae9"
      },
      "execution_count": 50,
      "outputs": [
        {
          "output_type": "stream",
          "name": "stdout",
          "text": [
            "         UTRNNO                    TTIME TRANS_TYPE    amount MSGTYPE  \\\n",
            "0  144770802315  2023-12-01T00:00:45.877        680   6500,00    1120   \n",
            "1  144770802584  2023-12-01T00:01:06.663        774     20,00    1120   \n",
            "2  144770802830  2023-12-01T00:01:26.387        680     13,57    1120   \n",
            "3  144770803005  2023-12-01T00:01:38.193        680  27900,00    1120   \n",
            "4  144770803143  2023-12-01T00:01:49.383        680     17,00    1120   \n",
            "\n",
            "  Cod_Aprovacion respuesta POS_ENTRY_MODE POS_CONDITION_CODE  ECI  ...  \\\n",
            "0       305562.0        -1              1                 59  7.0  ...   \n",
            "1            nan       953             10                  1  nan  ...   \n",
            "2            nan       909              1                 59  7.0  ...   \n",
            "3            nan       953             10                  8  2.0  ...   \n",
            "4       145579.0        -1              1                 59  7.0  ...   \n",
            "\n",
            "  pos_entry_mode_description    pos_condition_code_description  \\\n",
            "0       KEY ENTERED / MANUAL  TRANSACCION COMERCIO ELECTRONICO   \n",
            "1                        NaN                               NaN   \n",
            "2       KEY ENTERED / MANUAL  TRANSACCION COMERCIO ELECTRONICO   \n",
            "3                        NaN                               NaN   \n",
            "4       KEY ENTERED / MANUAL  TRANSACCION COMERCIO ELECTRONICO   \n",
            "\n",
            "                           ECI_description country_number            Moneda  \\\n",
            "0  Transacción de seguridad no autenticada          170.0   PESO COLOMBIANO   \n",
            "1                                      NaN          440.0  LITHUANIAN LITAS   \n",
            "2  Transacción de seguridad no autenticada          840.0         US DOLLAR   \n",
            "3                   Transacción recurrente          840.0         US DOLLAR   \n",
            "4  Transacción de seguridad no autenticada          250.0              EURO   \n",
            "\n",
            "     Ambiente2 Aprobacion_tx Testeos Fraude  Naturaleza  \n",
            "0  No Presente      Aprobada       0      0     credito  \n",
            "1  No Presente     Rechazada       0      0     credito  \n",
            "2  No Presente     Rechazada       0      0     credito  \n",
            "3  No Presente     Rechazada       0      0     credito  \n",
            "4  No Presente      Aprobada       0      0      debito  \n",
            "\n",
            "[5 rows x 35 columns]\n"
          ]
        }
      ]
    },
    {
      "cell_type": "code",
      "source": [
        "datos_numericos = datos.select_dtypes(include=['int', 'float'])\n",
        "\n",
        "# Mostrar los tipos de datos de las columnas seleccionadas\n",
        "print(datos_numericos.dtypes)"
      ],
      "metadata": {
        "colab": {
          "base_uri": "https://localhost:8080/"
        },
        "id": "6G0p6Z55Fbcm",
        "outputId": "c23b7391-6637-4ed1-e44e-81b1e1db1173"
      },
      "execution_count": 51,
      "outputs": [
        {
          "output_type": "stream",
          "name": "stdout",
          "text": [
            "bin_amount    float64\n",
            "dtype: object\n"
          ]
        }
      ]
    },
    {
      "cell_type": "markdown",
      "source": [
        "# ¿Cómo evitar el sobreajuste del modelo ?\n",
        "\n",
        "* Evitar el sobreajuste (overfitting) es fundamental para desarrollar modelos de aprendizaje automático que generalicen bien a datos no vistos. Aquí tienes algunas técnicas comunes para mitigar el sobreajuste:\n",
        "\n",
        "* Conjunto de datos más grande: A menudo, el sobreajuste ocurre cuando el modelo memoriza el ruido en el conjunto de datos de entrenamiento. Al tener más datos, el modelo puede aprender patrones más generales y reducir la probabilidad de memorizar el ruido.\n",
        "* Validación cruzada: Utiliza la validación cruzada para evaluar el rendimiento del modelo en datos que no se utilizaron en el entrenamiento. Esto puede ayudar a detectar si el modelo está sobreajustando al comparar el rendimiento en los datos de entrenamiento y en los datos de validación.\n",
        "* Regularización: Agrega términos de regularización a la función de pérdida durante el entrenamiento del modelo. Por ejemplo, en modelos lineales, la regularización L1 (Lasso) y L2 (Ridge) penalizan los coeficientes grandes. En modelos basados en árboles, puedes ajustar parámetros como la profundidad máxima del árbol para controlar su complejidad.\n",
        "* Selección de características: Elimina características irrelevantes o redundantes que puedan estar introduciendo ruido en el modelo. Una selección cuidadosa de características puede ayudar a reducir la complejidad del modelo y evitar el sobreajuste.\n",
        "* Cross-Validation de hiperparámetros: Realiza la búsqueda de hiperparámetros utilizando validación cruzada en lugar de simplemente dividir el conjunto de datos en entrenamiento y validación una sola vez. Esto ayuda a encontrar los hiperparámetros que producen un modelo generalizable en lugar de uno que se ajuste demasiado al conjunto de datos de entrenamiento.\n",
        "* Regularización de dropout: En modelos de redes neuronales, el dropout es una técnica que consiste en aleatoriamente \"apagar\" neuronas durante el entrenamiento para evitar que el modelo se vuelva demasiado dependiente de características específicas.\n",
        "* Aumento de datos: Genera datos adicionales a partir del conjunto de datos existente mediante técnicas como rotaciones, traslaciones, recortes, zooms, etc. Esto puede ayudar al modelo a capturar mejor la variabilidad de los datos y reducir el riesgo de sobreajuste.\n",
        "* Al implementar estas técnicas de forma apropiada, puedes ayudar a evitar el sobreajuste y desarrollar modelos más robustos y generalizables."
      ],
      "metadata": {
        "id": "Tq9ehDUmRu5X"
      }
    },
    {
      "cell_type": "code",
      "source": [
        "datos.shape"
      ],
      "metadata": {
        "colab": {
          "base_uri": "https://localhost:8080/"
        },
        "id": "J3TpsKt7-YZ8",
        "outputId": "69214b0e-cb90-4294-f6a2-fad74a7455e8"
      },
      "execution_count": 52,
      "outputs": [
        {
          "output_type": "execute_result",
          "data": {
            "text/plain": [
              "(58197, 35)"
            ]
          },
          "metadata": {},
          "execution_count": 52
        }
      ]
    },
    {
      "cell_type": "code",
      "source": [
        "datos.columns"
      ],
      "metadata": {
        "colab": {
          "base_uri": "https://localhost:8080/"
        },
        "id": "c-0CvNoOOZjP",
        "outputId": "4bb035bc-01d8-4506-b8ee-1898a723c6a8"
      },
      "execution_count": 53,
      "outputs": [
        {
          "output_type": "execute_result",
          "data": {
            "text/plain": [
              "Index(['UTRNNO', 'TTIME', 'TRANS_TYPE', 'amount', 'MSGTYPE', 'Cod_Aprovacion',\n",
              "       'respuesta', 'POS_ENTRY_MODE', 'POS_CONDITION_CODE', 'ECI',\n",
              "       'AUTORIZADOR', 'Comercio', 'MCC', 'Terminal', 'Nombre_Comercio',\n",
              "       'Ciudad', 'COUNTRY_CODE', 'DATE_TIME', 'CARD_DATA_INPUT_MODE',\n",
              "       'bin_amount', 'card_data_input_mode_description',\n",
              "       'Tipo_Mensaje_description', 'Descripcion_Mcc', 'Description Ingles',\n",
              "       'TRANSACTION DESCRIPTION', 'pos_entry_mode_description',\n",
              "       'pos_condition_code_description', 'ECI_description', 'country_number',\n",
              "       'Moneda', 'Ambiente2', 'Aprobacion_tx', 'Testeos', 'Fraude',\n",
              "       'Naturaleza'],\n",
              "      dtype='object')"
            ]
          },
          "metadata": {},
          "execution_count": 53
        }
      ]
    },
    {
      "cell_type": "code",
      "source": [
        "# data=datosf.sample(frac=0.75,random_state=786).reset_index(drop=True) # entrenamiento\n",
        "# data_unusen =datos.drop(data.index).reset_index(drop=True) # testeo\n",
        "#data_unusen = datosf.drop(data.index).reset_index(drop=True)\n",
        "\n",
        "\n",
        "# Separar las bases de datos en conjunto de entrenamiento y conjunto de prueba\n",
        "#data = datosf.sample(frac=0.75, random_state=786).reset_index(drop=True)  # Conjunto de entrenamiento\n",
        "#data_unusen = datosf.drop(data.index).reset_index(drop=True)             # Conjunto de prueba\n",
        "\n",
        "data=datos.sample(frac=0.75,random_state=786).reset_index(drop=True) # entrenamiento\n",
        "data_unusen =datos.drop(data.index).reset_index(drop=True) # testeo\n",
        "\n",
        "\n",
        "# Verificar el tamaño de los conjuntos de entrenamiento y prueba\n",
        "print(\"Tamaño del conjunto de entrenamiento:\", data.shape)\n",
        "print(\"Tamaño del conjunto de prueba:\", data_unusen.shape)\n",
        "\n"
      ],
      "metadata": {
        "colab": {
          "base_uri": "https://localhost:8080/"
        },
        "id": "EzNvRwZVFfxc",
        "outputId": "0e0292d7-e6aa-432c-c865-94c584655981"
      },
      "execution_count": 54,
      "outputs": [
        {
          "output_type": "stream",
          "name": "stdout",
          "text": [
            "Tamaño del conjunto de entrenamiento: (43648, 35)\n",
            "Tamaño del conjunto de prueba: (14549, 35)\n"
          ]
        }
      ]
    },
    {
      "cell_type": "code",
      "source": [
        "data.dtypes"
      ],
      "metadata": {
        "id": "acPegQgIXqUL",
        "outputId": "1dd6bc11-194b-4a1f-d873-e73c9070632f",
        "colab": {
          "base_uri": "https://localhost:8080/"
        }
      },
      "execution_count": 77,
      "outputs": [
        {
          "output_type": "execute_result",
          "data": {
            "text/plain": [
              "UTRNNO                               object\n",
              "TTIME                                object\n",
              "TRANS_TYPE                           object\n",
              "amount                               object\n",
              "MSGTYPE                              object\n",
              "Cod_Aprovacion                       object\n",
              "respuesta                            object\n",
              "POS_ENTRY_MODE                       object\n",
              "POS_CONDITION_CODE                   object\n",
              "ECI                                  object\n",
              "AUTORIZADOR                          object\n",
              "Comercio                             object\n",
              "MCC                                  object\n",
              "Terminal                             object\n",
              "Nombre_Comercio                      object\n",
              "Ciudad                               object\n",
              "COUNTRY_CODE                         object\n",
              "DATE_TIME                            object\n",
              "CARD_DATA_INPUT_MODE                 object\n",
              "bin_amount                          float64\n",
              "card_data_input_mode_description     object\n",
              "Tipo_Mensaje_description             object\n",
              "Descripcion_Mcc                      object\n",
              "Description Ingles                   object\n",
              "TRANSACTION DESCRIPTION              object\n",
              "pos_entry_mode_description           object\n",
              "pos_condition_code_description       object\n",
              "ECI_description                      object\n",
              "country_number                       object\n",
              "Moneda                               object\n",
              "Ambiente2                            object\n",
              "Aprobacion_tx                        object\n",
              "Testeos                              object\n",
              "Fraude                               object\n",
              "Naturaleza                           object\n",
              "dtype: object"
            ]
          },
          "metadata": {},
          "execution_count": 77
        }
      ]
    },
    {
      "cell_type": "code",
      "source": [
        "data.head()"
      ],
      "metadata": {
        "id": "4kmoUvR6YRVG",
        "outputId": "6b4323ee-a932-4277-d66f-19859f717ea8",
        "colab": {
          "base_uri": "https://localhost:8080/",
          "height": 359
        }
      },
      "execution_count": 78,
      "outputs": [
        {
          "output_type": "execute_result",
          "data": {
            "text/plain": [
              "         UTRNNO                    TTIME TRANS_TYPE     amount MSGTYPE  \\\n",
              "0  144821323389  2023-12-16T15:18:56.130        796       0,00    1120   \n",
              "1  144778727349  2023-12-02T19:37:01.363        796       0,00    1120   \n",
              "2  144794133740  2023-12-07T11:50:40.623        796       0,00    1120   \n",
              "3  144776124583  2023-12-02T11:08:09.163        774   43137,00    1120   \n",
              "4  144780618089  2023-12-03T12:44:17.913        774  800000,00    1120   \n",
              "\n",
              "  Cod_Aprovacion respuesta POS_ENTRY_MODE POS_CONDITION_CODE  ECI  ...  \\\n",
              "0            nan       812              0                 51  0.0  ...   \n",
              "1        50032.0       827              1                 51  7.0  ...   \n",
              "2            nan       812              0                 51  0.0  ...   \n",
              "3       353286.0        -1              7                  0  nan  ...   \n",
              "4       388509.0        -1              7                  0  nan  ...   \n",
              "\n",
              "  pos_entry_mode_description pos_condition_code_description  \\\n",
              "0          TERMINAL NOT USED     RESERVADO PARA USO PRIVADO   \n",
              "1       KEY ENTERED / MANUAL     RESERVADO PARA USO PRIVADO   \n",
              "2          TERMINAL NOT USED     RESERVADO PARA USO PRIVADO   \n",
              "3                CONTACTLESS                            NaN   \n",
              "4                CONTACTLESS                            NaN   \n",
              "\n",
              "                           ECI_description country_number           Moneda  \\\n",
              "0                                No aplica          170.0  PESO COLOMBIANO   \n",
              "1  Transacción de seguridad no autenticada          442.0             EURO   \n",
              "2                                No aplica          170.0  PESO COLOMBIANO   \n",
              "3                                      NaN          170.0  PESO COLOMBIANO   \n",
              "4                                      NaN          170.0  PESO COLOMBIANO   \n",
              "\n",
              "     Ambiente2 Aprobacion_tx Testeos Fraude  Naturaleza  \n",
              "0  No Presente     Rechazada       1      0     credito  \n",
              "1  No Presente     Rechazada       1      0     credito  \n",
              "2  No Presente     Rechazada       1      0     credito  \n",
              "3     Presente      Aprobada       0      0     credito  \n",
              "4     Presente      Aprobada       0      0     credito  \n",
              "\n",
              "[5 rows x 35 columns]"
            ],
            "text/html": [
              "\n",
              "  <div id=\"df-387b4a7c-ef1d-478d-b7d1-4fd36e6f9a4d\" class=\"colab-df-container\">\n",
              "    <div>\n",
              "<style scoped>\n",
              "    .dataframe tbody tr th:only-of-type {\n",
              "        vertical-align: middle;\n",
              "    }\n",
              "\n",
              "    .dataframe tbody tr th {\n",
              "        vertical-align: top;\n",
              "    }\n",
              "\n",
              "    .dataframe thead th {\n",
              "        text-align: right;\n",
              "    }\n",
              "</style>\n",
              "<table border=\"1\" class=\"dataframe\">\n",
              "  <thead>\n",
              "    <tr style=\"text-align: right;\">\n",
              "      <th></th>\n",
              "      <th>UTRNNO</th>\n",
              "      <th>TTIME</th>\n",
              "      <th>TRANS_TYPE</th>\n",
              "      <th>amount</th>\n",
              "      <th>MSGTYPE</th>\n",
              "      <th>Cod_Aprovacion</th>\n",
              "      <th>respuesta</th>\n",
              "      <th>POS_ENTRY_MODE</th>\n",
              "      <th>POS_CONDITION_CODE</th>\n",
              "      <th>ECI</th>\n",
              "      <th>...</th>\n",
              "      <th>pos_entry_mode_description</th>\n",
              "      <th>pos_condition_code_description</th>\n",
              "      <th>ECI_description</th>\n",
              "      <th>country_number</th>\n",
              "      <th>Moneda</th>\n",
              "      <th>Ambiente2</th>\n",
              "      <th>Aprobacion_tx</th>\n",
              "      <th>Testeos</th>\n",
              "      <th>Fraude</th>\n",
              "      <th>Naturaleza</th>\n",
              "    </tr>\n",
              "  </thead>\n",
              "  <tbody>\n",
              "    <tr>\n",
              "      <th>0</th>\n",
              "      <td>144821323389</td>\n",
              "      <td>2023-12-16T15:18:56.130</td>\n",
              "      <td>796</td>\n",
              "      <td>0,00</td>\n",
              "      <td>1120</td>\n",
              "      <td>nan</td>\n",
              "      <td>812</td>\n",
              "      <td>0</td>\n",
              "      <td>51</td>\n",
              "      <td>0.0</td>\n",
              "      <td>...</td>\n",
              "      <td>TERMINAL NOT USED</td>\n",
              "      <td>RESERVADO PARA USO PRIVADO</td>\n",
              "      <td>No aplica</td>\n",
              "      <td>170.0</td>\n",
              "      <td>PESO COLOMBIANO</td>\n",
              "      <td>No Presente</td>\n",
              "      <td>Rechazada</td>\n",
              "      <td>1</td>\n",
              "      <td>0</td>\n",
              "      <td>credito</td>\n",
              "    </tr>\n",
              "    <tr>\n",
              "      <th>1</th>\n",
              "      <td>144778727349</td>\n",
              "      <td>2023-12-02T19:37:01.363</td>\n",
              "      <td>796</td>\n",
              "      <td>0,00</td>\n",
              "      <td>1120</td>\n",
              "      <td>50032.0</td>\n",
              "      <td>827</td>\n",
              "      <td>1</td>\n",
              "      <td>51</td>\n",
              "      <td>7.0</td>\n",
              "      <td>...</td>\n",
              "      <td>KEY ENTERED / MANUAL</td>\n",
              "      <td>RESERVADO PARA USO PRIVADO</td>\n",
              "      <td>Transacción de seguridad no autenticada</td>\n",
              "      <td>442.0</td>\n",
              "      <td>EURO</td>\n",
              "      <td>No Presente</td>\n",
              "      <td>Rechazada</td>\n",
              "      <td>1</td>\n",
              "      <td>0</td>\n",
              "      <td>credito</td>\n",
              "    </tr>\n",
              "    <tr>\n",
              "      <th>2</th>\n",
              "      <td>144794133740</td>\n",
              "      <td>2023-12-07T11:50:40.623</td>\n",
              "      <td>796</td>\n",
              "      <td>0,00</td>\n",
              "      <td>1120</td>\n",
              "      <td>nan</td>\n",
              "      <td>812</td>\n",
              "      <td>0</td>\n",
              "      <td>51</td>\n",
              "      <td>0.0</td>\n",
              "      <td>...</td>\n",
              "      <td>TERMINAL NOT USED</td>\n",
              "      <td>RESERVADO PARA USO PRIVADO</td>\n",
              "      <td>No aplica</td>\n",
              "      <td>170.0</td>\n",
              "      <td>PESO COLOMBIANO</td>\n",
              "      <td>No Presente</td>\n",
              "      <td>Rechazada</td>\n",
              "      <td>1</td>\n",
              "      <td>0</td>\n",
              "      <td>credito</td>\n",
              "    </tr>\n",
              "    <tr>\n",
              "      <th>3</th>\n",
              "      <td>144776124583</td>\n",
              "      <td>2023-12-02T11:08:09.163</td>\n",
              "      <td>774</td>\n",
              "      <td>43137,00</td>\n",
              "      <td>1120</td>\n",
              "      <td>353286.0</td>\n",
              "      <td>-1</td>\n",
              "      <td>7</td>\n",
              "      <td>0</td>\n",
              "      <td>nan</td>\n",
              "      <td>...</td>\n",
              "      <td>CONTACTLESS</td>\n",
              "      <td>NaN</td>\n",
              "      <td>NaN</td>\n",
              "      <td>170.0</td>\n",
              "      <td>PESO COLOMBIANO</td>\n",
              "      <td>Presente</td>\n",
              "      <td>Aprobada</td>\n",
              "      <td>0</td>\n",
              "      <td>0</td>\n",
              "      <td>credito</td>\n",
              "    </tr>\n",
              "    <tr>\n",
              "      <th>4</th>\n",
              "      <td>144780618089</td>\n",
              "      <td>2023-12-03T12:44:17.913</td>\n",
              "      <td>774</td>\n",
              "      <td>800000,00</td>\n",
              "      <td>1120</td>\n",
              "      <td>388509.0</td>\n",
              "      <td>-1</td>\n",
              "      <td>7</td>\n",
              "      <td>0</td>\n",
              "      <td>nan</td>\n",
              "      <td>...</td>\n",
              "      <td>CONTACTLESS</td>\n",
              "      <td>NaN</td>\n",
              "      <td>NaN</td>\n",
              "      <td>170.0</td>\n",
              "      <td>PESO COLOMBIANO</td>\n",
              "      <td>Presente</td>\n",
              "      <td>Aprobada</td>\n",
              "      <td>0</td>\n",
              "      <td>0</td>\n",
              "      <td>credito</td>\n",
              "    </tr>\n",
              "  </tbody>\n",
              "</table>\n",
              "<p>5 rows × 35 columns</p>\n",
              "</div>\n",
              "    <div class=\"colab-df-buttons\">\n",
              "\n",
              "  <div class=\"colab-df-container\">\n",
              "    <button class=\"colab-df-convert\" onclick=\"convertToInteractive('df-387b4a7c-ef1d-478d-b7d1-4fd36e6f9a4d')\"\n",
              "            title=\"Convert this dataframe to an interactive table.\"\n",
              "            style=\"display:none;\">\n",
              "\n",
              "  <svg xmlns=\"http://www.w3.org/2000/svg\" height=\"24px\" viewBox=\"0 -960 960 960\">\n",
              "    <path d=\"M120-120v-720h720v720H120Zm60-500h600v-160H180v160Zm220 220h160v-160H400v160Zm0 220h160v-160H400v160ZM180-400h160v-160H180v160Zm440 0h160v-160H620v160ZM180-180h160v-160H180v160Zm440 0h160v-160H620v160Z\"/>\n",
              "  </svg>\n",
              "    </button>\n",
              "\n",
              "  <style>\n",
              "    .colab-df-container {\n",
              "      display:flex;\n",
              "      gap: 12px;\n",
              "    }\n",
              "\n",
              "    .colab-df-convert {\n",
              "      background-color: #E8F0FE;\n",
              "      border: none;\n",
              "      border-radius: 50%;\n",
              "      cursor: pointer;\n",
              "      display: none;\n",
              "      fill: #1967D2;\n",
              "      height: 32px;\n",
              "      padding: 0 0 0 0;\n",
              "      width: 32px;\n",
              "    }\n",
              "\n",
              "    .colab-df-convert:hover {\n",
              "      background-color: #E2EBFA;\n",
              "      box-shadow: 0px 1px 2px rgba(60, 64, 67, 0.3), 0px 1px 3px 1px rgba(60, 64, 67, 0.15);\n",
              "      fill: #174EA6;\n",
              "    }\n",
              "\n",
              "    .colab-df-buttons div {\n",
              "      margin-bottom: 4px;\n",
              "    }\n",
              "\n",
              "    [theme=dark] .colab-df-convert {\n",
              "      background-color: #3B4455;\n",
              "      fill: #D2E3FC;\n",
              "    }\n",
              "\n",
              "    [theme=dark] .colab-df-convert:hover {\n",
              "      background-color: #434B5C;\n",
              "      box-shadow: 0px 1px 3px 1px rgba(0, 0, 0, 0.15);\n",
              "      filter: drop-shadow(0px 1px 2px rgba(0, 0, 0, 0.3));\n",
              "      fill: #FFFFFF;\n",
              "    }\n",
              "  </style>\n",
              "\n",
              "    <script>\n",
              "      const buttonEl =\n",
              "        document.querySelector('#df-387b4a7c-ef1d-478d-b7d1-4fd36e6f9a4d button.colab-df-convert');\n",
              "      buttonEl.style.display =\n",
              "        google.colab.kernel.accessAllowed ? 'block' : 'none';\n",
              "\n",
              "      async function convertToInteractive(key) {\n",
              "        const element = document.querySelector('#df-387b4a7c-ef1d-478d-b7d1-4fd36e6f9a4d');\n",
              "        const dataTable =\n",
              "          await google.colab.kernel.invokeFunction('convertToInteractive',\n",
              "                                                    [key], {});\n",
              "        if (!dataTable) return;\n",
              "\n",
              "        const docLinkHtml = 'Like what you see? Visit the ' +\n",
              "          '<a target=\"_blank\" href=https://colab.research.google.com/notebooks/data_table.ipynb>data table notebook</a>'\n",
              "          + ' to learn more about interactive tables.';\n",
              "        element.innerHTML = '';\n",
              "        dataTable['output_type'] = 'display_data';\n",
              "        await google.colab.output.renderOutput(dataTable, element);\n",
              "        const docLink = document.createElement('div');\n",
              "        docLink.innerHTML = docLinkHtml;\n",
              "        element.appendChild(docLink);\n",
              "      }\n",
              "    </script>\n",
              "  </div>\n",
              "\n",
              "\n",
              "<div id=\"df-c84203e2-9008-4495-8670-701a431b2142\">\n",
              "  <button class=\"colab-df-quickchart\" onclick=\"quickchart('df-c84203e2-9008-4495-8670-701a431b2142')\"\n",
              "            title=\"Suggest charts\"\n",
              "            style=\"display:none;\">\n",
              "\n",
              "<svg xmlns=\"http://www.w3.org/2000/svg\" height=\"24px\"viewBox=\"0 0 24 24\"\n",
              "     width=\"24px\">\n",
              "    <g>\n",
              "        <path d=\"M19 3H5c-1.1 0-2 .9-2 2v14c0 1.1.9 2 2 2h14c1.1 0 2-.9 2-2V5c0-1.1-.9-2-2-2zM9 17H7v-7h2v7zm4 0h-2V7h2v10zm4 0h-2v-4h2v4z\"/>\n",
              "    </g>\n",
              "</svg>\n",
              "  </button>\n",
              "\n",
              "<style>\n",
              "  .colab-df-quickchart {\n",
              "      --bg-color: #E8F0FE;\n",
              "      --fill-color: #1967D2;\n",
              "      --hover-bg-color: #E2EBFA;\n",
              "      --hover-fill-color: #174EA6;\n",
              "      --disabled-fill-color: #AAA;\n",
              "      --disabled-bg-color: #DDD;\n",
              "  }\n",
              "\n",
              "  [theme=dark] .colab-df-quickchart {\n",
              "      --bg-color: #3B4455;\n",
              "      --fill-color: #D2E3FC;\n",
              "      --hover-bg-color: #434B5C;\n",
              "      --hover-fill-color: #FFFFFF;\n",
              "      --disabled-bg-color: #3B4455;\n",
              "      --disabled-fill-color: #666;\n",
              "  }\n",
              "\n",
              "  .colab-df-quickchart {\n",
              "    background-color: var(--bg-color);\n",
              "    border: none;\n",
              "    border-radius: 50%;\n",
              "    cursor: pointer;\n",
              "    display: none;\n",
              "    fill: var(--fill-color);\n",
              "    height: 32px;\n",
              "    padding: 0;\n",
              "    width: 32px;\n",
              "  }\n",
              "\n",
              "  .colab-df-quickchart:hover {\n",
              "    background-color: var(--hover-bg-color);\n",
              "    box-shadow: 0 1px 2px rgba(60, 64, 67, 0.3), 0 1px 3px 1px rgba(60, 64, 67, 0.15);\n",
              "    fill: var(--button-hover-fill-color);\n",
              "  }\n",
              "\n",
              "  .colab-df-quickchart-complete:disabled,\n",
              "  .colab-df-quickchart-complete:disabled:hover {\n",
              "    background-color: var(--disabled-bg-color);\n",
              "    fill: var(--disabled-fill-color);\n",
              "    box-shadow: none;\n",
              "  }\n",
              "\n",
              "  .colab-df-spinner {\n",
              "    border: 2px solid var(--fill-color);\n",
              "    border-color: transparent;\n",
              "    border-bottom-color: var(--fill-color);\n",
              "    animation:\n",
              "      spin 1s steps(1) infinite;\n",
              "  }\n",
              "\n",
              "  @keyframes spin {\n",
              "    0% {\n",
              "      border-color: transparent;\n",
              "      border-bottom-color: var(--fill-color);\n",
              "      border-left-color: var(--fill-color);\n",
              "    }\n",
              "    20% {\n",
              "      border-color: transparent;\n",
              "      border-left-color: var(--fill-color);\n",
              "      border-top-color: var(--fill-color);\n",
              "    }\n",
              "    30% {\n",
              "      border-color: transparent;\n",
              "      border-left-color: var(--fill-color);\n",
              "      border-top-color: var(--fill-color);\n",
              "      border-right-color: var(--fill-color);\n",
              "    }\n",
              "    40% {\n",
              "      border-color: transparent;\n",
              "      border-right-color: var(--fill-color);\n",
              "      border-top-color: var(--fill-color);\n",
              "    }\n",
              "    60% {\n",
              "      border-color: transparent;\n",
              "      border-right-color: var(--fill-color);\n",
              "    }\n",
              "    80% {\n",
              "      border-color: transparent;\n",
              "      border-right-color: var(--fill-color);\n",
              "      border-bottom-color: var(--fill-color);\n",
              "    }\n",
              "    90% {\n",
              "      border-color: transparent;\n",
              "      border-bottom-color: var(--fill-color);\n",
              "    }\n",
              "  }\n",
              "</style>\n",
              "\n",
              "  <script>\n",
              "    async function quickchart(key) {\n",
              "      const quickchartButtonEl =\n",
              "        document.querySelector('#' + key + ' button');\n",
              "      quickchartButtonEl.disabled = true;  // To prevent multiple clicks.\n",
              "      quickchartButtonEl.classList.add('colab-df-spinner');\n",
              "      try {\n",
              "        const charts = await google.colab.kernel.invokeFunction(\n",
              "            'suggestCharts', [key], {});\n",
              "      } catch (error) {\n",
              "        console.error('Error during call to suggestCharts:', error);\n",
              "      }\n",
              "      quickchartButtonEl.classList.remove('colab-df-spinner');\n",
              "      quickchartButtonEl.classList.add('colab-df-quickchart-complete');\n",
              "    }\n",
              "    (() => {\n",
              "      let quickchartButtonEl =\n",
              "        document.querySelector('#df-c84203e2-9008-4495-8670-701a431b2142 button');\n",
              "      quickchartButtonEl.style.display =\n",
              "        google.colab.kernel.accessAllowed ? 'block' : 'none';\n",
              "    })();\n",
              "  </script>\n",
              "</div>\n",
              "    </div>\n",
              "  </div>\n"
            ],
            "application/vnd.google.colaboratory.intrinsic+json": {
              "type": "dataframe",
              "variable_name": "data"
            }
          },
          "metadata": {},
          "execution_count": 78
        }
      ]
    },
    {
      "cell_type": "code",
      "source": [
        "list(data.columns)"
      ],
      "metadata": {
        "colab": {
          "base_uri": "https://localhost:8080/"
        },
        "id": "kLpWM2i2Q5Qm",
        "outputId": "28a3672d-8891-4820-93ba-95ef1e4f3882"
      },
      "execution_count": 75,
      "outputs": [
        {
          "output_type": "execute_result",
          "data": {
            "text/plain": [
              "['UTRNNO',\n",
              " 'TTIME',\n",
              " 'TRANS_TYPE',\n",
              " 'amount',\n",
              " 'MSGTYPE',\n",
              " 'Cod_Aprovacion',\n",
              " 'respuesta',\n",
              " 'POS_ENTRY_MODE',\n",
              " 'POS_CONDITION_CODE',\n",
              " 'ECI',\n",
              " 'AUTORIZADOR',\n",
              " 'Comercio',\n",
              " 'MCC',\n",
              " 'Terminal',\n",
              " 'Nombre_Comercio',\n",
              " 'Ciudad',\n",
              " 'COUNTRY_CODE',\n",
              " 'DATE_TIME',\n",
              " 'CARD_DATA_INPUT_MODE',\n",
              " 'bin_amount',\n",
              " 'card_data_input_mode_description',\n",
              " 'Tipo_Mensaje_description',\n",
              " 'Descripcion_Mcc',\n",
              " 'Description Ingles',\n",
              " 'TRANSACTION DESCRIPTION',\n",
              " 'pos_entry_mode_description',\n",
              " 'pos_condition_code_description',\n",
              " 'ECI_description',\n",
              " 'country_number',\n",
              " 'Moneda',\n",
              " 'Ambiente2',\n",
              " 'Aprobacion_tx',\n",
              " 'Testeos',\n",
              " 'Fraude',\n",
              " 'Naturaleza']"
            ]
          },
          "metadata": {},
          "execution_count": 75
        }
      ]
    },
    {
      "cell_type": "code",
      "source": [
        "from pycaret.classification import * # la data ya tiene una marcacion de  01\n",
        "data.reset_index(drop=True, inplace=True)  # Restablecer los índices y eliminar los índices existentes ## debido al concatenado\n",
        "#exp_clf101 = setup(data=data, target='Fraude', session_id=10001)  # Configurar el experimento de clasificación\n",
        "\n",
        "\n",
        "exp_clf101 = setup(data=data, target='Fraude', session_id=10001, fold_strategy='stratifiedkfold') # garantizar que todas las clases esten bien representadas\n"
      ],
      "metadata": {
        "id": "r95NfXX_FlNO",
        "colab": {
          "base_uri": "https://localhost:8080/",
          "height": 802
        },
        "outputId": "f659ed85-7d0a-4100-ef57-c8c09e95508e"
      },
      "execution_count": 56,
      "outputs": [
        {
          "output_type": "display_data",
          "data": {
            "text/plain": [
              "<pandas.io.formats.style.Styler at 0x7ff93f9e34f0>"
            ],
            "text/html": [
              "<style type=\"text/css\">\n",
              "#T_5bfa1_row11_col1 {\n",
              "  background-color: lightgreen;\n",
              "}\n",
              "</style>\n",
              "<table id=\"T_5bfa1\" class=\"dataframe\">\n",
              "  <thead>\n",
              "    <tr>\n",
              "      <th class=\"blank level0\" >&nbsp;</th>\n",
              "      <th id=\"T_5bfa1_level0_col0\" class=\"col_heading level0 col0\" >Description</th>\n",
              "      <th id=\"T_5bfa1_level0_col1\" class=\"col_heading level0 col1\" >Value</th>\n",
              "    </tr>\n",
              "  </thead>\n",
              "  <tbody>\n",
              "    <tr>\n",
              "      <th id=\"T_5bfa1_level0_row0\" class=\"row_heading level0 row0\" >0</th>\n",
              "      <td id=\"T_5bfa1_row0_col0\" class=\"data row0 col0\" >Session id</td>\n",
              "      <td id=\"T_5bfa1_row0_col1\" class=\"data row0 col1\" >10001</td>\n",
              "    </tr>\n",
              "    <tr>\n",
              "      <th id=\"T_5bfa1_level0_row1\" class=\"row_heading level0 row1\" >1</th>\n",
              "      <td id=\"T_5bfa1_row1_col0\" class=\"data row1 col0\" >Target</td>\n",
              "      <td id=\"T_5bfa1_row1_col1\" class=\"data row1 col1\" >Fraude</td>\n",
              "    </tr>\n",
              "    <tr>\n",
              "      <th id=\"T_5bfa1_level0_row2\" class=\"row_heading level0 row2\" >2</th>\n",
              "      <td id=\"T_5bfa1_row2_col0\" class=\"data row2 col0\" >Target type</td>\n",
              "      <td id=\"T_5bfa1_row2_col1\" class=\"data row2 col1\" >Binary</td>\n",
              "    </tr>\n",
              "    <tr>\n",
              "      <th id=\"T_5bfa1_level0_row3\" class=\"row_heading level0 row3\" >3</th>\n",
              "      <td id=\"T_5bfa1_row3_col0\" class=\"data row3 col0\" >Target mapping</td>\n",
              "      <td id=\"T_5bfa1_row3_col1\" class=\"data row3 col1\" >0: 0, 1: 1</td>\n",
              "    </tr>\n",
              "    <tr>\n",
              "      <th id=\"T_5bfa1_level0_row4\" class=\"row_heading level0 row4\" >4</th>\n",
              "      <td id=\"T_5bfa1_row4_col0\" class=\"data row4 col0\" >Original data shape</td>\n",
              "      <td id=\"T_5bfa1_row4_col1\" class=\"data row4 col1\" >(43648, 35)</td>\n",
              "    </tr>\n",
              "    <tr>\n",
              "      <th id=\"T_5bfa1_level0_row5\" class=\"row_heading level0 row5\" >5</th>\n",
              "      <td id=\"T_5bfa1_row5_col0\" class=\"data row5 col0\" >Transformed data shape</td>\n",
              "      <td id=\"T_5bfa1_row5_col1\" class=\"data row5 col1\" >(43648, 104)</td>\n",
              "    </tr>\n",
              "    <tr>\n",
              "      <th id=\"T_5bfa1_level0_row6\" class=\"row_heading level0 row6\" >6</th>\n",
              "      <td id=\"T_5bfa1_row6_col0\" class=\"data row6 col0\" >Transformed train set shape</td>\n",
              "      <td id=\"T_5bfa1_row6_col1\" class=\"data row6 col1\" >(30553, 104)</td>\n",
              "    </tr>\n",
              "    <tr>\n",
              "      <th id=\"T_5bfa1_level0_row7\" class=\"row_heading level0 row7\" >7</th>\n",
              "      <td id=\"T_5bfa1_row7_col0\" class=\"data row7 col0\" >Transformed test set shape</td>\n",
              "      <td id=\"T_5bfa1_row7_col1\" class=\"data row7 col1\" >(13095, 104)</td>\n",
              "    </tr>\n",
              "    <tr>\n",
              "      <th id=\"T_5bfa1_level0_row8\" class=\"row_heading level0 row8\" >8</th>\n",
              "      <td id=\"T_5bfa1_row8_col0\" class=\"data row8 col0\" >Numeric features</td>\n",
              "      <td id=\"T_5bfa1_row8_col1\" class=\"data row8 col1\" >1</td>\n",
              "    </tr>\n",
              "    <tr>\n",
              "      <th id=\"T_5bfa1_level0_row9\" class=\"row_heading level0 row9\" >9</th>\n",
              "      <td id=\"T_5bfa1_row9_col0\" class=\"data row9 col0\" >Categorical features</td>\n",
              "      <td id=\"T_5bfa1_row9_col1\" class=\"data row9 col1\" >33</td>\n",
              "    </tr>\n",
              "    <tr>\n",
              "      <th id=\"T_5bfa1_level0_row10\" class=\"row_heading level0 row10\" >10</th>\n",
              "      <td id=\"T_5bfa1_row10_col0\" class=\"data row10 col0\" >Rows with missing values</td>\n",
              "      <td id=\"T_5bfa1_row10_col1\" class=\"data row10 col1\" >58.8%</td>\n",
              "    </tr>\n",
              "    <tr>\n",
              "      <th id=\"T_5bfa1_level0_row11\" class=\"row_heading level0 row11\" >11</th>\n",
              "      <td id=\"T_5bfa1_row11_col0\" class=\"data row11 col0\" >Preprocess</td>\n",
              "      <td id=\"T_5bfa1_row11_col1\" class=\"data row11 col1\" >True</td>\n",
              "    </tr>\n",
              "    <tr>\n",
              "      <th id=\"T_5bfa1_level0_row12\" class=\"row_heading level0 row12\" >12</th>\n",
              "      <td id=\"T_5bfa1_row12_col0\" class=\"data row12 col0\" >Imputation type</td>\n",
              "      <td id=\"T_5bfa1_row12_col1\" class=\"data row12 col1\" >simple</td>\n",
              "    </tr>\n",
              "    <tr>\n",
              "      <th id=\"T_5bfa1_level0_row13\" class=\"row_heading level0 row13\" >13</th>\n",
              "      <td id=\"T_5bfa1_row13_col0\" class=\"data row13 col0\" >Numeric imputation</td>\n",
              "      <td id=\"T_5bfa1_row13_col1\" class=\"data row13 col1\" >mean</td>\n",
              "    </tr>\n",
              "    <tr>\n",
              "      <th id=\"T_5bfa1_level0_row14\" class=\"row_heading level0 row14\" >14</th>\n",
              "      <td id=\"T_5bfa1_row14_col0\" class=\"data row14 col0\" >Categorical imputation</td>\n",
              "      <td id=\"T_5bfa1_row14_col1\" class=\"data row14 col1\" >mode</td>\n",
              "    </tr>\n",
              "    <tr>\n",
              "      <th id=\"T_5bfa1_level0_row15\" class=\"row_heading level0 row15\" >15</th>\n",
              "      <td id=\"T_5bfa1_row15_col0\" class=\"data row15 col0\" >Maximum one-hot encoding</td>\n",
              "      <td id=\"T_5bfa1_row15_col1\" class=\"data row15 col1\" >25</td>\n",
              "    </tr>\n",
              "    <tr>\n",
              "      <th id=\"T_5bfa1_level0_row16\" class=\"row_heading level0 row16\" >16</th>\n",
              "      <td id=\"T_5bfa1_row16_col0\" class=\"data row16 col0\" >Encoding method</td>\n",
              "      <td id=\"T_5bfa1_row16_col1\" class=\"data row16 col1\" >None</td>\n",
              "    </tr>\n",
              "    <tr>\n",
              "      <th id=\"T_5bfa1_level0_row17\" class=\"row_heading level0 row17\" >17</th>\n",
              "      <td id=\"T_5bfa1_row17_col0\" class=\"data row17 col0\" >Fold Generator</td>\n",
              "      <td id=\"T_5bfa1_row17_col1\" class=\"data row17 col1\" >StratifiedKFold</td>\n",
              "    </tr>\n",
              "    <tr>\n",
              "      <th id=\"T_5bfa1_level0_row18\" class=\"row_heading level0 row18\" >18</th>\n",
              "      <td id=\"T_5bfa1_row18_col0\" class=\"data row18 col0\" >Fold Number</td>\n",
              "      <td id=\"T_5bfa1_row18_col1\" class=\"data row18 col1\" >10</td>\n",
              "    </tr>\n",
              "    <tr>\n",
              "      <th id=\"T_5bfa1_level0_row19\" class=\"row_heading level0 row19\" >19</th>\n",
              "      <td id=\"T_5bfa1_row19_col0\" class=\"data row19 col0\" >CPU Jobs</td>\n",
              "      <td id=\"T_5bfa1_row19_col1\" class=\"data row19 col1\" >-1</td>\n",
              "    </tr>\n",
              "    <tr>\n",
              "      <th id=\"T_5bfa1_level0_row20\" class=\"row_heading level0 row20\" >20</th>\n",
              "      <td id=\"T_5bfa1_row20_col0\" class=\"data row20 col0\" >Use GPU</td>\n",
              "      <td id=\"T_5bfa1_row20_col1\" class=\"data row20 col1\" >False</td>\n",
              "    </tr>\n",
              "    <tr>\n",
              "      <th id=\"T_5bfa1_level0_row21\" class=\"row_heading level0 row21\" >21</th>\n",
              "      <td id=\"T_5bfa1_row21_col0\" class=\"data row21 col0\" >Log Experiment</td>\n",
              "      <td id=\"T_5bfa1_row21_col1\" class=\"data row21 col1\" >False</td>\n",
              "    </tr>\n",
              "    <tr>\n",
              "      <th id=\"T_5bfa1_level0_row22\" class=\"row_heading level0 row22\" >22</th>\n",
              "      <td id=\"T_5bfa1_row22_col0\" class=\"data row22 col0\" >Experiment Name</td>\n",
              "      <td id=\"T_5bfa1_row22_col1\" class=\"data row22 col1\" >clf-default-name</td>\n",
              "    </tr>\n",
              "    <tr>\n",
              "      <th id=\"T_5bfa1_level0_row23\" class=\"row_heading level0 row23\" >23</th>\n",
              "      <td id=\"T_5bfa1_row23_col0\" class=\"data row23 col0\" >USI</td>\n",
              "      <td id=\"T_5bfa1_row23_col1\" class=\"data row23 col1\" >d3f9</td>\n",
              "    </tr>\n",
              "  </tbody>\n",
              "</table>\n"
            ]
          },
          "metadata": {}
        }
      ]
    },
    {
      "cell_type": "code",
      "source": [
        "best_model=compare_models()"
      ],
      "metadata": {
        "colab": {
          "base_uri": "https://localhost:8080/",
          "height": 519,
          "referenced_widgets": [
            "1d49fa8c2d374b698b01bedf8ac41365",
            "fc962d65dcb141d5856c94b2e0356e3f",
            "5d8f27f0fb464b1cbbee05d13285b5af",
            "4d630e6cc1a84015b6aef1ab64e6df1d",
            "2c2df407624540ceb3c256898c8ea4f6",
            "cec6d265b5ea4899b537f0cbe0966115",
            "8f04d03c7aea4fe2bba00dc13b246d7c",
            "914762a782244a1cbc711847ca523bdd",
            "92f4e2344cea4ed18a348a7386beae69",
            "1e5e59c3e08347c09e4edd40f9833036",
            "9de4fae9ddc84811a14b93554492bffa"
          ]
        },
        "id": "dYp28L3HFnIt",
        "outputId": "e55cf1fb-bf46-4dcb-b51a-584440510cbd"
      },
      "execution_count": 57,
      "outputs": [
        {
          "output_type": "display_data",
          "data": {
            "text/plain": [
              "<IPython.core.display.HTML object>"
            ],
            "text/html": []
          },
          "metadata": {}
        },
        {
          "output_type": "display_data",
          "data": {
            "text/plain": [
              "<pandas.io.formats.style.Styler at 0x7ff9409f3160>"
            ],
            "text/html": [
              "<style type=\"text/css\">\n",
              "#T_42369 th {\n",
              "  text-align: left;\n",
              "}\n",
              "#T_42369_row0_col0, #T_42369_row1_col0, #T_42369_row1_col1, #T_42369_row1_col2, #T_42369_row1_col3, #T_42369_row1_col4, #T_42369_row1_col5, #T_42369_row1_col6, #T_42369_row1_col7, #T_42369_row2_col0, #T_42369_row2_col1, #T_42369_row2_col2, #T_42369_row2_col3, #T_42369_row2_col4, #T_42369_row2_col5, #T_42369_row2_col6, #T_42369_row2_col7, #T_42369_row3_col0, #T_42369_row3_col1, #T_42369_row3_col2, #T_42369_row3_col3, #T_42369_row3_col4, #T_42369_row3_col5, #T_42369_row3_col6, #T_42369_row3_col7, #T_42369_row4_col0, #T_42369_row4_col1, #T_42369_row4_col2, #T_42369_row4_col3, #T_42369_row4_col4, #T_42369_row4_col5, #T_42369_row4_col6, #T_42369_row4_col7, #T_42369_row5_col0, #T_42369_row5_col1, #T_42369_row5_col2, #T_42369_row5_col3, #T_42369_row5_col4, #T_42369_row5_col5, #T_42369_row5_col6, #T_42369_row5_col7, #T_42369_row6_col0, #T_42369_row6_col1, #T_42369_row6_col2, #T_42369_row6_col3, #T_42369_row6_col4, #T_42369_row6_col5, #T_42369_row6_col6, #T_42369_row6_col7, #T_42369_row7_col0, #T_42369_row7_col1, #T_42369_row7_col2, #T_42369_row7_col3, #T_42369_row7_col4, #T_42369_row7_col5, #T_42369_row7_col6, #T_42369_row7_col7, #T_42369_row8_col0, #T_42369_row8_col1, #T_42369_row8_col2, #T_42369_row8_col3, #T_42369_row8_col4, #T_42369_row8_col5, #T_42369_row8_col6, #T_42369_row8_col7, #T_42369_row9_col0, #T_42369_row9_col1, #T_42369_row9_col2, #T_42369_row9_col3, #T_42369_row9_col4, #T_42369_row9_col5, #T_42369_row9_col6, #T_42369_row9_col7, #T_42369_row10_col0, #T_42369_row10_col1, #T_42369_row10_col2, #T_42369_row10_col3, #T_42369_row10_col4, #T_42369_row10_col5, #T_42369_row10_col6, #T_42369_row10_col7, #T_42369_row11_col0, #T_42369_row11_col1, #T_42369_row11_col2, #T_42369_row11_col3, #T_42369_row11_col4, #T_42369_row11_col5, #T_42369_row11_col6, #T_42369_row11_col7, #T_42369_row12_col0, #T_42369_row12_col1, #T_42369_row12_col2, #T_42369_row12_col3, #T_42369_row12_col4, #T_42369_row12_col5, #T_42369_row12_col6, #T_42369_row12_col7, #T_42369_row13_col0, #T_42369_row13_col1, #T_42369_row13_col2, #T_42369_row13_col3, #T_42369_row13_col4, #T_42369_row13_col5, #T_42369_row13_col6, #T_42369_row13_col7, #T_42369_row14_col0, #T_42369_row14_col1, #T_42369_row14_col2, #T_42369_row14_col3, #T_42369_row14_col4, #T_42369_row14_col5, #T_42369_row14_col6, #T_42369_row14_col7 {\n",
              "  text-align: left;\n",
              "}\n",
              "#T_42369_row0_col1, #T_42369_row0_col2, #T_42369_row0_col3, #T_42369_row0_col4, #T_42369_row0_col5, #T_42369_row0_col6, #T_42369_row0_col7 {\n",
              "  text-align: left;\n",
              "  background-color: yellow;\n",
              "}\n",
              "#T_42369_row0_col8, #T_42369_row1_col8, #T_42369_row2_col8, #T_42369_row3_col8, #T_42369_row4_col8, #T_42369_row5_col8, #T_42369_row6_col8, #T_42369_row7_col8, #T_42369_row8_col8, #T_42369_row9_col8, #T_42369_row10_col8, #T_42369_row11_col8, #T_42369_row12_col8, #T_42369_row14_col8 {\n",
              "  text-align: left;\n",
              "  background-color: lightgrey;\n",
              "}\n",
              "#T_42369_row13_col8 {\n",
              "  text-align: left;\n",
              "  background-color: yellow;\n",
              "  background-color: lightgrey;\n",
              "}\n",
              "</style>\n",
              "<table id=\"T_42369\" class=\"dataframe\">\n",
              "  <thead>\n",
              "    <tr>\n",
              "      <th class=\"blank level0\" >&nbsp;</th>\n",
              "      <th id=\"T_42369_level0_col0\" class=\"col_heading level0 col0\" >Model</th>\n",
              "      <th id=\"T_42369_level0_col1\" class=\"col_heading level0 col1\" >Accuracy</th>\n",
              "      <th id=\"T_42369_level0_col2\" class=\"col_heading level0 col2\" >AUC</th>\n",
              "      <th id=\"T_42369_level0_col3\" class=\"col_heading level0 col3\" >Recall</th>\n",
              "      <th id=\"T_42369_level0_col4\" class=\"col_heading level0 col4\" >Prec.</th>\n",
              "      <th id=\"T_42369_level0_col5\" class=\"col_heading level0 col5\" >F1</th>\n",
              "      <th id=\"T_42369_level0_col6\" class=\"col_heading level0 col6\" >Kappa</th>\n",
              "      <th id=\"T_42369_level0_col7\" class=\"col_heading level0 col7\" >MCC</th>\n",
              "      <th id=\"T_42369_level0_col8\" class=\"col_heading level0 col8\" >TT (Sec)</th>\n",
              "    </tr>\n",
              "  </thead>\n",
              "  <tbody>\n",
              "    <tr>\n",
              "      <th id=\"T_42369_level0_row0\" class=\"row_heading level0 row0\" >lr</th>\n",
              "      <td id=\"T_42369_row0_col0\" class=\"data row0 col0\" >Logistic Regression</td>\n",
              "      <td id=\"T_42369_row0_col1\" class=\"data row0 col1\" >0.9247</td>\n",
              "      <td id=\"T_42369_row0_col2\" class=\"data row0 col2\" >0.9313</td>\n",
              "      <td id=\"T_42369_row0_col3\" class=\"data row0 col3\" >0.9247</td>\n",
              "      <td id=\"T_42369_row0_col4\" class=\"data row0 col4\" >0.9242</td>\n",
              "      <td id=\"T_42369_row0_col5\" class=\"data row0 col5\" >0.9148</td>\n",
              "      <td id=\"T_42369_row0_col6\" class=\"data row0 col6\" >0.6175</td>\n",
              "      <td id=\"T_42369_row0_col7\" class=\"data row0 col7\" >0.6518</td>\n",
              "      <td id=\"T_42369_row0_col8\" class=\"data row0 col8\" >15.5120</td>\n",
              "    </tr>\n",
              "    <tr>\n",
              "      <th id=\"T_42369_level0_row1\" class=\"row_heading level0 row1\" >knn</th>\n",
              "      <td id=\"T_42369_row1_col0\" class=\"data row1 col0\" >K Neighbors Classifier</td>\n",
              "      <td id=\"T_42369_row1_col1\" class=\"data row1 col1\" >0.9174</td>\n",
              "      <td id=\"T_42369_row1_col2\" class=\"data row1 col2\" >0.8278</td>\n",
              "      <td id=\"T_42369_row1_col3\" class=\"data row1 col3\" >0.9174</td>\n",
              "      <td id=\"T_42369_row1_col4\" class=\"data row1 col4\" >0.9118</td>\n",
              "      <td id=\"T_42369_row1_col5\" class=\"data row1 col5\" >0.9105</td>\n",
              "      <td id=\"T_42369_row1_col6\" class=\"data row1 col6\" >0.6081</td>\n",
              "      <td id=\"T_42369_row1_col7\" class=\"data row1 col7\" >0.6228</td>\n",
              "      <td id=\"T_42369_row1_col8\" class=\"data row1 col8\" >5.1170</td>\n",
              "    </tr>\n",
              "    <tr>\n",
              "      <th id=\"T_42369_level0_row2\" class=\"row_heading level0 row2\" >ridge</th>\n",
              "      <td id=\"T_42369_row2_col0\" class=\"data row2 col0\" >Ridge Classifier</td>\n",
              "      <td id=\"T_42369_row2_col1\" class=\"data row2 col1\" >0.8582</td>\n",
              "      <td id=\"T_42369_row2_col2\" class=\"data row2 col2\" >0.8952</td>\n",
              "      <td id=\"T_42369_row2_col3\" class=\"data row2 col3\" >0.8582</td>\n",
              "      <td id=\"T_42369_row2_col4\" class=\"data row2 col4\" >0.7648</td>\n",
              "      <td id=\"T_42369_row2_col5\" class=\"data row2 col5\" >0.7927</td>\n",
              "      <td id=\"T_42369_row2_col6\" class=\"data row2 col6\" >0.0008</td>\n",
              "      <td id=\"T_42369_row2_col7\" class=\"data row2 col7\" >0.0089</td>\n",
              "      <td id=\"T_42369_row2_col8\" class=\"data row2 col8\" >3.6840</td>\n",
              "    </tr>\n",
              "    <tr>\n",
              "      <th id=\"T_42369_level0_row3\" class=\"row_heading level0 row3\" >et</th>\n",
              "      <td id=\"T_42369_row3_col0\" class=\"data row3 col0\" >Extra Trees Classifier</td>\n",
              "      <td id=\"T_42369_row3_col1\" class=\"data row3 col1\" >0.8582</td>\n",
              "      <td id=\"T_42369_row3_col2\" class=\"data row3 col2\" >0.8529</td>\n",
              "      <td id=\"T_42369_row3_col3\" class=\"data row3 col3\" >0.8582</td>\n",
              "      <td id=\"T_42369_row3_col4\" class=\"data row3 col4\" >0.7648</td>\n",
              "      <td id=\"T_42369_row3_col5\" class=\"data row3 col5\" >0.7927</td>\n",
              "      <td id=\"T_42369_row3_col6\" class=\"data row3 col6\" >0.0008</td>\n",
              "      <td id=\"T_42369_row3_col7\" class=\"data row3 col7\" >0.0089</td>\n",
              "      <td id=\"T_42369_row3_col8\" class=\"data row3 col8\" >4.6670</td>\n",
              "    </tr>\n",
              "    <tr>\n",
              "      <th id=\"T_42369_level0_row4\" class=\"row_heading level0 row4\" >dt</th>\n",
              "      <td id=\"T_42369_row4_col0\" class=\"data row4 col0\" >Decision Tree Classifier</td>\n",
              "      <td id=\"T_42369_row4_col1\" class=\"data row4 col1\" >0.8581</td>\n",
              "      <td id=\"T_42369_row4_col2\" class=\"data row4 col2\" >0.5000</td>\n",
              "      <td id=\"T_42369_row4_col3\" class=\"data row4 col3\" >0.8581</td>\n",
              "      <td id=\"T_42369_row4_col4\" class=\"data row4 col4\" >0.7364</td>\n",
              "      <td id=\"T_42369_row4_col5\" class=\"data row4 col5\" >0.7926</td>\n",
              "      <td id=\"T_42369_row4_col6\" class=\"data row4 col6\" >0.0000</td>\n",
              "      <td id=\"T_42369_row4_col7\" class=\"data row4 col7\" >0.0000</td>\n",
              "      <td id=\"T_42369_row4_col8\" class=\"data row4 col8\" >3.5430</td>\n",
              "    </tr>\n",
              "    <tr>\n",
              "      <th id=\"T_42369_level0_row5\" class=\"row_heading level0 row5\" >rf</th>\n",
              "      <td id=\"T_42369_row5_col0\" class=\"data row5 col0\" >Random Forest Classifier</td>\n",
              "      <td id=\"T_42369_row5_col1\" class=\"data row5 col1\" >0.8581</td>\n",
              "      <td id=\"T_42369_row5_col2\" class=\"data row5 col2\" >0.7388</td>\n",
              "      <td id=\"T_42369_row5_col3\" class=\"data row5 col3\" >0.8581</td>\n",
              "      <td id=\"T_42369_row5_col4\" class=\"data row5 col4\" >0.7506</td>\n",
              "      <td id=\"T_42369_row5_col5\" class=\"data row5 col5\" >0.7927</td>\n",
              "      <td id=\"T_42369_row5_col6\" class=\"data row5 col6\" >0.0004</td>\n",
              "      <td id=\"T_42369_row5_col7\" class=\"data row5 col7\" >0.0044</td>\n",
              "      <td id=\"T_42369_row5_col8\" class=\"data row5 col8\" >4.7610</td>\n",
              "    </tr>\n",
              "    <tr>\n",
              "      <th id=\"T_42369_level0_row6\" class=\"row_heading level0 row6\" >qda</th>\n",
              "      <td id=\"T_42369_row6_col0\" class=\"data row6 col0\" >Quadratic Discriminant Analysis</td>\n",
              "      <td id=\"T_42369_row6_col1\" class=\"data row6 col1\" >0.8581</td>\n",
              "      <td id=\"T_42369_row6_col2\" class=\"data row6 col2\" >0.7679</td>\n",
              "      <td id=\"T_42369_row6_col3\" class=\"data row6 col3\" >0.8581</td>\n",
              "      <td id=\"T_42369_row6_col4\" class=\"data row6 col4\" >0.7364</td>\n",
              "      <td id=\"T_42369_row6_col5\" class=\"data row6 col5\" >0.7926</td>\n",
              "      <td id=\"T_42369_row6_col6\" class=\"data row6 col6\" >-0.0001</td>\n",
              "      <td id=\"T_42369_row6_col7\" class=\"data row6 col7\" >-0.0007</td>\n",
              "      <td id=\"T_42369_row6_col8\" class=\"data row6 col8\" >3.8380</td>\n",
              "    </tr>\n",
              "    <tr>\n",
              "      <th id=\"T_42369_level0_row7\" class=\"row_heading level0 row7\" >ada</th>\n",
              "      <td id=\"T_42369_row7_col0\" class=\"data row7 col0\" >Ada Boost Classifier</td>\n",
              "      <td id=\"T_42369_row7_col1\" class=\"data row7 col1\" >0.8581</td>\n",
              "      <td id=\"T_42369_row7_col2\" class=\"data row7 col2\" >0.5000</td>\n",
              "      <td id=\"T_42369_row7_col3\" class=\"data row7 col3\" >0.8581</td>\n",
              "      <td id=\"T_42369_row7_col4\" class=\"data row7 col4\" >0.7364</td>\n",
              "      <td id=\"T_42369_row7_col5\" class=\"data row7 col5\" >0.7926</td>\n",
              "      <td id=\"T_42369_row7_col6\" class=\"data row7 col6\" >0.0000</td>\n",
              "      <td id=\"T_42369_row7_col7\" class=\"data row7 col7\" >0.0000</td>\n",
              "      <td id=\"T_42369_row7_col8\" class=\"data row7 col8\" >3.4860</td>\n",
              "    </tr>\n",
              "    <tr>\n",
              "      <th id=\"T_42369_level0_row8\" class=\"row_heading level0 row8\" >gbc</th>\n",
              "      <td id=\"T_42369_row8_col0\" class=\"data row8 col0\" >Gradient Boosting Classifier</td>\n",
              "      <td id=\"T_42369_row8_col1\" class=\"data row8 col1\" >0.8581</td>\n",
              "      <td id=\"T_42369_row8_col2\" class=\"data row8 col2\" >0.5002</td>\n",
              "      <td id=\"T_42369_row8_col3\" class=\"data row8 col3\" >0.8581</td>\n",
              "      <td id=\"T_42369_row8_col4\" class=\"data row8 col4\" >0.7364</td>\n",
              "      <td id=\"T_42369_row8_col5\" class=\"data row8 col5\" >0.7926</td>\n",
              "      <td id=\"T_42369_row8_col6\" class=\"data row8 col6\" >0.0000</td>\n",
              "      <td id=\"T_42369_row8_col7\" class=\"data row8 col7\" >0.0000</td>\n",
              "      <td id=\"T_42369_row8_col8\" class=\"data row8 col8\" >6.7870</td>\n",
              "    </tr>\n",
              "    <tr>\n",
              "      <th id=\"T_42369_level0_row9\" class=\"row_heading level0 row9\" >lda</th>\n",
              "      <td id=\"T_42369_row9_col0\" class=\"data row9 col0\" >Linear Discriminant Analysis</td>\n",
              "      <td id=\"T_42369_row9_col1\" class=\"data row9 col1\" >0.8581</td>\n",
              "      <td id=\"T_42369_row9_col2\" class=\"data row9 col2\" >0.5000</td>\n",
              "      <td id=\"T_42369_row9_col3\" class=\"data row9 col3\" >0.8581</td>\n",
              "      <td id=\"T_42369_row9_col4\" class=\"data row9 col4\" >0.7364</td>\n",
              "      <td id=\"T_42369_row9_col5\" class=\"data row9 col5\" >0.7926</td>\n",
              "      <td id=\"T_42369_row9_col6\" class=\"data row9 col6\" >0.0000</td>\n",
              "      <td id=\"T_42369_row9_col7\" class=\"data row9 col7\" >0.0000</td>\n",
              "      <td id=\"T_42369_row9_col8\" class=\"data row9 col8\" >4.1110</td>\n",
              "    </tr>\n",
              "    <tr>\n",
              "      <th id=\"T_42369_level0_row10\" class=\"row_heading level0 row10\" >xgboost</th>\n",
              "      <td id=\"T_42369_row10_col0\" class=\"data row10 col0\" >Extreme Gradient Boosting</td>\n",
              "      <td id=\"T_42369_row10_col1\" class=\"data row10 col1\" >0.8581</td>\n",
              "      <td id=\"T_42369_row10_col2\" class=\"data row10 col2\" >0.8481</td>\n",
              "      <td id=\"T_42369_row10_col3\" class=\"data row10 col3\" >0.8581</td>\n",
              "      <td id=\"T_42369_row10_col4\" class=\"data row10 col4\" >0.7364</td>\n",
              "      <td id=\"T_42369_row10_col5\" class=\"data row10 col5\" >0.7926</td>\n",
              "      <td id=\"T_42369_row10_col6\" class=\"data row10 col6\" >0.0000</td>\n",
              "      <td id=\"T_42369_row10_col7\" class=\"data row10 col7\" >0.0000</td>\n",
              "      <td id=\"T_42369_row10_col8\" class=\"data row10 col8\" >4.1340</td>\n",
              "    </tr>\n",
              "    <tr>\n",
              "      <th id=\"T_42369_level0_row11\" class=\"row_heading level0 row11\" >lightgbm</th>\n",
              "      <td id=\"T_42369_row11_col0\" class=\"data row11 col0\" >Light Gradient Boosting Machine</td>\n",
              "      <td id=\"T_42369_row11_col1\" class=\"data row11 col1\" >0.8581</td>\n",
              "      <td id=\"T_42369_row11_col2\" class=\"data row11 col2\" >0.8536</td>\n",
              "      <td id=\"T_42369_row11_col3\" class=\"data row11 col3\" >0.8581</td>\n",
              "      <td id=\"T_42369_row11_col4\" class=\"data row11 col4\" >0.7364</td>\n",
              "      <td id=\"T_42369_row11_col5\" class=\"data row11 col5\" >0.7926</td>\n",
              "      <td id=\"T_42369_row11_col6\" class=\"data row11 col6\" >0.0000</td>\n",
              "      <td id=\"T_42369_row11_col7\" class=\"data row11 col7\" >0.0000</td>\n",
              "      <td id=\"T_42369_row11_col8\" class=\"data row11 col8\" >4.9100</td>\n",
              "    </tr>\n",
              "    <tr>\n",
              "      <th id=\"T_42369_level0_row12\" class=\"row_heading level0 row12\" >dummy</th>\n",
              "      <td id=\"T_42369_row12_col0\" class=\"data row12 col0\" >Dummy Classifier</td>\n",
              "      <td id=\"T_42369_row12_col1\" class=\"data row12 col1\" >0.8581</td>\n",
              "      <td id=\"T_42369_row12_col2\" class=\"data row12 col2\" >0.5000</td>\n",
              "      <td id=\"T_42369_row12_col3\" class=\"data row12 col3\" >0.8581</td>\n",
              "      <td id=\"T_42369_row12_col4\" class=\"data row12 col4\" >0.7364</td>\n",
              "      <td id=\"T_42369_row12_col5\" class=\"data row12 col5\" >0.7926</td>\n",
              "      <td id=\"T_42369_row12_col6\" class=\"data row12 col6\" >0.0000</td>\n",
              "      <td id=\"T_42369_row12_col7\" class=\"data row12 col7\" >0.0000</td>\n",
              "      <td id=\"T_42369_row12_col8\" class=\"data row12 col8\" >3.6480</td>\n",
              "    </tr>\n",
              "    <tr>\n",
              "      <th id=\"T_42369_level0_row13\" class=\"row_heading level0 row13\" >nb</th>\n",
              "      <td id=\"T_42369_row13_col0\" class=\"data row13 col0\" >Naive Bayes</td>\n",
              "      <td id=\"T_42369_row13_col1\" class=\"data row13 col1\" >0.8535</td>\n",
              "      <td id=\"T_42369_row13_col2\" class=\"data row13 col2\" >0.8191</td>\n",
              "      <td id=\"T_42369_row13_col3\" class=\"data row13 col3\" >0.8535</td>\n",
              "      <td id=\"T_42369_row13_col4\" class=\"data row13 col4\" >0.7978</td>\n",
              "      <td id=\"T_42369_row13_col5\" class=\"data row13 col5\" >0.8049</td>\n",
              "      <td id=\"T_42369_row13_col6\" class=\"data row13 col6\" >0.0718</td>\n",
              "      <td id=\"T_42369_row13_col7\" class=\"data row13 col7\" >0.1101</td>\n",
              "      <td id=\"T_42369_row13_col8\" class=\"data row13 col8\" >3.0890</td>\n",
              "    </tr>\n",
              "    <tr>\n",
              "      <th id=\"T_42369_level0_row14\" class=\"row_heading level0 row14\" >svm</th>\n",
              "      <td id=\"T_42369_row14_col0\" class=\"data row14 col0\" >SVM - Linear Kernel</td>\n",
              "      <td id=\"T_42369_row14_col1\" class=\"data row14 col1\" >0.6207</td>\n",
              "      <td id=\"T_42369_row14_col2\" class=\"data row14 col2\" >0.5307</td>\n",
              "      <td id=\"T_42369_row14_col3\" class=\"data row14 col3\" >0.6207</td>\n",
              "      <td id=\"T_42369_row14_col4\" class=\"data row14 col4\" >0.8418</td>\n",
              "      <td id=\"T_42369_row14_col5\" class=\"data row14 col5\" >0.6197</td>\n",
              "      <td id=\"T_42369_row14_col6\" class=\"data row14 col6\" >0.0662</td>\n",
              "      <td id=\"T_42369_row14_col7\" class=\"data row14 col7\" >0.1518</td>\n",
              "      <td id=\"T_42369_row14_col8\" class=\"data row14 col8\" >3.9400</td>\n",
              "    </tr>\n",
              "  </tbody>\n",
              "</table>\n"
            ]
          },
          "metadata": {}
        },
        {
          "output_type": "display_data",
          "data": {
            "text/plain": [
              "Processing:   0%|          | 0/65 [00:00<?, ?it/s]"
            ],
            "application/vnd.jupyter.widget-view+json": {
              "version_major": 2,
              "version_minor": 0,
              "model_id": "1d49fa8c2d374b698b01bedf8ac41365"
            }
          },
          "metadata": {
            "application/vnd.jupyter.widget-view+json": {
              "colab": {
                "custom_widget_manager": {
                  "url": "https://ssl.gstatic.com/colaboratory-static/widgets/colab-cdn-widget-manager/2b70e893a8ba7c0f/manager.min.js"
                }
              }
            }
          }
        },
        {
          "output_type": "display_data",
          "data": {
            "text/plain": [
              "<IPython.core.display.HTML object>"
            ],
            "text/html": []
          },
          "metadata": {}
        },
        {
          "output_type": "display_data",
          "data": {
            "text/plain": [
              "<IPython.core.display.HTML object>"
            ],
            "text/html": []
          },
          "metadata": {}
        }
      ]
    },
    {
      "cell_type": "markdown",
      "source": [
        "* Accuracy: La precisión del modelo es del 94.41%. Esto indica la proporción de predicciones correctas que el modelo ha hecho en el conjunto de datos de prueba. Una precisión alta sugiere que el modelo es capaz de clasificar correctamente la mayoría de las instancias.\n",
        "* AUC (Area Under Curve): El área bajo la curva ROC (AUC) es del 96.17%. La curva ROC es una representación gráfica de la sensibilidad (Recall) frente a la especificidad. Un AUC alto sugiere que el modelo es capaz de distinguir entre las clases positivas y negativas de manera efectiva.\n",
        "Recall: El recall del modelo es del 94.41%. Esto indica la proporción de instancias positivas que el modelo ha identificado correctamente de todas las instancias positivas presentes en el conjunto de datos de prueba. Un recall alto sugiere que el modelo es capaz de identificar la mayoría de las instancias positivas.\n",
        "* Precisión: La precisión del modelo es del 94.51%. Esto indica la proporción de instancias clasificadas como positivas que realmente son positivas. Una precisión alta sugiere que el modelo hace pocas falsas alarmas al predecir instancias positivas.\n",
        "* F1-score: El F1-score del modelo es del 93.90%. El F1-score es la media armónica de la precisión y el recall. Es útil cuando hay un desequilibrio entre las clases. Un F1-score alto indica un buen equilibrio entre precisión y recall.\n",
        "* Kappa: El coeficiente kappa del modelo es de 0.7314. El coeficiente kappa mide la concordancia entre las predicciones del modelo y las etiquetas reales, teniendo en cuenta la posibilidad de que las coincidencias ocurran al azar. Un valor alto de kappa sugiere una buena concordancia entre las predicciones y las etiquetas reales.\n",
        "* MCC (Matthews correlation coefficient): El coeficiente de correlación de Matthews (MCC) del modelo es de 0.7526. Es una medida de la calidad de la clasificación binaria que tiene en cuenta los cuatro resultados posibles de la clasificación. Un valor alto de MCC indica una buena calidad de clasificación.\n",
        "En resumen, el modelo de regresión logística parece tener un buen rendimiento en términos de precisión, recall, precisión y F1-score, así como una buena capacidad de distinguir entre clases positivas y negativas según el AUC."
      ],
      "metadata": {
        "id": "MfRI2O8_b86b"
      }
    },
    {
      "cell_type": "code",
      "source": [
        "modelo = create_model('lr')"
      ],
      "metadata": {
        "id": "btBsUqc6FqEE",
        "colab": {
          "base_uri": "https://localhost:8080/",
          "height": 457,
          "referenced_widgets": [
            "6f4ea4781ce64dd196b0654a5d130fd1",
            "0153c37b0fd3485fb8bdc9aa71232504",
            "cddac423a95c48d89ed7f4bc94b6a5e0",
            "f9e85e716fc94a29bd28c4c94b181fc3",
            "c3991770434e42908befbf09cd25a4ad",
            "dc56a5703c8e4d84836765af816be5a9",
            "e3696d27f2ee433aa27a2ad9364874f5",
            "6b0906f8cbf846288088a3ec108ba779",
            "21314ae8671d4bc7b30acd00ec4881a1",
            "358a2c882e3f482cb105ddef331d0d4e",
            "f54c1c4d56af4fd8bec852369f1529c2"
          ]
        },
        "outputId": "78cdfb37-cc59-401d-d37d-f77194b90311"
      },
      "execution_count": 58,
      "outputs": [
        {
          "output_type": "display_data",
          "data": {
            "text/plain": [
              "<IPython.core.display.HTML object>"
            ],
            "text/html": []
          },
          "metadata": {}
        },
        {
          "output_type": "display_data",
          "data": {
            "text/plain": [
              "<pandas.io.formats.style.Styler at 0x7ff9409702e0>"
            ],
            "text/html": [
              "<style type=\"text/css\">\n",
              "#T_972a3_row10_col0, #T_972a3_row10_col1, #T_972a3_row10_col2, #T_972a3_row10_col3, #T_972a3_row10_col4, #T_972a3_row10_col5, #T_972a3_row10_col6 {\n",
              "  background: yellow;\n",
              "}\n",
              "</style>\n",
              "<table id=\"T_972a3\" class=\"dataframe\">\n",
              "  <thead>\n",
              "    <tr>\n",
              "      <th class=\"blank level0\" >&nbsp;</th>\n",
              "      <th id=\"T_972a3_level0_col0\" class=\"col_heading level0 col0\" >Accuracy</th>\n",
              "      <th id=\"T_972a3_level0_col1\" class=\"col_heading level0 col1\" >AUC</th>\n",
              "      <th id=\"T_972a3_level0_col2\" class=\"col_heading level0 col2\" >Recall</th>\n",
              "      <th id=\"T_972a3_level0_col3\" class=\"col_heading level0 col3\" >Prec.</th>\n",
              "      <th id=\"T_972a3_level0_col4\" class=\"col_heading level0 col4\" >F1</th>\n",
              "      <th id=\"T_972a3_level0_col5\" class=\"col_heading level0 col5\" >Kappa</th>\n",
              "      <th id=\"T_972a3_level0_col6\" class=\"col_heading level0 col6\" >MCC</th>\n",
              "    </tr>\n",
              "    <tr>\n",
              "      <th class=\"index_name level0\" >Fold</th>\n",
              "      <th class=\"blank col0\" >&nbsp;</th>\n",
              "      <th class=\"blank col1\" >&nbsp;</th>\n",
              "      <th class=\"blank col2\" >&nbsp;</th>\n",
              "      <th class=\"blank col3\" >&nbsp;</th>\n",
              "      <th class=\"blank col4\" >&nbsp;</th>\n",
              "      <th class=\"blank col5\" >&nbsp;</th>\n",
              "      <th class=\"blank col6\" >&nbsp;</th>\n",
              "    </tr>\n",
              "  </thead>\n",
              "  <tbody>\n",
              "    <tr>\n",
              "      <th id=\"T_972a3_level0_row0\" class=\"row_heading level0 row0\" >0</th>\n",
              "      <td id=\"T_972a3_row0_col0\" class=\"data row0 col0\" >0.9149</td>\n",
              "      <td id=\"T_972a3_row0_col1\" class=\"data row0 col1\" >0.9263</td>\n",
              "      <td id=\"T_972a3_row0_col2\" class=\"data row0 col2\" >0.9149</td>\n",
              "      <td id=\"T_972a3_row0_col3\" class=\"data row0 col3\" >0.9130</td>\n",
              "      <td id=\"T_972a3_row0_col4\" class=\"data row0 col4\" >0.9030</td>\n",
              "      <td id=\"T_972a3_row0_col5\" class=\"data row0 col5\" >0.5626</td>\n",
              "      <td id=\"T_972a3_row0_col6\" class=\"data row0 col6\" >0.6014</td>\n",
              "    </tr>\n",
              "    <tr>\n",
              "      <th id=\"T_972a3_level0_row1\" class=\"row_heading level0 row1\" >1</th>\n",
              "      <td id=\"T_972a3_row1_col0\" class=\"data row1 col0\" >0.9473</td>\n",
              "      <td id=\"T_972a3_row1_col1\" class=\"data row1 col1\" >0.9379</td>\n",
              "      <td id=\"T_972a3_row1_col2\" class=\"data row1 col2\" >0.9473</td>\n",
              "      <td id=\"T_972a3_row1_col3\" class=\"data row1 col3\" >0.9473</td>\n",
              "      <td id=\"T_972a3_row1_col4\" class=\"data row1 col4\" >0.9434</td>\n",
              "      <td id=\"T_972a3_row1_col5\" class=\"data row1 col5\" >0.7532</td>\n",
              "      <td id=\"T_972a3_row1_col6\" class=\"data row1 col6\" >0.7684</td>\n",
              "    </tr>\n",
              "    <tr>\n",
              "      <th id=\"T_972a3_level0_row2\" class=\"row_heading level0 row2\" >2</th>\n",
              "      <td id=\"T_972a3_row2_col0\" class=\"data row2 col0\" >0.9152</td>\n",
              "      <td id=\"T_972a3_row2_col1\" class=\"data row2 col1\" >0.9508</td>\n",
              "      <td id=\"T_972a3_row2_col2\" class=\"data row2 col2\" >0.9152</td>\n",
              "      <td id=\"T_972a3_row2_col3\" class=\"data row2 col3\" >0.9141</td>\n",
              "      <td id=\"T_972a3_row2_col4\" class=\"data row2 col4\" >0.9030</td>\n",
              "      <td id=\"T_972a3_row2_col5\" class=\"data row2 col5\" >0.5616</td>\n",
              "      <td id=\"T_972a3_row2_col6\" class=\"data row2 col6\" >0.6030</td>\n",
              "    </tr>\n",
              "    <tr>\n",
              "      <th id=\"T_972a3_level0_row3\" class=\"row_heading level0 row3\" >3</th>\n",
              "      <td id=\"T_972a3_row3_col0\" class=\"data row3 col0\" >0.9103</td>\n",
              "      <td id=\"T_972a3_row3_col1\" class=\"data row3 col1\" >0.9260</td>\n",
              "      <td id=\"T_972a3_row3_col2\" class=\"data row3 col2\" >0.9103</td>\n",
              "      <td id=\"T_972a3_row3_col3\" class=\"data row3 col3\" >0.9120</td>\n",
              "      <td id=\"T_972a3_row3_col4\" class=\"data row3 col4\" >0.8943</td>\n",
              "      <td id=\"T_972a3_row3_col5\" class=\"data row3 col5\" >0.5155</td>\n",
              "      <td id=\"T_972a3_row3_col6\" class=\"data row3 col6\" >0.5736</td>\n",
              "    </tr>\n",
              "    <tr>\n",
              "      <th id=\"T_972a3_level0_row4\" class=\"row_heading level0 row4\" >4</th>\n",
              "      <td id=\"T_972a3_row4_col0\" class=\"data row4 col0\" >0.9355</td>\n",
              "      <td id=\"T_972a3_row4_col1\" class=\"data row4 col1\" >0.9363</td>\n",
              "      <td id=\"T_972a3_row4_col2\" class=\"data row4 col2\" >0.9355</td>\n",
              "      <td id=\"T_972a3_row4_col3\" class=\"data row4 col3\" >0.9351</td>\n",
              "      <td id=\"T_972a3_row4_col4\" class=\"data row4 col4\" >0.9293</td>\n",
              "      <td id=\"T_972a3_row4_col5\" class=\"data row4 col5\" >0.6877</td>\n",
              "      <td id=\"T_972a3_row4_col6\" class=\"data row4 col6\" >0.7100</td>\n",
              "    </tr>\n",
              "    <tr>\n",
              "      <th id=\"T_972a3_level0_row5\" class=\"row_heading level0 row5\" >5</th>\n",
              "      <td id=\"T_972a3_row5_col0\" class=\"data row5 col0\" >0.9129</td>\n",
              "      <td id=\"T_972a3_row5_col1\" class=\"data row5 col1\" >0.9187</td>\n",
              "      <td id=\"T_972a3_row5_col2\" class=\"data row5 col2\" >0.9129</td>\n",
              "      <td id=\"T_972a3_row5_col3\" class=\"data row5 col3\" >0.9142</td>\n",
              "      <td id=\"T_972a3_row5_col4\" class=\"data row5 col4\" >0.8983</td>\n",
              "      <td id=\"T_972a3_row5_col5\" class=\"data row5 col5\" >0.5356</td>\n",
              "      <td id=\"T_972a3_row5_col6\" class=\"data row5 col6\" >0.5888</td>\n",
              "    </tr>\n",
              "    <tr>\n",
              "      <th id=\"T_972a3_level0_row6\" class=\"row_heading level0 row6\" >6</th>\n",
              "      <td id=\"T_972a3_row6_col0\" class=\"data row6 col0\" >0.9303</td>\n",
              "      <td id=\"T_972a3_row6_col1\" class=\"data row6 col1\" >0.9270</td>\n",
              "      <td id=\"T_972a3_row6_col2\" class=\"data row6 col2\" >0.9303</td>\n",
              "      <td id=\"T_972a3_row6_col3\" class=\"data row6 col3\" >0.9302</td>\n",
              "      <td id=\"T_972a3_row6_col4\" class=\"data row6 col4\" >0.9225</td>\n",
              "      <td id=\"T_972a3_row6_col5\" class=\"data row6 col5\" >0.6545</td>\n",
              "      <td id=\"T_972a3_row6_col6\" class=\"data row6 col6\" >0.6832</td>\n",
              "    </tr>\n",
              "    <tr>\n",
              "      <th id=\"T_972a3_level0_row7\" class=\"row_heading level0 row7\" >7</th>\n",
              "      <td id=\"T_972a3_row7_col0\" class=\"data row7 col0\" >0.9077</td>\n",
              "      <td id=\"T_972a3_row7_col1\" class=\"data row7 col1\" >0.9367</td>\n",
              "      <td id=\"T_972a3_row7_col2\" class=\"data row7 col2\" >0.9077</td>\n",
              "      <td id=\"T_972a3_row7_col3\" class=\"data row7 col3\" >0.9089</td>\n",
              "      <td id=\"T_972a3_row7_col4\" class=\"data row7 col4\" >0.8907</td>\n",
              "      <td id=\"T_972a3_row7_col5\" class=\"data row7 col5\" >0.4976</td>\n",
              "      <td id=\"T_972a3_row7_col6\" class=\"data row7 col6\" >0.5580</td>\n",
              "    </tr>\n",
              "    <tr>\n",
              "      <th id=\"T_972a3_level0_row8\" class=\"row_heading level0 row8\" >8</th>\n",
              "      <td id=\"T_972a3_row8_col0\" class=\"data row8 col0\" >0.9391</td>\n",
              "      <td id=\"T_972a3_row8_col1\" class=\"data row8 col1\" >0.9297</td>\n",
              "      <td id=\"T_972a3_row8_col2\" class=\"data row8 col2\" >0.9391</td>\n",
              "      <td id=\"T_972a3_row8_col3\" class=\"data row8 col3\" >0.9370</td>\n",
              "      <td id=\"T_972a3_row8_col4\" class=\"data row8 col4\" >0.9352</td>\n",
              "      <td id=\"T_972a3_row8_col5\" class=\"data row8 col5\" >0.7195</td>\n",
              "      <td id=\"T_972a3_row8_col6\" class=\"data row8 col6\" >0.7304</td>\n",
              "    </tr>\n",
              "    <tr>\n",
              "      <th id=\"T_972a3_level0_row9\" class=\"row_heading level0 row9\" >9</th>\n",
              "      <td id=\"T_972a3_row9_col0\" class=\"data row9 col0\" >0.9332</td>\n",
              "      <td id=\"T_972a3_row9_col1\" class=\"data row9 col1\" >0.9235</td>\n",
              "      <td id=\"T_972a3_row9_col2\" class=\"data row9 col2\" >0.9332</td>\n",
              "      <td id=\"T_972a3_row9_col3\" class=\"data row9 col3\" >0.9306</td>\n",
              "      <td id=\"T_972a3_row9_col4\" class=\"data row9 col4\" >0.9282</td>\n",
              "      <td id=\"T_972a3_row9_col5\" class=\"data row9 col5\" >0.6876</td>\n",
              "      <td id=\"T_972a3_row9_col6\" class=\"data row9 col6\" >0.7012</td>\n",
              "    </tr>\n",
              "    <tr>\n",
              "      <th id=\"T_972a3_level0_row10\" class=\"row_heading level0 row10\" >Mean</th>\n",
              "      <td id=\"T_972a3_row10_col0\" class=\"data row10 col0\" >0.9247</td>\n",
              "      <td id=\"T_972a3_row10_col1\" class=\"data row10 col1\" >0.9313</td>\n",
              "      <td id=\"T_972a3_row10_col2\" class=\"data row10 col2\" >0.9247</td>\n",
              "      <td id=\"T_972a3_row10_col3\" class=\"data row10 col3\" >0.9242</td>\n",
              "      <td id=\"T_972a3_row10_col4\" class=\"data row10 col4\" >0.9148</td>\n",
              "      <td id=\"T_972a3_row10_col5\" class=\"data row10 col5\" >0.6175</td>\n",
              "      <td id=\"T_972a3_row10_col6\" class=\"data row10 col6\" >0.6518</td>\n",
              "    </tr>\n",
              "    <tr>\n",
              "      <th id=\"T_972a3_level0_row11\" class=\"row_heading level0 row11\" >Std</th>\n",
              "      <td id=\"T_972a3_row11_col0\" class=\"data row11 col0\" >0.0133</td>\n",
              "      <td id=\"T_972a3_row11_col1\" class=\"data row11 col1\" >0.0088</td>\n",
              "      <td id=\"T_972a3_row11_col2\" class=\"data row11 col2\" >0.0133</td>\n",
              "      <td id=\"T_972a3_row11_col3\" class=\"data row11 col3\" >0.0127</td>\n",
              "      <td id=\"T_972a3_row11_col4\" class=\"data row11 col4\" >0.0180</td>\n",
              "      <td id=\"T_972a3_row11_col5\" class=\"data row11 col5\" >0.0881</td>\n",
              "      <td id=\"T_972a3_row11_col6\" class=\"data row11 col6\" >0.0710</td>\n",
              "    </tr>\n",
              "  </tbody>\n",
              "</table>\n"
            ]
          },
          "metadata": {}
        },
        {
          "output_type": "display_data",
          "data": {
            "text/plain": [
              "Processing:   0%|          | 0/4 [00:00<?, ?it/s]"
            ],
            "application/vnd.jupyter.widget-view+json": {
              "version_major": 2,
              "version_minor": 0,
              "model_id": "6f4ea4781ce64dd196b0654a5d130fd1"
            }
          },
          "metadata": {
            "application/vnd.jupyter.widget-view+json": {
              "colab": {
                "custom_widget_manager": {
                  "url": "https://ssl.gstatic.com/colaboratory-static/widgets/colab-cdn-widget-manager/2b70e893a8ba7c0f/manager.min.js"
                }
              }
            }
          }
        },
        {
          "output_type": "display_data",
          "data": {
            "text/plain": [
              "<IPython.core.display.HTML object>"
            ],
            "text/html": []
          },
          "metadata": {}
        }
      ]
    },
    {
      "cell_type": "code",
      "source": [
        "tuned_modelo = tune_model(modelo)\n"
      ],
      "metadata": {
        "id": "iV6mDTopGeve",
        "colab": {
          "base_uri": "https://localhost:8080/",
          "height": 491,
          "referenced_widgets": [
            "072762130b98410aaa628c94c4d572b3",
            "340a6f732cc94236a283f7b47410352a",
            "48d251903453480b81195a6633dfa32a",
            "6a37fca721194a93bba60709262cfcd8",
            "3c85238d3de4489e90230317eb2dd35e",
            "d730414477b54453a8fac1ad3c9a7f10",
            "9b460990ccda432e9f844d90e3d714b5",
            "e1b01cd6faac4a34a9898d15131f65fb",
            "a3f6d2786f724599832d5349ea45c6b0",
            "b8d93640968a40b8bba4fe2301166063",
            "96b63f90d1bd40c1bcabd2c533e1fbf6"
          ]
        },
        "outputId": "e77ded0b-95a6-4df4-9f20-11a7d694a748"
      },
      "execution_count": 59,
      "outputs": [
        {
          "output_type": "display_data",
          "data": {
            "text/plain": [
              "<IPython.core.display.HTML object>"
            ],
            "text/html": []
          },
          "metadata": {}
        },
        {
          "output_type": "display_data",
          "data": {
            "text/plain": [
              "<pandas.io.formats.style.Styler at 0x7ff93fecff40>"
            ],
            "text/html": [
              "<style type=\"text/css\">\n",
              "#T_8eea6_row10_col0, #T_8eea6_row10_col1, #T_8eea6_row10_col2, #T_8eea6_row10_col3, #T_8eea6_row10_col4, #T_8eea6_row10_col5, #T_8eea6_row10_col6 {\n",
              "  background: yellow;\n",
              "}\n",
              "</style>\n",
              "<table id=\"T_8eea6\" class=\"dataframe\">\n",
              "  <thead>\n",
              "    <tr>\n",
              "      <th class=\"blank level0\" >&nbsp;</th>\n",
              "      <th id=\"T_8eea6_level0_col0\" class=\"col_heading level0 col0\" >Accuracy</th>\n",
              "      <th id=\"T_8eea6_level0_col1\" class=\"col_heading level0 col1\" >AUC</th>\n",
              "      <th id=\"T_8eea6_level0_col2\" class=\"col_heading level0 col2\" >Recall</th>\n",
              "      <th id=\"T_8eea6_level0_col3\" class=\"col_heading level0 col3\" >Prec.</th>\n",
              "      <th id=\"T_8eea6_level0_col4\" class=\"col_heading level0 col4\" >F1</th>\n",
              "      <th id=\"T_8eea6_level0_col5\" class=\"col_heading level0 col5\" >Kappa</th>\n",
              "      <th id=\"T_8eea6_level0_col6\" class=\"col_heading level0 col6\" >MCC</th>\n",
              "    </tr>\n",
              "    <tr>\n",
              "      <th class=\"index_name level0\" >Fold</th>\n",
              "      <th class=\"blank col0\" >&nbsp;</th>\n",
              "      <th class=\"blank col1\" >&nbsp;</th>\n",
              "      <th class=\"blank col2\" >&nbsp;</th>\n",
              "      <th class=\"blank col3\" >&nbsp;</th>\n",
              "      <th class=\"blank col4\" >&nbsp;</th>\n",
              "      <th class=\"blank col5\" >&nbsp;</th>\n",
              "      <th class=\"blank col6\" >&nbsp;</th>\n",
              "    </tr>\n",
              "  </thead>\n",
              "  <tbody>\n",
              "    <tr>\n",
              "      <th id=\"T_8eea6_level0_row0\" class=\"row_heading level0 row0\" >0</th>\n",
              "      <td id=\"T_8eea6_row0_col0\" class=\"data row0 col0\" >0.9287</td>\n",
              "      <td id=\"T_8eea6_row0_col1\" class=\"data row0 col1\" >0.9353</td>\n",
              "      <td id=\"T_8eea6_row0_col2\" class=\"data row0 col2\" >0.9287</td>\n",
              "      <td id=\"T_8eea6_row0_col3\" class=\"data row0 col3\" >0.9253</td>\n",
              "      <td id=\"T_8eea6_row0_col4\" class=\"data row0 col4\" >0.9261</td>\n",
              "      <td id=\"T_8eea6_row0_col5\" class=\"data row0 col5\" >0.6868</td>\n",
              "      <td id=\"T_8eea6_row0_col6\" class=\"data row0 col6\" >0.6901</td>\n",
              "    </tr>\n",
              "    <tr>\n",
              "      <th id=\"T_8eea6_level0_row1\" class=\"row_heading level0 row1\" >1</th>\n",
              "      <td id=\"T_8eea6_row1_col0\" class=\"data row1 col0\" >0.9434</td>\n",
              "      <td id=\"T_8eea6_row1_col1\" class=\"data row1 col1\" >0.9471</td>\n",
              "      <td id=\"T_8eea6_row1_col2\" class=\"data row1 col2\" >0.9434</td>\n",
              "      <td id=\"T_8eea6_row1_col3\" class=\"data row1 col3\" >0.9412</td>\n",
              "      <td id=\"T_8eea6_row1_col4\" class=\"data row1 col4\" >0.9410</td>\n",
              "      <td id=\"T_8eea6_row1_col5\" class=\"data row1 col5\" >0.7491</td>\n",
              "      <td id=\"T_8eea6_row1_col6\" class=\"data row1 col6\" >0.7538</td>\n",
              "    </tr>\n",
              "    <tr>\n",
              "      <th id=\"T_8eea6_level0_row2\" class=\"row_heading level0 row2\" >2</th>\n",
              "      <td id=\"T_8eea6_row2_col0\" class=\"data row2 col0\" >0.9192</td>\n",
              "      <td id=\"T_8eea6_row2_col1\" class=\"data row2 col1\" >0.9412</td>\n",
              "      <td id=\"T_8eea6_row2_col2\" class=\"data row2 col2\" >0.9192</td>\n",
              "      <td id=\"T_8eea6_row2_col3\" class=\"data row2 col3\" >0.9153</td>\n",
              "      <td id=\"T_8eea6_row2_col4\" class=\"data row2 col4\" >0.9105</td>\n",
              "      <td id=\"T_8eea6_row2_col5\" class=\"data row2 col5\" >0.6031</td>\n",
              "      <td id=\"T_8eea6_row2_col6\" class=\"data row2 col6\" >0.6272</td>\n",
              "    </tr>\n",
              "    <tr>\n",
              "      <th id=\"T_8eea6_level0_row3\" class=\"row_heading level0 row3\" >3</th>\n",
              "      <td id=\"T_8eea6_row3_col0\" class=\"data row3 col0\" >0.9293</td>\n",
              "      <td id=\"T_8eea6_row3_col1\" class=\"data row3 col1\" >0.9289</td>\n",
              "      <td id=\"T_8eea6_row3_col2\" class=\"data row3 col2\" >0.9293</td>\n",
              "      <td id=\"T_8eea6_row3_col3\" class=\"data row3 col3\" >0.9267</td>\n",
              "      <td id=\"T_8eea6_row3_col4\" class=\"data row3 col4\" >0.9230</td>\n",
              "      <td id=\"T_8eea6_row3_col5\" class=\"data row3 col5\" >0.6610</td>\n",
              "      <td id=\"T_8eea6_row3_col6\" class=\"data row3 col6\" >0.6796</td>\n",
              "    </tr>\n",
              "    <tr>\n",
              "      <th id=\"T_8eea6_level0_row4\" class=\"row_heading level0 row4\" >4</th>\n",
              "      <td id=\"T_8eea6_row4_col0\" class=\"data row4 col0\" >0.9264</td>\n",
              "      <td id=\"T_8eea6_row4_col1\" class=\"data row4 col1\" >0.9300</td>\n",
              "      <td id=\"T_8eea6_row4_col2\" class=\"data row4 col2\" >0.9264</td>\n",
              "      <td id=\"T_8eea6_row4_col3\" class=\"data row4 col3\" >0.9224</td>\n",
              "      <td id=\"T_8eea6_row4_col4\" class=\"data row4 col4\" >0.9207</td>\n",
              "      <td id=\"T_8eea6_row4_col5\" class=\"data row4 col5\" >0.6535</td>\n",
              "      <td id=\"T_8eea6_row4_col6\" class=\"data row4 col6\" >0.6672</td>\n",
              "    </tr>\n",
              "    <tr>\n",
              "      <th id=\"T_8eea6_level0_row5\" class=\"row_heading level0 row5\" >5</th>\n",
              "      <td id=\"T_8eea6_row5_col0\" class=\"data row5 col0\" >0.9034</td>\n",
              "      <td id=\"T_8eea6_row5_col1\" class=\"data row5 col1\" >0.8948</td>\n",
              "      <td id=\"T_8eea6_row5_col2\" class=\"data row5 col2\" >0.9034</td>\n",
              "      <td id=\"T_8eea6_row5_col3\" class=\"data row5 col3\" >0.8950</td>\n",
              "      <td id=\"T_8eea6_row5_col4\" class=\"data row5 col4\" >0.8925</td>\n",
              "      <td id=\"T_8eea6_row5_col5\" class=\"data row5 col5\" >0.5203</td>\n",
              "      <td id=\"T_8eea6_row5_col6\" class=\"data row5 col6\" >0.5439</td>\n",
              "    </tr>\n",
              "    <tr>\n",
              "      <th id=\"T_8eea6_level0_row6\" class=\"row_heading level0 row6\" >6</th>\n",
              "      <td id=\"T_8eea6_row6_col0\" class=\"data row6 col0\" >0.9381</td>\n",
              "      <td id=\"T_8eea6_row6_col1\" class=\"data row6 col1\" >0.9010</td>\n",
              "      <td id=\"T_8eea6_row6_col2\" class=\"data row6 col2\" >0.9381</td>\n",
              "      <td id=\"T_8eea6_row6_col3\" class=\"data row6 col3\" >0.9360</td>\n",
              "      <td id=\"T_8eea6_row6_col4\" class=\"data row6 col4\" >0.9339</td>\n",
              "      <td id=\"T_8eea6_row6_col5\" class=\"data row6 col5\" >0.7128</td>\n",
              "      <td id=\"T_8eea6_row6_col6\" class=\"data row6 col6\" >0.7247</td>\n",
              "    </tr>\n",
              "    <tr>\n",
              "      <th id=\"T_8eea6_level0_row7\" class=\"row_heading level0 row7\" >7</th>\n",
              "      <td id=\"T_8eea6_row7_col0\" class=\"data row7 col0\" >0.9129</td>\n",
              "      <td id=\"T_8eea6_row7_col1\" class=\"data row7 col1\" >0.9310</td>\n",
              "      <td id=\"T_8eea6_row7_col2\" class=\"data row7 col2\" >0.9129</td>\n",
              "      <td id=\"T_8eea6_row7_col3\" class=\"data row7 col3\" >0.9197</td>\n",
              "      <td id=\"T_8eea6_row7_col4\" class=\"data row7 col4\" >0.9156</td>\n",
              "      <td id=\"T_8eea6_row7_col5\" class=\"data row7 col5\" >0.6647</td>\n",
              "      <td id=\"T_8eea6_row7_col6\" class=\"data row7 col6\" >0.6673</td>\n",
              "    </tr>\n",
              "    <tr>\n",
              "      <th id=\"T_8eea6_level0_row8\" class=\"row_heading level0 row8\" >8</th>\n",
              "      <td id=\"T_8eea6_row8_col0\" class=\"data row8 col0\" >0.9175</td>\n",
              "      <td id=\"T_8eea6_row8_col1\" class=\"data row8 col1\" >0.9372</td>\n",
              "      <td id=\"T_8eea6_row8_col2\" class=\"data row8 col2\" >0.9175</td>\n",
              "      <td id=\"T_8eea6_row8_col3\" class=\"data row8 col3\" >0.9240</td>\n",
              "      <td id=\"T_8eea6_row8_col4\" class=\"data row8 col4\" >0.9200</td>\n",
              "      <td id=\"T_8eea6_row8_col5\" class=\"data row8 col5\" >0.6829</td>\n",
              "      <td id=\"T_8eea6_row8_col6\" class=\"data row8 col6\" >0.6856</td>\n",
              "    </tr>\n",
              "    <tr>\n",
              "      <th id=\"T_8eea6_level0_row9\" class=\"row_heading level0 row9\" >9</th>\n",
              "      <td id=\"T_8eea6_row9_col0\" class=\"data row9 col0\" >0.9273</td>\n",
              "      <td id=\"T_8eea6_row9_col1\" class=\"data row9 col1\" >0.9481</td>\n",
              "      <td id=\"T_8eea6_row9_col2\" class=\"data row9 col2\" >0.9273</td>\n",
              "      <td id=\"T_8eea6_row9_col3\" class=\"data row9 col3\" >0.9341</td>\n",
              "      <td id=\"T_8eea6_row9_col4\" class=\"data row9 col4\" >0.9298</td>\n",
              "      <td id=\"T_8eea6_row9_col5\" class=\"data row9 col5\" >0.7227</td>\n",
              "      <td id=\"T_8eea6_row9_col6\" class=\"data row9 col6\" >0.7261</td>\n",
              "    </tr>\n",
              "    <tr>\n",
              "      <th id=\"T_8eea6_level0_row10\" class=\"row_heading level0 row10\" >Mean</th>\n",
              "      <td id=\"T_8eea6_row10_col0\" class=\"data row10 col0\" >0.9246</td>\n",
              "      <td id=\"T_8eea6_row10_col1\" class=\"data row10 col1\" >0.9295</td>\n",
              "      <td id=\"T_8eea6_row10_col2\" class=\"data row10 col2\" >0.9246</td>\n",
              "      <td id=\"T_8eea6_row10_col3\" class=\"data row10 col3\" >0.9240</td>\n",
              "      <td id=\"T_8eea6_row10_col4\" class=\"data row10 col4\" >0.9213</td>\n",
              "      <td id=\"T_8eea6_row10_col5\" class=\"data row10 col5\" >0.6657</td>\n",
              "      <td id=\"T_8eea6_row10_col6\" class=\"data row10 col6\" >0.6766</td>\n",
              "    </tr>\n",
              "    <tr>\n",
              "      <th id=\"T_8eea6_level0_row11\" class=\"row_heading level0 row11\" >Std</th>\n",
              "      <td id=\"T_8eea6_row11_col0\" class=\"data row11 col0\" >0.0112</td>\n",
              "      <td id=\"T_8eea6_row11_col1\" class=\"data row11 col1\" >0.0170</td>\n",
              "      <td id=\"T_8eea6_row11_col2\" class=\"data row11 col2\" >0.0112</td>\n",
              "      <td id=\"T_8eea6_row11_col3\" class=\"data row11 col3\" >0.0122</td>\n",
              "      <td id=\"T_8eea6_row11_col4\" class=\"data row11 col4\" >0.0128</td>\n",
              "      <td id=\"T_8eea6_row11_col5\" class=\"data row11 col5\" >0.0620</td>\n",
              "      <td id=\"T_8eea6_row11_col6\" class=\"data row11 col6\" >0.0559</td>\n",
              "    </tr>\n",
              "  </tbody>\n",
              "</table>\n"
            ]
          },
          "metadata": {}
        },
        {
          "output_type": "display_data",
          "data": {
            "text/plain": [
              "Processing:   0%|          | 0/7 [00:00<?, ?it/s]"
            ],
            "application/vnd.jupyter.widget-view+json": {
              "version_major": 2,
              "version_minor": 0,
              "model_id": "072762130b98410aaa628c94c4d572b3"
            }
          },
          "metadata": {
            "application/vnd.jupyter.widget-view+json": {
              "colab": {
                "custom_widget_manager": {
                  "url": "https://ssl.gstatic.com/colaboratory-static/widgets/colab-cdn-widget-manager/2b70e893a8ba7c0f/manager.min.js"
                }
              }
            }
          }
        },
        {
          "output_type": "stream",
          "name": "stdout",
          "text": [
            "Fitting 10 folds for each of 10 candidates, totalling 100 fits\n"
          ]
        },
        {
          "output_type": "display_data",
          "data": {
            "text/plain": [
              "<IPython.core.display.HTML object>"
            ],
            "text/html": []
          },
          "metadata": {}
        },
        {
          "output_type": "stream",
          "name": "stdout",
          "text": [
            "Original model was better than the tuned model, hence it will be returned. NOTE: The display metrics are for the tuned model (not the original one).\n"
          ]
        }
      ]
    },
    {
      "cell_type": "code",
      "source": [
        "print(tuned_modelo)"
      ],
      "metadata": {
        "id": "EzU3j8vGGhO2",
        "colab": {
          "base_uri": "https://localhost:8080/"
        },
        "outputId": "c7fedb67-b7ae-4cc8-8b25-d1834cb2494f"
      },
      "execution_count": 60,
      "outputs": [
        {
          "output_type": "stream",
          "name": "stdout",
          "text": [
            "LogisticRegression(C=1.0, class_weight=None, dual=False, fit_intercept=True,\n",
            "                   intercept_scaling=1, l1_ratio=None, max_iter=1000,\n",
            "                   multi_class='auto', n_jobs=None, penalty='l2',\n",
            "                   random_state=10001, solver='lbfgs', tol=0.0001, verbose=0,\n",
            "                   warm_start=False)\n"
          ]
        }
      ]
    },
    {
      "cell_type": "code",
      "source": [
        "help(plot_model) # validacion visual"
      ],
      "metadata": {
        "id": "76nzADhvGjHf"
      },
      "execution_count": null,
      "outputs": []
    },
    {
      "cell_type": "code",
      "source": [
        "plot_model(tuned_modelo,plot='auc')"
      ],
      "metadata": {
        "id": "Fia8EpgWGlfO",
        "colab": {
          "base_uri": "https://localhost:8080/",
          "height": 524
        },
        "outputId": "a8b10942-9d74-45ee-907b-f42a8a7c6615"
      },
      "execution_count": 61,
      "outputs": [
        {
          "output_type": "display_data",
          "data": {
            "text/plain": [
              "<IPython.core.display.HTML object>"
            ],
            "text/html": []
          },
          "metadata": {}
        },
        {
          "output_type": "display_data",
          "data": {
            "text/plain": [
              "<Figure size 800x550 with 1 Axes>"
            ],
            "image/png": "[encoded data removed]"
          },
          "metadata": {}
        }
      ]
    },
    {
      "cell_type": "code",
      "source": [
        "# feature importance\n",
        "plot_model(tuned_modelo,plot='feature')"
      ],
      "metadata": {
        "id": "-0zvtnvWGns2",
        "colab": {
          "base_uri": "https://localhost:8080/",
          "height": 485
        },
        "outputId": "ea82ddfe-1c9d-4f3c-cc6c-43594dbfbbfb"
      },
      "execution_count": 62,
      "outputs": [
        {
          "output_type": "display_data",
          "data": {
            "text/plain": [
              "<IPython.core.display.HTML object>"
            ],
            "text/html": []
          },
          "metadata": {}
        },
        {
          "output_type": "display_data",
          "data": {
            "text/plain": [
              "<Figure size 800x500 with 1 Axes>"
            ],
            "image/png": "[encoded data removed]"
          },
          "metadata": {}
        }
      ]
    },
    {
      "cell_type": "code",
      "source": [
        "## Decision Boundary\n",
        "plot_model(tuned_modelo, plot = 'boundary')"
      ],
      "metadata": {
        "id": "YbxU1lHRGphG",
        "colab": {
          "base_uri": "https://localhost:8080/",
          "height": 503
        },
        "outputId": "670a743b-1296-4687-bf43-c27060d04f11"
      },
      "execution_count": 63,
      "outputs": [
        {
          "output_type": "display_data",
          "data": {
            "text/plain": [
              "<IPython.core.display.HTML object>"
            ],
            "text/html": []
          },
          "metadata": {}
        },
        {
          "output_type": "display_data",
          "data": {
            "text/plain": [
              "<Figure size 800x550 with 1 Axes>"
            ],
            "image/png": "[encoded data removed]"
          },
          "metadata": {}
        }
      ]
    },
    {
      "cell_type": "code",
      "source": [
        "# Precision Recall Curve\n",
        "plot_model(tuned_modelo, plot = 'pr')\n"
      ],
      "metadata": {
        "id": "N59t63KbGrUm",
        "colab": {
          "base_uri": "https://localhost:8080/",
          "height": 524
        },
        "outputId": "1327fe9f-a2fa-4f7b-e783-711d38603daa"
      },
      "execution_count": 64,
      "outputs": [
        {
          "output_type": "display_data",
          "data": {
            "text/plain": [
              "<IPython.core.display.HTML object>"
            ],
            "text/html": []
          },
          "metadata": {}
        },
        {
          "output_type": "display_data",
          "data": {
            "text/plain": [
              "<Figure size 800x550 with 1 Axes>"
            ],
            "image/png": "[encoded data removed]"
          },
          "metadata": {}
        }
      ]
    },
    {
      "cell_type": "code",
      "source": [
        "# Validation Curve\n",
        "plot_model(tuned_modelo, plot = 'vc')\n"
      ],
      "metadata": {
        "id": "28AUogFIGtUH"
      },
      "execution_count": null,
      "outputs": []
    },
    {
      "cell_type": "code",
      "source": [
        "from pycaret.classification import *\n",
        "predicciones = predict_model(tuned_modelo,data=data_unusen)\n",
        "\n",
        "predicciones.head()"
      ],
      "metadata": {
        "id": "3-LTO6-lGvEv",
        "colab": {
          "base_uri": "https://localhost:8080/",
          "height": 472
        },
        "outputId": "4fe89705-1bd5-41d5-db81-d877e4fe3e3e"
      },
      "execution_count": 67,
      "outputs": [
        {
          "output_type": "display_data",
          "data": {
            "text/plain": [
              "<pandas.io.formats.style.Styler at 0x7ff94015c160>"
            ],
            "text/html": [
              "<style type=\"text/css\">\n",
              "</style>\n",
              "<table id=\"T_a39f7\" class=\"dataframe\">\n",
              "  <thead>\n",
              "    <tr>\n",
              "      <th class=\"blank level0\" >&nbsp;</th>\n",
              "      <th id=\"T_a39f7_level0_col0\" class=\"col_heading level0 col0\" >Model</th>\n",
              "      <th id=\"T_a39f7_level0_col1\" class=\"col_heading level0 col1\" >Accuracy</th>\n",
              "      <th id=\"T_a39f7_level0_col2\" class=\"col_heading level0 col2\" >AUC</th>\n",
              "      <th id=\"T_a39f7_level0_col3\" class=\"col_heading level0 col3\" >Recall</th>\n",
              "      <th id=\"T_a39f7_level0_col4\" class=\"col_heading level0 col4\" >Prec.</th>\n",
              "      <th id=\"T_a39f7_level0_col5\" class=\"col_heading level0 col5\" >F1</th>\n",
              "      <th id=\"T_a39f7_level0_col6\" class=\"col_heading level0 col6\" >Kappa</th>\n",
              "      <th id=\"T_a39f7_level0_col7\" class=\"col_heading level0 col7\" >MCC</th>\n",
              "    </tr>\n",
              "  </thead>\n",
              "  <tbody>\n",
              "    <tr>\n",
              "      <th id=\"T_a39f7_level0_row0\" class=\"row_heading level0 row0\" >0</th>\n",
              "      <td id=\"T_a39f7_row0_col0\" class=\"data row0 col0\" >Logistic Regression</td>\n",
              "      <td id=\"T_a39f7_row0_col1\" class=\"data row0 col1\" >0.8821</td>\n",
              "      <td id=\"T_a39f7_row0_col2\" class=\"data row0 col2\" >0.9773</td>\n",
              "      <td id=\"T_a39f7_row0_col3\" class=\"data row0 col3\" >0.8821</td>\n",
              "      <td id=\"T_a39f7_row0_col4\" class=\"data row0 col4\" >0.9003</td>\n",
              "      <td id=\"T_a39f7_row0_col5\" class=\"data row0 col5\" >0.8809</td>\n",
              "      <td id=\"T_a39f7_row0_col6\" class=\"data row0 col6\" >0.7647</td>\n",
              "      <td id=\"T_a39f7_row0_col7\" class=\"data row0 col7\" >0.7824</td>\n",
              "    </tr>\n",
              "  </tbody>\n",
              "</table>\n"
            ]
          },
          "metadata": {}
        },
        {
          "output_type": "error",
          "ename": "ValueError",
          "evalue": "y contains previously unseen labels: 0",
          "traceback": [
            "\u001b[0;31m---------------------------------------------------------------------------\u001b[0m",
            "\u001b[0;31mKeyError\u001b[0m                                  Traceback (most recent call last)",
            "\u001b[0;32m/usr/local/lib/python3.10/dist-packages/sklearn/utils/_encode.py\u001b[0m in \u001b[0;36m_encode\u001b[0;34m(values, uniques, check_unknown)\u001b[0m\n\u001b[1;32m    224\u001b[0m         \u001b[0;32mtry\u001b[0m\u001b[0;34m:\u001b[0m\u001b[0;34m\u001b[0m\u001b[0;34m\u001b[0m\u001b[0m\n\u001b[0;32m--> 225\u001b[0;31m             \u001b[0;32mreturn\u001b[0m \u001b[0m_map_to_integer\u001b[0m\u001b[0;34m(\u001b[0m\u001b[0mvalues\u001b[0m\u001b[0;34m,\u001b[0m \u001b[0muniques\u001b[0m\u001b[0;34m)\u001b[0m\u001b[0;34m\u001b[0m\u001b[0;34m\u001b[0m\u001b[0m\n\u001b[0m\u001b[1;32m    226\u001b[0m         \u001b[0;32mexcept\u001b[0m \u001b[0mKeyError\u001b[0m \u001b[0;32mas\u001b[0m \u001b[0me\u001b[0m\u001b[0;34m:\u001b[0m\u001b[0;34m\u001b[0m\u001b[0;34m\u001b[0m\u001b[0m\n",
            "\u001b[0;32m/usr/local/lib/python3.10/dist-packages/sklearn/utils/_encode.py\u001b[0m in \u001b[0;36m_map_to_integer\u001b[0;34m(values, uniques)\u001b[0m\n\u001b[1;32m    164\u001b[0m     \u001b[0mtable\u001b[0m \u001b[0;34m=\u001b[0m \u001b[0m_nandict\u001b[0m\u001b[0;34m(\u001b[0m\u001b[0;34m{\u001b[0m\u001b[0mval\u001b[0m\u001b[0;34m:\u001b[0m \u001b[0mi\u001b[0m \u001b[0;32mfor\u001b[0m \u001b[0mi\u001b[0m\u001b[0;34m,\u001b[0m \u001b[0mval\u001b[0m \u001b[0;32min\u001b[0m \u001b[0menumerate\u001b[0m\u001b[0;34m(\u001b[0m\u001b[0muniques\u001b[0m\u001b[0;34m)\u001b[0m\u001b[0;34m}\u001b[0m\u001b[0;34m)\u001b[0m\u001b[0;34m\u001b[0m\u001b[0;34m\u001b[0m\u001b[0m\n\u001b[0;32m--> 165\u001b[0;31m     \u001b[0;32mreturn\u001b[0m \u001b[0mnp\u001b[0m\u001b[0;34m.\u001b[0m\u001b[0marray\u001b[0m\u001b[0;34m(\u001b[0m\u001b[0;34m[\u001b[0m\u001b[0mtable\u001b[0m\u001b[0;34m[\u001b[0m\u001b[0mv\u001b[0m\u001b[0;34m]\u001b[0m \u001b[0;32mfor\u001b[0m \u001b[0mv\u001b[0m \u001b[0;32min\u001b[0m \u001b[0mvalues\u001b[0m\u001b[0;34m]\u001b[0m\u001b[0;34m)\u001b[0m\u001b[0;34m\u001b[0m\u001b[0;34m\u001b[0m\u001b[0m\n\u001b[0m\u001b[1;32m    166\u001b[0m \u001b[0;34m\u001b[0m\u001b[0m\n",
            "\u001b[0;32m/usr/local/lib/python3.10/dist-packages/sklearn/utils/_encode.py\u001b[0m in \u001b[0;36m<listcomp>\u001b[0;34m(.0)\u001b[0m\n\u001b[1;32m    164\u001b[0m     \u001b[0mtable\u001b[0m \u001b[0;34m=\u001b[0m \u001b[0m_nandict\u001b[0m\u001b[0;34m(\u001b[0m\u001b[0;34m{\u001b[0m\u001b[0mval\u001b[0m\u001b[0;34m:\u001b[0m \u001b[0mi\u001b[0m \u001b[0;32mfor\u001b[0m \u001b[0mi\u001b[0m\u001b[0;34m,\u001b[0m \u001b[0mval\u001b[0m \u001b[0;32min\u001b[0m \u001b[0menumerate\u001b[0m\u001b[0;34m(\u001b[0m\u001b[0muniques\u001b[0m\u001b[0;34m)\u001b[0m\u001b[0;34m}\u001b[0m\u001b[0;34m)\u001b[0m\u001b[0;34m\u001b[0m\u001b[0;34m\u001b[0m\u001b[0m\n\u001b[0;32m--> 165\u001b[0;31m     \u001b[0;32mreturn\u001b[0m \u001b[0mnp\u001b[0m\u001b[0;34m.\u001b[0m\u001b[0marray\u001b[0m\u001b[0;34m(\u001b[0m\u001b[0;34m[\u001b[0m\u001b[0mtable\u001b[0m\u001b[0;34m[\u001b[0m\u001b[0mv\u001b[0m\u001b[0;34m]\u001b[0m \u001b[0;32mfor\u001b[0m \u001b[0mv\u001b[0m \u001b[0;32min\u001b[0m \u001b[0mvalues\u001b[0m\u001b[0;34m]\u001b[0m\u001b[0;34m)\u001b[0m\u001b[0;34m\u001b[0m\u001b[0;34m\u001b[0m\u001b[0m\n\u001b[0m\u001b[1;32m    166\u001b[0m \u001b[0;34m\u001b[0m\u001b[0m\n",
            "\u001b[0;32m/usr/local/lib/python3.10/dist-packages/sklearn/utils/_encode.py\u001b[0m in \u001b[0;36m__missing__\u001b[0;34m(self, key)\u001b[0m\n\u001b[1;32m    158\u001b[0m             \u001b[0;32mreturn\u001b[0m \u001b[0mself\u001b[0m\u001b[0;34m.\u001b[0m\u001b[0mnan_value\u001b[0m\u001b[0;34m\u001b[0m\u001b[0;34m\u001b[0m\u001b[0m\n\u001b[0;32m--> 159\u001b[0;31m         \u001b[0;32mraise\u001b[0m \u001b[0mKeyError\u001b[0m\u001b[0;34m(\u001b[0m\u001b[0mkey\u001b[0m\u001b[0;34m)\u001b[0m\u001b[0;34m\u001b[0m\u001b[0;34m\u001b[0m\u001b[0m\n\u001b[0m\u001b[1;32m    160\u001b[0m \u001b[0;34m\u001b[0m\u001b[0m\n",
            "\u001b[0;31mKeyError\u001b[0m: 0",
            "\nDuring handling of the above exception, another exception occurred:\n",
            "\u001b[0;31mValueError\u001b[0m                                Traceback (most recent call last)",
            "\u001b[0;32m<ipython-input-67-0d88dd44ffb5>\u001b[0m in \u001b[0;36m<cell line: 2>\u001b[0;34m()\u001b[0m\n\u001b[1;32m      1\u001b[0m \u001b[0;32mfrom\u001b[0m \u001b[0mpycaret\u001b[0m\u001b[0;34m.\u001b[0m\u001b[0mclassification\u001b[0m \u001b[0;32mimport\u001b[0m \u001b[0;34m*\u001b[0m\u001b[0;34m\u001b[0m\u001b[0;34m\u001b[0m\u001b[0m\n\u001b[0;32m----> 2\u001b[0;31m \u001b[0mpredicciones\u001b[0m \u001b[0;34m=\u001b[0m \u001b[0mpredict_model\u001b[0m\u001b[0;34m(\u001b[0m\u001b[0mtuned_modelo\u001b[0m\u001b[0;34m,\u001b[0m\u001b[0mdata\u001b[0m\u001b[0;34m=\u001b[0m\u001b[0mdata_unusen\u001b[0m\u001b[0;34m)\u001b[0m\u001b[0;34m\u001b[0m\u001b[0;34m\u001b[0m\u001b[0m\n\u001b[0m\u001b[1;32m      3\u001b[0m \u001b[0;34m\u001b[0m\u001b[0m\n\u001b[1;32m      4\u001b[0m \u001b[0mpredicciones\u001b[0m\u001b[0;34m.\u001b[0m\u001b[0mhead\u001b[0m\u001b[0;34m(\u001b[0m\u001b[0;34m)\u001b[0m\u001b[0;34m\u001b[0m\u001b[0;34m\u001b[0m\u001b[0m\n",
            "\u001b[0;32m/usr/local/lib/python3.10/dist-packages/pycaret/classification/functional.py\u001b[0m in \u001b[0;36mpredict_model\u001b[0;34m(estimator, data, probability_threshold, encoded_labels, raw_score, round, verbose)\u001b[0m\n\u001b[1;32m   2170\u001b[0m         \u001b[0mexperiment\u001b[0m \u001b[0;34m=\u001b[0m \u001b[0m_EXPERIMENT_CLASS\u001b[0m\u001b[0;34m(\u001b[0m\u001b[0;34m)\u001b[0m\u001b[0;34m\u001b[0m\u001b[0;34m\u001b[0m\u001b[0m\n\u001b[1;32m   2171\u001b[0m \u001b[0;34m\u001b[0m\u001b[0m\n\u001b[0;32m-> 2172\u001b[0;31m     return experiment.predict_model(\n\u001b[0m\u001b[1;32m   2173\u001b[0m         \u001b[0mestimator\u001b[0m\u001b[0;34m=\u001b[0m\u001b[0mestimator\u001b[0m\u001b[0;34m,\u001b[0m\u001b[0;34m\u001b[0m\u001b[0;34m\u001b[0m\u001b[0m\n\u001b[1;32m   2174\u001b[0m         \u001b[0mdata\u001b[0m\u001b[0;34m=\u001b[0m\u001b[0mdata\u001b[0m\u001b[0;34m,\u001b[0m\u001b[0;34m\u001b[0m\u001b[0;34m\u001b[0m\u001b[0m\n",
            "\u001b[0;32m/usr/local/lib/python3.10/dist-packages/pycaret/classification/oop.py\u001b[0m in \u001b[0;36mpredict_model\u001b[0;34m(self, estimator, data, probability_threshold, encoded_labels, raw_score, round, verbose)\u001b[0m\n\u001b[1;32m   2822\u001b[0m         \"\"\"\n\u001b[1;32m   2823\u001b[0m \u001b[0;34m\u001b[0m\u001b[0m\n\u001b[0;32m-> 2824\u001b[0;31m         return super().predict_model(\n\u001b[0m\u001b[1;32m   2825\u001b[0m             \u001b[0mestimator\u001b[0m\u001b[0;34m=\u001b[0m\u001b[0mestimator\u001b[0m\u001b[0;34m,\u001b[0m\u001b[0;34m\u001b[0m\u001b[0;34m\u001b[0m\u001b[0m\n\u001b[1;32m   2826\u001b[0m             \u001b[0mdata\u001b[0m\u001b[0;34m=\u001b[0m\u001b[0mdata\u001b[0m\u001b[0;34m,\u001b[0m\u001b[0;34m\u001b[0m\u001b[0;34m\u001b[0m\u001b[0m\n",
            "\u001b[0;32m/usr/local/lib/python3.10/dist-packages/pycaret/internal/pycaret_experiment/supervised_experiment.py\u001b[0m in \u001b[0;36mpredict_model\u001b[0;34m(self, estimator, data, probability_threshold, encoded_labels, raw_score, round, verbose, ml_usecase, preprocess)\u001b[0m\n\u001b[1;32m   5054\u001b[0m             \u001b[0;32mif\u001b[0m \u001b[0;32mnot\u001b[0m \u001b[0mraw_score\u001b[0m\u001b[0;34m:\u001b[0m\u001b[0;34m\u001b[0m\u001b[0;34m\u001b[0m\u001b[0m\n\u001b[1;32m   5055\u001b[0m                 \u001b[0;32mif\u001b[0m \u001b[0mlabel_encoder\u001b[0m\u001b[0;34m:\u001b[0m\u001b[0;34m\u001b[0m\u001b[0;34m\u001b[0m\u001b[0m\n\u001b[0;32m-> 5056\u001b[0;31m                     \u001b[0mpred\u001b[0m \u001b[0;34m=\u001b[0m \u001b[0mlabel_encoder\u001b[0m\u001b[0;34m.\u001b[0m\u001b[0mtransform\u001b[0m\u001b[0;34m(\u001b[0m\u001b[0mpred\u001b[0m\u001b[0;34m)\u001b[0m\u001b[0;34m\u001b[0m\u001b[0;34m\u001b[0m\u001b[0m\n\u001b[0m\u001b[1;32m   5057\u001b[0m \u001b[0;34m\u001b[0m\u001b[0m\n\u001b[1;32m   5058\u001b[0m                 score = pd.DataFrame(\n",
            "\u001b[0;32m/usr/local/lib/python3.10/dist-packages/sklearn/preprocessing/_label.py\u001b[0m in \u001b[0;36mtransform\u001b[0;34m(self, y)\u001b[0m\n\u001b[1;32m    135\u001b[0m             \u001b[0;32mreturn\u001b[0m \u001b[0mnp\u001b[0m\u001b[0;34m.\u001b[0m\u001b[0marray\u001b[0m\u001b[0;34m(\u001b[0m\u001b[0;34m[\u001b[0m\u001b[0;34m]\u001b[0m\u001b[0;34m)\u001b[0m\u001b[0;34m\u001b[0m\u001b[0;34m\u001b[0m\u001b[0m\n\u001b[1;32m    136\u001b[0m \u001b[0;34m\u001b[0m\u001b[0m\n\u001b[0;32m--> 137\u001b[0;31m         \u001b[0;32mreturn\u001b[0m \u001b[0m_encode\u001b[0m\u001b[0;34m(\u001b[0m\u001b[0my\u001b[0m\u001b[0;34m,\u001b[0m \u001b[0muniques\u001b[0m\u001b[0;34m=\u001b[0m\u001b[0mself\u001b[0m\u001b[0;34m.\u001b[0m\u001b[0mclasses_\u001b[0m\u001b[0;34m)\u001b[0m\u001b[0;34m\u001b[0m\u001b[0;34m\u001b[0m\u001b[0m\n\u001b[0m\u001b[1;32m    138\u001b[0m \u001b[0;34m\u001b[0m\u001b[0m\n\u001b[1;32m    139\u001b[0m     \u001b[0;32mdef\u001b[0m \u001b[0minverse_transform\u001b[0m\u001b[0;34m(\u001b[0m\u001b[0mself\u001b[0m\u001b[0;34m,\u001b[0m \u001b[0my\u001b[0m\u001b[0;34m)\u001b[0m\u001b[0;34m:\u001b[0m\u001b[0;34m\u001b[0m\u001b[0;34m\u001b[0m\u001b[0m\n",
            "\u001b[0;32m/usr/local/lib/python3.10/dist-packages/sklearn/utils/_encode.py\u001b[0m in \u001b[0;36m_encode\u001b[0;34m(values, uniques, check_unknown)\u001b[0m\n\u001b[1;32m    225\u001b[0m             \u001b[0;32mreturn\u001b[0m \u001b[0m_map_to_integer\u001b[0m\u001b[0;34m(\u001b[0m\u001b[0mvalues\u001b[0m\u001b[0;34m,\u001b[0m \u001b[0muniques\u001b[0m\u001b[0;34m)\u001b[0m\u001b[0;34m\u001b[0m\u001b[0;34m\u001b[0m\u001b[0m\n\u001b[1;32m    226\u001b[0m         \u001b[0;32mexcept\u001b[0m \u001b[0mKeyError\u001b[0m \u001b[0;32mas\u001b[0m \u001b[0me\u001b[0m\u001b[0;34m:\u001b[0m\u001b[0;34m\u001b[0m\u001b[0;34m\u001b[0m\u001b[0m\n\u001b[0;32m--> 227\u001b[0;31m             \u001b[0;32mraise\u001b[0m \u001b[0mValueError\u001b[0m\u001b[0;34m(\u001b[0m\u001b[0;34mf\"y contains previously unseen labels: {str(e)}\"\u001b[0m\u001b[0;34m)\u001b[0m\u001b[0;34m\u001b[0m\u001b[0;34m\u001b[0m\u001b[0m\n\u001b[0m\u001b[1;32m    228\u001b[0m     \u001b[0;32melse\u001b[0m\u001b[0;34m:\u001b[0m\u001b[0;34m\u001b[0m\u001b[0;34m\u001b[0m\u001b[0m\n\u001b[1;32m    229\u001b[0m         \u001b[0;32mif\u001b[0m \u001b[0mcheck_unknown\u001b[0m\u001b[0;34m:\u001b[0m\u001b[0;34m\u001b[0m\u001b[0;34m\u001b[0m\u001b[0m\n",
            "\u001b[0;31mValueError\u001b[0m: y contains previously unseen labels: 0"
          ]
        }
      ]
    },
    {
      "cell_type": "code",
      "source": [
        "\n",
        "plot_model(tuned_modelo,'confusion_matrix')"
      ],
      "metadata": {
        "id": "vlOVQXaMGw0O",
        "colab": {
          "base_uri": "https://localhost:8080/",
          "height": 551
        },
        "outputId": "bd778e52-40c1-4909-8b37-9ff44f441375"
      },
      "execution_count": 66,
      "outputs": [
        {
          "output_type": "display_data",
          "data": {
            "text/plain": [
              "<IPython.core.display.HTML object>"
            ],
            "text/html": []
          },
          "metadata": {}
        },
        {
          "output_type": "display_data",
          "data": {
            "text/plain": [
              "<Figure size 800x550 with 1 Axes>"
            ],
            "image/png": "[encoded data removed]"
          },
          "metadata": {}
        }
      ]
    },
    {
      "cell_type": "code",
      "source": [
        "# modelo final entrenado con todo el conjunto de datos\n",
        "\n",
        "final_modelo=finalize_model(tuned_modelo)"
      ],
      "metadata": {
        "id": "_Rwn1Q1EGzT-"
      },
      "execution_count": 68,
      "outputs": []
    },
    {
      "cell_type": "code",
      "source": [
        "print(final_modelo)"
      ],
      "metadata": {
        "id": "mSWBDfxPG1F2",
        "colab": {
          "base_uri": "https://localhost:8080/"
        },
        "outputId": "7e63cd5f-744e-4d71-ecef-bdafe45983be"
      },
      "execution_count": 69,
      "outputs": [
        {
          "output_type": "stream",
          "name": "stdout",
          "text": [
            "Pipeline(memory=Memory(location=None),\n",
            "         steps=[('label_encoding',\n",
            "                 TransformerWrapperWithInverse(exclude=None, include=None,\n",
            "                                               transformer=LabelEncoder())),\n",
            "                ('numerical_imputer',\n",
            "                 TransformerWrapper(exclude=None, include=['bin_amount'],\n",
            "                                    transformer=SimpleImputer(add_indicator=False,\n",
            "                                                              copy=True,\n",
            "                                                              fill_value=None,\n",
            "                                                              keep_empty_features=False,\n",
            "                                                              missing_values=nan,\n",
            "                                                              strategy=...\n",
            "                 TransformerWrapper(exclude=None, include=None,\n",
            "                                    transformer=CleanColumnNames(match='[\\\\]\\\\[\\\\,\\\\{\\\\}\\\\\"\\\\:]+'))),\n",
            "                ('actual_estimator',\n",
            "                 LogisticRegression(C=1.0, class_weight=None, dual=False,\n",
            "                                    fit_intercept=True, intercept_scaling=1,\n",
            "                                    l1_ratio=None, max_iter=1000,\n",
            "                                    multi_class='auto', n_jobs=None,\n",
            "                                    penalty='l2', random_state=10001,\n",
            "                                    solver='lbfgs', tol=0.0001, verbose=0,\n",
            "                                    warm_start=False))],\n",
            "         verbose=False)\n"
          ]
        }
      ]
    },
    {
      "cell_type": "code",
      "source": [
        "import os\n",
        "\n",
        "directorio_actual = os.getcwd()\n",
        "print(\"El directorio actual es:\", directorio_actual)\n"
      ],
      "metadata": {
        "colab": {
          "base_uri": "https://localhost:8080/"
        },
        "id": "YxYKLTH6NWWL",
        "outputId": "8ca90534-aa9b-42fc-c45e-0ef57d06efbc"
      },
      "execution_count": 72,
      "outputs": [
        {
          "output_type": "stream",
          "name": "stdout",
          "text": [
            "El directorio actual es: /content\n"
          ]
        }
      ]
    },
    {
      "cell_type": "code",
      "source": [
        "save_model(final_modelo,'ModeloProduccionFacturacion')\n",
        "#save_model(final_modelo, model_name='C:\\\\Users\\\\josgom\\\\Desktop\\\\python\\\\Modelos\\\\ModeloProduccionFacturacion')\n",
        "\n",
        "#save_model(final_modelo, model_name='C:\\\\Users\\\\josgom\\\\Desktop\\\\python\\\\Modelos\\\\ModeloProduccionFacturacion')\n"
      ],
      "metadata": {
        "id": "Cl7YzztFG3Zu",
        "colab": {
          "base_uri": "https://localhost:8080/"
        },
        "outputId": "a1b8e389-019f-4fc3-eab4-66551695b0d3"
      },
      "execution_count": 73,
      "outputs": [
        {
          "output_type": "stream",
          "name": "stdout",
          "text": [
            "Transformation Pipeline and Model Successfully Saved\n"
          ]
        },
        {
          "output_type": "execute_result",
          "data": {
            "text/plain": [
              "(Pipeline(memory=Memory(location=None),\n",
              "          steps=[('label_encoding',\n",
              "                  TransformerWrapperWithInverse(exclude=None, include=None,\n",
              "                                                transformer=LabelEncoder())),\n",
              "                 ('numerical_imputer',\n",
              "                  TransformerWrapper(exclude=None, include=['bin_amount'],\n",
              "                                     transformer=SimpleImputer(add_indicator=False,\n",
              "                                                               copy=True,\n",
              "                                                               fill_value=None,\n",
              "                                                               keep_empty_features=False,\n",
              "                                                               missing_values=nan,\n",
              "                                                               strategy=...\n",
              "                  TransformerWrapper(exclude=None, include=None,\n",
              "                                     transformer=CleanColumnNames(match='[\\\\]\\\\[\\\\,\\\\{\\\\}\\\\\"\\\\:]+'))),\n",
              "                 ('actual_estimator',\n",
              "                  LogisticRegression(C=1.0, class_weight=None, dual=False,\n",
              "                                     fit_intercept=True, intercept_scaling=1,\n",
              "                                     l1_ratio=None, max_iter=1000,\n",
              "                                     multi_class='auto', n_jobs=None,\n",
              "                                     penalty='l2', random_state=10001,\n",
              "                                     solver='lbfgs', tol=0.0001, verbose=0,\n",
              "                                     warm_start=False))],\n",
              "          verbose=False),\n",
              " 'ModeloProduccionFacturacion.pkl')"
            ]
          },
          "metadata": {},
          "execution_count": 73
        }
      ]
    },
    {
      "cell_type": "code",
      "source": [
        "from google.colab import drive\n",
        "from pycaret.classification import save_model\n",
        "\n",
        "# Monta Google Drive\n",
        "drive.mount('/content/drive')\n",
        "\n",
        "# Guarda el modelo en la carpeta de Google Drive\n",
        "modelo_a_guardar = final_modelo  # Reemplaza 'final_modelo' con tu modelo\n",
        "nombre_del_modelo = 'ModeloProduccionFacturacion'  # Nombre del modelo\n",
        "ruta_carpeta_drive = '/content/drive/My Drive/Modelos_FA'  # Ruta de la carpeta en Google Drive\n",
        "\n",
        "# Guarda el modelo\n",
        "save_model(modelo_a_guardar, f'{ruta_carpeta_drive}/{nombre_del_modelo}')\n",
        "\n",
        "# Muestra un mensaje de confirmación\n",
        "print(\"El modelo se guardó en Google Drive.\")\n"
      ],
      "metadata": {
        "colab": {
          "base_uri": "https://localhost:8080/"
        },
        "id": "LLj0hyBfQakq",
        "outputId": "fba73e6b-028b-457b-df8e-671846bed138"
      },
      "execution_count": 74,
      "outputs": [
        {
          "output_type": "stream",
          "name": "stdout",
          "text": [
            "Mounted at /content/drive\n",
            "Transformation Pipeline and Model Successfully Saved\n",
            "El modelo se guardó en Google Drive.\n"
          ]
        }
      ]
    }
  ]
}