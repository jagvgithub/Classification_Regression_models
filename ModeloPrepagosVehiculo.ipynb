{
  "nbformat": 4,
  "nbformat_minor": 0,
  "metadata": {
    "colab": {
      "provenance": [],
      "authorship_tag": "ABX9TyM/zwN0tWpP66XYsFR5Ngf+",
      "include_colab_link": true
    },
    "kernelspec": {
      "name": "python3",
      "display_name": "Python 3"
    },
    "language_info": {
      "name": "python"
    }
  },
  "cells": [
    {
      "cell_type": "markdown",
      "metadata": {
        "id": "view-in-github",
        "colab_type": "text"
      },
      "source": [
        "<a href=\"https://colab.research.google.com/github/jagvgithub/Classification_Regression_models/blob/main/ModeloPrepagosVehiculo.ipynb\" target=\"_parent\"><img src=\"https://colab.research.google.com/assets/colab-badge.svg\" alt=\"Open In Colab\"/></a>"
      ]
    },
    {
      "cell_type": "code",
      "execution_count": null,
      "metadata": {
        "id": "Nw-BeQ05q72v"
      },
      "outputs": [],
      "source": [
        "# paquetes necesarios\n",
        "!pip install pycaret\n",
        "\n",
        "# Librerias necearias\n",
        "from google.colab import files  # carga de datos\n",
        "import pandas as pd # manipulación de bases de datos\n",
        "import numpy as np # manipulación de bases de datos\n",
        "#import gender_guesser.detector as gender\n",
        "#import gender_guesser.detector as gender # estimación de género a partir del primer y segundo nombre"
      ]
    }
  ]
}