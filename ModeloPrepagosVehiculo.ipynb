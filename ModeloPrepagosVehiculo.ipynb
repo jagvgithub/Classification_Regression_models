{
  "nbformat": 4,
  "nbformat_minor": 0,
  "metadata": {
    "colab": {
      "provenance": [],
      "authorship_tag": "ABX9TyOPjgOlmMwEpGWcHR1dNF5Y",
      "include_colab_link": true
    },
    "kernelspec": {
      "name": "python3",
      "display_name": "Python 3"
    },
    "language_info": {
      "name": "python"
    },
    "widgets": {
      "application/vnd.jupyter.widget-state+json": {
        "e8aba28a8d7d43c59b053a7f9fea2038": {
          "model_module": "@jupyter-widgets/controls",
          "model_name": "HBoxModel",
          "model_module_version": "1.5.0",
          "state": {
            "_dom_classes": [],
            "_model_module": "@jupyter-widgets/controls",
            "_model_module_version": "1.5.0",
            "_model_name": "HBoxModel",
            "_view_count": null,
            "_view_module": "@jupyter-widgets/controls",
            "_view_module_version": "1.5.0",
            "_view_name": "HBoxView",
            "box_style": "",
            "children": [
              "IPY_MODEL_27ddaa64385946d7a02d27e6ab26be6b",
              "IPY_MODEL_a4dd26989a1a46dca759ccb41d3e4def",
              "IPY_MODEL_0ff4e830a411488b8883c0e66d8b1796"
            ],
            "layout": "IPY_MODEL_414179dd06b74559a2fb9c475b6bbccf"
          }
        },
        "27ddaa64385946d7a02d27e6ab26be6b": {
          "model_module": "@jupyter-widgets/controls",
          "model_name": "HTMLModel",
          "model_module_version": "1.5.0",
          "state": {
            "_dom_classes": [],
            "_model_module": "@jupyter-widgets/controls",
            "_model_module_version": "1.5.0",
            "_model_name": "HTMLModel",
            "_view_count": null,
            "_view_module": "@jupyter-widgets/controls",
            "_view_module_version": "1.5.0",
            "_view_name": "HTMLView",
            "description": "",
            "description_tooltip": null,
            "layout": "IPY_MODEL_2f0461c32ddc44c8b32656649479c75c",
            "placeholder": "​",
            "style": "IPY_MODEL_01aaf118b84940a5b12d139cb0e41dce",
            "value": "Processing: 100%"
          }
        },
        "a4dd26989a1a46dca759ccb41d3e4def": {
          "model_module": "@jupyter-widgets/controls",
          "model_name": "FloatProgressModel",
          "model_module_version": "1.5.0",
          "state": {
            "_dom_classes": [],
            "_model_module": "@jupyter-widgets/controls",
            "_model_module_version": "1.5.0",
            "_model_name": "FloatProgressModel",
            "_view_count": null,
            "_view_module": "@jupyter-widgets/controls",
            "_view_module_version": "1.5.0",
            "_view_name": "ProgressView",
            "bar_style": "",
            "description": "",
            "description_tooltip": null,
            "layout": "IPY_MODEL_3f6731f5b6734fc8ac2fecf18bdcf0c3",
            "max": 65,
            "min": 0,
            "orientation": "horizontal",
            "style": "IPY_MODEL_8d90246d9c3942669f67d36b2d0a87e7",
            "value": 65
          }
        },
        "0ff4e830a411488b8883c0e66d8b1796": {
          "model_module": "@jupyter-widgets/controls",
          "model_name": "HTMLModel",
          "model_module_version": "1.5.0",
          "state": {
            "_dom_classes": [],
            "_model_module": "@jupyter-widgets/controls",
            "_model_module_version": "1.5.0",
            "_model_name": "HTMLModel",
            "_view_count": null,
            "_view_module": "@jupyter-widgets/controls",
            "_view_module_version": "1.5.0",
            "_view_name": "HTMLView",
            "description": "",
            "description_tooltip": null,
            "layout": "IPY_MODEL_976d40e6f6a14508a2f62aec27d983ae",
            "placeholder": "​",
            "style": "IPY_MODEL_f6662fa74fcb48e19d138c8c1484bddf",
            "value": " 65/65 [06:53&lt;00:00,  2.62s/it]"
          }
        },
        "414179dd06b74559a2fb9c475b6bbccf": {
          "model_module": "@jupyter-widgets/base",
          "model_name": "LayoutModel",
          "model_module_version": "1.2.0",
          "state": {
            "_model_module": "@jupyter-widgets/base",
            "_model_module_version": "1.2.0",
            "_model_name": "LayoutModel",
            "_view_count": null,
            "_view_module": "@jupyter-widgets/base",
            "_view_module_version": "1.2.0",
            "_view_name": "LayoutView",
            "align_content": null,
            "align_items": null,
            "align_self": null,
            "border": null,
            "bottom": null,
            "display": null,
            "flex": null,
            "flex_flow": null,
            "grid_area": null,
            "grid_auto_columns": null,
            "grid_auto_flow": null,
            "grid_auto_rows": null,
            "grid_column": null,
            "grid_gap": null,
            "grid_row": null,
            "grid_template_areas": null,
            "grid_template_columns": null,
            "grid_template_rows": null,
            "height": null,
            "justify_content": null,
            "justify_items": null,
            "left": null,
            "margin": null,
            "max_height": null,
            "max_width": null,
            "min_height": null,
            "min_width": null,
            "object_fit": null,
            "object_position": null,
            "order": null,
            "overflow": null,
            "overflow_x": null,
            "overflow_y": null,
            "padding": null,
            "right": null,
            "top": null,
            "visibility": "hidden",
            "width": null
          }
        },
        "2f0461c32ddc44c8b32656649479c75c": {
          "model_module": "@jupyter-widgets/base",
          "model_name": "LayoutModel",
          "model_module_version": "1.2.0",
          "state": {
            "_model_module": "@jupyter-widgets/base",
            "_model_module_version": "1.2.0",
            "_model_name": "LayoutModel",
            "_view_count": null,
            "_view_module": "@jupyter-widgets/base",
            "_view_module_version": "1.2.0",
            "_view_name": "LayoutView",
            "align_content": null,
            "align_items": null,
            "align_self": null,
            "border": null,
            "bottom": null,
            "display": null,
            "flex": null,
            "flex_flow": null,
            "grid_area": null,
            "grid_auto_columns": null,
            "grid_auto_flow": null,
            "grid_auto_rows": null,
            "grid_column": null,
            "grid_gap": null,
            "grid_row": null,
            "grid_template_areas": null,
            "grid_template_columns": null,
            "grid_template_rows": null,
            "height": null,
            "justify_content": null,
            "justify_items": null,
            "left": null,
            "margin": null,
            "max_height": null,
            "max_width": null,
            "min_height": null,
            "min_width": null,
            "object_fit": null,
            "object_position": null,
            "order": null,
            "overflow": null,
            "overflow_x": null,
            "overflow_y": null,
            "padding": null,
            "right": null,
            "top": null,
            "visibility": null,
            "width": null
          }
        },
        "01aaf118b84940a5b12d139cb0e41dce": {
          "model_module": "@jupyter-widgets/controls",
          "model_name": "DescriptionStyleModel",
          "model_module_version": "1.5.0",
          "state": {
            "_model_module": "@jupyter-widgets/controls",
            "_model_module_version": "1.5.0",
            "_model_name": "DescriptionStyleModel",
            "_view_count": null,
            "_view_module": "@jupyter-widgets/base",
            "_view_module_version": "1.2.0",
            "_view_name": "StyleView",
            "description_width": ""
          }
        },
        "3f6731f5b6734fc8ac2fecf18bdcf0c3": {
          "model_module": "@jupyter-widgets/base",
          "model_name": "LayoutModel",
          "model_module_version": "1.2.0",
          "state": {
            "_model_module": "@jupyter-widgets/base",
            "_model_module_version": "1.2.0",
            "_model_name": "LayoutModel",
            "_view_count": null,
            "_view_module": "@jupyter-widgets/base",
            "_view_module_version": "1.2.0",
            "_view_name": "LayoutView",
            "align_content": null,
            "align_items": null,
            "align_self": null,
            "border": null,
            "bottom": null,
            "display": null,
            "flex": null,
            "flex_flow": null,
            "grid_area": null,
            "grid_auto_columns": null,
            "grid_auto_flow": null,
            "grid_auto_rows": null,
            "grid_column": null,
            "grid_gap": null,
            "grid_row": null,
            "grid_template_areas": null,
            "grid_template_columns": null,
            "grid_template_rows": null,
            "height": null,
            "justify_content": null,
            "justify_items": null,
            "left": null,
            "margin": null,
            "max_height": null,
            "max_width": null,
            "min_height": null,
            "min_width": null,
            "object_fit": null,
            "object_position": null,
            "order": null,
            "overflow": null,
            "overflow_x": null,
            "overflow_y": null,
            "padding": null,
            "right": null,
            "top": null,
            "visibility": null,
            "width": null
          }
        },
        "8d90246d9c3942669f67d36b2d0a87e7": {
          "model_module": "@jupyter-widgets/controls",
          "model_name": "ProgressStyleModel",
          "model_module_version": "1.5.0",
          "state": {
            "_model_module": "@jupyter-widgets/controls",
            "_model_module_version": "1.5.0",
            "_model_name": "ProgressStyleModel",
            "_view_count": null,
            "_view_module": "@jupyter-widgets/base",
            "_view_module_version": "1.2.0",
            "_view_name": "StyleView",
            "bar_color": null,
            "description_width": ""
          }
        },
        "976d40e6f6a14508a2f62aec27d983ae": {
          "model_module": "@jupyter-widgets/base",
          "model_name": "LayoutModel",
          "model_module_version": "1.2.0",
          "state": {
            "_model_module": "@jupyter-widgets/base",
            "_model_module_version": "1.2.0",
            "_model_name": "LayoutModel",
            "_view_count": null,
            "_view_module": "@jupyter-widgets/base",
            "_view_module_version": "1.2.0",
            "_view_name": "LayoutView",
            "align_content": null,
            "align_items": null,
            "align_self": null,
            "border": null,
            "bottom": null,
            "display": null,
            "flex": null,
            "flex_flow": null,
            "grid_area": null,
            "grid_auto_columns": null,
            "grid_auto_flow": null,
            "grid_auto_rows": null,
            "grid_column": null,
            "grid_gap": null,
            "grid_row": null,
            "grid_template_areas": null,
            "grid_template_columns": null,
            "grid_template_rows": null,
            "height": null,
            "justify_content": null,
            "justify_items": null,
            "left": null,
            "margin": null,
            "max_height": null,
            "max_width": null,
            "min_height": null,
            "min_width": null,
            "object_fit": null,
            "object_position": null,
            "order": null,
            "overflow": null,
            "overflow_x": null,
            "overflow_y": null,
            "padding": null,
            "right": null,
            "top": null,
            "visibility": null,
            "width": null
          }
        },
        "f6662fa74fcb48e19d138c8c1484bddf": {
          "model_module": "@jupyter-widgets/controls",
          "model_name": "DescriptionStyleModel",
          "model_module_version": "1.5.0",
          "state": {
            "_model_module": "@jupyter-widgets/controls",
            "_model_module_version": "1.5.0",
            "_model_name": "DescriptionStyleModel",
            "_view_count": null,
            "_view_module": "@jupyter-widgets/base",
            "_view_module_version": "1.2.0",
            "_view_name": "StyleView",
            "description_width": ""
          }
        },
        "97a92a4c3a294eaeba7183cafd45379b": {
          "model_module": "@jupyter-widgets/controls",
          "model_name": "HBoxModel",
          "model_module_version": "1.5.0",
          "state": {
            "_dom_classes": [],
            "_model_module": "@jupyter-widgets/controls",
            "_model_module_version": "1.5.0",
            "_model_name": "HBoxModel",
            "_view_count": null,
            "_view_module": "@jupyter-widgets/controls",
            "_view_module_version": "1.5.0",
            "_view_name": "HBoxView",
            "box_style": "",
            "children": [
              "IPY_MODEL_8a1810cd46e74b86b9db41d2b8f3ae5e",
              "IPY_MODEL_481cc196173840da835e5d973ac79b1e",
              "IPY_MODEL_368ebef53954421ea2bb6ef24febba89"
            ],
            "layout": "IPY_MODEL_9e416ec6279f489383c12fb55006c3f2"
          }
        },
        "8a1810cd46e74b86b9db41d2b8f3ae5e": {
          "model_module": "@jupyter-widgets/controls",
          "model_name": "HTMLModel",
          "model_module_version": "1.5.0",
          "state": {
            "_dom_classes": [],
            "_model_module": "@jupyter-widgets/controls",
            "_model_module_version": "1.5.0",
            "_model_name": "HTMLModel",
            "_view_count": null,
            "_view_module": "@jupyter-widgets/controls",
            "_view_module_version": "1.5.0",
            "_view_name": "HTMLView",
            "description": "",
            "description_tooltip": null,
            "layout": "IPY_MODEL_f47dfbc7fa114befa00bfccd8a7aaa42",
            "placeholder": "​",
            "style": "IPY_MODEL_8dfadaa3939a4faba3b3effd513d5ce6",
            "value": "Processing: 100%"
          }
        },
        "481cc196173840da835e5d973ac79b1e": {
          "model_module": "@jupyter-widgets/controls",
          "model_name": "FloatProgressModel",
          "model_module_version": "1.5.0",
          "state": {
            "_dom_classes": [],
            "_model_module": "@jupyter-widgets/controls",
            "_model_module_version": "1.5.0",
            "_model_name": "FloatProgressModel",
            "_view_count": null,
            "_view_module": "@jupyter-widgets/controls",
            "_view_module_version": "1.5.0",
            "_view_name": "ProgressView",
            "bar_style": "",
            "description": "",
            "description_tooltip": null,
            "layout": "IPY_MODEL_7c8e1a122f174e7ab80045d1e422edb9",
            "max": 4,
            "min": 0,
            "orientation": "horizontal",
            "style": "IPY_MODEL_9c756aebf96d4e93a932caca41ab9eea",
            "value": 4
          }
        },
        "368ebef53954421ea2bb6ef24febba89": {
          "model_module": "@jupyter-widgets/controls",
          "model_name": "HTMLModel",
          "model_module_version": "1.5.0",
          "state": {
            "_dom_classes": [],
            "_model_module": "@jupyter-widgets/controls",
            "_model_module_version": "1.5.0",
            "_model_name": "HTMLModel",
            "_view_count": null,
            "_view_module": "@jupyter-widgets/controls",
            "_view_module_version": "1.5.0",
            "_view_name": "HTMLView",
            "description": "",
            "description_tooltip": null,
            "layout": "IPY_MODEL_beaf1b1beac04cf2abaef475b34fe975",
            "placeholder": "​",
            "style": "IPY_MODEL_ab441cee8e4d478c946b94a8dff25093",
            "value": " 4/4 [00:09&lt;00:00,  2.17s/it]"
          }
        },
        "9e416ec6279f489383c12fb55006c3f2": {
          "model_module": "@jupyter-widgets/base",
          "model_name": "LayoutModel",
          "model_module_version": "1.2.0",
          "state": {
            "_model_module": "@jupyter-widgets/base",
            "_model_module_version": "1.2.0",
            "_model_name": "LayoutModel",
            "_view_count": null,
            "_view_module": "@jupyter-widgets/base",
            "_view_module_version": "1.2.0",
            "_view_name": "LayoutView",
            "align_content": null,
            "align_items": null,
            "align_self": null,
            "border": null,
            "bottom": null,
            "display": null,
            "flex": null,
            "flex_flow": null,
            "grid_area": null,
            "grid_auto_columns": null,
            "grid_auto_flow": null,
            "grid_auto_rows": null,
            "grid_column": null,
            "grid_gap": null,
            "grid_row": null,
            "grid_template_areas": null,
            "grid_template_columns": null,
            "grid_template_rows": null,
            "height": null,
            "justify_content": null,
            "justify_items": null,
            "left": null,
            "margin": null,
            "max_height": null,
            "max_width": null,
            "min_height": null,
            "min_width": null,
            "object_fit": null,
            "object_position": null,
            "order": null,
            "overflow": null,
            "overflow_x": null,
            "overflow_y": null,
            "padding": null,
            "right": null,
            "top": null,
            "visibility": "hidden",
            "width": null
          }
        },
        "f47dfbc7fa114befa00bfccd8a7aaa42": {
          "model_module": "@jupyter-widgets/base",
          "model_name": "LayoutModel",
          "model_module_version": "1.2.0",
          "state": {
            "_model_module": "@jupyter-widgets/base",
            "_model_module_version": "1.2.0",
            "_model_name": "LayoutModel",
            "_view_count": null,
            "_view_module": "@jupyter-widgets/base",
            "_view_module_version": "1.2.0",
            "_view_name": "LayoutView",
            "align_content": null,
            "align_items": null,
            "align_self": null,
            "border": null,
            "bottom": null,
            "display": null,
            "flex": null,
            "flex_flow": null,
            "grid_area": null,
            "grid_auto_columns": null,
            "grid_auto_flow": null,
            "grid_auto_rows": null,
            "grid_column": null,
            "grid_gap": null,
            "grid_row": null,
            "grid_template_areas": null,
            "grid_template_columns": null,
            "grid_template_rows": null,
            "height": null,
            "justify_content": null,
            "justify_items": null,
            "left": null,
            "margin": null,
            "max_height": null,
            "max_width": null,
            "min_height": null,
            "min_width": null,
            "object_fit": null,
            "object_position": null,
            "order": null,
            "overflow": null,
            "overflow_x": null,
            "overflow_y": null,
            "padding": null,
            "right": null,
            "top": null,
            "visibility": null,
            "width": null
          }
        },
        "8dfadaa3939a4faba3b3effd513d5ce6": {
          "model_module": "@jupyter-widgets/controls",
          "model_name": "DescriptionStyleModel",
          "model_module_version": "1.5.0",
          "state": {
            "_model_module": "@jupyter-widgets/controls",
            "_model_module_version": "1.5.0",
            "_model_name": "DescriptionStyleModel",
            "_view_count": null,
            "_view_module": "@jupyter-widgets/base",
            "_view_module_version": "1.2.0",
            "_view_name": "StyleView",
            "description_width": ""
          }
        },
        "7c8e1a122f174e7ab80045d1e422edb9": {
          "model_module": "@jupyter-widgets/base",
          "model_name": "LayoutModel",
          "model_module_version": "1.2.0",
          "state": {
            "_model_module": "@jupyter-widgets/base",
            "_model_module_version": "1.2.0",
            "_model_name": "LayoutModel",
            "_view_count": null,
            "_view_module": "@jupyter-widgets/base",
            "_view_module_version": "1.2.0",
            "_view_name": "LayoutView",
            "align_content": null,
            "align_items": null,
            "align_self": null,
            "border": null,
            "bottom": null,
            "display": null,
            "flex": null,
            "flex_flow": null,
            "grid_area": null,
            "grid_auto_columns": null,
            "grid_auto_flow": null,
            "grid_auto_rows": null,
            "grid_column": null,
            "grid_gap": null,
            "grid_row": null,
            "grid_template_areas": null,
            "grid_template_columns": null,
            "grid_template_rows": null,
            "height": null,
            "justify_content": null,
            "justify_items": null,
            "left": null,
            "margin": null,
            "max_height": null,
            "max_width": null,
            "min_height": null,
            "min_width": null,
            "object_fit": null,
            "object_position": null,
            "order": null,
            "overflow": null,
            "overflow_x": null,
            "overflow_y": null,
            "padding": null,
            "right": null,
            "top": null,
            "visibility": null,
            "width": null
          }
        },
        "9c756aebf96d4e93a932caca41ab9eea": {
          "model_module": "@jupyter-widgets/controls",
          "model_name": "ProgressStyleModel",
          "model_module_version": "1.5.0",
          "state": {
            "_model_module": "@jupyter-widgets/controls",
            "_model_module_version": "1.5.0",
            "_model_name": "ProgressStyleModel",
            "_view_count": null,
            "_view_module": "@jupyter-widgets/base",
            "_view_module_version": "1.2.0",
            "_view_name": "StyleView",
            "bar_color": null,
            "description_width": ""
          }
        },
        "beaf1b1beac04cf2abaef475b34fe975": {
          "model_module": "@jupyter-widgets/base",
          "model_name": "LayoutModel",
          "model_module_version": "1.2.0",
          "state": {
            "_model_module": "@jupyter-widgets/base",
            "_model_module_version": "1.2.0",
            "_model_name": "LayoutModel",
            "_view_count": null,
            "_view_module": "@jupyter-widgets/base",
            "_view_module_version": "1.2.0",
            "_view_name": "LayoutView",
            "align_content": null,
            "align_items": null,
            "align_self": null,
            "border": null,
            "bottom": null,
            "display": null,
            "flex": null,
            "flex_flow": null,
            "grid_area": null,
            "grid_auto_columns": null,
            "grid_auto_flow": null,
            "grid_auto_rows": null,
            "grid_column": null,
            "grid_gap": null,
            "grid_row": null,
            "grid_template_areas": null,
            "grid_template_columns": null,
            "grid_template_rows": null,
            "height": null,
            "justify_content": null,
            "justify_items": null,
            "left": null,
            "margin": null,
            "max_height": null,
            "max_width": null,
            "min_height": null,
            "min_width": null,
            "object_fit": null,
            "object_position": null,
            "order": null,
            "overflow": null,
            "overflow_x": null,
            "overflow_y": null,
            "padding": null,
            "right": null,
            "top": null,
            "visibility": null,
            "width": null
          }
        },
        "ab441cee8e4d478c946b94a8dff25093": {
          "model_module": "@jupyter-widgets/controls",
          "model_name": "DescriptionStyleModel",
          "model_module_version": "1.5.0",
          "state": {
            "_model_module": "@jupyter-widgets/controls",
            "_model_module_version": "1.5.0",
            "_model_name": "DescriptionStyleModel",
            "_view_count": null,
            "_view_module": "@jupyter-widgets/base",
            "_view_module_version": "1.2.0",
            "_view_name": "StyleView",
            "description_width": ""
          }
        },
        "09df568d514940018b0e53927b319371": {
          "model_module": "@jupyter-widgets/controls",
          "model_name": "HBoxModel",
          "model_module_version": "1.5.0",
          "state": {
            "_dom_classes": [],
            "_model_module": "@jupyter-widgets/controls",
            "_model_module_version": "1.5.0",
            "_model_name": "HBoxModel",
            "_view_count": null,
            "_view_module": "@jupyter-widgets/controls",
            "_view_module_version": "1.5.0",
            "_view_name": "HBoxView",
            "box_style": "",
            "children": [
              "IPY_MODEL_69b93dd825904324a257be4d6cbe8c26",
              "IPY_MODEL_5fde7bfb66fe47b4a42127bf97730946",
              "IPY_MODEL_f4b6375b5cd94f678c93a44e7660f3a4"
            ],
            "layout": "IPY_MODEL_669e285ffa144f26a2e57b639716e76f"
          }
        },
        "69b93dd825904324a257be4d6cbe8c26": {
          "model_module": "@jupyter-widgets/controls",
          "model_name": "HTMLModel",
          "model_module_version": "1.5.0",
          "state": {
            "_dom_classes": [],
            "_model_module": "@jupyter-widgets/controls",
            "_model_module_version": "1.5.0",
            "_model_name": "HTMLModel",
            "_view_count": null,
            "_view_module": "@jupyter-widgets/controls",
            "_view_module_version": "1.5.0",
            "_view_name": "HTMLView",
            "description": "",
            "description_tooltip": null,
            "layout": "IPY_MODEL_facb3556145542638b52ace1c8ac8e69",
            "placeholder": "​",
            "style": "IPY_MODEL_fc3278d13c924873855c34c3840521e2",
            "value": "Processing: 100%"
          }
        },
        "5fde7bfb66fe47b4a42127bf97730946": {
          "model_module": "@jupyter-widgets/controls",
          "model_name": "FloatProgressModel",
          "model_module_version": "1.5.0",
          "state": {
            "_dom_classes": [],
            "_model_module": "@jupyter-widgets/controls",
            "_model_module_version": "1.5.0",
            "_model_name": "FloatProgressModel",
            "_view_count": null,
            "_view_module": "@jupyter-widgets/controls",
            "_view_module_version": "1.5.0",
            "_view_name": "ProgressView",
            "bar_style": "",
            "description": "",
            "description_tooltip": null,
            "layout": "IPY_MODEL_7264657d67c34170a2dfb250deb0e6e4",
            "max": 4,
            "min": 0,
            "orientation": "horizontal",
            "style": "IPY_MODEL_d4a1341021294702ac919df72afe6be0",
            "value": 4
          }
        },
        "f4b6375b5cd94f678c93a44e7660f3a4": {
          "model_module": "@jupyter-widgets/controls",
          "model_name": "HTMLModel",
          "model_module_version": "1.5.0",
          "state": {
            "_dom_classes": [],
            "_model_module": "@jupyter-widgets/controls",
            "_model_module_version": "1.5.0",
            "_model_name": "HTMLModel",
            "_view_count": null,
            "_view_module": "@jupyter-widgets/controls",
            "_view_module_version": "1.5.0",
            "_view_name": "HTMLView",
            "description": "",
            "description_tooltip": null,
            "layout": "IPY_MODEL_55144e0d3e4347688669d8720f2692ea",
            "placeholder": "​",
            "style": "IPY_MODEL_fecb6862a3b14d2cad22f89ff489784a",
            "value": " 4/4 [00:08&lt;00:00,  2.13s/it]"
          }
        },
        "669e285ffa144f26a2e57b639716e76f": {
          "model_module": "@jupyter-widgets/base",
          "model_name": "LayoutModel",
          "model_module_version": "1.2.0",
          "state": {
            "_model_module": "@jupyter-widgets/base",
            "_model_module_version": "1.2.0",
            "_model_name": "LayoutModel",
            "_view_count": null,
            "_view_module": "@jupyter-widgets/base",
            "_view_module_version": "1.2.0",
            "_view_name": "LayoutView",
            "align_content": null,
            "align_items": null,
            "align_self": null,
            "border": null,
            "bottom": null,
            "display": null,
            "flex": null,
            "flex_flow": null,
            "grid_area": null,
            "grid_auto_columns": null,
            "grid_auto_flow": null,
            "grid_auto_rows": null,
            "grid_column": null,
            "grid_gap": null,
            "grid_row": null,
            "grid_template_areas": null,
            "grid_template_columns": null,
            "grid_template_rows": null,
            "height": null,
            "justify_content": null,
            "justify_items": null,
            "left": null,
            "margin": null,
            "max_height": null,
            "max_width": null,
            "min_height": null,
            "min_width": null,
            "object_fit": null,
            "object_position": null,
            "order": null,
            "overflow": null,
            "overflow_x": null,
            "overflow_y": null,
            "padding": null,
            "right": null,
            "top": null,
            "visibility": "hidden",
            "width": null
          }
        },
        "facb3556145542638b52ace1c8ac8e69": {
          "model_module": "@jupyter-widgets/base",
          "model_name": "LayoutModel",
          "model_module_version": "1.2.0",
          "state": {
            "_model_module": "@jupyter-widgets/base",
            "_model_module_version": "1.2.0",
            "_model_name": "LayoutModel",
            "_view_count": null,
            "_view_module": "@jupyter-widgets/base",
            "_view_module_version": "1.2.0",
            "_view_name": "LayoutView",
            "align_content": null,
            "align_items": null,
            "align_self": null,
            "border": null,
            "bottom": null,
            "display": null,
            "flex": null,
            "flex_flow": null,
            "grid_area": null,
            "grid_auto_columns": null,
            "grid_auto_flow": null,
            "grid_auto_rows": null,
            "grid_column": null,
            "grid_gap": null,
            "grid_row": null,
            "grid_template_areas": null,
            "grid_template_columns": null,
            "grid_template_rows": null,
            "height": null,
            "justify_content": null,
            "justify_items": null,
            "left": null,
            "margin": null,
            "max_height": null,
            "max_width": null,
            "min_height": null,
            "min_width": null,
            "object_fit": null,
            "object_position": null,
            "order": null,
            "overflow": null,
            "overflow_x": null,
            "overflow_y": null,
            "padding": null,
            "right": null,
            "top": null,
            "visibility": null,
            "width": null
          }
        },
        "fc3278d13c924873855c34c3840521e2": {
          "model_module": "@jupyter-widgets/controls",
          "model_name": "DescriptionStyleModel",
          "model_module_version": "1.5.0",
          "state": {
            "_model_module": "@jupyter-widgets/controls",
            "_model_module_version": "1.5.0",
            "_model_name": "DescriptionStyleModel",
            "_view_count": null,
            "_view_module": "@jupyter-widgets/base",
            "_view_module_version": "1.2.0",
            "_view_name": "StyleView",
            "description_width": ""
          }
        },
        "7264657d67c34170a2dfb250deb0e6e4": {
          "model_module": "@jupyter-widgets/base",
          "model_name": "LayoutModel",
          "model_module_version": "1.2.0",
          "state": {
            "_model_module": "@jupyter-widgets/base",
            "_model_module_version": "1.2.0",
            "_model_name": "LayoutModel",
            "_view_count": null,
            "_view_module": "@jupyter-widgets/base",
            "_view_module_version": "1.2.0",
            "_view_name": "LayoutView",
            "align_content": null,
            "align_items": null,
            "align_self": null,
            "border": null,
            "bottom": null,
            "display": null,
            "flex": null,
            "flex_flow": null,
            "grid_area": null,
            "grid_auto_columns": null,
            "grid_auto_flow": null,
            "grid_auto_rows": null,
            "grid_column": null,
            "grid_gap": null,
            "grid_row": null,
            "grid_template_areas": null,
            "grid_template_columns": null,
            "grid_template_rows": null,
            "height": null,
            "justify_content": null,
            "justify_items": null,
            "left": null,
            "margin": null,
            "max_height": null,
            "max_width": null,
            "min_height": null,
            "min_width": null,
            "object_fit": null,
            "object_position": null,
            "order": null,
            "overflow": null,
            "overflow_x": null,
            "overflow_y": null,
            "padding": null,
            "right": null,
            "top": null,
            "visibility": null,
            "width": null
          }
        },
        "d4a1341021294702ac919df72afe6be0": {
          "model_module": "@jupyter-widgets/controls",
          "model_name": "ProgressStyleModel",
          "model_module_version": "1.5.0",
          "state": {
            "_model_module": "@jupyter-widgets/controls",
            "_model_module_version": "1.5.0",
            "_model_name": "ProgressStyleModel",
            "_view_count": null,
            "_view_module": "@jupyter-widgets/base",
            "_view_module_version": "1.2.0",
            "_view_name": "StyleView",
            "bar_color": null,
            "description_width": ""
          }
        },
        "55144e0d3e4347688669d8720f2692ea": {
          "model_module": "@jupyter-widgets/base",
          "model_name": "LayoutModel",
          "model_module_version": "1.2.0",
          "state": {
            "_model_module": "@jupyter-widgets/base",
            "_model_module_version": "1.2.0",
            "_model_name": "LayoutModel",
            "_view_count": null,
            "_view_module": "@jupyter-widgets/base",
            "_view_module_version": "1.2.0",
            "_view_name": "LayoutView",
            "align_content": null,
            "align_items": null,
            "align_self": null,
            "border": null,
            "bottom": null,
            "display": null,
            "flex": null,
            "flex_flow": null,
            "grid_area": null,
            "grid_auto_columns": null,
            "grid_auto_flow": null,
            "grid_auto_rows": null,
            "grid_column": null,
            "grid_gap": null,
            "grid_row": null,
            "grid_template_areas": null,
            "grid_template_columns": null,
            "grid_template_rows": null,
            "height": null,
            "justify_content": null,
            "justify_items": null,
            "left": null,
            "margin": null,
            "max_height": null,
            "max_width": null,
            "min_height": null,
            "min_width": null,
            "object_fit": null,
            "object_position": null,
            "order": null,
            "overflow": null,
            "overflow_x": null,
            "overflow_y": null,
            "padding": null,
            "right": null,
            "top": null,
            "visibility": null,
            "width": null
          }
        },
        "fecb6862a3b14d2cad22f89ff489784a": {
          "model_module": "@jupyter-widgets/controls",
          "model_name": "DescriptionStyleModel",
          "model_module_version": "1.5.0",
          "state": {
            "_model_module": "@jupyter-widgets/controls",
            "_model_module_version": "1.5.0",
            "_model_name": "DescriptionStyleModel",
            "_view_count": null,
            "_view_module": "@jupyter-widgets/base",
            "_view_module_version": "1.2.0",
            "_view_name": "StyleView",
            "description_width": ""
          }
        },
        "f67d15161c854696a366140c23d29090": {
          "model_module": "@jupyter-widgets/controls",
          "model_name": "HBoxModel",
          "model_module_version": "1.5.0",
          "state": {
            "_dom_classes": [],
            "_model_module": "@jupyter-widgets/controls",
            "_model_module_version": "1.5.0",
            "_model_name": "HBoxModel",
            "_view_count": null,
            "_view_module": "@jupyter-widgets/controls",
            "_view_module_version": "1.5.0",
            "_view_name": "HBoxView",
            "box_style": "",
            "children": [
              "IPY_MODEL_ed1f562a4df74712bb3f0553b4bf6a85",
              "IPY_MODEL_01fde1c0532b404e8e25b5f2c4ef1556",
              "IPY_MODEL_3b4d26630453412b919a8883e2698a25"
            ],
            "layout": "IPY_MODEL_c17d743402d64a1b81a39a96fea5d420"
          }
        },
        "ed1f562a4df74712bb3f0553b4bf6a85": {
          "model_module": "@jupyter-widgets/controls",
          "model_name": "HTMLModel",
          "model_module_version": "1.5.0",
          "state": {
            "_dom_classes": [],
            "_model_module": "@jupyter-widgets/controls",
            "_model_module_version": "1.5.0",
            "_model_name": "HTMLModel",
            "_view_count": null,
            "_view_module": "@jupyter-widgets/controls",
            "_view_module_version": "1.5.0",
            "_view_name": "HTMLView",
            "description": "",
            "description_tooltip": null,
            "layout": "IPY_MODEL_860660ea39b144f1a4d77fce07337485",
            "placeholder": "​",
            "style": "IPY_MODEL_06a137cc114041b9bf709b8d34d65fe5",
            "value": "Processing: 100%"
          }
        },
        "01fde1c0532b404e8e25b5f2c4ef1556": {
          "model_module": "@jupyter-widgets/controls",
          "model_name": "FloatProgressModel",
          "model_module_version": "1.5.0",
          "state": {
            "_dom_classes": [],
            "_model_module": "@jupyter-widgets/controls",
            "_model_module_version": "1.5.0",
            "_model_name": "FloatProgressModel",
            "_view_count": null,
            "_view_module": "@jupyter-widgets/controls",
            "_view_module_version": "1.5.0",
            "_view_name": "ProgressView",
            "bar_style": "",
            "description": "",
            "description_tooltip": null,
            "layout": "IPY_MODEL_4f7c4946b2bf484ca97cdc0c40bc591a",
            "max": 7,
            "min": 0,
            "orientation": "horizontal",
            "style": "IPY_MODEL_478db3545926493c9f22c16a2b5fcf16",
            "value": 7
          }
        },
        "3b4d26630453412b919a8883e2698a25": {
          "model_module": "@jupyter-widgets/controls",
          "model_name": "HTMLModel",
          "model_module_version": "1.5.0",
          "state": {
            "_dom_classes": [],
            "_model_module": "@jupyter-widgets/controls",
            "_model_module_version": "1.5.0",
            "_model_name": "HTMLModel",
            "_view_count": null,
            "_view_module": "@jupyter-widgets/controls",
            "_view_module_version": "1.5.0",
            "_view_name": "HTMLView",
            "description": "",
            "description_tooltip": null,
            "layout": "IPY_MODEL_c1df66f3e7cf460bbcb96b8297b751de",
            "placeholder": "​",
            "style": "IPY_MODEL_b5265d20afa84963afa49e6271c1bdb8",
            "value": " 7/7 [01:17&lt;00:00,  8.71s/it]"
          }
        },
        "c17d743402d64a1b81a39a96fea5d420": {
          "model_module": "@jupyter-widgets/base",
          "model_name": "LayoutModel",
          "model_module_version": "1.2.0",
          "state": {
            "_model_module": "@jupyter-widgets/base",
            "_model_module_version": "1.2.0",
            "_model_name": "LayoutModel",
            "_view_count": null,
            "_view_module": "@jupyter-widgets/base",
            "_view_module_version": "1.2.0",
            "_view_name": "LayoutView",
            "align_content": null,
            "align_items": null,
            "align_self": null,
            "border": null,
            "bottom": null,
            "display": null,
            "flex": null,
            "flex_flow": null,
            "grid_area": null,
            "grid_auto_columns": null,
            "grid_auto_flow": null,
            "grid_auto_rows": null,
            "grid_column": null,
            "grid_gap": null,
            "grid_row": null,
            "grid_template_areas": null,
            "grid_template_columns": null,
            "grid_template_rows": null,
            "height": null,
            "justify_content": null,
            "justify_items": null,
            "left": null,
            "margin": null,
            "max_height": null,
            "max_width": null,
            "min_height": null,
            "min_width": null,
            "object_fit": null,
            "object_position": null,
            "order": null,
            "overflow": null,
            "overflow_x": null,
            "overflow_y": null,
            "padding": null,
            "right": null,
            "top": null,
            "visibility": "hidden",
            "width": null
          }
        },
        "860660ea39b144f1a4d77fce07337485": {
          "model_module": "@jupyter-widgets/base",
          "model_name": "LayoutModel",
          "model_module_version": "1.2.0",
          "state": {
            "_model_module": "@jupyter-widgets/base",
            "_model_module_version": "1.2.0",
            "_model_name": "LayoutModel",
            "_view_count": null,
            "_view_module": "@jupyter-widgets/base",
            "_view_module_version": "1.2.0",
            "_view_name": "LayoutView",
            "align_content": null,
            "align_items": null,
            "align_self": null,
            "border": null,
            "bottom": null,
            "display": null,
            "flex": null,
            "flex_flow": null,
            "grid_area": null,
            "grid_auto_columns": null,
            "grid_auto_flow": null,
            "grid_auto_rows": null,
            "grid_column": null,
            "grid_gap": null,
            "grid_row": null,
            "grid_template_areas": null,
            "grid_template_columns": null,
            "grid_template_rows": null,
            "height": null,
            "justify_content": null,
            "justify_items": null,
            "left": null,
            "margin": null,
            "max_height": null,
            "max_width": null,
            "min_height": null,
            "min_width": null,
            "object_fit": null,
            "object_position": null,
            "order": null,
            "overflow": null,
            "overflow_x": null,
            "overflow_y": null,
            "padding": null,
            "right": null,
            "top": null,
            "visibility": null,
            "width": null
          }
        },
        "06a137cc114041b9bf709b8d34d65fe5": {
          "model_module": "@jupyter-widgets/controls",
          "model_name": "DescriptionStyleModel",
          "model_module_version": "1.5.0",
          "state": {
            "_model_module": "@jupyter-widgets/controls",
            "_model_module_version": "1.5.0",
            "_model_name": "DescriptionStyleModel",
            "_view_count": null,
            "_view_module": "@jupyter-widgets/base",
            "_view_module_version": "1.2.0",
            "_view_name": "StyleView",
            "description_width": ""
          }
        },
        "4f7c4946b2bf484ca97cdc0c40bc591a": {
          "model_module": "@jupyter-widgets/base",
          "model_name": "LayoutModel",
          "model_module_version": "1.2.0",
          "state": {
            "_model_module": "@jupyter-widgets/base",
            "_model_module_version": "1.2.0",
            "_model_name": "LayoutModel",
            "_view_count": null,
            "_view_module": "@jupyter-widgets/base",
            "_view_module_version": "1.2.0",
            "_view_name": "LayoutView",
            "align_content": null,
            "align_items": null,
            "align_self": null,
            "border": null,
            "bottom": null,
            "display": null,
            "flex": null,
            "flex_flow": null,
            "grid_area": null,
            "grid_auto_columns": null,
            "grid_auto_flow": null,
            "grid_auto_rows": null,
            "grid_column": null,
            "grid_gap": null,
            "grid_row": null,
            "grid_template_areas": null,
            "grid_template_columns": null,
            "grid_template_rows": null,
            "height": null,
            "justify_content": null,
            "justify_items": null,
            "left": null,
            "margin": null,
            "max_height": null,
            "max_width": null,
            "min_height": null,
            "min_width": null,
            "object_fit": null,
            "object_position": null,
            "order": null,
            "overflow": null,
            "overflow_x": null,
            "overflow_y": null,
            "padding": null,
            "right": null,
            "top": null,
            "visibility": null,
            "width": null
          }
        },
        "478db3545926493c9f22c16a2b5fcf16": {
          "model_module": "@jupyter-widgets/controls",
          "model_name": "ProgressStyleModel",
          "model_module_version": "1.5.0",
          "state": {
            "_model_module": "@jupyter-widgets/controls",
            "_model_module_version": "1.5.0",
            "_model_name": "ProgressStyleModel",
            "_view_count": null,
            "_view_module": "@jupyter-widgets/base",
            "_view_module_version": "1.2.0",
            "_view_name": "StyleView",
            "bar_color": null,
            "description_width": ""
          }
        },
        "c1df66f3e7cf460bbcb96b8297b751de": {
          "model_module": "@jupyter-widgets/base",
          "model_name": "LayoutModel",
          "model_module_version": "1.2.0",
          "state": {
            "_model_module": "@jupyter-widgets/base",
            "_model_module_version": "1.2.0",
            "_model_name": "LayoutModel",
            "_view_count": null,
            "_view_module": "@jupyter-widgets/base",
            "_view_module_version": "1.2.0",
            "_view_name": "LayoutView",
            "align_content": null,
            "align_items": null,
            "align_self": null,
            "border": null,
            "bottom": null,
            "display": null,
            "flex": null,
            "flex_flow": null,
            "grid_area": null,
            "grid_auto_columns": null,
            "grid_auto_flow": null,
            "grid_auto_rows": null,
            "grid_column": null,
            "grid_gap": null,
            "grid_row": null,
            "grid_template_areas": null,
            "grid_template_columns": null,
            "grid_template_rows": null,
            "height": null,
            "justify_content": null,
            "justify_items": null,
            "left": null,
            "margin": null,
            "max_height": null,
            "max_width": null,
            "min_height": null,
            "min_width": null,
            "object_fit": null,
            "object_position": null,
            "order": null,
            "overflow": null,
            "overflow_x": null,
            "overflow_y": null,
            "padding": null,
            "right": null,
            "top": null,
            "visibility": null,
            "width": null
          }
        },
        "b5265d20afa84963afa49e6271c1bdb8": {
          "model_module": "@jupyter-widgets/controls",
          "model_name": "DescriptionStyleModel",
          "model_module_version": "1.5.0",
          "state": {
            "_model_module": "@jupyter-widgets/controls",
            "_model_module_version": "1.5.0",
            "_model_name": "DescriptionStyleModel",
            "_view_count": null,
            "_view_module": "@jupyter-widgets/base",
            "_view_module_version": "1.2.0",
            "_view_name": "StyleView",
            "description_width": ""
          }
        },
        "76d151326b2241249f498b9f8de1a440": {
          "model_module": "@jupyter-widgets/controls",
          "model_name": "HBoxModel",
          "model_module_version": "1.5.0",
          "state": {
            "_dom_classes": [],
            "_model_module": "@jupyter-widgets/controls",
            "_model_module_version": "1.5.0",
            "_model_name": "HBoxModel",
            "_view_count": null,
            "_view_module": "@jupyter-widgets/controls",
            "_view_module_version": "1.5.0",
            "_view_name": "HBoxView",
            "box_style": "",
            "children": [
              "IPY_MODEL_c78711b1e243477db57092170da7aa8c",
              "IPY_MODEL_7b85eac787ce41d7a80c59e32098449c",
              "IPY_MODEL_2e12a1f6da6d4d708a32f23ec523796d"
            ],
            "layout": "IPY_MODEL_9de17932fd8d4e93a0bf0b16a2c7e07b"
          }
        },
        "c78711b1e243477db57092170da7aa8c": {
          "model_module": "@jupyter-widgets/controls",
          "model_name": "HTMLModel",
          "model_module_version": "1.5.0",
          "state": {
            "_dom_classes": [],
            "_model_module": "@jupyter-widgets/controls",
            "_model_module_version": "1.5.0",
            "_model_name": "HTMLModel",
            "_view_count": null,
            "_view_module": "@jupyter-widgets/controls",
            "_view_module_version": "1.5.0",
            "_view_name": "HTMLView",
            "description": "",
            "description_tooltip": null,
            "layout": "IPY_MODEL_fa96a2af901e46b7a796f75d697d4a1c",
            "placeholder": "​",
            "style": "IPY_MODEL_f5f70bacbb4b467a9795b5ca3b438382",
            "value": "Processing: 100%"
          }
        },
        "7b85eac787ce41d7a80c59e32098449c": {
          "model_module": "@jupyter-widgets/controls",
          "model_name": "FloatProgressModel",
          "model_module_version": "1.5.0",
          "state": {
            "_dom_classes": [],
            "_model_module": "@jupyter-widgets/controls",
            "_model_module_version": "1.5.0",
            "_model_name": "FloatProgressModel",
            "_view_count": null,
            "_view_module": "@jupyter-widgets/controls",
            "_view_module_version": "1.5.0",
            "_view_name": "ProgressView",
            "bar_style": "",
            "description": "",
            "description_tooltip": null,
            "layout": "IPY_MODEL_1539747c0f734925ad64990ca57f8fac",
            "max": 7,
            "min": 0,
            "orientation": "horizontal",
            "style": "IPY_MODEL_640dcf5d141e435e867b1d01edece30a",
            "value": 7
          }
        },
        "2e12a1f6da6d4d708a32f23ec523796d": {
          "model_module": "@jupyter-widgets/controls",
          "model_name": "HTMLModel",
          "model_module_version": "1.5.0",
          "state": {
            "_dom_classes": [],
            "_model_module": "@jupyter-widgets/controls",
            "_model_module_version": "1.5.0",
            "_model_name": "HTMLModel",
            "_view_count": null,
            "_view_module": "@jupyter-widgets/controls",
            "_view_module_version": "1.5.0",
            "_view_name": "HTMLView",
            "description": "",
            "description_tooltip": null,
            "layout": "IPY_MODEL_9fc945c946f149d58826de6c155b7d5b",
            "placeholder": "​",
            "style": "IPY_MODEL_9b834af16a614618ab1fdd32fca63407",
            "value": " 7/7 [01:33&lt;00:00, 10.58s/it]"
          }
        },
        "9de17932fd8d4e93a0bf0b16a2c7e07b": {
          "model_module": "@jupyter-widgets/base",
          "model_name": "LayoutModel",
          "model_module_version": "1.2.0",
          "state": {
            "_model_module": "@jupyter-widgets/base",
            "_model_module_version": "1.2.0",
            "_model_name": "LayoutModel",
            "_view_count": null,
            "_view_module": "@jupyter-widgets/base",
            "_view_module_version": "1.2.0",
            "_view_name": "LayoutView",
            "align_content": null,
            "align_items": null,
            "align_self": null,
            "border": null,
            "bottom": null,
            "display": null,
            "flex": null,
            "flex_flow": null,
            "grid_area": null,
            "grid_auto_columns": null,
            "grid_auto_flow": null,
            "grid_auto_rows": null,
            "grid_column": null,
            "grid_gap": null,
            "grid_row": null,
            "grid_template_areas": null,
            "grid_template_columns": null,
            "grid_template_rows": null,
            "height": null,
            "justify_content": null,
            "justify_items": null,
            "left": null,
            "margin": null,
            "max_height": null,
            "max_width": null,
            "min_height": null,
            "min_width": null,
            "object_fit": null,
            "object_position": null,
            "order": null,
            "overflow": null,
            "overflow_x": null,
            "overflow_y": null,
            "padding": null,
            "right": null,
            "top": null,
            "visibility": "hidden",
            "width": null
          }
        },
        "fa96a2af901e46b7a796f75d697d4a1c": {
          "model_module": "@jupyter-widgets/base",
          "model_name": "LayoutModel",
          "model_module_version": "1.2.0",
          "state": {
            "_model_module": "@jupyter-widgets/base",
            "_model_module_version": "1.2.0",
            "_model_name": "LayoutModel",
            "_view_count": null,
            "_view_module": "@jupyter-widgets/base",
            "_view_module_version": "1.2.0",
            "_view_name": "LayoutView",
            "align_content": null,
            "align_items": null,
            "align_self": null,
            "border": null,
            "bottom": null,
            "display": null,
            "flex": null,
            "flex_flow": null,
            "grid_area": null,
            "grid_auto_columns": null,
            "grid_auto_flow": null,
            "grid_auto_rows": null,
            "grid_column": null,
            "grid_gap": null,
            "grid_row": null,
            "grid_template_areas": null,
            "grid_template_columns": null,
            "grid_template_rows": null,
            "height": null,
            "justify_content": null,
            "justify_items": null,
            "left": null,
            "margin": null,
            "max_height": null,
            "max_width": null,
            "min_height": null,
            "min_width": null,
            "object_fit": null,
            "object_position": null,
            "order": null,
            "overflow": null,
            "overflow_x": null,
            "overflow_y": null,
            "padding": null,
            "right": null,
            "top": null,
            "visibility": null,
            "width": null
          }
        },
        "f5f70bacbb4b467a9795b5ca3b438382": {
          "model_module": "@jupyter-widgets/controls",
          "model_name": "DescriptionStyleModel",
          "model_module_version": "1.5.0",
          "state": {
            "_model_module": "@jupyter-widgets/controls",
            "_model_module_version": "1.5.0",
            "_model_name": "DescriptionStyleModel",
            "_view_count": null,
            "_view_module": "@jupyter-widgets/base",
            "_view_module_version": "1.2.0",
            "_view_name": "StyleView",
            "description_width": ""
          }
        },
        "1539747c0f734925ad64990ca57f8fac": {
          "model_module": "@jupyter-widgets/base",
          "model_name": "LayoutModel",
          "model_module_version": "1.2.0",
          "state": {
            "_model_module": "@jupyter-widgets/base",
            "_model_module_version": "1.2.0",
            "_model_name": "LayoutModel",
            "_view_count": null,
            "_view_module": "@jupyter-widgets/base",
            "_view_module_version": "1.2.0",
            "_view_name": "LayoutView",
            "align_content": null,
            "align_items": null,
            "align_self": null,
            "border": null,
            "bottom": null,
            "display": null,
            "flex": null,
            "flex_flow": null,
            "grid_area": null,
            "grid_auto_columns": null,
            "grid_auto_flow": null,
            "grid_auto_rows": null,
            "grid_column": null,
            "grid_gap": null,
            "grid_row": null,
            "grid_template_areas": null,
            "grid_template_columns": null,
            "grid_template_rows": null,
            "height": null,
            "justify_content": null,
            "justify_items": null,
            "left": null,
            "margin": null,
            "max_height": null,
            "max_width": null,
            "min_height": null,
            "min_width": null,
            "object_fit": null,
            "object_position": null,
            "order": null,
            "overflow": null,
            "overflow_x": null,
            "overflow_y": null,
            "padding": null,
            "right": null,
            "top": null,
            "visibility": null,
            "width": null
          }
        },
        "640dcf5d141e435e867b1d01edece30a": {
          "model_module": "@jupyter-widgets/controls",
          "model_name": "ProgressStyleModel",
          "model_module_version": "1.5.0",
          "state": {
            "_model_module": "@jupyter-widgets/controls",
            "_model_module_version": "1.5.0",
            "_model_name": "ProgressStyleModel",
            "_view_count": null,
            "_view_module": "@jupyter-widgets/base",
            "_view_module_version": "1.2.0",
            "_view_name": "StyleView",
            "bar_color": null,
            "description_width": ""
          }
        },
        "9fc945c946f149d58826de6c155b7d5b": {
          "model_module": "@jupyter-widgets/base",
          "model_name": "LayoutModel",
          "model_module_version": "1.2.0",
          "state": {
            "_model_module": "@jupyter-widgets/base",
            "_model_module_version": "1.2.0",
            "_model_name": "LayoutModel",
            "_view_count": null,
            "_view_module": "@jupyter-widgets/base",
            "_view_module_version": "1.2.0",
            "_view_name": "LayoutView",
            "align_content": null,
            "align_items": null,
            "align_self": null,
            "border": null,
            "bottom": null,
            "display": null,
            "flex": null,
            "flex_flow": null,
            "grid_area": null,
            "grid_auto_columns": null,
            "grid_auto_flow": null,
            "grid_auto_rows": null,
            "grid_column": null,
            "grid_gap": null,
            "grid_row": null,
            "grid_template_areas": null,
            "grid_template_columns": null,
            "grid_template_rows": null,
            "height": null,
            "justify_content": null,
            "justify_items": null,
            "left": null,
            "margin": null,
            "max_height": null,
            "max_width": null,
            "min_height": null,
            "min_width": null,
            "object_fit": null,
            "object_position": null,
            "order": null,
            "overflow": null,
            "overflow_x": null,
            "overflow_y": null,
            "padding": null,
            "right": null,
            "top": null,
            "visibility": null,
            "width": null
          }
        },
        "9b834af16a614618ab1fdd32fca63407": {
          "model_module": "@jupyter-widgets/controls",
          "model_name": "DescriptionStyleModel",
          "model_module_version": "1.5.0",
          "state": {
            "_model_module": "@jupyter-widgets/controls",
            "_model_module_version": "1.5.0",
            "_model_name": "DescriptionStyleModel",
            "_view_count": null,
            "_view_module": "@jupyter-widgets/base",
            "_view_module_version": "1.2.0",
            "_view_name": "StyleView",
            "description_width": ""
          }
        }
      }
    }
  },
  "cells": [
    {
      "cell_type": "markdown",
      "metadata": {
        "id": "view-in-github",
        "colab_type": "text"
      },
      "source": [
        "<a href=\"https://colab.research.google.com/github/jagvgithub/Classification_Regression_models/blob/main/ModeloPrepagosVehiculo.ipynb\" target=\"_parent\"><img src=\"https://colab.research.google.com/assets/colab-badge.svg\" alt=\"Open In Colab\"/></a>"
      ]
    },
    {
      "cell_type": "code",
      "execution_count": 7,
      "metadata": {
        "id": "Nw-BeQ05q72v",
        "colab": {
          "base_uri": "https://localhost:8080/"
        },
        "collapsed": true,
        "outputId": "705e32bc-c7ef-4ab9-9f8b-7e20705c31b1"
      },
      "outputs": [
        {
          "output_type": "stream",
          "name": "stdout",
          "text": [
            "Requirement already satisfied: pycaret in /usr/local/lib/python3.10/dist-packages (3.3.2)\n",
            "Requirement already satisfied: ipython>=5.5.0 in /usr/local/lib/python3.10/dist-packages (from pycaret) (7.34.0)\n",
            "Requirement already satisfied: ipywidgets>=7.6.5 in /usr/local/lib/python3.10/dist-packages (from pycaret) (7.7.1)\n",
            "Requirement already satisfied: tqdm>=4.62.0 in /usr/local/lib/python3.10/dist-packages (from pycaret) (4.66.4)\n",
            "Requirement already satisfied: numpy<1.27,>=1.21 in /usr/local/lib/python3.10/dist-packages (from pycaret) (1.25.2)\n",
            "Requirement already satisfied: pandas<2.2.0 in /usr/local/lib/python3.10/dist-packages (from pycaret) (2.0.3)\n",
            "Requirement already satisfied: jinja2>=3 in /usr/local/lib/python3.10/dist-packages (from pycaret) (3.1.4)\n",
            "Requirement already satisfied: scipy<=1.11.4,>=1.6.1 in /usr/local/lib/python3.10/dist-packages (from pycaret) (1.11.4)\n",
            "Requirement already satisfied: joblib<1.4,>=1.2.0 in /usr/local/lib/python3.10/dist-packages (from pycaret) (1.3.2)\n",
            "Requirement already satisfied: scikit-learn>1.4.0 in /usr/local/lib/python3.10/dist-packages (from pycaret) (1.4.2)\n",
            "Requirement already satisfied: pyod>=1.1.3 in /usr/local/lib/python3.10/dist-packages (from pycaret) (2.0.0)\n",
            "Requirement already satisfied: imbalanced-learn>=0.12.0 in /usr/local/lib/python3.10/dist-packages (from pycaret) (0.12.3)\n",
            "Requirement already satisfied: category-encoders>=2.4.0 in /usr/local/lib/python3.10/dist-packages (from pycaret) (2.6.3)\n",
            "Requirement already satisfied: lightgbm>=3.0.0 in /usr/local/lib/python3.10/dist-packages (from pycaret) (4.1.0)\n",
            "Requirement already satisfied: numba>=0.55.0 in /usr/local/lib/python3.10/dist-packages (from pycaret) (0.58.1)\n",
            "Requirement already satisfied: requests>=2.27.1 in /usr/local/lib/python3.10/dist-packages (from pycaret) (2.31.0)\n",
            "Requirement already satisfied: psutil>=5.9.0 in /usr/local/lib/python3.10/dist-packages (from pycaret) (5.9.5)\n",
            "Requirement already satisfied: markupsafe>=2.0.1 in /usr/local/lib/python3.10/dist-packages (from pycaret) (2.1.5)\n",
            "Requirement already satisfied: importlib-metadata>=4.12.0 in /usr/local/lib/python3.10/dist-packages (from pycaret) (7.1.0)\n",
            "Requirement already satisfied: nbformat>=4.2.0 in /usr/local/lib/python3.10/dist-packages (from pycaret) (5.10.4)\n",
            "Requirement already satisfied: cloudpickle in /usr/local/lib/python3.10/dist-packages (from pycaret) (2.2.1)\n",
            "Requirement already satisfied: deprecation>=2.1.0 in /usr/local/lib/python3.10/dist-packages (from pycaret) (2.1.0)\n",
            "Requirement already satisfied: xxhash in /usr/local/lib/python3.10/dist-packages (from pycaret) (3.4.1)\n",
            "Requirement already satisfied: matplotlib<3.8.0 in /usr/local/lib/python3.10/dist-packages (from pycaret) (3.7.1)\n",
            "Requirement already satisfied: scikit-plot>=0.3.7 in /usr/local/lib/python3.10/dist-packages (from pycaret) (0.3.7)\n",
            "Requirement already satisfied: yellowbrick>=1.4 in /usr/local/lib/python3.10/dist-packages (from pycaret) (1.5)\n",
            "Requirement already satisfied: plotly>=5.14.0 in /usr/local/lib/python3.10/dist-packages (from pycaret) (5.15.0)\n",
            "Requirement already satisfied: kaleido>=0.2.1 in /usr/local/lib/python3.10/dist-packages (from pycaret) (0.2.1)\n",
            "Requirement already satisfied: schemdraw==0.15 in /usr/local/lib/python3.10/dist-packages (from pycaret) (0.15)\n",
            "Requirement already satisfied: plotly-resampler>=0.8.3.1 in /usr/local/lib/python3.10/dist-packages (from pycaret) (0.10.0)\n",
            "Requirement already satisfied: statsmodels>=0.12.1 in /usr/local/lib/python3.10/dist-packages (from pycaret) (0.14.2)\n",
            "Requirement already satisfied: sktime==0.26.0 in /usr/local/lib/python3.10/dist-packages (from pycaret) (0.26.0)\n",
            "Requirement already satisfied: tbats>=1.1.3 in /usr/local/lib/python3.10/dist-packages (from pycaret) (1.1.3)\n",
            "Requirement already satisfied: pmdarima>=2.0.4 in /usr/local/lib/python3.10/dist-packages (from pycaret) (2.0.4)\n",
            "Requirement already satisfied: wurlitzer in /usr/local/lib/python3.10/dist-packages (from pycaret) (3.1.0)\n",
            "Requirement already satisfied: packaging in /usr/local/lib/python3.10/dist-packages (from sktime==0.26.0->pycaret) (24.0)\n",
            "Requirement already satisfied: scikit-base<0.8.0 in /usr/local/lib/python3.10/dist-packages (from sktime==0.26.0->pycaret) (0.7.8)\n",
            "Requirement already satisfied: patsy>=0.5.1 in /usr/local/lib/python3.10/dist-packages (from category-encoders>=2.4.0->pycaret) (0.5.6)\n",
            "Requirement already satisfied: threadpoolctl>=2.0.0 in /usr/local/lib/python3.10/dist-packages (from imbalanced-learn>=0.12.0->pycaret) (3.5.0)\n",
            "Requirement already satisfied: zipp>=0.5 in /usr/local/lib/python3.10/dist-packages (from importlib-metadata>=4.12.0->pycaret) (3.19.1)\n",
            "Requirement already satisfied: setuptools>=18.5 in /usr/local/lib/python3.10/dist-packages (from ipython>=5.5.0->pycaret) (67.7.2)\n",
            "Requirement already satisfied: jedi>=0.16 in /usr/local/lib/python3.10/dist-packages (from ipython>=5.5.0->pycaret) (0.19.1)\n",
            "Requirement already satisfied: decorator in /usr/local/lib/python3.10/dist-packages (from ipython>=5.5.0->pycaret) (4.4.2)\n",
            "Requirement already satisfied: pickleshare in /usr/local/lib/python3.10/dist-packages (from ipython>=5.5.0->pycaret) (0.7.5)\n",
            "Requirement already satisfied: traitlets>=4.2 in /usr/local/lib/python3.10/dist-packages (from ipython>=5.5.0->pycaret) (5.7.1)\n",
            "Requirement already satisfied: prompt-toolkit!=3.0.0,!=3.0.1,<3.1.0,>=2.0.0 in /usr/local/lib/python3.10/dist-packages (from ipython>=5.5.0->pycaret) (3.0.45)\n",
            "Requirement already satisfied: pygments in /usr/local/lib/python3.10/dist-packages (from ipython>=5.5.0->pycaret) (2.16.1)\n",
            "Requirement already satisfied: backcall in /usr/local/lib/python3.10/dist-packages (from ipython>=5.5.0->pycaret) (0.2.0)\n",
            "Requirement already satisfied: matplotlib-inline in /usr/local/lib/python3.10/dist-packages (from ipython>=5.5.0->pycaret) (0.1.7)\n",
            "Requirement already satisfied: pexpect>4.3 in /usr/local/lib/python3.10/dist-packages (from ipython>=5.5.0->pycaret) (4.9.0)\n",
            "Requirement already satisfied: ipykernel>=4.5.1 in /usr/local/lib/python3.10/dist-packages (from ipywidgets>=7.6.5->pycaret) (5.5.6)\n",
            "Requirement already satisfied: ipython-genutils~=0.2.0 in /usr/local/lib/python3.10/dist-packages (from ipywidgets>=7.6.5->pycaret) (0.2.0)\n",
            "Requirement already satisfied: widgetsnbextension~=3.6.0 in /usr/local/lib/python3.10/dist-packages (from ipywidgets>=7.6.5->pycaret) (3.6.6)\n",
            "Requirement already satisfied: jupyterlab-widgets>=1.0.0 in /usr/local/lib/python3.10/dist-packages (from ipywidgets>=7.6.5->pycaret) (3.0.11)\n",
            "Requirement already satisfied: contourpy>=1.0.1 in /usr/local/lib/python3.10/dist-packages (from matplotlib<3.8.0->pycaret) (1.2.1)\n",
            "Requirement already satisfied: cycler>=0.10 in /usr/local/lib/python3.10/dist-packages (from matplotlib<3.8.0->pycaret) (0.12.1)\n",
            "Requirement already satisfied: fonttools>=4.22.0 in /usr/local/lib/python3.10/dist-packages (from matplotlib<3.8.0->pycaret) (4.53.0)\n",
            "Requirement already satisfied: kiwisolver>=1.0.1 in /usr/local/lib/python3.10/dist-packages (from matplotlib<3.8.0->pycaret) (1.4.5)\n",
            "Requirement already satisfied: pillow>=6.2.0 in /usr/local/lib/python3.10/dist-packages (from matplotlib<3.8.0->pycaret) (9.4.0)\n",
            "Requirement already satisfied: pyparsing>=2.3.1 in /usr/local/lib/python3.10/dist-packages (from matplotlib<3.8.0->pycaret) (3.1.2)\n",
            "Requirement already satisfied: python-dateutil>=2.7 in /usr/local/lib/python3.10/dist-packages (from matplotlib<3.8.0->pycaret) (2.8.2)\n",
            "Requirement already satisfied: fastjsonschema>=2.15 in /usr/local/lib/python3.10/dist-packages (from nbformat>=4.2.0->pycaret) (2.19.1)\n",
            "Requirement already satisfied: jsonschema>=2.6 in /usr/local/lib/python3.10/dist-packages (from nbformat>=4.2.0->pycaret) (4.19.2)\n",
            "Requirement already satisfied: jupyter-core!=5.0.*,>=4.12 in /usr/local/lib/python3.10/dist-packages (from nbformat>=4.2.0->pycaret) (5.7.2)\n",
            "Requirement already satisfied: llvmlite<0.42,>=0.41.0dev0 in /usr/local/lib/python3.10/dist-packages (from numba>=0.55.0->pycaret) (0.41.1)\n",
            "Requirement already satisfied: pytz>=2020.1 in /usr/local/lib/python3.10/dist-packages (from pandas<2.2.0->pycaret) (2023.4)\n",
            "Requirement already satisfied: tzdata>=2022.1 in /usr/local/lib/python3.10/dist-packages (from pandas<2.2.0->pycaret) (2024.1)\n",
            "Requirement already satisfied: tenacity>=6.2.0 in /usr/local/lib/python3.10/dist-packages (from plotly>=5.14.0->pycaret) (8.3.0)\n",
            "Requirement already satisfied: dash>=2.9.0 in /usr/local/lib/python3.10/dist-packages (from plotly-resampler>=0.8.3.1->pycaret) (2.17.0)\n",
            "Requirement already satisfied: orjson<4.0.0,>=3.8.0 in /usr/local/lib/python3.10/dist-packages (from plotly-resampler>=0.8.3.1->pycaret) (3.10.3)\n",
            "Requirement already satisfied: tsdownsample>=0.1.3 in /usr/local/lib/python3.10/dist-packages (from plotly-resampler>=0.8.3.1->pycaret) (0.1.3)\n",
            "Requirement already satisfied: Cython!=0.29.18,!=0.29.31,>=0.29 in /usr/local/lib/python3.10/dist-packages (from pmdarima>=2.0.4->pycaret) (3.0.10)\n",
            "Requirement already satisfied: urllib3 in /usr/local/lib/python3.10/dist-packages (from pmdarima>=2.0.4->pycaret) (2.0.7)\n",
            "Requirement already satisfied: charset-normalizer<4,>=2 in /usr/local/lib/python3.10/dist-packages (from requests>=2.27.1->pycaret) (3.3.2)\n",
            "Requirement already satisfied: idna<4,>=2.5 in /usr/local/lib/python3.10/dist-packages (from requests>=2.27.1->pycaret) (3.7)\n",
            "Requirement already satisfied: certifi>=2017.4.17 in /usr/local/lib/python3.10/dist-packages (from requests>=2.27.1->pycaret) (2024.6.2)\n",
            "Requirement already satisfied: Flask<3.1,>=1.0.4 in /usr/local/lib/python3.10/dist-packages (from dash>=2.9.0->plotly-resampler>=0.8.3.1->pycaret) (2.2.5)\n",
            "Requirement already satisfied: Werkzeug<3.1 in /usr/local/lib/python3.10/dist-packages (from dash>=2.9.0->plotly-resampler>=0.8.3.1->pycaret) (3.0.3)\n",
            "Requirement already satisfied: dash-html-components==2.0.0 in /usr/local/lib/python3.10/dist-packages (from dash>=2.9.0->plotly-resampler>=0.8.3.1->pycaret) (2.0.0)\n",
            "Requirement already satisfied: dash-core-components==2.0.0 in /usr/local/lib/python3.10/dist-packages (from dash>=2.9.0->plotly-resampler>=0.8.3.1->pycaret) (2.0.0)\n",
            "Requirement already satisfied: dash-table==5.0.0 in /usr/local/lib/python3.10/dist-packages (from dash>=2.9.0->plotly-resampler>=0.8.3.1->pycaret) (5.0.0)\n",
            "Requirement already satisfied: typing-extensions>=4.1.1 in /usr/local/lib/python3.10/dist-packages (from dash>=2.9.0->plotly-resampler>=0.8.3.1->pycaret) (4.12.1)\n",
            "Requirement already satisfied: retrying in /usr/local/lib/python3.10/dist-packages (from dash>=2.9.0->plotly-resampler>=0.8.3.1->pycaret) (1.3.4)\n",
            "Requirement already satisfied: nest-asyncio in /usr/local/lib/python3.10/dist-packages (from dash>=2.9.0->plotly-resampler>=0.8.3.1->pycaret) (1.6.0)\n",
            "Requirement already satisfied: jupyter-client in /usr/local/lib/python3.10/dist-packages (from ipykernel>=4.5.1->ipywidgets>=7.6.5->pycaret) (6.1.12)\n",
            "Requirement already satisfied: tornado>=4.2 in /usr/local/lib/python3.10/dist-packages (from ipykernel>=4.5.1->ipywidgets>=7.6.5->pycaret) (6.3.3)\n",
            "Requirement already satisfied: parso<0.9.0,>=0.8.3 in /usr/local/lib/python3.10/dist-packages (from jedi>=0.16->ipython>=5.5.0->pycaret) (0.8.4)\n",
            "Requirement already satisfied: attrs>=22.2.0 in /usr/local/lib/python3.10/dist-packages (from jsonschema>=2.6->nbformat>=4.2.0->pycaret) (23.2.0)\n",
            "Requirement already satisfied: jsonschema-specifications>=2023.03.6 in /usr/local/lib/python3.10/dist-packages (from jsonschema>=2.6->nbformat>=4.2.0->pycaret) (2023.12.1)\n",
            "Requirement already satisfied: referencing>=0.28.4 in /usr/local/lib/python3.10/dist-packages (from jsonschema>=2.6->nbformat>=4.2.0->pycaret) (0.35.1)\n",
            "Requirement already satisfied: rpds-py>=0.7.1 in /usr/local/lib/python3.10/dist-packages (from jsonschema>=2.6->nbformat>=4.2.0->pycaret) (0.18.1)\n",
            "Requirement already satisfied: platformdirs>=2.5 in /usr/local/lib/python3.10/dist-packages (from jupyter-core!=5.0.*,>=4.12->nbformat>=4.2.0->pycaret) (4.2.2)\n",
            "Requirement already satisfied: six in /usr/local/lib/python3.10/dist-packages (from patsy>=0.5.1->category-encoders>=2.4.0->pycaret) (1.16.0)\n",
            "Requirement already satisfied: ptyprocess>=0.5 in /usr/local/lib/python3.10/dist-packages (from pexpect>4.3->ipython>=5.5.0->pycaret) (0.7.0)\n",
            "Requirement already satisfied: wcwidth in /usr/local/lib/python3.10/dist-packages (from prompt-toolkit!=3.0.0,!=3.0.1,<3.1.0,>=2.0.0->ipython>=5.5.0->pycaret) (0.2.13)\n",
            "Requirement already satisfied: notebook>=4.4.1 in /usr/local/lib/python3.10/dist-packages (from widgetsnbextension~=3.6.0->ipywidgets>=7.6.5->pycaret) (6.5.5)\n",
            "Requirement already satisfied: itsdangerous>=2.0 in /usr/local/lib/python3.10/dist-packages (from Flask<3.1,>=1.0.4->dash>=2.9.0->plotly-resampler>=0.8.3.1->pycaret) (2.2.0)\n",
            "Requirement already satisfied: click>=8.0 in /usr/local/lib/python3.10/dist-packages (from Flask<3.1,>=1.0.4->dash>=2.9.0->plotly-resampler>=0.8.3.1->pycaret) (8.1.7)\n",
            "Requirement already satisfied: pyzmq<25,>=17 in /usr/local/lib/python3.10/dist-packages (from notebook>=4.4.1->widgetsnbextension~=3.6.0->ipywidgets>=7.6.5->pycaret) (24.0.1)\n",
            "Requirement already satisfied: argon2-cffi in /usr/local/lib/python3.10/dist-packages (from notebook>=4.4.1->widgetsnbextension~=3.6.0->ipywidgets>=7.6.5->pycaret) (23.1.0)\n",
            "Requirement already satisfied: nbconvert>=5 in /usr/local/lib/python3.10/dist-packages (from notebook>=4.4.1->widgetsnbextension~=3.6.0->ipywidgets>=7.6.5->pycaret) (6.5.4)\n",
            "Requirement already satisfied: Send2Trash>=1.8.0 in /usr/local/lib/python3.10/dist-packages (from notebook>=4.4.1->widgetsnbextension~=3.6.0->ipywidgets>=7.6.5->pycaret) (1.8.3)\n",
            "Requirement already satisfied: terminado>=0.8.3 in /usr/local/lib/python3.10/dist-packages (from notebook>=4.4.1->widgetsnbextension~=3.6.0->ipywidgets>=7.6.5->pycaret) (0.18.1)\n",
            "Requirement already satisfied: prometheus-client in /usr/local/lib/python3.10/dist-packages (from notebook>=4.4.1->widgetsnbextension~=3.6.0->ipywidgets>=7.6.5->pycaret) (0.20.0)\n",
            "Requirement already satisfied: nbclassic>=0.4.7 in /usr/local/lib/python3.10/dist-packages (from notebook>=4.4.1->widgetsnbextension~=3.6.0->ipywidgets>=7.6.5->pycaret) (1.1.0)\n",
            "Requirement already satisfied: notebook-shim>=0.2.3 in /usr/local/lib/python3.10/dist-packages (from nbclassic>=0.4.7->notebook>=4.4.1->widgetsnbextension~=3.6.0->ipywidgets>=7.6.5->pycaret) (0.2.4)\n",
            "Requirement already satisfied: lxml in /usr/local/lib/python3.10/dist-packages (from nbconvert>=5->notebook>=4.4.1->widgetsnbextension~=3.6.0->ipywidgets>=7.6.5->pycaret) (4.9.4)\n",
            "Requirement already satisfied: beautifulsoup4 in /usr/local/lib/python3.10/dist-packages (from nbconvert>=5->notebook>=4.4.1->widgetsnbextension~=3.6.0->ipywidgets>=7.6.5->pycaret) (4.12.3)\n",
            "Requirement already satisfied: bleach in /usr/local/lib/python3.10/dist-packages (from nbconvert>=5->notebook>=4.4.1->widgetsnbextension~=3.6.0->ipywidgets>=7.6.5->pycaret) (6.1.0)\n",
            "Requirement already satisfied: defusedxml in /usr/local/lib/python3.10/dist-packages (from nbconvert>=5->notebook>=4.4.1->widgetsnbextension~=3.6.0->ipywidgets>=7.6.5->pycaret) (0.7.1)\n",
            "Requirement already satisfied: entrypoints>=0.2.2 in /usr/local/lib/python3.10/dist-packages (from nbconvert>=5->notebook>=4.4.1->widgetsnbextension~=3.6.0->ipywidgets>=7.6.5->pycaret) (0.4)\n",
            "Requirement already satisfied: jupyterlab-pygments in /usr/local/lib/python3.10/dist-packages (from nbconvert>=5->notebook>=4.4.1->widgetsnbextension~=3.6.0->ipywidgets>=7.6.5->pycaret) (0.3.0)\n",
            "Requirement already satisfied: mistune<2,>=0.8.1 in /usr/local/lib/python3.10/dist-packages (from nbconvert>=5->notebook>=4.4.1->widgetsnbextension~=3.6.0->ipywidgets>=7.6.5->pycaret) (0.8.4)\n",
            "Requirement already satisfied: nbclient>=0.5.0 in /usr/local/lib/python3.10/dist-packages (from nbconvert>=5->notebook>=4.4.1->widgetsnbextension~=3.6.0->ipywidgets>=7.6.5->pycaret) (0.10.0)\n",
            "Requirement already satisfied: pandocfilters>=1.4.1 in /usr/local/lib/python3.10/dist-packages (from nbconvert>=5->notebook>=4.4.1->widgetsnbextension~=3.6.0->ipywidgets>=7.6.5->pycaret) (1.5.1)\n",
            "Requirement already satisfied: tinycss2 in /usr/local/lib/python3.10/dist-packages (from nbconvert>=5->notebook>=4.4.1->widgetsnbextension~=3.6.0->ipywidgets>=7.6.5->pycaret) (1.3.0)\n",
            "Requirement already satisfied: argon2-cffi-bindings in /usr/local/lib/python3.10/dist-packages (from argon2-cffi->notebook>=4.4.1->widgetsnbextension~=3.6.0->ipywidgets>=7.6.5->pycaret) (21.2.0)\n",
            "Requirement already satisfied: jupyter-server<3,>=1.8 in /usr/local/lib/python3.10/dist-packages (from notebook-shim>=0.2.3->nbclassic>=0.4.7->notebook>=4.4.1->widgetsnbextension~=3.6.0->ipywidgets>=7.6.5->pycaret) (1.24.0)\n",
            "Requirement already satisfied: cffi>=1.0.1 in /usr/local/lib/python3.10/dist-packages (from argon2-cffi-bindings->argon2-cffi->notebook>=4.4.1->widgetsnbextension~=3.6.0->ipywidgets>=7.6.5->pycaret) (1.16.0)\n",
            "Requirement already satisfied: soupsieve>1.2 in /usr/local/lib/python3.10/dist-packages (from beautifulsoup4->nbconvert>=5->notebook>=4.4.1->widgetsnbextension~=3.6.0->ipywidgets>=7.6.5->pycaret) (2.5)\n",
            "Requirement already satisfied: webencodings in /usr/local/lib/python3.10/dist-packages (from bleach->nbconvert>=5->notebook>=4.4.1->widgetsnbextension~=3.6.0->ipywidgets>=7.6.5->pycaret) (0.5.1)\n",
            "Requirement already satisfied: pycparser in /usr/local/lib/python3.10/dist-packages (from cffi>=1.0.1->argon2-cffi-bindings->argon2-cffi->notebook>=4.4.1->widgetsnbextension~=3.6.0->ipywidgets>=7.6.5->pycaret) (2.22)\n",
            "Requirement already satisfied: anyio<4,>=3.1.0 in /usr/local/lib/python3.10/dist-packages (from jupyter-server<3,>=1.8->notebook-shim>=0.2.3->nbclassic>=0.4.7->notebook>=4.4.1->widgetsnbextension~=3.6.0->ipywidgets>=7.6.5->pycaret) (3.7.1)\n",
            "Requirement already satisfied: websocket-client in /usr/local/lib/python3.10/dist-packages (from jupyter-server<3,>=1.8->notebook-shim>=0.2.3->nbclassic>=0.4.7->notebook>=4.4.1->widgetsnbextension~=3.6.0->ipywidgets>=7.6.5->pycaret) (1.8.0)\n",
            "Requirement already satisfied: sniffio>=1.1 in /usr/local/lib/python3.10/dist-packages (from anyio<4,>=3.1.0->jupyter-server<3,>=1.8->notebook-shim>=0.2.3->nbclassic>=0.4.7->notebook>=4.4.1->widgetsnbextension~=3.6.0->ipywidgets>=7.6.5->pycaret) (1.3.1)\n",
            "Requirement already satisfied: exceptiongroup in /usr/local/lib/python3.10/dist-packages (from anyio<4,>=3.1.0->jupyter-server<3,>=1.8->notebook-shim>=0.2.3->nbclassic>=0.4.7->notebook>=4.4.1->widgetsnbextension~=3.6.0->ipywidgets>=7.6.5->pycaret) (1.2.1)\n",
            "Requirement already satisfied: gender_guesser in /usr/local/lib/python3.10/dist-packages (0.4.0)\n"
          ]
        }
      ],
      "source": [
        "# paquetes necesarios\n",
        "!pip install pycaret # Modelos ML\n",
        "!pip install gender_guesser # Estimación de género\n",
        "\n",
        "# Librerias necearias\n",
        "from google.colab import files  # carga de datos\n",
        "import pandas as pd # manipulación de bases de datos\n",
        "import numpy as np # manipulación de bases de datos\n",
        "import matplotlib.pyplot as plt # Visualizaciones\n",
        "import keyword # Listado de palabras reservadas\n",
        "from wordcloud import WordCloud # Nube de palabras\n",
        "import gender_guesser.detector as gender # Estimación de género a partir del primer y segundo nombre"
      ]
    },
    {
      "cell_type": "code",
      "source": [
        "from google.colab import files\n",
        "import pandas as pd\n",
        "# Cargar el archivo CSV\n",
        "uploaded = files.upload()"
      ],
      "metadata": {
        "id": "-pl5LhkyZ107",
        "outputId": "c39306b8-697a-476d-aeca-384b8546ec1f",
        "colab": {
          "base_uri": "https://localhost:8080/",
          "height": 73
        }
      },
      "execution_count": 1,
      "outputs": [
        {
          "output_type": "display_data",
          "data": {
            "text/plain": [
              "<IPython.core.display.HTML object>"
            ],
            "text/html": [
              "\n",
              "     <input type=\"file\" id=\"files-252984c8-2d77-4c35-ab9c-b5e4e2a23ba9\" name=\"files[]\" multiple disabled\n",
              "        style=\"border:none\" />\n",
              "     <output id=\"result-252984c8-2d77-4c35-ab9c-b5e4e2a23ba9\">\n",
              "      Upload widget is only available when the cell has been executed in the\n",
              "      current browser session. Please rerun this cell to enable.\n",
              "      </output>\n",
              "      <script>// Copyright 2017 Google LLC\n",
              "//\n",
              "// Licensed under the Apache License, Version 2.0 (the \"License\");\n",
              "// you may not use this file except in compliance with the License.\n",
              "// You may obtain a copy of the License at\n",
              "//\n",
              "//      http://www.apache.org/licenses/LICENSE-2.0\n",
              "//\n",
              "// Unless required by applicable law or agreed to in writing, software\n",
              "// distributed under the License is distributed on an \"AS IS\" BASIS,\n",
              "// WITHOUT WARRANTIES OR CONDITIONS OF ANY KIND, either express or implied.\n",
              "// See the License for the specific language governing permissions and\n",
              "// limitations under the License.\n",
              "\n",
              "/**\n",
              " * @fileoverview Helpers for google.colab Python module.\n",
              " */\n",
              "(function(scope) {\n",
              "function span(text, styleAttributes = {}) {\n",
              "  const element = document.createElement('span');\n",
              "  element.textContent = text;\n",
              "  for (const key of Object.keys(styleAttributes)) {\n",
              "    element.style[key] = styleAttributes[key];\n",
              "  }\n",
              "  return element;\n",
              "}\n",
              "\n",
              "// Max number of bytes which will be uploaded at a time.\n",
              "const MAX_PAYLOAD_SIZE = 100 * 1024;\n",
              "\n",
              "function _uploadFiles(inputId, outputId) {\n",
              "  const steps = uploadFilesStep(inputId, outputId);\n",
              "  const outputElement = document.getElementById(outputId);\n",
              "  // Cache steps on the outputElement to make it available for the next call\n",
              "  // to uploadFilesContinue from Python.\n",
              "  outputElement.steps = steps;\n",
              "\n",
              "  return _uploadFilesContinue(outputId);\n",
              "}\n",
              "\n",
              "// This is roughly an async generator (not supported in the browser yet),\n",
              "// where there are multiple asynchronous steps and the Python side is going\n",
              "// to poll for completion of each step.\n",
              "// This uses a Promise to block the python side on completion of each step,\n",
              "// then passes the result of the previous step as the input to the next step.\n",
              "function _uploadFilesContinue(outputId) {\n",
              "  const outputElement = document.getElementById(outputId);\n",
              "  const steps = outputElement.steps;\n",
              "\n",
              "  const next = steps.next(outputElement.lastPromiseValue);\n",
              "  return Promise.resolve(next.value.promise).then((value) => {\n",
              "    // Cache the last promise value to make it available to the next\n",
              "    // step of the generator.\n",
              "    outputElement.lastPromiseValue = value;\n",
              "    return next.value.response;\n",
              "  });\n",
              "}\n",
              "\n",
              "/**\n",
              " * Generator function which is called between each async step of the upload\n",
              " * process.\n",
              " * @param {string} inputId Element ID of the input file picker element.\n",
              " * @param {string} outputId Element ID of the output display.\n",
              " * @return {!Iterable<!Object>} Iterable of next steps.\n",
              " */\n",
              "function* uploadFilesStep(inputId, outputId) {\n",
              "  const inputElement = document.getElementById(inputId);\n",
              "  inputElement.disabled = false;\n",
              "\n",
              "  const outputElement = document.getElementById(outputId);\n",
              "  outputElement.innerHTML = '';\n",
              "\n",
              "  const pickedPromise = new Promise((resolve) => {\n",
              "    inputElement.addEventListener('change', (e) => {\n",
              "      resolve(e.target.files);\n",
              "    });\n",
              "  });\n",
              "\n",
              "  const cancel = document.createElement('button');\n",
              "  inputElement.parentElement.appendChild(cancel);\n",
              "  cancel.textContent = 'Cancel upload';\n",
              "  const cancelPromise = new Promise((resolve) => {\n",
              "    cancel.onclick = () => {\n",
              "      resolve(null);\n",
              "    };\n",
              "  });\n",
              "\n",
              "  // Wait for the user to pick the files.\n",
              "  const files = yield {\n",
              "    promise: Promise.race([pickedPromise, cancelPromise]),\n",
              "    response: {\n",
              "      action: 'starting',\n",
              "    }\n",
              "  };\n",
              "\n",
              "  cancel.remove();\n",
              "\n",
              "  // Disable the input element since further picks are not allowed.\n",
              "  inputElement.disabled = true;\n",
              "\n",
              "  if (!files) {\n",
              "    return {\n",
              "      response: {\n",
              "        action: 'complete',\n",
              "      }\n",
              "    };\n",
              "  }\n",
              "\n",
              "  for (const file of files) {\n",
              "    const li = document.createElement('li');\n",
              "    li.append(span(file.name, {fontWeight: 'bold'}));\n",
              "    li.append(span(\n",
              "        `(${file.type || 'n/a'}) - ${file.size} bytes, ` +\n",
              "        `last modified: ${\n",
              "            file.lastModifiedDate ? file.lastModifiedDate.toLocaleDateString() :\n",
              "                                    'n/a'} - `));\n",
              "    const percent = span('0% done');\n",
              "    li.appendChild(percent);\n",
              "\n",
              "    outputElement.appendChild(li);\n",
              "\n",
              "    const fileDataPromise = new Promise((resolve) => {\n",
              "      const reader = new FileReader();\n",
              "      reader.onload = (e) => {\n",
              "        resolve(e.target.result);\n",
              "      };\n",
              "      reader.readAsArrayBuffer(file);\n",
              "    });\n",
              "    // Wait for the data to be ready.\n",
              "    let fileData = yield {\n",
              "      promise: fileDataPromise,\n",
              "      response: {\n",
              "        action: 'continue',\n",
              "      }\n",
              "    };\n",
              "\n",
              "    // Use a chunked sending to avoid message size limits. See b/62115660.\n",
              "    let position = 0;\n",
              "    do {\n",
              "      const length = Math.min(fileData.byteLength - position, MAX_PAYLOAD_SIZE);\n",
              "      const chunk = new Uint8Array(fileData, position, length);\n",
              "      position += length;\n",
              "\n",
              "      const base64 = btoa(String.fromCharCode.apply(null, chunk));\n",
              "      yield {\n",
              "        response: {\n",
              "          action: 'append',\n",
              "          file: file.name,\n",
              "          data: base64,\n",
              "        },\n",
              "      };\n",
              "\n",
              "      let percentDone = fileData.byteLength === 0 ?\n",
              "          100 :\n",
              "          Math.round((position / fileData.byteLength) * 100);\n",
              "      percent.textContent = `${percentDone}% done`;\n",
              "\n",
              "    } while (position < fileData.byteLength);\n",
              "  }\n",
              "\n",
              "  // All done.\n",
              "  yield {\n",
              "    response: {\n",
              "      action: 'complete',\n",
              "    }\n",
              "  };\n",
              "}\n",
              "\n",
              "scope.google = scope.google || {};\n",
              "scope.google.colab = scope.google.colab || {};\n",
              "scope.google.colab._files = {\n",
              "  _uploadFiles,\n",
              "  _uploadFilesContinue,\n",
              "};\n",
              "})(self);\n",
              "</script> "
            ]
          },
          "metadata": {}
        },
        {
          "output_type": "stream",
          "name": "stdout",
          "text": [
            "Saving modeloprepagosvehiculo_final_jose_completo.xlsx to modeloprepagosvehiculo_final_jose_completo.xlsx\n"
          ]
        }
      ]
    },
    {
      "cell_type": "code",
      "source": [
        "# Ruta al archivo xlsx en Google Colab\n",
        "ruta_archivo = '/content/modeloprepagosvehiculo_final_jose_completo.xlsx'\n",
        "\n",
        "# Leer el archivo xlsx usando pandas\n",
        "datos = pd.read_excel(ruta_archivo)\n",
        "datos=pd.DataFrame(datos)"
      ],
      "metadata": {
        "colab": {
          "base_uri": "https://localhost:8080/"
        },
        "id": "jmx2tcSMrXWT",
        "outputId": "8087c45d-0fff-4f00-9c95-ad641ca4046f"
      },
      "execution_count": 2,
      "outputs": [
        {
          "output_type": "stream",
          "name": "stderr",
          "text": [
            "/usr/local/lib/python3.10/dist-packages/openpyxl/styles/stylesheet.py:226: UserWarning: Workbook contains no default style, apply openpyxl's default\n",
            "  warn(\"Workbook contains no default style, apply openpyxl's default\")\n"
          ]
        }
      ]
    },
    {
      "cell_type": "code",
      "source": [
        "datos_numericos = datos.select_dtypes(include=['int', 'float'])\n",
        "# Mostrar los tipos de datos de las columnas seleccionadas\n",
        "print(datos_numericos.dtypes.head(60))"
      ],
      "metadata": {
        "colab": {
          "base_uri": "https://localhost:8080/"
        },
        "id": "i9NZhcczrguj",
        "outputId": "b23a5c07-ee08-4e64-e5f9-e0a48d382410"
      },
      "execution_count": 3,
      "outputs": [
        {
          "output_type": "stream",
          "name": "stdout",
          "text": [
            "obligacion                 int64\n",
            "valor_desembolsado         int64\n",
            "valor_cuota                int64\n",
            "cuotas_restantes           int64\n",
            "DIPLAZO                    int64\n",
            "DIMODEL                    int64\n",
            "Tasa                     float64\n",
            "1_Acierta                float64\n",
            "2_Acierta                float64\n",
            "3_Acierta                float64\n",
            "4_Acierta                float64\n",
            "5_Acierta                float64\n",
            "1_deudaFA                float64\n",
            "2_deudaFA                float64\n",
            "3_deudaFA                float64\n",
            "4_deudaFA                float64\n",
            "5_deudaFA                float64\n",
            "1_deudaSECTOR            float64\n",
            "2_deudaSECTOR            float64\n",
            "3_deudaSECTOR            float64\n",
            "4_deudaSECTOR            float64\n",
            "5_deudaSECTOR            float64\n",
            "1_ingresos               float64\n",
            "2_ingresos               float64\n",
            "3_ingresos               float64\n",
            "4_ingresos               float64\n",
            "5_ingresos               float64\n",
            "v1_acierta               float64\n",
            "v2_acierta               float64\n",
            "v3_acierta               float64\n",
            "v4_acierta               float64\n",
            "negativo_acierta           int64\n",
            "positivo_acierta           int64\n",
            "neutro_acierta             int64\n",
            "v1_deudaFA               float64\n",
            "v2_deudaFA               float64\n",
            "v3_deudaFA               float64\n",
            "v4_deudaFA               float64\n",
            "negativo_deudaFA           int64\n",
            "positivo_deudaFA           int64\n",
            "neutro_deudaFA             int64\n",
            "v1_deudaSECTOR           float64\n",
            "v2_deudaSECTOR           float64\n",
            "v3_deudaSECTOR           float64\n",
            "v4_deudaSECTOR           float64\n",
            "negativo__deudaSECTOR      int64\n",
            "positivo_deudaSECTOR       int64\n",
            "neutro_deudaSECTOR         int64\n",
            "v1_ingresos              float64\n",
            "v2_ingresos              float64\n",
            "v3_ingresos              float64\n",
            "v4_ingresos              float64\n",
            "negativo_ingresos          int64\n",
            "positivo_ingresos          int64\n",
            "neutro_ingresos            int64\n",
            "1_cantidadpagos          float64\n",
            "2_cantidadpagos          float64\n",
            "3_cantidadpagos          float64\n",
            "4_cantidadpagos          float64\n",
            "5_cantidadpagos          float64\n",
            "dtype: object\n"
          ]
        }
      ]
    },
    {
      "cell_type": "code",
      "source": [
        "print(datos.shape)"
      ],
      "metadata": {
        "id": "YWMovmodQUbq",
        "outputId": "30fee576-6458-40f5-ffc4-cfb9f595387a",
        "colab": {
          "base_uri": "https://localhost:8080/"
        }
      },
      "execution_count": 74,
      "outputs": [
        {
          "output_type": "stream",
          "name": "stdout",
          "text": [
            "(31269, 42)\n"
          ]
        }
      ]
    },
    {
      "cell_type": "code",
      "source": [
        "proporcion_datos_faltantes = (round(datos.isnull().sum() / len(datos),2) * 100).sort_values(ascending=False)\n",
        "print(proporcion_datos_faltantes.head(50))"
      ],
      "metadata": {
        "id": "bTVDNDAEQbrW",
        "outputId": "cf6cac89-dbcc-4e61-a684-1b145ca9c987",
        "colab": {
          "base_uri": "https://localhost:8080/"
        }
      },
      "execution_count": 4,
      "outputs": [
        {
          "output_type": "stream",
          "name": "stdout",
          "text": [
            "v1_deudaFA               59.0\n",
            "name2                    27.0\n",
            "estadocivil              17.0\n",
            "v2_deudaFA                9.0\n",
            "5_cantidadpagos           6.0\n",
            "v1_deudaSECTOR            5.0\n",
            "v4_deudaFA                3.0\n",
            "v4_ingresos               3.0\n",
            "v4_acierta                3.0\n",
            "5_ingresos                3.0\n",
            "5_deudaSECTOR             3.0\n",
            "5_deudaFA                 3.0\n",
            "4_cantidadpagos           3.0\n",
            "5_Acierta                 3.0\n",
            "v4_deudaSECTOR            3.0\n",
            "DITIPO                    3.0\n",
            "v3_ingresos               2.0\n",
            "v3_deudaFA                2.0\n",
            "v3_deudaSECTOR            2.0\n",
            "v2_deudaSECTOR            2.0\n",
            "3_deudaSECTOR             1.0\n",
            "v1_ingresos               1.0\n",
            "v3_acierta                1.0\n",
            "v2_acierta                1.0\n",
            "3_Acierta                 1.0\n",
            "4_ingresos                1.0\n",
            "3_ingresos                1.0\n",
            "v2_ingresos               1.0\n",
            "4_deudaSECTOR             1.0\n",
            "name1                     1.0\n",
            "2_cantidadpagos           1.0\n",
            "4_deudaFA                 1.0\n",
            "3_deudaFA                 1.0\n",
            "3_cantidadpagos           1.0\n",
            "Municipio                 1.0\n",
            "DescripcionSucursal       1.0\n",
            "4_Acierta                 1.0\n",
            "prepago                   0.0\n",
            "neutro_deudaSECTOR        0.0\n",
            "amortizado                0.0\n",
            "positivo_deudaSECTOR      0.0\n",
            "1_pagototal               0.0\n",
            "RangoEdad                 0.0\n",
            "5_pagototal               0.0\n",
            "negativo_ingresos         0.0\n",
            "positivo_ingresos         0.0\n",
            "neutro_ingresos           0.0\n",
            "3_pagototal               0.0\n",
            "negativo__deudaSECTOR     0.0\n",
            "1_cantidadpagos           0.0\n",
            "dtype: float64\n"
          ]
        }
      ]
    },
    {
      "cell_type": "code",
      "source": [
        "datos.columns"
      ],
      "metadata": {
        "id": "LS1M20D_Tonx",
        "outputId": "4b9a1a39-8bb8-4451-a48e-61c20f0f3a81",
        "colab": {
          "base_uri": "https://localhost:8080/"
        }
      },
      "execution_count": 5,
      "outputs": [
        {
          "output_type": "execute_result",
          "data": {
            "text/plain": [
              "Index(['obligacion', 'fecha_desembolso', 'Fecha_vencimiento',\n",
              "       'valor_desembolsado', 'valor_cuota', 'cuotas_restantes', 'DIPLAZO',\n",
              "       'DIMARCA', 'DITIPO', 'DIMODEL', 'Tasa', 'Departamento', 'Municipio',\n",
              "       'DescripcionSucursal', '1_Acierta', '2_Acierta', '3_Acierta',\n",
              "       '4_Acierta', '5_Acierta', '1_deudaFA', '2_deudaFA', '3_deudaFA',\n",
              "       '4_deudaFA', '5_deudaFA', '1_deudaSECTOR', '2_deudaSECTOR',\n",
              "       '3_deudaSECTOR', '4_deudaSECTOR', '5_deudaSECTOR', '1_ingresos',\n",
              "       '2_ingresos', '3_ingresos', '4_ingresos', '5_ingresos', 'v1_acierta',\n",
              "       'v2_acierta', 'v3_acierta', 'v4_acierta', 'negativo_acierta',\n",
              "       'positivo_acierta', 'neutro_acierta', 'v1_deudaFA', 'v2_deudaFA',\n",
              "       'v3_deudaFA', 'v4_deudaFA', 'negativo_deudaFA', 'positivo_deudaFA',\n",
              "       'neutro_deudaFA', 'v1_deudaSECTOR', 'v2_deudaSECTOR', 'v3_deudaSECTOR',\n",
              "       'v4_deudaSECTOR', 'negativo__deudaSECTOR', 'positivo_deudaSECTOR',\n",
              "       'neutro_deudaSECTOR', 'v1_ingresos', 'v2_ingresos', 'v3_ingresos',\n",
              "       'v4_ingresos', 'negativo_ingresos', 'positivo_ingresos',\n",
              "       'neutro_ingresos', '1_cantidadpagos', '2_cantidadpagos',\n",
              "       '3_cantidadpagos', '4_cantidadpagos', '5_cantidadpagos', '1_pagototal',\n",
              "       '2_pagototal', '3_pagototal', '4_pagototal', '5_pagototal', 'RangoEdad',\n",
              "       'prepago', 'amortizado', 'estadocivil', 'name1', 'name2'],\n",
              "      dtype='object')"
            ]
          },
          "metadata": {},
          "execution_count": 5
        }
      ]
    },
    {
      "cell_type": "code",
      "source": [
        "datos['Genero'] = None\n",
        "\n",
        "# Función para estimar el género de una lista de nombres\n",
        "def estimar_genero_por_bloques(nombres):\n",
        "    detector = gender.Detector()\n",
        "    generos = [detector.get_gender(nombre) for nombre in nombres]\n",
        "    return generos\n",
        "\n",
        "# Aplicar la función a las dos columnas\n",
        "datos['Genero_estimado_1'] = estimar_genero_por_bloques(datos['name1'])\n",
        "datos['Genero_estimado_2'] = estimar_genero_por_bloques(datos['name2'])\n",
        "\n",
        "datos['Genero']=np.where(datos['Genero'].isna(),datos['Genero_estimado_1'],datos['Genero'])\n",
        "datos['Genero']=np.where(datos['Genero'].isna(),datos['Genero_estimado_2'],datos['Genero'])\n",
        "\n",
        "def mapear_genero(genero):\n",
        "    if 'female' in genero:\n",
        "        return 'Femenino'\n",
        "    elif genero == 'F':\n",
        "        return 'Femenino'\n",
        "    elif pd.isnull(genero):\n",
        "        return 'NA'\n",
        "    else:\n",
        "        return 'Masculino'\n",
        "\n",
        "# Aplicar la función al DataFrame\n",
        "datos['Genero'] = datos['Genero'].apply(lambda x: mapear_genero(x))\n",
        "datos['Genero'].value_counts()"
      ],
      "metadata": {
        "id": "iaBiOq_BZiTm",
        "outputId": "eb7e2962-8033-4061-8f79-01adf4d2658b",
        "colab": {
          "base_uri": "https://localhost:8080/"
        }
      },
      "execution_count": 8,
      "outputs": [
        {
          "output_type": "execute_result",
          "data": {
            "text/plain": [
              "Genero\n",
              "Masculino    21184\n",
              "Femenino     10085\n",
              "Name: count, dtype: int64"
            ]
          },
          "metadata": {},
          "execution_count": 8
        }
      ]
    },
    {
      "cell_type": "code",
      "source": [
        "# limpieza de datos\n",
        "datos['obligacion'] = datos['obligacion'].astype('int64').astype(str).str.lstrip().str.rstrip().str.strip()\n",
        "datos['DITIPO'] = datos['DITIPO'].fillna('OTRAS LINEAS')\n",
        "datos['DIMARCA'] = datos['DIMARCA'].fillna('OTRAS MARCAS')\n",
        "datos['DIMODEL'] = datos['DIMODEL'].astype('int64').astype(str).str.lstrip().str.rstrip().str.strip()\n",
        "datos['Departamento'] = datos['Departamento'].fillna('sincategoria')\n",
        "datos['Municipio'] = datos['Municipio'].fillna('sincategoria')\n",
        "datos['DescripcionSucursal'] = datos['DescripcionSucursal'].fillna('sincategoria')\n",
        "datos['Genero'] = datos['Genero'].fillna('sincategoria')\n",
        "datos['1_cantidadpagos'] = datos['1_cantidadpagos'].fillna(0)\n",
        "datos['2_cantidadpagos'] = datos['2_cantidadpagos'].fillna(0)\n",
        "datos['3_cantidadpagos'] = datos['3_cantidadpagos'].fillna(0)\n",
        "datos['4_cantidadpagos'] = datos['4_cantidadpagos'].fillna(0)\n",
        "datos['5_cantidadpagos'] = datos['5_cantidadpagos'].fillna(0)\n",
        "datos['RangoEdad'] = datos['RangoEdad'].fillna('sincategoria')\n",
        "datos['estadocivil'] = datos['estadocivil'].fillna('sincategoria')"
      ],
      "metadata": {
        "id": "OQznrKKdTkCx"
      },
      "execution_count": 9,
      "outputs": []
    },
    {
      "cell_type": "code",
      "source": [
        "datos = datos.drop(columns={'name1','name2','Genero_estimado_1','Genero_estimado_2','fecha_desembolso', 'Fecha_vencimiento'})\n",
        "print(datos.shape)"
      ],
      "metadata": {
        "id": "RiqR-UGsbzKf",
        "outputId": "f6051400-eea0-4e3c-e749-cda5514d610b",
        "colab": {
          "base_uri": "https://localhost:8080/"
        }
      },
      "execution_count": 10,
      "outputs": [
        {
          "output_type": "stream",
          "name": "stdout",
          "text": [
            "(31269, 75)\n"
          ]
        }
      ]
    },
    {
      "cell_type": "code",
      "source": [
        "proporcion_datos_faltantes = (round(datos.isnull().sum() / len(datos),2) * 100).sort_values(ascending=False)\n",
        "print(proporcion_datos_faltantes.head(50))"
      ],
      "metadata": {
        "id": "QepDLGycbpOL",
        "outputId": "30d2187d-e968-4514-ec65-695acdba0aa7",
        "colab": {
          "base_uri": "https://localhost:8080/"
        }
      },
      "execution_count": 11,
      "outputs": [
        {
          "output_type": "stream",
          "name": "stdout",
          "text": [
            "v1_deudaFA               59.0\n",
            "v2_deudaFA                9.0\n",
            "v1_deudaSECTOR            5.0\n",
            "5_deudaFA                 3.0\n",
            "v4_deudaSECTOR            3.0\n",
            "v4_deudaFA                3.0\n",
            "5_deudaSECTOR             3.0\n",
            "v4_ingresos               3.0\n",
            "5_Acierta                 3.0\n",
            "v4_acierta                3.0\n",
            "5_ingresos                3.0\n",
            "v3_ingresos               2.0\n",
            "v2_deudaSECTOR            2.0\n",
            "v3_deudaSECTOR            2.0\n",
            "v3_deudaFA                2.0\n",
            "v2_acierta                1.0\n",
            "4_ingresos                1.0\n",
            "v2_ingresos               1.0\n",
            "3_ingresos                1.0\n",
            "v1_ingresos               1.0\n",
            "4_deudaSECTOR             1.0\n",
            "v3_acierta                1.0\n",
            "3_deudaSECTOR             1.0\n",
            "4_deudaFA                 1.0\n",
            "3_deudaFA                 1.0\n",
            "4_Acierta                 1.0\n",
            "3_Acierta                 1.0\n",
            "positivo_ingresos         0.0\n",
            "neutro_deudaSECTOR        0.0\n",
            "estadocivil               0.0\n",
            "amortizado                0.0\n",
            "negativo__deudaSECTOR     0.0\n",
            "positivo_deudaSECTOR      0.0\n",
            "prepago                   0.0\n",
            "RangoEdad                 0.0\n",
            "5_pagototal               0.0\n",
            "4_pagototal               0.0\n",
            "1_pagototal               0.0\n",
            "3_pagototal               0.0\n",
            "2_pagototal               0.0\n",
            "neutro_ingresos           0.0\n",
            "5_cantidadpagos           0.0\n",
            "4_cantidadpagos           0.0\n",
            "3_cantidadpagos           0.0\n",
            "2_cantidadpagos           0.0\n",
            "1_cantidadpagos           0.0\n",
            "negativo_ingresos         0.0\n",
            "obligacion                0.0\n",
            "positivo_acierta          0.0\n",
            "neutro_deudaFA            0.0\n",
            "dtype: float64\n"
          ]
        }
      ]
    },
    {
      "cell_type": "code",
      "source": [
        "data=datos.sample(frac=0.75,random_state=786).reset_index(drop=True) # entrenamiento\n",
        "data_unusen =datos.drop(data.index).reset_index(drop=True) # testeo\n",
        "# Verificar el tamaño de los conjuntos de entrenamiento y prueba\n",
        "print(\"Tamaño del conjunto de entrenamiento:\", data.shape)\n",
        "print(\"Tamaño del conjunto de prueba:\", data_unusen.shape)"
      ],
      "metadata": {
        "colab": {
          "base_uri": "https://localhost:8080/"
        },
        "id": "G55qC15yrmBU",
        "outputId": "fb48507e-4534-4f3c-f05b-3d134a2d5889"
      },
      "execution_count": 12,
      "outputs": [
        {
          "output_type": "stream",
          "name": "stdout",
          "text": [
            "Tamaño del conjunto de entrenamiento: (23452, 75)\n",
            "Tamaño del conjunto de prueba: (7817, 75)\n"
          ]
        }
      ]
    },
    {
      "cell_type": "code",
      "source": [
        "# Instalar bibliotecas necesarias\n",
        "!pip install pandas scikit-learn imblearn\n",
        "\n",
        "# Importar bibliotecas\n",
        "import pandas as pd\n",
        "from sklearn.model_selection import train_test_split, GridSearchCV\n",
        "from sklearn.ensemble import RandomForestClassifier, StackingClassifier, GradientBoostingClassifier\n",
        "from sklearn.metrics import classification_report, roc_auc_score\n",
        "from imblearn.over_sampling import SMOTE\n",
        "\n",
        "# Suponemos que ya tienes tus datos divididos\n",
        "# data es el conjunto de entrenamiento\n",
        "# data_unusen es el conjunto de prueba\n",
        "\n",
        "# Separar características y objetivo\n",
        "X_train = data.drop('prepago', axis=1)  # Reemplaza 'target' con el nombre de tu columna objetivo\n",
        "y_train = data['prepago']\n",
        "X_test = data_unusen.drop('prepago', axis=1)  # Reemplaza 'target' con el nombre de tu columna objetivo\n",
        "y_test = data_unusen['prepago']\n"
      ],
      "metadata": {
        "id": "V0my2zuLhMIh",
        "outputId": "f18389e7-83c6-4dcd-9a16-ca055f1bab8b",
        "colab": {
          "base_uri": "https://localhost:8080/"
        }
      },
      "execution_count": 67,
      "outputs": [
        {
          "output_type": "stream",
          "name": "stdout",
          "text": [
            "Requirement already satisfied: pandas in /usr/local/lib/python3.10/dist-packages (2.0.3)\n",
            "Requirement already satisfied: scikit-learn in /usr/local/lib/python3.10/dist-packages (1.4.2)\n",
            "Requirement already satisfied: imblearn in /usr/local/lib/python3.10/dist-packages (0.0)\n",
            "Requirement already satisfied: python-dateutil>=2.8.2 in /usr/local/lib/python3.10/dist-packages (from pandas) (2.8.2)\n",
            "Requirement already satisfied: pytz>=2020.1 in /usr/local/lib/python3.10/dist-packages (from pandas) (2023.4)\n",
            "Requirement already satisfied: tzdata>=2022.1 in /usr/local/lib/python3.10/dist-packages (from pandas) (2024.1)\n",
            "Requirement already satisfied: numpy>=1.21.0 in /usr/local/lib/python3.10/dist-packages (from pandas) (1.25.2)\n",
            "Requirement already satisfied: scipy>=1.6.0 in /usr/local/lib/python3.10/dist-packages (from scikit-learn) (1.11.4)\n",
            "Requirement already satisfied: joblib>=1.2.0 in /usr/local/lib/python3.10/dist-packages (from scikit-learn) (1.3.2)\n",
            "Requirement already satisfied: threadpoolctl>=2.0.0 in /usr/local/lib/python3.10/dist-packages (from scikit-learn) (3.5.0)\n",
            "Requirement already satisfied: imbalanced-learn in /usr/local/lib/python3.10/dist-packages (from imblearn) (0.12.3)\n",
            "Requirement already satisfied: six>=1.5 in /usr/local/lib/python3.10/dist-packages (from python-dateutil>=2.8.2->pandas) (1.16.0)\n"
          ]
        }
      ]
    },
    {
      "cell_type": "code",
      "source": [
        "# Aplicar SMOTE para balancear las clases en el conjunto de entrenamiento\n",
        "smote = SMOTE(random_state=42)\n",
        "X_train_resampled, y_train_resampled = smote.fit_resample(X_train, y_train)\n"
      ],
      "metadata": {
        "id": "_e_2I36ehaAD",
        "outputId": "7ca1bb12-689c-4b3e-957e-d43e9b5b9ae8",
        "colab": {
          "base_uri": "https://localhost:8080/",
          "height": 321
        }
      },
      "execution_count": 69,
      "outputs": [
        {
          "output_type": "error",
          "ename": "TypeError",
          "evalue": "float() argument must be a string or a real number, not 'Timestamp'",
          "traceback": [
            "\u001b[0;31m---------------------------------------------------------------------------\u001b[0m",
            "\u001b[0;31mTypeError\u001b[0m                                 Traceback (most recent call last)",
            "\u001b[0;32m<ipython-input-69-d1603e9a08b0>\u001b[0m in \u001b[0;36m<cell line: 3>\u001b[0;34m()\u001b[0m\n\u001b[1;32m      1\u001b[0m \u001b[0;31m# Aplicar SMOTE para balancear las clases en el conjunto de entrenamiento\u001b[0m\u001b[0;34m\u001b[0m\u001b[0;34m\u001b[0m\u001b[0m\n\u001b[1;32m      2\u001b[0m \u001b[0msmote\u001b[0m \u001b[0;34m=\u001b[0m \u001b[0mSMOTE\u001b[0m\u001b[0;34m(\u001b[0m\u001b[0mrandom_state\u001b[0m\u001b[0;34m=\u001b[0m\u001b[0;36m42\u001b[0m\u001b[0;34m)\u001b[0m\u001b[0;34m\u001b[0m\u001b[0;34m\u001b[0m\u001b[0m\n\u001b[0;32m----> 3\u001b[0;31m \u001b[0mX_train_resampled\u001b[0m\u001b[0;34m,\u001b[0m \u001b[0my_train_resampled\u001b[0m \u001b[0;34m=\u001b[0m \u001b[0msmote\u001b[0m\u001b[0;34m.\u001b[0m\u001b[0mfit_resample\u001b[0m\u001b[0;34m(\u001b[0m\u001b[0mX_train\u001b[0m\u001b[0;34m,\u001b[0m \u001b[0my_train\u001b[0m\u001b[0;34m)\u001b[0m\u001b[0;34m\u001b[0m\u001b[0;34m\u001b[0m\u001b[0m\n\u001b[0m",
            "\u001b[0;32m/usr/local/lib/python3.10/dist-packages/imblearn/base.py\u001b[0m in \u001b[0;36mfit_resample\u001b[0;34m(self, X, y)\u001b[0m\n\u001b[1;32m    206\u001b[0m         \"\"\"\n\u001b[1;32m    207\u001b[0m         \u001b[0mself\u001b[0m\u001b[0;34m.\u001b[0m\u001b[0m_validate_params\u001b[0m\u001b[0;34m(\u001b[0m\u001b[0;34m)\u001b[0m\u001b[0;34m\u001b[0m\u001b[0;34m\u001b[0m\u001b[0m\n\u001b[0;32m--> 208\u001b[0;31m         \u001b[0;32mreturn\u001b[0m \u001b[0msuper\u001b[0m\u001b[0;34m(\u001b[0m\u001b[0;34m)\u001b[0m\u001b[0;34m.\u001b[0m\u001b[0mfit_resample\u001b[0m\u001b[0;34m(\u001b[0m\u001b[0mX\u001b[0m\u001b[0;34m,\u001b[0m \u001b[0my\u001b[0m\u001b[0;34m)\u001b[0m\u001b[0;34m\u001b[0m\u001b[0;34m\u001b[0m\u001b[0m\n\u001b[0m\u001b[1;32m    209\u001b[0m \u001b[0;34m\u001b[0m\u001b[0m\n\u001b[1;32m    210\u001b[0m     \u001b[0;32mdef\u001b[0m \u001b[0m_more_tags\u001b[0m\u001b[0;34m(\u001b[0m\u001b[0mself\u001b[0m\u001b[0;34m)\u001b[0m\u001b[0;34m:\u001b[0m\u001b[0;34m\u001b[0m\u001b[0;34m\u001b[0m\u001b[0m\n",
            "\u001b[0;32m/usr/local/lib/python3.10/dist-packages/imblearn/base.py\u001b[0m in \u001b[0;36mfit_resample\u001b[0;34m(self, X, y)\u001b[0m\n\u001b[1;32m    104\u001b[0m         \u001b[0mcheck_classification_targets\u001b[0m\u001b[0;34m(\u001b[0m\u001b[0my\u001b[0m\u001b[0;34m)\u001b[0m\u001b[0;34m\u001b[0m\u001b[0;34m\u001b[0m\u001b[0m\n\u001b[1;32m    105\u001b[0m         \u001b[0marrays_transformer\u001b[0m \u001b[0;34m=\u001b[0m \u001b[0mArraysTransformer\u001b[0m\u001b[0;34m(\u001b[0m\u001b[0mX\u001b[0m\u001b[0;34m,\u001b[0m \u001b[0my\u001b[0m\u001b[0;34m)\u001b[0m\u001b[0;34m\u001b[0m\u001b[0;34m\u001b[0m\u001b[0m\n\u001b[0;32m--> 106\u001b[0;31m         \u001b[0mX\u001b[0m\u001b[0;34m,\u001b[0m \u001b[0my\u001b[0m\u001b[0;34m,\u001b[0m \u001b[0mbinarize_y\u001b[0m \u001b[0;34m=\u001b[0m \u001b[0mself\u001b[0m\u001b[0;34m.\u001b[0m\u001b[0m_check_X_y\u001b[0m\u001b[0;34m(\u001b[0m\u001b[0mX\u001b[0m\u001b[0;34m,\u001b[0m \u001b[0my\u001b[0m\u001b[0;34m)\u001b[0m\u001b[0;34m\u001b[0m\u001b[0;34m\u001b[0m\u001b[0m\n\u001b[0m\u001b[1;32m    107\u001b[0m \u001b[0;34m\u001b[0m\u001b[0m\n\u001b[1;32m    108\u001b[0m         self.sampling_strategy_ = check_sampling_strategy(\n",
            "\u001b[0;32m/usr/local/lib/python3.10/dist-packages/imblearn/base.py\u001b[0m in \u001b[0;36m_check_X_y\u001b[0;34m(self, X, y, accept_sparse)\u001b[0m\n\u001b[1;32m    159\u001b[0m             \u001b[0maccept_sparse\u001b[0m \u001b[0;34m=\u001b[0m \u001b[0;34m[\u001b[0m\u001b[0;34m\"csr\"\u001b[0m\u001b[0;34m,\u001b[0m \u001b[0;34m\"csc\"\u001b[0m\u001b[0;34m]\u001b[0m\u001b[0;34m\u001b[0m\u001b[0;34m\u001b[0m\u001b[0m\n\u001b[1;32m    160\u001b[0m         \u001b[0my\u001b[0m\u001b[0;34m,\u001b[0m \u001b[0mbinarize_y\u001b[0m \u001b[0;34m=\u001b[0m \u001b[0mcheck_target_type\u001b[0m\u001b[0;34m(\u001b[0m\u001b[0my\u001b[0m\u001b[0;34m,\u001b[0m \u001b[0mindicate_one_vs_all\u001b[0m\u001b[0;34m=\u001b[0m\u001b[0;32mTrue\u001b[0m\u001b[0;34m)\u001b[0m\u001b[0;34m\u001b[0m\u001b[0;34m\u001b[0m\u001b[0m\n\u001b[0;32m--> 161\u001b[0;31m         \u001b[0mX\u001b[0m\u001b[0;34m,\u001b[0m \u001b[0my\u001b[0m \u001b[0;34m=\u001b[0m \u001b[0mself\u001b[0m\u001b[0;34m.\u001b[0m\u001b[0m_validate_data\u001b[0m\u001b[0;34m(\u001b[0m\u001b[0mX\u001b[0m\u001b[0;34m,\u001b[0m \u001b[0my\u001b[0m\u001b[0;34m,\u001b[0m \u001b[0mreset\u001b[0m\u001b[0;34m=\u001b[0m\u001b[0;32mTrue\u001b[0m\u001b[0;34m,\u001b[0m \u001b[0maccept_sparse\u001b[0m\u001b[0;34m=\u001b[0m\u001b[0maccept_sparse\u001b[0m\u001b[0;34m)\u001b[0m\u001b[0;34m\u001b[0m\u001b[0;34m\u001b[0m\u001b[0m\n\u001b[0m\u001b[1;32m    162\u001b[0m         \u001b[0;32mreturn\u001b[0m \u001b[0mX\u001b[0m\u001b[0;34m,\u001b[0m \u001b[0my\u001b[0m\u001b[0;34m,\u001b[0m \u001b[0mbinarize_y\u001b[0m\u001b[0;34m\u001b[0m\u001b[0;34m\u001b[0m\u001b[0m\n\u001b[1;32m    163\u001b[0m \u001b[0;34m\u001b[0m\u001b[0m\n",
            "\u001b[0;32m/usr/local/lib/python3.10/dist-packages/sklearn/base.py\u001b[0m in \u001b[0;36m_validate_data\u001b[0;34m(self, X, y, reset, validate_separately, cast_to_ndarray, **check_params)\u001b[0m\n\u001b[1;32m    648\u001b[0m                 \u001b[0my\u001b[0m \u001b[0;34m=\u001b[0m \u001b[0mcheck_array\u001b[0m\u001b[0;34m(\u001b[0m\u001b[0my\u001b[0m\u001b[0;34m,\u001b[0m \u001b[0minput_name\u001b[0m\u001b[0;34m=\u001b[0m\u001b[0;34m\"y\"\u001b[0m\u001b[0;34m,\u001b[0m \u001b[0;34m**\u001b[0m\u001b[0mcheck_y_params\u001b[0m\u001b[0;34m)\u001b[0m\u001b[0;34m\u001b[0m\u001b[0;34m\u001b[0m\u001b[0m\n\u001b[1;32m    649\u001b[0m             \u001b[0;32melse\u001b[0m\u001b[0;34m:\u001b[0m\u001b[0;34m\u001b[0m\u001b[0;34m\u001b[0m\u001b[0m\n\u001b[0;32m--> 650\u001b[0;31m                 \u001b[0mX\u001b[0m\u001b[0;34m,\u001b[0m \u001b[0my\u001b[0m \u001b[0;34m=\u001b[0m \u001b[0mcheck_X_y\u001b[0m\u001b[0;34m(\u001b[0m\u001b[0mX\u001b[0m\u001b[0;34m,\u001b[0m \u001b[0my\u001b[0m\u001b[0;34m,\u001b[0m \u001b[0;34m**\u001b[0m\u001b[0mcheck_params\u001b[0m\u001b[0;34m)\u001b[0m\u001b[0;34m\u001b[0m\u001b[0;34m\u001b[0m\u001b[0m\n\u001b[0m\u001b[1;32m    651\u001b[0m             \u001b[0mout\u001b[0m \u001b[0;34m=\u001b[0m \u001b[0mX\u001b[0m\u001b[0;34m,\u001b[0m \u001b[0my\u001b[0m\u001b[0;34m\u001b[0m\u001b[0;34m\u001b[0m\u001b[0m\n\u001b[1;32m    652\u001b[0m \u001b[0;34m\u001b[0m\u001b[0m\n",
            "\u001b[0;32m/usr/local/lib/python3.10/dist-packages/sklearn/utils/validation.py\u001b[0m in \u001b[0;36mcheck_X_y\u001b[0;34m(X, y, accept_sparse, accept_large_sparse, dtype, order, copy, force_all_finite, ensure_2d, allow_nd, multi_output, ensure_min_samples, ensure_min_features, y_numeric, estimator)\u001b[0m\n\u001b[1;32m   1261\u001b[0m         )\n\u001b[1;32m   1262\u001b[0m \u001b[0;34m\u001b[0m\u001b[0m\n\u001b[0;32m-> 1263\u001b[0;31m     X = check_array(\n\u001b[0m\u001b[1;32m   1264\u001b[0m         \u001b[0mX\u001b[0m\u001b[0;34m,\u001b[0m\u001b[0;34m\u001b[0m\u001b[0;34m\u001b[0m\u001b[0m\n\u001b[1;32m   1265\u001b[0m         \u001b[0maccept_sparse\u001b[0m\u001b[0;34m=\u001b[0m\u001b[0maccept_sparse\u001b[0m\u001b[0;34m,\u001b[0m\u001b[0;34m\u001b[0m\u001b[0;34m\u001b[0m\u001b[0m\n",
            "\u001b[0;32m/usr/local/lib/python3.10/dist-packages/sklearn/utils/validation.py\u001b[0m in \u001b[0;36mcheck_array\u001b[0;34m(array, accept_sparse, accept_large_sparse, dtype, order, copy, force_all_finite, ensure_2d, allow_nd, ensure_min_samples, ensure_min_features, estimator, input_name)\u001b[0m\n\u001b[1;32m    995\u001b[0m                     \u001b[0marray\u001b[0m \u001b[0;34m=\u001b[0m \u001b[0mxp\u001b[0m\u001b[0;34m.\u001b[0m\u001b[0mastype\u001b[0m\u001b[0;34m(\u001b[0m\u001b[0marray\u001b[0m\u001b[0;34m,\u001b[0m \u001b[0mdtype\u001b[0m\u001b[0;34m,\u001b[0m \u001b[0mcopy\u001b[0m\u001b[0;34m=\u001b[0m\u001b[0;32mFalse\u001b[0m\u001b[0;34m)\u001b[0m\u001b[0;34m\u001b[0m\u001b[0;34m\u001b[0m\u001b[0m\n\u001b[1;32m    996\u001b[0m                 \u001b[0;32melse\u001b[0m\u001b[0;34m:\u001b[0m\u001b[0;34m\u001b[0m\u001b[0;34m\u001b[0m\u001b[0m\n\u001b[0;32m--> 997\u001b[0;31m                     \u001b[0marray\u001b[0m \u001b[0;34m=\u001b[0m \u001b[0m_asarray_with_order\u001b[0m\u001b[0;34m(\u001b[0m\u001b[0marray\u001b[0m\u001b[0;34m,\u001b[0m \u001b[0morder\u001b[0m\u001b[0;34m=\u001b[0m\u001b[0morder\u001b[0m\u001b[0;34m,\u001b[0m \u001b[0mdtype\u001b[0m\u001b[0;34m=\u001b[0m\u001b[0mdtype\u001b[0m\u001b[0;34m,\u001b[0m \u001b[0mxp\u001b[0m\u001b[0;34m=\u001b[0m\u001b[0mxp\u001b[0m\u001b[0;34m)\u001b[0m\u001b[0;34m\u001b[0m\u001b[0;34m\u001b[0m\u001b[0m\n\u001b[0m\u001b[1;32m    998\u001b[0m             \u001b[0;32mexcept\u001b[0m \u001b[0mComplexWarning\u001b[0m \u001b[0;32mas\u001b[0m \u001b[0mcomplex_warning\u001b[0m\u001b[0;34m:\u001b[0m\u001b[0;34m\u001b[0m\u001b[0;34m\u001b[0m\u001b[0m\n\u001b[1;32m    999\u001b[0m                 raise ValueError(\n",
            "\u001b[0;32m/usr/local/lib/python3.10/dist-packages/sklearn/utils/_array_api.py\u001b[0m in \u001b[0;36m_asarray_with_order\u001b[0;34m(array, dtype, order, copy, xp)\u001b[0m\n\u001b[1;32m    519\u001b[0m             \u001b[0marray\u001b[0m \u001b[0;34m=\u001b[0m \u001b[0mnumpy\u001b[0m\u001b[0;34m.\u001b[0m\u001b[0marray\u001b[0m\u001b[0;34m(\u001b[0m\u001b[0marray\u001b[0m\u001b[0;34m,\u001b[0m \u001b[0morder\u001b[0m\u001b[0;34m=\u001b[0m\u001b[0morder\u001b[0m\u001b[0;34m,\u001b[0m \u001b[0mdtype\u001b[0m\u001b[0;34m=\u001b[0m\u001b[0mdtype\u001b[0m\u001b[0;34m)\u001b[0m\u001b[0;34m\u001b[0m\u001b[0;34m\u001b[0m\u001b[0m\n\u001b[1;32m    520\u001b[0m         \u001b[0;32melse\u001b[0m\u001b[0;34m:\u001b[0m\u001b[0;34m\u001b[0m\u001b[0;34m\u001b[0m\u001b[0m\n\u001b[0;32m--> 521\u001b[0;31m             \u001b[0marray\u001b[0m \u001b[0;34m=\u001b[0m \u001b[0mnumpy\u001b[0m\u001b[0;34m.\u001b[0m\u001b[0masarray\u001b[0m\u001b[0;34m(\u001b[0m\u001b[0marray\u001b[0m\u001b[0;34m,\u001b[0m \u001b[0morder\u001b[0m\u001b[0;34m=\u001b[0m\u001b[0morder\u001b[0m\u001b[0;34m,\u001b[0m \u001b[0mdtype\u001b[0m\u001b[0;34m=\u001b[0m\u001b[0mdtype\u001b[0m\u001b[0;34m)\u001b[0m\u001b[0;34m\u001b[0m\u001b[0;34m\u001b[0m\u001b[0m\n\u001b[0m\u001b[1;32m    522\u001b[0m \u001b[0;34m\u001b[0m\u001b[0m\n\u001b[1;32m    523\u001b[0m         \u001b[0;31m# At this point array is a NumPy ndarray. We convert it to an array\u001b[0m\u001b[0;34m\u001b[0m\u001b[0;34m\u001b[0m\u001b[0m\n",
            "\u001b[0;32m/usr/local/lib/python3.10/dist-packages/pandas/core/generic.py\u001b[0m in \u001b[0;36m__array__\u001b[0;34m(self, dtype)\u001b[0m\n\u001b[1;32m   1996\u001b[0m     \u001b[0;32mdef\u001b[0m \u001b[0m__array__\u001b[0m\u001b[0;34m(\u001b[0m\u001b[0mself\u001b[0m\u001b[0;34m,\u001b[0m \u001b[0mdtype\u001b[0m\u001b[0;34m:\u001b[0m \u001b[0mnpt\u001b[0m\u001b[0;34m.\u001b[0m\u001b[0mDTypeLike\u001b[0m \u001b[0;34m|\u001b[0m \u001b[0;32mNone\u001b[0m \u001b[0;34m=\u001b[0m \u001b[0;32mNone\u001b[0m\u001b[0;34m)\u001b[0m \u001b[0;34m->\u001b[0m \u001b[0mnp\u001b[0m\u001b[0;34m.\u001b[0m\u001b[0mndarray\u001b[0m\u001b[0;34m:\u001b[0m\u001b[0;34m\u001b[0m\u001b[0;34m\u001b[0m\u001b[0m\n\u001b[1;32m   1997\u001b[0m         \u001b[0mvalues\u001b[0m \u001b[0;34m=\u001b[0m \u001b[0mself\u001b[0m\u001b[0;34m.\u001b[0m\u001b[0m_values\u001b[0m\u001b[0;34m\u001b[0m\u001b[0;34m\u001b[0m\u001b[0m\n\u001b[0;32m-> 1998\u001b[0;31m         \u001b[0marr\u001b[0m \u001b[0;34m=\u001b[0m \u001b[0mnp\u001b[0m\u001b[0;34m.\u001b[0m\u001b[0masarray\u001b[0m\u001b[0;34m(\u001b[0m\u001b[0mvalues\u001b[0m\u001b[0;34m,\u001b[0m \u001b[0mdtype\u001b[0m\u001b[0;34m=\u001b[0m\u001b[0mdtype\u001b[0m\u001b[0;34m)\u001b[0m\u001b[0;34m\u001b[0m\u001b[0;34m\u001b[0m\u001b[0m\n\u001b[0m\u001b[1;32m   1999\u001b[0m         if (\n\u001b[1;32m   2000\u001b[0m             \u001b[0mastype_is_view\u001b[0m\u001b[0;34m(\u001b[0m\u001b[0mvalues\u001b[0m\u001b[0;34m.\u001b[0m\u001b[0mdtype\u001b[0m\u001b[0;34m,\u001b[0m \u001b[0marr\u001b[0m\u001b[0;34m.\u001b[0m\u001b[0mdtype\u001b[0m\u001b[0;34m)\u001b[0m\u001b[0;34m\u001b[0m\u001b[0;34m\u001b[0m\u001b[0m\n",
            "\u001b[0;31mTypeError\u001b[0m: float() argument must be a string or a real number, not 'Timestamp'"
          ]
        }
      ]
    },
    {
      "cell_type": "code",
      "source": [
        "[col for col in datos.columns if 'prepago' in col]"
      ],
      "metadata": {
        "id": "ZPactCcqcczm",
        "outputId": "4035ea9a-10ca-4a33-bba6-282571f702cc",
        "colab": {
          "base_uri": "https://localhost:8080/"
        }
      },
      "execution_count": 51,
      "outputs": [
        {
          "output_type": "execute_result",
          "data": {
            "text/plain": [
              "['prepago']"
            ]
          },
          "metadata": {},
          "execution_count": 51
        }
      ]
    },
    {
      "cell_type": "code",
      "source": [
        "from pycaret.classification import * # la data ya tiene una marcacion de  01\n",
        "data.reset_index(drop=True, inplace=True)  # Restablecer los índices y eliminar los índices existentes ## debido al concatenado\n",
        "#exp_clf101 = setup(data=data, target='Fraude', session_id=10001)  # Configurar el experimento de clasificación\n",
        "exp_clf101 = setup(data=data, target='prepago', session_id=10001, fold_strategy='stratifiedkfold') # garantizar que todas las clases esten bien representadas\n"
      ],
      "metadata": {
        "colab": {
          "base_uri": "https://localhost:8080/",
          "height": 770
        },
        "id": "BGgu0gsirqPe",
        "outputId": "e9792919-1652-4b44-d33a-4801266b2054"
      },
      "execution_count": 13,
      "outputs": [
        {
          "output_type": "display_data",
          "data": {
            "text/plain": [
              "<pandas.io.formats.style.Styler at 0x7f2a4e89aa40>"
            ],
            "text/html": [
              "<style type=\"text/css\">\n",
              "#T_74adc_row10_col1 {\n",
              "  background-color: lightgreen;\n",
              "}\n",
              "</style>\n",
              "<table id=\"T_74adc\" class=\"dataframe\">\n",
              "  <thead>\n",
              "    <tr>\n",
              "      <th class=\"blank level0\" >&nbsp;</th>\n",
              "      <th id=\"T_74adc_level0_col0\" class=\"col_heading level0 col0\" >Description</th>\n",
              "      <th id=\"T_74adc_level0_col1\" class=\"col_heading level0 col1\" >Value</th>\n",
              "    </tr>\n",
              "  </thead>\n",
              "  <tbody>\n",
              "    <tr>\n",
              "      <th id=\"T_74adc_level0_row0\" class=\"row_heading level0 row0\" >0</th>\n",
              "      <td id=\"T_74adc_row0_col0\" class=\"data row0 col0\" >Session id</td>\n",
              "      <td id=\"T_74adc_row0_col1\" class=\"data row0 col1\" >10001</td>\n",
              "    </tr>\n",
              "    <tr>\n",
              "      <th id=\"T_74adc_level0_row1\" class=\"row_heading level0 row1\" >1</th>\n",
              "      <td id=\"T_74adc_row1_col0\" class=\"data row1 col0\" >Target</td>\n",
              "      <td id=\"T_74adc_row1_col1\" class=\"data row1 col1\" >prepago</td>\n",
              "    </tr>\n",
              "    <tr>\n",
              "      <th id=\"T_74adc_level0_row2\" class=\"row_heading level0 row2\" >2</th>\n",
              "      <td id=\"T_74adc_row2_col0\" class=\"data row2 col0\" >Target type</td>\n",
              "      <td id=\"T_74adc_row2_col1\" class=\"data row2 col1\" >Binary</td>\n",
              "    </tr>\n",
              "    <tr>\n",
              "      <th id=\"T_74adc_level0_row3\" class=\"row_heading level0 row3\" >3</th>\n",
              "      <td id=\"T_74adc_row3_col0\" class=\"data row3 col0\" >Original data shape</td>\n",
              "      <td id=\"T_74adc_row3_col1\" class=\"data row3 col1\" >(23452, 75)</td>\n",
              "    </tr>\n",
              "    <tr>\n",
              "      <th id=\"T_74adc_level0_row4\" class=\"row_heading level0 row4\" >4</th>\n",
              "      <td id=\"T_74adc_row4_col0\" class=\"data row4 col0\" >Transformed data shape</td>\n",
              "      <td id=\"T_74adc_row4_col1\" class=\"data row4 col1\" >(23452, 105)</td>\n",
              "    </tr>\n",
              "    <tr>\n",
              "      <th id=\"T_74adc_level0_row5\" class=\"row_heading level0 row5\" >5</th>\n",
              "      <td id=\"T_74adc_row5_col0\" class=\"data row5 col0\" >Transformed train set shape</td>\n",
              "      <td id=\"T_74adc_row5_col1\" class=\"data row5 col1\" >(16416, 105)</td>\n",
              "    </tr>\n",
              "    <tr>\n",
              "      <th id=\"T_74adc_level0_row6\" class=\"row_heading level0 row6\" >6</th>\n",
              "      <td id=\"T_74adc_row6_col0\" class=\"data row6 col0\" >Transformed test set shape</td>\n",
              "      <td id=\"T_74adc_row6_col1\" class=\"data row6 col1\" >(7036, 105)</td>\n",
              "    </tr>\n",
              "    <tr>\n",
              "      <th id=\"T_74adc_level0_row7\" class=\"row_heading level0 row7\" >7</th>\n",
              "      <td id=\"T_74adc_row7_col0\" class=\"data row7 col0\" >Numeric features</td>\n",
              "      <td id=\"T_74adc_row7_col1\" class=\"data row7 col1\" >64</td>\n",
              "    </tr>\n",
              "    <tr>\n",
              "      <th id=\"T_74adc_level0_row8\" class=\"row_heading level0 row8\" >8</th>\n",
              "      <td id=\"T_74adc_row8_col0\" class=\"data row8 col0\" >Categorical features</td>\n",
              "      <td id=\"T_74adc_row8_col1\" class=\"data row8 col1\" >10</td>\n",
              "    </tr>\n",
              "    <tr>\n",
              "      <th id=\"T_74adc_level0_row9\" class=\"row_heading level0 row9\" >9</th>\n",
              "      <td id=\"T_74adc_row9_col0\" class=\"data row9 col0\" >Rows with missing values</td>\n",
              "      <td id=\"T_74adc_row9_col1\" class=\"data row9 col1\" >62.0%</td>\n",
              "    </tr>\n",
              "    <tr>\n",
              "      <th id=\"T_74adc_level0_row10\" class=\"row_heading level0 row10\" >10</th>\n",
              "      <td id=\"T_74adc_row10_col0\" class=\"data row10 col0\" >Preprocess</td>\n",
              "      <td id=\"T_74adc_row10_col1\" class=\"data row10 col1\" >True</td>\n",
              "    </tr>\n",
              "    <tr>\n",
              "      <th id=\"T_74adc_level0_row11\" class=\"row_heading level0 row11\" >11</th>\n",
              "      <td id=\"T_74adc_row11_col0\" class=\"data row11 col0\" >Imputation type</td>\n",
              "      <td id=\"T_74adc_row11_col1\" class=\"data row11 col1\" >simple</td>\n",
              "    </tr>\n",
              "    <tr>\n",
              "      <th id=\"T_74adc_level0_row12\" class=\"row_heading level0 row12\" >12</th>\n",
              "      <td id=\"T_74adc_row12_col0\" class=\"data row12 col0\" >Numeric imputation</td>\n",
              "      <td id=\"T_74adc_row12_col1\" class=\"data row12 col1\" >mean</td>\n",
              "    </tr>\n",
              "    <tr>\n",
              "      <th id=\"T_74adc_level0_row13\" class=\"row_heading level0 row13\" >13</th>\n",
              "      <td id=\"T_74adc_row13_col0\" class=\"data row13 col0\" >Categorical imputation</td>\n",
              "      <td id=\"T_74adc_row13_col1\" class=\"data row13 col1\" >mode</td>\n",
              "    </tr>\n",
              "    <tr>\n",
              "      <th id=\"T_74adc_level0_row14\" class=\"row_heading level0 row14\" >14</th>\n",
              "      <td id=\"T_74adc_row14_col0\" class=\"data row14 col0\" >Maximum one-hot encoding</td>\n",
              "      <td id=\"T_74adc_row14_col1\" class=\"data row14 col1\" >25</td>\n",
              "    </tr>\n",
              "    <tr>\n",
              "      <th id=\"T_74adc_level0_row15\" class=\"row_heading level0 row15\" >15</th>\n",
              "      <td id=\"T_74adc_row15_col0\" class=\"data row15 col0\" >Encoding method</td>\n",
              "      <td id=\"T_74adc_row15_col1\" class=\"data row15 col1\" >None</td>\n",
              "    </tr>\n",
              "    <tr>\n",
              "      <th id=\"T_74adc_level0_row16\" class=\"row_heading level0 row16\" >16</th>\n",
              "      <td id=\"T_74adc_row16_col0\" class=\"data row16 col0\" >Fold Generator</td>\n",
              "      <td id=\"T_74adc_row16_col1\" class=\"data row16 col1\" >StratifiedKFold</td>\n",
              "    </tr>\n",
              "    <tr>\n",
              "      <th id=\"T_74adc_level0_row17\" class=\"row_heading level0 row17\" >17</th>\n",
              "      <td id=\"T_74adc_row17_col0\" class=\"data row17 col0\" >Fold Number</td>\n",
              "      <td id=\"T_74adc_row17_col1\" class=\"data row17 col1\" >10</td>\n",
              "    </tr>\n",
              "    <tr>\n",
              "      <th id=\"T_74adc_level0_row18\" class=\"row_heading level0 row18\" >18</th>\n",
              "      <td id=\"T_74adc_row18_col0\" class=\"data row18 col0\" >CPU Jobs</td>\n",
              "      <td id=\"T_74adc_row18_col1\" class=\"data row18 col1\" >-1</td>\n",
              "    </tr>\n",
              "    <tr>\n",
              "      <th id=\"T_74adc_level0_row19\" class=\"row_heading level0 row19\" >19</th>\n",
              "      <td id=\"T_74adc_row19_col0\" class=\"data row19 col0\" >Use GPU</td>\n",
              "      <td id=\"T_74adc_row19_col1\" class=\"data row19 col1\" >False</td>\n",
              "    </tr>\n",
              "    <tr>\n",
              "      <th id=\"T_74adc_level0_row20\" class=\"row_heading level0 row20\" >20</th>\n",
              "      <td id=\"T_74adc_row20_col0\" class=\"data row20 col0\" >Log Experiment</td>\n",
              "      <td id=\"T_74adc_row20_col1\" class=\"data row20 col1\" >False</td>\n",
              "    </tr>\n",
              "    <tr>\n",
              "      <th id=\"T_74adc_level0_row21\" class=\"row_heading level0 row21\" >21</th>\n",
              "      <td id=\"T_74adc_row21_col0\" class=\"data row21 col0\" >Experiment Name</td>\n",
              "      <td id=\"T_74adc_row21_col1\" class=\"data row21 col1\" >clf-default-name</td>\n",
              "    </tr>\n",
              "    <tr>\n",
              "      <th id=\"T_74adc_level0_row22\" class=\"row_heading level0 row22\" >22</th>\n",
              "      <td id=\"T_74adc_row22_col0\" class=\"data row22 col0\" >USI</td>\n",
              "      <td id=\"T_74adc_row22_col1\" class=\"data row22 col1\" >e05b</td>\n",
              "    </tr>\n",
              "  </tbody>\n",
              "</table>\n"
            ]
          },
          "metadata": {}
        }
      ]
    },
    {
      "cell_type": "code",
      "source": [
        "best_model=compare_models()"
      ],
      "metadata": {
        "colab": {
          "base_uri": "https://localhost:8080/",
          "height": 519,
          "referenced_widgets": [
            "e8aba28a8d7d43c59b053a7f9fea2038",
            "27ddaa64385946d7a02d27e6ab26be6b",
            "a4dd26989a1a46dca759ccb41d3e4def",
            "0ff4e830a411488b8883c0e66d8b1796",
            "414179dd06b74559a2fb9c475b6bbccf",
            "2f0461c32ddc44c8b32656649479c75c",
            "01aaf118b84940a5b12d139cb0e41dce",
            "3f6731f5b6734fc8ac2fecf18bdcf0c3",
            "8d90246d9c3942669f67d36b2d0a87e7",
            "976d40e6f6a14508a2f62aec27d983ae",
            "f6662fa74fcb48e19d138c8c1484bddf"
          ]
        },
        "id": "OrXJi9LRrtKI",
        "outputId": "f4fccf95-3a0d-4eea-fb95-9224fc5e874e"
      },
      "execution_count": 14,
      "outputs": [
        {
          "output_type": "display_data",
          "data": {
            "text/plain": [
              "<IPython.core.display.HTML object>"
            ],
            "text/html": []
          },
          "metadata": {}
        },
        {
          "output_type": "display_data",
          "data": {
            "text/plain": [
              "<pandas.io.formats.style.Styler at 0x7f2a4e7361d0>"
            ],
            "text/html": [
              "<style type=\"text/css\">\n",
              "#T_5a54e th {\n",
              "  text-align: left;\n",
              "}\n",
              "#T_5a54e_row0_col0, #T_5a54e_row0_col2, #T_5a54e_row0_col3, #T_5a54e_row0_col4, #T_5a54e_row0_col5, #T_5a54e_row0_col6, #T_5a54e_row0_col7, #T_5a54e_row1_col0, #T_5a54e_row1_col2, #T_5a54e_row1_col3, #T_5a54e_row1_col4, #T_5a54e_row1_col5, #T_5a54e_row1_col6, #T_5a54e_row1_col7, #T_5a54e_row2_col0, #T_5a54e_row2_col3, #T_5a54e_row2_col4, #T_5a54e_row2_col5, #T_5a54e_row2_col6, #T_5a54e_row2_col7, #T_5a54e_row3_col0, #T_5a54e_row3_col2, #T_5a54e_row3_col3, #T_5a54e_row3_col4, #T_5a54e_row3_col5, #T_5a54e_row3_col6, #T_5a54e_row3_col7, #T_5a54e_row4_col0, #T_5a54e_row4_col2, #T_5a54e_row4_col3, #T_5a54e_row4_col4, #T_5a54e_row4_col5, #T_5a54e_row4_col6, #T_5a54e_row4_col7, #T_5a54e_row5_col0, #T_5a54e_row5_col2, #T_5a54e_row5_col3, #T_5a54e_row5_col4, #T_5a54e_row5_col5, #T_5a54e_row5_col6, #T_5a54e_row5_col7, #T_5a54e_row6_col0, #T_5a54e_row6_col2, #T_5a54e_row6_col3, #T_5a54e_row6_col4, #T_5a54e_row6_col5, #T_5a54e_row6_col6, #T_5a54e_row6_col7, #T_5a54e_row7_col0, #T_5a54e_row7_col2, #T_5a54e_row7_col3, #T_5a54e_row7_col4, #T_5a54e_row7_col5, #T_5a54e_row7_col6, #T_5a54e_row7_col7, #T_5a54e_row8_col0, #T_5a54e_row8_col2, #T_5a54e_row8_col3, #T_5a54e_row8_col4, #T_5a54e_row8_col5, #T_5a54e_row8_col6, #T_5a54e_row8_col7, #T_5a54e_row9_col0, #T_5a54e_row9_col2, #T_5a54e_row9_col3, #T_5a54e_row9_col4, #T_5a54e_row9_col5, #T_5a54e_row9_col6, #T_5a54e_row9_col7, #T_5a54e_row10_col0, #T_5a54e_row10_col2, #T_5a54e_row10_col3, #T_5a54e_row10_col4, #T_5a54e_row10_col5, #T_5a54e_row10_col6, #T_5a54e_row10_col7, #T_5a54e_row11_col0, #T_5a54e_row11_col1, #T_5a54e_row11_col2, #T_5a54e_row11_col3, #T_5a54e_row11_col5, #T_5a54e_row11_col6, #T_5a54e_row11_col7, #T_5a54e_row12_col0, #T_5a54e_row12_col1, #T_5a54e_row12_col2, #T_5a54e_row12_col3, #T_5a54e_row12_col4, #T_5a54e_row12_col5, #T_5a54e_row12_col6, #T_5a54e_row12_col7, #T_5a54e_row13_col0, #T_5a54e_row13_col1, #T_5a54e_row13_col2, #T_5a54e_row13_col4, #T_5a54e_row14_col0, #T_5a54e_row14_col1, #T_5a54e_row14_col2, #T_5a54e_row14_col3, #T_5a54e_row14_col4, #T_5a54e_row14_col5, #T_5a54e_row14_col6, #T_5a54e_row14_col7 {\n",
              "  text-align: left;\n",
              "}\n",
              "#T_5a54e_row0_col1, #T_5a54e_row1_col1, #T_5a54e_row2_col1, #T_5a54e_row2_col2, #T_5a54e_row3_col1, #T_5a54e_row4_col1, #T_5a54e_row5_col1, #T_5a54e_row6_col1, #T_5a54e_row7_col1, #T_5a54e_row8_col1, #T_5a54e_row9_col1, #T_5a54e_row10_col1, #T_5a54e_row11_col4, #T_5a54e_row13_col3, #T_5a54e_row13_col5, #T_5a54e_row13_col6, #T_5a54e_row13_col7 {\n",
              "  text-align: left;\n",
              "  background-color: yellow;\n",
              "}\n",
              "#T_5a54e_row0_col8 {\n",
              "  text-align: left;\n",
              "  background-color: yellow;\n",
              "  background-color: lightgrey;\n",
              "}\n",
              "#T_5a54e_row1_col8, #T_5a54e_row2_col8, #T_5a54e_row3_col8, #T_5a54e_row4_col8, #T_5a54e_row5_col8, #T_5a54e_row6_col8, #T_5a54e_row7_col8, #T_5a54e_row8_col8, #T_5a54e_row9_col8, #T_5a54e_row10_col8, #T_5a54e_row11_col8, #T_5a54e_row12_col8, #T_5a54e_row13_col8, #T_5a54e_row14_col8 {\n",
              "  text-align: left;\n",
              "  background-color: lightgrey;\n",
              "}\n",
              "</style>\n",
              "<table id=\"T_5a54e\" class=\"dataframe\">\n",
              "  <thead>\n",
              "    <tr>\n",
              "      <th class=\"blank level0\" >&nbsp;</th>\n",
              "      <th id=\"T_5a54e_level0_col0\" class=\"col_heading level0 col0\" >Model</th>\n",
              "      <th id=\"T_5a54e_level0_col1\" class=\"col_heading level0 col1\" >Accuracy</th>\n",
              "      <th id=\"T_5a54e_level0_col2\" class=\"col_heading level0 col2\" >AUC</th>\n",
              "      <th id=\"T_5a54e_level0_col3\" class=\"col_heading level0 col3\" >Recall</th>\n",
              "      <th id=\"T_5a54e_level0_col4\" class=\"col_heading level0 col4\" >Prec.</th>\n",
              "      <th id=\"T_5a54e_level0_col5\" class=\"col_heading level0 col5\" >F1</th>\n",
              "      <th id=\"T_5a54e_level0_col6\" class=\"col_heading level0 col6\" >Kappa</th>\n",
              "      <th id=\"T_5a54e_level0_col7\" class=\"col_heading level0 col7\" >MCC</th>\n",
              "      <th id=\"T_5a54e_level0_col8\" class=\"col_heading level0 col8\" >TT (Sec)</th>\n",
              "    </tr>\n",
              "  </thead>\n",
              "  <tbody>\n",
              "    <tr>\n",
              "      <th id=\"T_5a54e_level0_row0\" class=\"row_heading level0 row0\" >dt</th>\n",
              "      <td id=\"T_5a54e_row0_col0\" class=\"data row0 col0\" >Decision Tree Classifier</td>\n",
              "      <td id=\"T_5a54e_row0_col1\" class=\"data row0 col1\" >0.8933</td>\n",
              "      <td id=\"T_5a54e_row0_col2\" class=\"data row0 col2\" >0.5000</td>\n",
              "      <td id=\"T_5a54e_row0_col3\" class=\"data row0 col3\" >0.0000</td>\n",
              "      <td id=\"T_5a54e_row0_col4\" class=\"data row0 col4\" >0.0000</td>\n",
              "      <td id=\"T_5a54e_row0_col5\" class=\"data row0 col5\" >0.0000</td>\n",
              "      <td id=\"T_5a54e_row0_col6\" class=\"data row0 col6\" >0.0000</td>\n",
              "      <td id=\"T_5a54e_row0_col7\" class=\"data row0 col7\" >0.0000</td>\n",
              "      <td id=\"T_5a54e_row0_col8\" class=\"data row0 col8\" >0.8480</td>\n",
              "    </tr>\n",
              "    <tr>\n",
              "      <th id=\"T_5a54e_level0_row1\" class=\"row_heading level0 row1\" >ridge</th>\n",
              "      <td id=\"T_5a54e_row1_col0\" class=\"data row1 col0\" >Ridge Classifier</td>\n",
              "      <td id=\"T_5a54e_row1_col1\" class=\"data row1 col1\" >0.8933</td>\n",
              "      <td id=\"T_5a54e_row1_col2\" class=\"data row1 col2\" >0.6209</td>\n",
              "      <td id=\"T_5a54e_row1_col3\" class=\"data row1 col3\" >0.0000</td>\n",
              "      <td id=\"T_5a54e_row1_col4\" class=\"data row1 col4\" >0.0000</td>\n",
              "      <td id=\"T_5a54e_row1_col5\" class=\"data row1 col5\" >0.0000</td>\n",
              "      <td id=\"T_5a54e_row1_col6\" class=\"data row1 col6\" >0.0000</td>\n",
              "      <td id=\"T_5a54e_row1_col7\" class=\"data row1 col7\" >0.0000</td>\n",
              "      <td id=\"T_5a54e_row1_col8\" class=\"data row1 col8\" >0.9110</td>\n",
              "    </tr>\n",
              "    <tr>\n",
              "      <th id=\"T_5a54e_level0_row2\" class=\"row_heading level0 row2\" >rf</th>\n",
              "      <td id=\"T_5a54e_row2_col0\" class=\"data row2 col0\" >Random Forest Classifier</td>\n",
              "      <td id=\"T_5a54e_row2_col1\" class=\"data row2 col1\" >0.8933</td>\n",
              "      <td id=\"T_5a54e_row2_col2\" class=\"data row2 col2\" >0.7207</td>\n",
              "      <td id=\"T_5a54e_row2_col3\" class=\"data row2 col3\" >0.0000</td>\n",
              "      <td id=\"T_5a54e_row2_col4\" class=\"data row2 col4\" >0.0000</td>\n",
              "      <td id=\"T_5a54e_row2_col5\" class=\"data row2 col5\" >0.0000</td>\n",
              "      <td id=\"T_5a54e_row2_col6\" class=\"data row2 col6\" >0.0000</td>\n",
              "      <td id=\"T_5a54e_row2_col7\" class=\"data row2 col7\" >0.0000</td>\n",
              "      <td id=\"T_5a54e_row2_col8\" class=\"data row2 col8\" >6.7570</td>\n",
              "    </tr>\n",
              "    <tr>\n",
              "      <th id=\"T_5a54e_level0_row3\" class=\"row_heading level0 row3\" >qda</th>\n",
              "      <td id=\"T_5a54e_row3_col0\" class=\"data row3 col0\" >Quadratic Discriminant Analysis</td>\n",
              "      <td id=\"T_5a54e_row3_col1\" class=\"data row3 col1\" >0.8933</td>\n",
              "      <td id=\"T_5a54e_row3_col2\" class=\"data row3 col2\" >0.5048</td>\n",
              "      <td id=\"T_5a54e_row3_col3\" class=\"data row3 col3\" >0.0006</td>\n",
              "      <td id=\"T_5a54e_row3_col4\" class=\"data row3 col4\" >0.1000</td>\n",
              "      <td id=\"T_5a54e_row3_col5\" class=\"data row3 col5\" >0.0011</td>\n",
              "      <td id=\"T_5a54e_row3_col6\" class=\"data row3 col6\" >0.0009</td>\n",
              "      <td id=\"T_5a54e_row3_col7\" class=\"data row3 col7\" >0.0063</td>\n",
              "      <td id=\"T_5a54e_row3_col8\" class=\"data row3 col8\" >0.9050</td>\n",
              "    </tr>\n",
              "    <tr>\n",
              "      <th id=\"T_5a54e_level0_row4\" class=\"row_heading level0 row4\" >ada</th>\n",
              "      <td id=\"T_5a54e_row4_col0\" class=\"data row4 col0\" >Ada Boost Classifier</td>\n",
              "      <td id=\"T_5a54e_row4_col1\" class=\"data row4 col1\" >0.8933</td>\n",
              "      <td id=\"T_5a54e_row4_col2\" class=\"data row4 col2\" >0.5000</td>\n",
              "      <td id=\"T_5a54e_row4_col3\" class=\"data row4 col3\" >0.0000</td>\n",
              "      <td id=\"T_5a54e_row4_col4\" class=\"data row4 col4\" >0.0000</td>\n",
              "      <td id=\"T_5a54e_row4_col5\" class=\"data row4 col5\" >0.0000</td>\n",
              "      <td id=\"T_5a54e_row4_col6\" class=\"data row4 col6\" >0.0000</td>\n",
              "      <td id=\"T_5a54e_row4_col7\" class=\"data row4 col7\" >0.0000</td>\n",
              "      <td id=\"T_5a54e_row4_col8\" class=\"data row4 col8\" >0.9220</td>\n",
              "    </tr>\n",
              "    <tr>\n",
              "      <th id=\"T_5a54e_level0_row5\" class=\"row_heading level0 row5\" >gbc</th>\n",
              "      <td id=\"T_5a54e_row5_col0\" class=\"data row5 col0\" >Gradient Boosting Classifier</td>\n",
              "      <td id=\"T_5a54e_row5_col1\" class=\"data row5 col1\" >0.8933</td>\n",
              "      <td id=\"T_5a54e_row5_col2\" class=\"data row5 col2\" >0.5000</td>\n",
              "      <td id=\"T_5a54e_row5_col3\" class=\"data row5 col3\" >0.0000</td>\n",
              "      <td id=\"T_5a54e_row5_col4\" class=\"data row5 col4\" >0.0000</td>\n",
              "      <td id=\"T_5a54e_row5_col5\" class=\"data row5 col5\" >0.0000</td>\n",
              "      <td id=\"T_5a54e_row5_col6\" class=\"data row5 col6\" >0.0000</td>\n",
              "      <td id=\"T_5a54e_row5_col7\" class=\"data row5 col7\" >0.0000</td>\n",
              "      <td id=\"T_5a54e_row5_col8\" class=\"data row5 col8\" >10.2900</td>\n",
              "    </tr>\n",
              "    <tr>\n",
              "      <th id=\"T_5a54e_level0_row6\" class=\"row_heading level0 row6\" >lda</th>\n",
              "      <td id=\"T_5a54e_row6_col0\" class=\"data row6 col0\" >Linear Discriminant Analysis</td>\n",
              "      <td id=\"T_5a54e_row6_col1\" class=\"data row6 col1\" >0.8933</td>\n",
              "      <td id=\"T_5a54e_row6_col2\" class=\"data row6 col2\" >0.5000</td>\n",
              "      <td id=\"T_5a54e_row6_col3\" class=\"data row6 col3\" >0.0000</td>\n",
              "      <td id=\"T_5a54e_row6_col4\" class=\"data row6 col4\" >0.0000</td>\n",
              "      <td id=\"T_5a54e_row6_col5\" class=\"data row6 col5\" >0.0000</td>\n",
              "      <td id=\"T_5a54e_row6_col6\" class=\"data row6 col6\" >0.0000</td>\n",
              "      <td id=\"T_5a54e_row6_col7\" class=\"data row6 col7\" >0.0000</td>\n",
              "      <td id=\"T_5a54e_row6_col8\" class=\"data row6 col8\" >1.0890</td>\n",
              "    </tr>\n",
              "    <tr>\n",
              "      <th id=\"T_5a54e_level0_row7\" class=\"row_heading level0 row7\" >et</th>\n",
              "      <td id=\"T_5a54e_row7_col0\" class=\"data row7 col0\" >Extra Trees Classifier</td>\n",
              "      <td id=\"T_5a54e_row7_col1\" class=\"data row7 col1\" >0.8933</td>\n",
              "      <td id=\"T_5a54e_row7_col2\" class=\"data row7 col2\" >0.5963</td>\n",
              "      <td id=\"T_5a54e_row7_col3\" class=\"data row7 col3\" >0.0000</td>\n",
              "      <td id=\"T_5a54e_row7_col4\" class=\"data row7 col4\" >0.0000</td>\n",
              "      <td id=\"T_5a54e_row7_col5\" class=\"data row7 col5\" >0.0000</td>\n",
              "      <td id=\"T_5a54e_row7_col6\" class=\"data row7 col6\" >0.0000</td>\n",
              "      <td id=\"T_5a54e_row7_col7\" class=\"data row7 col7\" >0.0000</td>\n",
              "      <td id=\"T_5a54e_row7_col8\" class=\"data row7 col8\" >2.4670</td>\n",
              "    </tr>\n",
              "    <tr>\n",
              "      <th id=\"T_5a54e_level0_row8\" class=\"row_heading level0 row8\" >xgboost</th>\n",
              "      <td id=\"T_5a54e_row8_col0\" class=\"data row8 col0\" >Extreme Gradient Boosting</td>\n",
              "      <td id=\"T_5a54e_row8_col1\" class=\"data row8 col1\" >0.8933</td>\n",
              "      <td id=\"T_5a54e_row8_col2\" class=\"data row8 col2\" >0.6069</td>\n",
              "      <td id=\"T_5a54e_row8_col3\" class=\"data row8 col3\" >0.0000</td>\n",
              "      <td id=\"T_5a54e_row8_col4\" class=\"data row8 col4\" >0.0000</td>\n",
              "      <td id=\"T_5a54e_row8_col5\" class=\"data row8 col5\" >0.0000</td>\n",
              "      <td id=\"T_5a54e_row8_col6\" class=\"data row8 col6\" >0.0000</td>\n",
              "      <td id=\"T_5a54e_row8_col7\" class=\"data row8 col7\" >0.0000</td>\n",
              "      <td id=\"T_5a54e_row8_col8\" class=\"data row8 col8\" >1.2320</td>\n",
              "    </tr>\n",
              "    <tr>\n",
              "      <th id=\"T_5a54e_level0_row9\" class=\"row_heading level0 row9\" >lightgbm</th>\n",
              "      <td id=\"T_5a54e_row9_col0\" class=\"data row9 col0\" >Light Gradient Boosting Machine</td>\n",
              "      <td id=\"T_5a54e_row9_col1\" class=\"data row9 col1\" >0.8933</td>\n",
              "      <td id=\"T_5a54e_row9_col2\" class=\"data row9 col2\" >0.5598</td>\n",
              "      <td id=\"T_5a54e_row9_col3\" class=\"data row9 col3\" >0.0000</td>\n",
              "      <td id=\"T_5a54e_row9_col4\" class=\"data row9 col4\" >0.0000</td>\n",
              "      <td id=\"T_5a54e_row9_col5\" class=\"data row9 col5\" >0.0000</td>\n",
              "      <td id=\"T_5a54e_row9_col6\" class=\"data row9 col6\" >0.0000</td>\n",
              "      <td id=\"T_5a54e_row9_col7\" class=\"data row9 col7\" >0.0000</td>\n",
              "      <td id=\"T_5a54e_row9_col8\" class=\"data row9 col8\" >2.6710</td>\n",
              "    </tr>\n",
              "    <tr>\n",
              "      <th id=\"T_5a54e_level0_row10\" class=\"row_heading level0 row10\" >dummy</th>\n",
              "      <td id=\"T_5a54e_row10_col0\" class=\"data row10 col0\" >Dummy Classifier</td>\n",
              "      <td id=\"T_5a54e_row10_col1\" class=\"data row10 col1\" >0.8933</td>\n",
              "      <td id=\"T_5a54e_row10_col2\" class=\"data row10 col2\" >0.5000</td>\n",
              "      <td id=\"T_5a54e_row10_col3\" class=\"data row10 col3\" >0.0000</td>\n",
              "      <td id=\"T_5a54e_row10_col4\" class=\"data row10 col4\" >0.0000</td>\n",
              "      <td id=\"T_5a54e_row10_col5\" class=\"data row10 col5\" >0.0000</td>\n",
              "      <td id=\"T_5a54e_row10_col6\" class=\"data row10 col6\" >0.0000</td>\n",
              "      <td id=\"T_5a54e_row10_col7\" class=\"data row10 col7\" >0.0000</td>\n",
              "      <td id=\"T_5a54e_row10_col8\" class=\"data row10 col8\" >0.9240</td>\n",
              "    </tr>\n",
              "    <tr>\n",
              "      <th id=\"T_5a54e_level0_row11\" class=\"row_heading level0 row11\" >lr</th>\n",
              "      <td id=\"T_5a54e_row11_col0\" class=\"data row11 col0\" >Logistic Regression</td>\n",
              "      <td id=\"T_5a54e_row11_col1\" class=\"data row11 col1\" >0.8919</td>\n",
              "      <td id=\"T_5a54e_row11_col2\" class=\"data row11 col2\" >0.5449</td>\n",
              "      <td id=\"T_5a54e_row11_col3\" class=\"data row11 col3\" >0.0137</td>\n",
              "      <td id=\"T_5a54e_row11_col4\" class=\"data row11 col4\" >0.3342</td>\n",
              "      <td id=\"T_5a54e_row11_col5\" class=\"data row11 col5\" >0.0263</td>\n",
              "      <td id=\"T_5a54e_row11_col6\" class=\"data row11 col6\" >0.0180</td>\n",
              "      <td id=\"T_5a54e_row11_col7\" class=\"data row11 col7\" >0.0484</td>\n",
              "      <td id=\"T_5a54e_row11_col8\" class=\"data row11 col8\" >7.4430</td>\n",
              "    </tr>\n",
              "    <tr>\n",
              "      <th id=\"T_5a54e_level0_row12\" class=\"row_heading level0 row12\" >knn</th>\n",
              "      <td id=\"T_5a54e_row12_col0\" class=\"data row12 col0\" >K Neighbors Classifier</td>\n",
              "      <td id=\"T_5a54e_row12_col1\" class=\"data row12 col1\" >0.8898</td>\n",
              "      <td id=\"T_5a54e_row12_col2\" class=\"data row12 col2\" >0.5523</td>\n",
              "      <td id=\"T_5a54e_row12_col3\" class=\"data row12 col3\" >0.0303</td>\n",
              "      <td id=\"T_5a54e_row12_col4\" class=\"data row12 col4\" >0.3157</td>\n",
              "      <td id=\"T_5a54e_row12_col5\" class=\"data row12 col5\" >0.0551</td>\n",
              "      <td id=\"T_5a54e_row12_col6\" class=\"data row12 col6\" >0.0376</td>\n",
              "      <td id=\"T_5a54e_row12_col7\" class=\"data row12 col7\" >0.0690</td>\n",
              "      <td id=\"T_5a54e_row12_col8\" class=\"data row12 col8\" >1.6860</td>\n",
              "    </tr>\n",
              "    <tr>\n",
              "      <th id=\"T_5a54e_level0_row13\" class=\"row_heading level0 row13\" >nb</th>\n",
              "      <td id=\"T_5a54e_row13_col0\" class=\"data row13 col0\" >Naive Bayes</td>\n",
              "      <td id=\"T_5a54e_row13_col1\" class=\"data row13 col1\" >0.8066</td>\n",
              "      <td id=\"T_5a54e_row13_col2\" class=\"data row13 col2\" >0.5755</td>\n",
              "      <td id=\"T_5a54e_row13_col3\" class=\"data row13 col3\" >0.2174</td>\n",
              "      <td id=\"T_5a54e_row13_col4\" class=\"data row13 col4\" >0.1862</td>\n",
              "      <td id=\"T_5a54e_row13_col5\" class=\"data row13 col5\" >0.1896</td>\n",
              "      <td id=\"T_5a54e_row13_col6\" class=\"data row13 col6\" >0.0887</td>\n",
              "      <td id=\"T_5a54e_row13_col7\" class=\"data row13 col7\" >0.0910</td>\n",
              "      <td id=\"T_5a54e_row13_col8\" class=\"data row13 col8\" >0.8980</td>\n",
              "    </tr>\n",
              "    <tr>\n",
              "      <th id=\"T_5a54e_level0_row14\" class=\"row_heading level0 row14\" >svm</th>\n",
              "      <td id=\"T_5a54e_row14_col0\" class=\"data row14 col0\" >SVM - Linear Kernel</td>\n",
              "      <td id=\"T_5a54e_row14_col1\" class=\"data row14 col1\" >0.7904</td>\n",
              "      <td id=\"T_5a54e_row14_col2\" class=\"data row14 col2\" >0.5194</td>\n",
              "      <td id=\"T_5a54e_row14_col3\" class=\"data row14 col3\" >0.1714</td>\n",
              "      <td id=\"T_5a54e_row14_col4\" class=\"data row14 col4\" >0.2014</td>\n",
              "      <td id=\"T_5a54e_row14_col5\" class=\"data row14 col5\" >0.0878</td>\n",
              "      <td id=\"T_5a54e_row14_col6\" class=\"data row14 col6\" >0.0360</td>\n",
              "      <td id=\"T_5a54e_row14_col7\" class=\"data row14 col7\" >0.0510</td>\n",
              "      <td id=\"T_5a54e_row14_col8\" class=\"data row14 col8\" >1.4450</td>\n",
              "    </tr>\n",
              "  </tbody>\n",
              "</table>\n"
            ]
          },
          "metadata": {}
        },
        {
          "output_type": "display_data",
          "data": {
            "text/plain": [
              "Processing:   0%|          | 0/65 [00:00<?, ?it/s]"
            ],
            "application/vnd.jupyter.widget-view+json": {
              "version_major": 2,
              "version_minor": 0,
              "model_id": "e8aba28a8d7d43c59b053a7f9fea2038"
            }
          },
          "metadata": {
            "application/vnd.jupyter.widget-view+json": {
              "colab": {
                "custom_widget_manager": {
                  "url": "https://ssl.gstatic.com/colaboratory-static/widgets/colab-cdn-widget-manager/2b70e893a8ba7c0f/manager.min.js"
                }
              }
            }
          }
        },
        {
          "output_type": "display_data",
          "data": {
            "text/plain": [
              "<IPython.core.display.HTML object>"
            ],
            "text/html": []
          },
          "metadata": {}
        }
      ]
    },
    {
      "cell_type": "code",
      "source": [
        "# Importar bibliotecas necesarias\n",
        "import pandas as pd\n",
        "from sklearn.model_selection import train_test_split, GridSearchCV\n",
        "from sklearn.ensemble import RandomForestClassifier\n",
        "from sklearn.metrics import classification_report\n",
        "from imblearn.over_sampling import SMOTE\n",
        "\n",
        "# Cargar los datos\n",
        "# Supongamos que 'datos' es tu DataFrame con todas las características, incluida la variable objetivo 'prepago'\n",
        "# Asegúrate de tener las características codificadas como variables numéricas si hay variables categóricas\n",
        "\n",
        "# Separar características y variable objetivo\n",
        "X = datos.drop('prepago', axis=1)\n",
        "y = datos['prepago']\n",
        "\n",
        "# Dividir los datos en conjunto de entrenamiento y prueba\n",
        "X_train, X_test, y_train, y_test = train_test_split(X, y, test_size=0.25, random_state=42)\n",
        "\n",
        "# Codificar variables categóricas en el conjunto de entrenamiento\n",
        "X_train_encoded = pd.get_dummies(X_train)\n",
        "\n",
        "# Aplicar SMOTE para balancear las clases en el conjunto de entrenamiento\n",
        "smote = SMOTE(random_state=42)\n",
        "X_train_balanced, y_train_balanced = smote.fit_resample(X_train_encoded, y_train)\n",
        "\n",
        "# Definir el modelo de Random Forest\n",
        "rf = RandomForestClassifier(random_state=42)\n",
        "\n",
        "# Definir la cuadrícula de hiperparámetros a ajustar\n",
        "param_grid = {\n",
        "    'n_estimators': [100, 200, 300],\n",
        "    'max_depth': [None, 10, 20],\n",
        "    'min_samples_split': [2, 5, 10],\n",
        "    'min_samples_leaf': [1, 2, 4]\n",
        "}\n",
        "\n",
        "# Realizar la búsqueda de cuadrícula para encontrar los mejores hiperparámetros\n",
        "grid_search = GridSearchCV(rf, param_grid, cv=5, scoring='roc_auc')\n",
        "grid_search.fit(X_train_balanced, y_train_balanced)\n",
        "\n",
        "# Obtener el mejor modelo\n",
        "best_rf = grid_search.best_estimator_\n",
        "\n",
        "# Codificar variables categóricas en el conjunto de prueba\n",
        "X_test_encoded = pd.get_dummies(X_test)\n",
        "\n",
        "# Predecir con el mejor modelo en el conjunto de prueba\n",
        "y_pred = best_rf.predict(X_test_encoded)\n",
        "\n",
        "# Generar informe de clasificación\n",
        "print(classification_report(y_test, y_pred))\n"
      ],
      "metadata": {
        "id": "74KxPQaok78w"
      },
      "execution_count": null,
      "outputs": []
    },
    {
      "cell_type": "code",
      "source": [
        "modelo = create_model('nb')"
      ],
      "metadata": {
        "colab": {
          "base_uri": "https://localhost:8080/",
          "height": 457,
          "referenced_widgets": [
            "97a92a4c3a294eaeba7183cafd45379b",
            "8a1810cd46e74b86b9db41d2b8f3ae5e",
            "481cc196173840da835e5d973ac79b1e",
            "368ebef53954421ea2bb6ef24febba89",
            "9e416ec6279f489383c12fb55006c3f2",
            "f47dfbc7fa114befa00bfccd8a7aaa42",
            "8dfadaa3939a4faba3b3effd513d5ce6",
            "7c8e1a122f174e7ab80045d1e422edb9",
            "9c756aebf96d4e93a932caca41ab9eea",
            "beaf1b1beac04cf2abaef475b34fe975",
            "ab441cee8e4d478c946b94a8dff25093"
          ]
        },
        "id": "TV4shwFXrwEh",
        "outputId": "bfa26413-26a9-47db-e1a5-beebcc559f8a"
      },
      "execution_count": 54,
      "outputs": [
        {
          "output_type": "display_data",
          "data": {
            "text/plain": [
              "<IPython.core.display.HTML object>"
            ],
            "text/html": []
          },
          "metadata": {}
        },
        {
          "output_type": "display_data",
          "data": {
            "text/plain": [
              "<pandas.io.formats.style.Styler at 0x7c9ddb6a1ff0>"
            ],
            "text/html": [
              "<style type=\"text/css\">\n",
              "#T_008ef_row10_col0, #T_008ef_row10_col1, #T_008ef_row10_col2, #T_008ef_row10_col3, #T_008ef_row10_col4, #T_008ef_row10_col5, #T_008ef_row10_col6 {\n",
              "  background: yellow;\n",
              "}\n",
              "</style>\n",
              "<table id=\"T_008ef\" class=\"dataframe\">\n",
              "  <thead>\n",
              "    <tr>\n",
              "      <th class=\"blank level0\" >&nbsp;</th>\n",
              "      <th id=\"T_008ef_level0_col0\" class=\"col_heading level0 col0\" >Accuracy</th>\n",
              "      <th id=\"T_008ef_level0_col1\" class=\"col_heading level0 col1\" >AUC</th>\n",
              "      <th id=\"T_008ef_level0_col2\" class=\"col_heading level0 col2\" >Recall</th>\n",
              "      <th id=\"T_008ef_level0_col3\" class=\"col_heading level0 col3\" >Prec.</th>\n",
              "      <th id=\"T_008ef_level0_col4\" class=\"col_heading level0 col4\" >F1</th>\n",
              "      <th id=\"T_008ef_level0_col5\" class=\"col_heading level0 col5\" >Kappa</th>\n",
              "      <th id=\"T_008ef_level0_col6\" class=\"col_heading level0 col6\" >MCC</th>\n",
              "    </tr>\n",
              "    <tr>\n",
              "      <th class=\"index_name level0\" >Fold</th>\n",
              "      <th class=\"blank col0\" >&nbsp;</th>\n",
              "      <th class=\"blank col1\" >&nbsp;</th>\n",
              "      <th class=\"blank col2\" >&nbsp;</th>\n",
              "      <th class=\"blank col3\" >&nbsp;</th>\n",
              "      <th class=\"blank col4\" >&nbsp;</th>\n",
              "      <th class=\"blank col5\" >&nbsp;</th>\n",
              "      <th class=\"blank col6\" >&nbsp;</th>\n",
              "    </tr>\n",
              "  </thead>\n",
              "  <tbody>\n",
              "    <tr>\n",
              "      <th id=\"T_008ef_level0_row0\" class=\"row_heading level0 row0\" >0</th>\n",
              "      <td id=\"T_008ef_row0_col0\" class=\"data row0 col0\" >0.8611</td>\n",
              "      <td id=\"T_008ef_row0_col1\" class=\"data row0 col1\" >0.5883</td>\n",
              "      <td id=\"T_008ef_row0_col2\" class=\"data row0 col2\" >0.0800</td>\n",
              "      <td id=\"T_008ef_row0_col3\" class=\"data row0 col3\" >0.1728</td>\n",
              "      <td id=\"T_008ef_row0_col4\" class=\"data row0 col4\" >0.1094</td>\n",
              "      <td id=\"T_008ef_row0_col5\" class=\"data row0 col5\" >0.0450</td>\n",
              "      <td id=\"T_008ef_row0_col6\" class=\"data row0 col6\" >0.0489</td>\n",
              "    </tr>\n",
              "    <tr>\n",
              "      <th id=\"T_008ef_level0_row1\" class=\"row_heading level0 row1\" >1</th>\n",
              "      <td id=\"T_008ef_row1_col0\" class=\"data row1 col0\" >0.8569</td>\n",
              "      <td id=\"T_008ef_row1_col1\" class=\"data row1 col1\" >0.5907</td>\n",
              "      <td id=\"T_008ef_row1_col2\" class=\"data row1 col2\" >0.0971</td>\n",
              "      <td id=\"T_008ef_row1_col3\" class=\"data row1 col3\" >0.1809</td>\n",
              "      <td id=\"T_008ef_row1_col4\" class=\"data row1 col4\" >0.1264</td>\n",
              "      <td id=\"T_008ef_row1_col5\" class=\"data row1 col5\" >0.0561</td>\n",
              "      <td id=\"T_008ef_row1_col6\" class=\"data row1 col6\" >0.0593</td>\n",
              "    </tr>\n",
              "    <tr>\n",
              "      <th id=\"T_008ef_level0_row2\" class=\"row_heading level0 row2\" >2</th>\n",
              "      <td id=\"T_008ef_row2_col0\" class=\"data row2 col0\" >0.8569</td>\n",
              "      <td id=\"T_008ef_row2_col1\" class=\"data row2 col1\" >0.6091</td>\n",
              "      <td id=\"T_008ef_row2_col2\" class=\"data row2 col2\" >0.1029</td>\n",
              "      <td id=\"T_008ef_row2_col3\" class=\"data row2 col3\" >0.1875</td>\n",
              "      <td id=\"T_008ef_row2_col4\" class=\"data row2 col4\" >0.1328</td>\n",
              "      <td id=\"T_008ef_row2_col5\" class=\"data row2 col5\" >0.0620</td>\n",
              "      <td id=\"T_008ef_row2_col6\" class=\"data row2 col6\" >0.0653</td>\n",
              "    </tr>\n",
              "    <tr>\n",
              "      <th id=\"T_008ef_level0_row3\" class=\"row_heading level0 row3\" >3</th>\n",
              "      <td id=\"T_008ef_row3_col0\" class=\"data row3 col0\" >0.8593</td>\n",
              "      <td id=\"T_008ef_row3_col1\" class=\"data row3 col1\" >0.5878</td>\n",
              "      <td id=\"T_008ef_row3_col2\" class=\"data row3 col2\" >0.1200</td>\n",
              "      <td id=\"T_008ef_row3_col3\" class=\"data row3 col3\" >0.2143</td>\n",
              "      <td id=\"T_008ef_row3_col4\" class=\"data row3 col4\" >0.1538</td>\n",
              "      <td id=\"T_008ef_row3_col5\" class=\"data row3 col5\" >0.0837</td>\n",
              "      <td id=\"T_008ef_row3_col6\" class=\"data row3 col6\" >0.0879</td>\n",
              "    </tr>\n",
              "    <tr>\n",
              "      <th id=\"T_008ef_level0_row4\" class=\"row_heading level0 row4\" >4</th>\n",
              "      <td id=\"T_008ef_row4_col0\" class=\"data row4 col0\" >0.8624</td>\n",
              "      <td id=\"T_008ef_row4_col1\" class=\"data row4 col1\" >0.6108</td>\n",
              "      <td id=\"T_008ef_row4_col2\" class=\"data row4 col2\" >0.0857</td>\n",
              "      <td id=\"T_008ef_row4_col3\" class=\"data row4 col3\" >0.1852</td>\n",
              "      <td id=\"T_008ef_row4_col4\" class=\"data row4 col4\" >0.1172</td>\n",
              "      <td id=\"T_008ef_row4_col5\" class=\"data row4 col5\" >0.0533</td>\n",
              "      <td id=\"T_008ef_row4_col6\" class=\"data row4 col6\" >0.0580</td>\n",
              "    </tr>\n",
              "    <tr>\n",
              "      <th id=\"T_008ef_level0_row5\" class=\"row_heading level0 row5\" >5</th>\n",
              "      <td id=\"T_008ef_row5_col0\" class=\"data row5 col0\" >0.8563</td>\n",
              "      <td id=\"T_008ef_row5_col1\" class=\"data row5 col1\" >0.5550</td>\n",
              "      <td id=\"T_008ef_row5_col2\" class=\"data row5 col2\" >0.0625</td>\n",
              "      <td id=\"T_008ef_row5_col3\" class=\"data row5 col3\" >0.1341</td>\n",
              "      <td id=\"T_008ef_row5_col4\" class=\"data row5 col4\" >0.0853</td>\n",
              "      <td id=\"T_008ef_row5_col5\" class=\"data row5 col5\" >0.0184</td>\n",
              "      <td id=\"T_008ef_row5_col6\" class=\"data row5 col6\" >0.0200</td>\n",
              "    </tr>\n",
              "    <tr>\n",
              "      <th id=\"T_008ef_level0_row6\" class=\"row_heading level0 row6\" >6</th>\n",
              "      <td id=\"T_008ef_row6_col0\" class=\"data row6 col0\" >0.8550</td>\n",
              "      <td id=\"T_008ef_row6_col1\" class=\"data row6 col1\" >0.6027</td>\n",
              "      <td id=\"T_008ef_row6_col2\" class=\"data row6 col2\" >0.1086</td>\n",
              "      <td id=\"T_008ef_row6_col3\" class=\"data row6 col3\" >0.1881</td>\n",
              "      <td id=\"T_008ef_row6_col4\" class=\"data row6 col4\" >0.1377</td>\n",
              "      <td id=\"T_008ef_row6_col5\" class=\"data row6 col5\" >0.0647</td>\n",
              "      <td id=\"T_008ef_row6_col6\" class=\"data row6 col6\" >0.0676</td>\n",
              "    </tr>\n",
              "    <tr>\n",
              "      <th id=\"T_008ef_level0_row7\" class=\"row_heading level0 row7\" >7</th>\n",
              "      <td id=\"T_008ef_row7_col0\" class=\"data row7 col0\" >0.8672</td>\n",
              "      <td id=\"T_008ef_row7_col1\" class=\"data row7 col1\" >0.5932</td>\n",
              "      <td id=\"T_008ef_row7_col2\" class=\"data row7 col2\" >0.0914</td>\n",
              "      <td id=\"T_008ef_row7_col3\" class=\"data row7 col3\" >0.2133</td>\n",
              "      <td id=\"T_008ef_row7_col4\" class=\"data row7 col4\" >0.1280</td>\n",
              "      <td id=\"T_008ef_row7_col5\" class=\"data row7 col5\" >0.0684</td>\n",
              "      <td id=\"T_008ef_row7_col6\" class=\"data row7 col6\" >0.0756</td>\n",
              "    </tr>\n",
              "    <tr>\n",
              "      <th id=\"T_008ef_level0_row8\" class=\"row_heading level0 row8\" >8</th>\n",
              "      <td id=\"T_008ef_row8_col0\" class=\"data row8 col0\" >0.8659</td>\n",
              "      <td id=\"T_008ef_row8_col1\" class=\"data row8 col1\" >0.6313</td>\n",
              "      <td id=\"T_008ef_row8_col2\" class=\"data row8 col2\" >0.1029</td>\n",
              "      <td id=\"T_008ef_row8_col3\" class=\"data row8 col3\" >0.2222</td>\n",
              "      <td id=\"T_008ef_row8_col4\" class=\"data row8 col4\" >0.1406</td>\n",
              "      <td id=\"T_008ef_row8_col5\" class=\"data row8 col5\" >0.0784</td>\n",
              "      <td id=\"T_008ef_row8_col6\" class=\"data row8 col6\" >0.0853</td>\n",
              "    </tr>\n",
              "    <tr>\n",
              "      <th id=\"T_008ef_level0_row9\" class=\"row_heading level0 row9\" >9</th>\n",
              "      <td id=\"T_008ef_row9_col0\" class=\"data row9 col0\" >0.8672</td>\n",
              "      <td id=\"T_008ef_row9_col1\" class=\"data row9 col1\" >0.5946</td>\n",
              "      <td id=\"T_008ef_row9_col2\" class=\"data row9 col2\" >0.1200</td>\n",
              "      <td id=\"T_008ef_row9_col3\" class=\"data row9 col3\" >0.2471</td>\n",
              "      <td id=\"T_008ef_row9_col4\" class=\"data row9 col4\" >0.1615</td>\n",
              "      <td id=\"T_008ef_row9_col5\" class=\"data row9 col5\" >0.0987</td>\n",
              "      <td id=\"T_008ef_row9_col6\" class=\"data row9 col6\" >0.1063</td>\n",
              "    </tr>\n",
              "    <tr>\n",
              "      <th id=\"T_008ef_level0_row10\" class=\"row_heading level0 row10\" >Mean</th>\n",
              "      <td id=\"T_008ef_row10_col0\" class=\"data row10 col0\" >0.8608</td>\n",
              "      <td id=\"T_008ef_row10_col1\" class=\"data row10 col1\" >0.5963</td>\n",
              "      <td id=\"T_008ef_row10_col2\" class=\"data row10 col2\" >0.0971</td>\n",
              "      <td id=\"T_008ef_row10_col3\" class=\"data row10 col3\" >0.1946</td>\n",
              "      <td id=\"T_008ef_row10_col4\" class=\"data row10 col4\" >0.1293</td>\n",
              "      <td id=\"T_008ef_row10_col5\" class=\"data row10 col5\" >0.0629</td>\n",
              "      <td id=\"T_008ef_row10_col6\" class=\"data row10 col6\" >0.0674</td>\n",
              "    </tr>\n",
              "    <tr>\n",
              "      <th id=\"T_008ef_level0_row11\" class=\"row_heading level0 row11\" >Std</th>\n",
              "      <td id=\"T_008ef_row11_col0\" class=\"data row11 col0\" >0.0044</td>\n",
              "      <td id=\"T_008ef_row11_col1\" class=\"data row11 col1\" >0.0188</td>\n",
              "      <td id=\"T_008ef_row11_col2\" class=\"data row11 col2\" >0.0170</td>\n",
              "      <td id=\"T_008ef_row11_col3\" class=\"data row11 col3\" >0.0296</td>\n",
              "      <td id=\"T_008ef_row11_col4\" class=\"data row11 col4\" >0.0208</td>\n",
              "      <td id=\"T_008ef_row11_col5\" class=\"data row11 col5\" >0.0211</td>\n",
              "      <td id=\"T_008ef_row11_col6\" class=\"data row11 col6\" >0.0225</td>\n",
              "    </tr>\n",
              "  </tbody>\n",
              "</table>\n"
            ]
          },
          "metadata": {}
        },
        {
          "output_type": "display_data",
          "data": {
            "text/plain": [
              "Processing:   0%|          | 0/4 [00:00<?, ?it/s]"
            ],
            "application/vnd.jupyter.widget-view+json": {
              "version_major": 2,
              "version_minor": 0,
              "model_id": "97a92a4c3a294eaeba7183cafd45379b"
            }
          },
          "metadata": {
            "application/vnd.jupyter.widget-view+json": {
              "colab": {
                "custom_widget_manager": {
                  "url": "https://ssl.gstatic.com/colaboratory-static/widgets/colab-cdn-widget-manager/2b70e893a8ba7c0f/manager.min.js"
                }
              }
            }
          }
        },
        {
          "output_type": "display_data",
          "data": {
            "text/plain": [
              "<IPython.core.display.HTML object>"
            ],
            "text/html": []
          },
          "metadata": {}
        }
      ]
    },
    {
      "cell_type": "code",
      "source": [
        "modelo = create_model('qda')"
      ],
      "metadata": {
        "id": "5EJ3oNytfLay",
        "outputId": "00cc6b60-f01c-46be-b3ac-5e372930ecb3",
        "colab": {
          "base_uri": "https://localhost:8080/",
          "height": 457,
          "referenced_widgets": [
            "09df568d514940018b0e53927b319371",
            "69b93dd825904324a257be4d6cbe8c26",
            "5fde7bfb66fe47b4a42127bf97730946",
            "f4b6375b5cd94f678c93a44e7660f3a4",
            "669e285ffa144f26a2e57b639716e76f",
            "facb3556145542638b52ace1c8ac8e69",
            "fc3278d13c924873855c34c3840521e2",
            "7264657d67c34170a2dfb250deb0e6e4",
            "d4a1341021294702ac919df72afe6be0",
            "55144e0d3e4347688669d8720f2692ea",
            "fecb6862a3b14d2cad22f89ff489784a"
          ]
        }
      },
      "execution_count": 62,
      "outputs": [
        {
          "output_type": "display_data",
          "data": {
            "text/plain": [
              "<IPython.core.display.HTML object>"
            ],
            "text/html": []
          },
          "metadata": {}
        },
        {
          "output_type": "display_data",
          "data": {
            "text/plain": [
              "<pandas.io.formats.style.Styler at 0x7c9dddcc3d30>"
            ],
            "text/html": [
              "<style type=\"text/css\">\n",
              "#T_1bf63_row10_col0, #T_1bf63_row10_col1, #T_1bf63_row10_col2, #T_1bf63_row10_col3, #T_1bf63_row10_col4, #T_1bf63_row10_col5, #T_1bf63_row10_col6 {\n",
              "  background: yellow;\n",
              "}\n",
              "</style>\n",
              "<table id=\"T_1bf63\" class=\"dataframe\">\n",
              "  <thead>\n",
              "    <tr>\n",
              "      <th class=\"blank level0\" >&nbsp;</th>\n",
              "      <th id=\"T_1bf63_level0_col0\" class=\"col_heading level0 col0\" >Accuracy</th>\n",
              "      <th id=\"T_1bf63_level0_col1\" class=\"col_heading level0 col1\" >AUC</th>\n",
              "      <th id=\"T_1bf63_level0_col2\" class=\"col_heading level0 col2\" >Recall</th>\n",
              "      <th id=\"T_1bf63_level0_col3\" class=\"col_heading level0 col3\" >Prec.</th>\n",
              "      <th id=\"T_1bf63_level0_col4\" class=\"col_heading level0 col4\" >F1</th>\n",
              "      <th id=\"T_1bf63_level0_col5\" class=\"col_heading level0 col5\" >Kappa</th>\n",
              "      <th id=\"T_1bf63_level0_col6\" class=\"col_heading level0 col6\" >MCC</th>\n",
              "    </tr>\n",
              "    <tr>\n",
              "      <th class=\"index_name level0\" >Fold</th>\n",
              "      <th class=\"blank col0\" >&nbsp;</th>\n",
              "      <th class=\"blank col1\" >&nbsp;</th>\n",
              "      <th class=\"blank col2\" >&nbsp;</th>\n",
              "      <th class=\"blank col3\" >&nbsp;</th>\n",
              "      <th class=\"blank col4\" >&nbsp;</th>\n",
              "      <th class=\"blank col5\" >&nbsp;</th>\n",
              "      <th class=\"blank col6\" >&nbsp;</th>\n",
              "    </tr>\n",
              "  </thead>\n",
              "  <tbody>\n",
              "    <tr>\n",
              "      <th id=\"T_1bf63_level0_row0\" class=\"row_heading level0 row0\" >0</th>\n",
              "      <td id=\"T_1bf63_row0_col0\" class=\"data row0 col0\" >0.8934</td>\n",
              "      <td id=\"T_1bf63_row0_col1\" class=\"data row0 col1\" >0.6442</td>\n",
              "      <td id=\"T_1bf63_row0_col2\" class=\"data row0 col2\" >0.0000</td>\n",
              "      <td id=\"T_1bf63_row0_col3\" class=\"data row0 col3\" >0.0000</td>\n",
              "      <td id=\"T_1bf63_row0_col4\" class=\"data row0 col4\" >0.0000</td>\n",
              "      <td id=\"T_1bf63_row0_col5\" class=\"data row0 col5\" >0.0000</td>\n",
              "      <td id=\"T_1bf63_row0_col6\" class=\"data row0 col6\" >0.0000</td>\n",
              "    </tr>\n",
              "    <tr>\n",
              "      <th id=\"T_1bf63_level0_row1\" class=\"row_heading level0 row1\" >1</th>\n",
              "      <td id=\"T_1bf63_row1_col0\" class=\"data row1 col0\" >0.8934</td>\n",
              "      <td id=\"T_1bf63_row1_col1\" class=\"data row1 col1\" >0.4636</td>\n",
              "      <td id=\"T_1bf63_row1_col2\" class=\"data row1 col2\" >0.0000</td>\n",
              "      <td id=\"T_1bf63_row1_col3\" class=\"data row1 col3\" >0.0000</td>\n",
              "      <td id=\"T_1bf63_row1_col4\" class=\"data row1 col4\" >0.0000</td>\n",
              "      <td id=\"T_1bf63_row1_col5\" class=\"data row1 col5\" >0.0000</td>\n",
              "      <td id=\"T_1bf63_row1_col6\" class=\"data row1 col6\" >0.0000</td>\n",
              "    </tr>\n",
              "    <tr>\n",
              "      <th id=\"T_1bf63_level0_row2\" class=\"row_heading level0 row2\" >2</th>\n",
              "      <td id=\"T_1bf63_row2_col0\" class=\"data row2 col0\" >0.8934</td>\n",
              "      <td id=\"T_1bf63_row2_col1\" class=\"data row2 col1\" >0.5614</td>\n",
              "      <td id=\"T_1bf63_row2_col2\" class=\"data row2 col2\" >0.0000</td>\n",
              "      <td id=\"T_1bf63_row2_col3\" class=\"data row2 col3\" >0.0000</td>\n",
              "      <td id=\"T_1bf63_row2_col4\" class=\"data row2 col4\" >0.0000</td>\n",
              "      <td id=\"T_1bf63_row2_col5\" class=\"data row2 col5\" >0.0000</td>\n",
              "      <td id=\"T_1bf63_row2_col6\" class=\"data row2 col6\" >0.0000</td>\n",
              "    </tr>\n",
              "    <tr>\n",
              "      <th id=\"T_1bf63_level0_row3\" class=\"row_heading level0 row3\" >3</th>\n",
              "      <td id=\"T_1bf63_row3_col0\" class=\"data row3 col0\" >0.8934</td>\n",
              "      <td id=\"T_1bf63_row3_col1\" class=\"data row3 col1\" >0.4297</td>\n",
              "      <td id=\"T_1bf63_row3_col2\" class=\"data row3 col2\" >0.0000</td>\n",
              "      <td id=\"T_1bf63_row3_col3\" class=\"data row3 col3\" >0.0000</td>\n",
              "      <td id=\"T_1bf63_row3_col4\" class=\"data row3 col4\" >0.0000</td>\n",
              "      <td id=\"T_1bf63_row3_col5\" class=\"data row3 col5\" >0.0000</td>\n",
              "      <td id=\"T_1bf63_row3_col6\" class=\"data row3 col6\" >0.0000</td>\n",
              "    </tr>\n",
              "    <tr>\n",
              "      <th id=\"T_1bf63_level0_row4\" class=\"row_heading level0 row4\" >4</th>\n",
              "      <td id=\"T_1bf63_row4_col0\" class=\"data row4 col0\" >0.8934</td>\n",
              "      <td id=\"T_1bf63_row4_col1\" class=\"data row4 col1\" >0.4581</td>\n",
              "      <td id=\"T_1bf63_row4_col2\" class=\"data row4 col2\" >0.0000</td>\n",
              "      <td id=\"T_1bf63_row4_col3\" class=\"data row4 col3\" >0.0000</td>\n",
              "      <td id=\"T_1bf63_row4_col4\" class=\"data row4 col4\" >0.0000</td>\n",
              "      <td id=\"T_1bf63_row4_col5\" class=\"data row4 col5\" >0.0000</td>\n",
              "      <td id=\"T_1bf63_row4_col6\" class=\"data row4 col6\" >0.0000</td>\n",
              "    </tr>\n",
              "    <tr>\n",
              "      <th id=\"T_1bf63_level0_row5\" class=\"row_heading level0 row5\" >5</th>\n",
              "      <td id=\"T_1bf63_row5_col0\" class=\"data row5 col0\" >0.8928</td>\n",
              "      <td id=\"T_1bf63_row5_col1\" class=\"data row5 col1\" >0.5868</td>\n",
              "      <td id=\"T_1bf63_row5_col2\" class=\"data row5 col2\" >0.0000</td>\n",
              "      <td id=\"T_1bf63_row5_col3\" class=\"data row5 col3\" >0.0000</td>\n",
              "      <td id=\"T_1bf63_row5_col4\" class=\"data row5 col4\" >0.0000</td>\n",
              "      <td id=\"T_1bf63_row5_col5\" class=\"data row5 col5\" >0.0000</td>\n",
              "      <td id=\"T_1bf63_row5_col6\" class=\"data row5 col6\" >0.0000</td>\n",
              "    </tr>\n",
              "    <tr>\n",
              "      <th id=\"T_1bf63_level0_row6\" class=\"row_heading level0 row6\" >6</th>\n",
              "      <td id=\"T_1bf63_row6_col0\" class=\"data row6 col0\" >0.8934</td>\n",
              "      <td id=\"T_1bf63_row6_col1\" class=\"data row6 col1\" >0.5950</td>\n",
              "      <td id=\"T_1bf63_row6_col2\" class=\"data row6 col2\" >0.0000</td>\n",
              "      <td id=\"T_1bf63_row6_col3\" class=\"data row6 col3\" >0.0000</td>\n",
              "      <td id=\"T_1bf63_row6_col4\" class=\"data row6 col4\" >0.0000</td>\n",
              "      <td id=\"T_1bf63_row6_col5\" class=\"data row6 col5\" >0.0000</td>\n",
              "      <td id=\"T_1bf63_row6_col6\" class=\"data row6 col6\" >0.0000</td>\n",
              "    </tr>\n",
              "    <tr>\n",
              "      <th id=\"T_1bf63_level0_row7\" class=\"row_heading level0 row7\" >7</th>\n",
              "      <td id=\"T_1bf63_row7_col0\" class=\"data row7 col0\" >0.8934</td>\n",
              "      <td id=\"T_1bf63_row7_col1\" class=\"data row7 col1\" >0.6052</td>\n",
              "      <td id=\"T_1bf63_row7_col2\" class=\"data row7 col2\" >0.0000</td>\n",
              "      <td id=\"T_1bf63_row7_col3\" class=\"data row7 col3\" >0.0000</td>\n",
              "      <td id=\"T_1bf63_row7_col4\" class=\"data row7 col4\" >0.0000</td>\n",
              "      <td id=\"T_1bf63_row7_col5\" class=\"data row7 col5\" >0.0000</td>\n",
              "      <td id=\"T_1bf63_row7_col6\" class=\"data row7 col6\" >0.0000</td>\n",
              "    </tr>\n",
              "    <tr>\n",
              "      <th id=\"T_1bf63_level0_row8\" class=\"row_heading level0 row8\" >8</th>\n",
              "      <td id=\"T_1bf63_row8_col0\" class=\"data row8 col0\" >0.8934</td>\n",
              "      <td id=\"T_1bf63_row8_col1\" class=\"data row8 col1\" >0.6409</td>\n",
              "      <td id=\"T_1bf63_row8_col2\" class=\"data row8 col2\" >0.0000</td>\n",
              "      <td id=\"T_1bf63_row8_col3\" class=\"data row8 col3\" >0.0000</td>\n",
              "      <td id=\"T_1bf63_row8_col4\" class=\"data row8 col4\" >0.0000</td>\n",
              "      <td id=\"T_1bf63_row8_col5\" class=\"data row8 col5\" >0.0000</td>\n",
              "      <td id=\"T_1bf63_row8_col6\" class=\"data row8 col6\" >0.0000</td>\n",
              "    </tr>\n",
              "    <tr>\n",
              "      <th id=\"T_1bf63_level0_row9\" class=\"row_heading level0 row9\" >9</th>\n",
              "      <td id=\"T_1bf63_row9_col0\" class=\"data row9 col0\" >0.8940</td>\n",
              "      <td id=\"T_1bf63_row9_col1\" class=\"data row9 col1\" >0.6335</td>\n",
              "      <td id=\"T_1bf63_row9_col2\" class=\"data row9 col2\" >0.0057</td>\n",
              "      <td id=\"T_1bf63_row9_col3\" class=\"data row9 col3\" >1.0000</td>\n",
              "      <td id=\"T_1bf63_row9_col4\" class=\"data row9 col4\" >0.0114</td>\n",
              "      <td id=\"T_1bf63_row9_col5\" class=\"data row9 col5\" >0.0102</td>\n",
              "      <td id=\"T_1bf63_row9_col6\" class=\"data row9 col6\" >0.0715</td>\n",
              "    </tr>\n",
              "    <tr>\n",
              "      <th id=\"T_1bf63_level0_row10\" class=\"row_heading level0 row10\" >Mean</th>\n",
              "      <td id=\"T_1bf63_row10_col0\" class=\"data row10 col0\" >0.8934</td>\n",
              "      <td id=\"T_1bf63_row10_col1\" class=\"data row10 col1\" >0.5619</td>\n",
              "      <td id=\"T_1bf63_row10_col2\" class=\"data row10 col2\" >0.0006</td>\n",
              "      <td id=\"T_1bf63_row10_col3\" class=\"data row10 col3\" >0.1000</td>\n",
              "      <td id=\"T_1bf63_row10_col4\" class=\"data row10 col4\" >0.0011</td>\n",
              "      <td id=\"T_1bf63_row10_col5\" class=\"data row10 col5\" >0.0010</td>\n",
              "      <td id=\"T_1bf63_row10_col6\" class=\"data row10 col6\" >0.0071</td>\n",
              "    </tr>\n",
              "    <tr>\n",
              "      <th id=\"T_1bf63_level0_row11\" class=\"row_heading level0 row11\" >Std</th>\n",
              "      <td id=\"T_1bf63_row11_col0\" class=\"data row11 col0\" >0.0003</td>\n",
              "      <td id=\"T_1bf63_row11_col1\" class=\"data row11 col1\" >0.0772</td>\n",
              "      <td id=\"T_1bf63_row11_col2\" class=\"data row11 col2\" >0.0017</td>\n",
              "      <td id=\"T_1bf63_row11_col3\" class=\"data row11 col3\" >0.3000</td>\n",
              "      <td id=\"T_1bf63_row11_col4\" class=\"data row11 col4\" >0.0034</td>\n",
              "      <td id=\"T_1bf63_row11_col5\" class=\"data row11 col5\" >0.0030</td>\n",
              "      <td id=\"T_1bf63_row11_col6\" class=\"data row11 col6\" >0.0214</td>\n",
              "    </tr>\n",
              "  </tbody>\n",
              "</table>\n"
            ]
          },
          "metadata": {}
        },
        {
          "output_type": "display_data",
          "data": {
            "text/plain": [
              "Processing:   0%|          | 0/4 [00:00<?, ?it/s]"
            ],
            "application/vnd.jupyter.widget-view+json": {
              "version_major": 2,
              "version_minor": 0,
              "model_id": "09df568d514940018b0e53927b319371"
            }
          },
          "metadata": {
            "application/vnd.jupyter.widget-view+json": {
              "colab": {
                "custom_widget_manager": {
                  "url": "https://ssl.gstatic.com/colaboratory-static/widgets/colab-cdn-widget-manager/2b70e893a8ba7c0f/manager.min.js"
                }
              }
            }
          }
        },
        {
          "output_type": "display_data",
          "data": {
            "text/plain": [
              "<IPython.core.display.HTML object>"
            ],
            "text/html": []
          },
          "metadata": {}
        }
      ]
    },
    {
      "cell_type": "code",
      "source": [
        "tuned_modelo = tune_model(modelo)"
      ],
      "metadata": {
        "colab": {
          "base_uri": "https://localhost:8080/",
          "height": 474,
          "referenced_widgets": [
            "f67d15161c854696a366140c23d29090",
            "ed1f562a4df74712bb3f0553b4bf6a85",
            "01fde1c0532b404e8e25b5f2c4ef1556",
            "3b4d26630453412b919a8883e2698a25",
            "c17d743402d64a1b81a39a96fea5d420",
            "860660ea39b144f1a4d77fce07337485",
            "06a137cc114041b9bf709b8d34d65fe5",
            "4f7c4946b2bf484ca97cdc0c40bc591a",
            "478db3545926493c9f22c16a2b5fcf16",
            "c1df66f3e7cf460bbcb96b8297b751de",
            "b5265d20afa84963afa49e6271c1bdb8"
          ]
        },
        "id": "pV5oChKSryO5",
        "outputId": "fa2c0e69-8830-4827-9631-beec15d75057"
      },
      "execution_count": 55,
      "outputs": [
        {
          "output_type": "display_data",
          "data": {
            "text/plain": [
              "<IPython.core.display.HTML object>"
            ],
            "text/html": []
          },
          "metadata": {}
        },
        {
          "output_type": "display_data",
          "data": {
            "text/plain": [
              "<pandas.io.formats.style.Styler at 0x7c9dddd052d0>"
            ],
            "text/html": [
              "<style type=\"text/css\">\n",
              "#T_681fc_row10_col0, #T_681fc_row10_col1, #T_681fc_row10_col2, #T_681fc_row10_col3, #T_681fc_row10_col4, #T_681fc_row10_col5, #T_681fc_row10_col6 {\n",
              "  background: yellow;\n",
              "}\n",
              "</style>\n",
              "<table id=\"T_681fc\" class=\"dataframe\">\n",
              "  <thead>\n",
              "    <tr>\n",
              "      <th class=\"blank level0\" >&nbsp;</th>\n",
              "      <th id=\"T_681fc_level0_col0\" class=\"col_heading level0 col0\" >Accuracy</th>\n",
              "      <th id=\"T_681fc_level0_col1\" class=\"col_heading level0 col1\" >AUC</th>\n",
              "      <th id=\"T_681fc_level0_col2\" class=\"col_heading level0 col2\" >Recall</th>\n",
              "      <th id=\"T_681fc_level0_col3\" class=\"col_heading level0 col3\" >Prec.</th>\n",
              "      <th id=\"T_681fc_level0_col4\" class=\"col_heading level0 col4\" >F1</th>\n",
              "      <th id=\"T_681fc_level0_col5\" class=\"col_heading level0 col5\" >Kappa</th>\n",
              "      <th id=\"T_681fc_level0_col6\" class=\"col_heading level0 col6\" >MCC</th>\n",
              "    </tr>\n",
              "    <tr>\n",
              "      <th class=\"index_name level0\" >Fold</th>\n",
              "      <th class=\"blank col0\" >&nbsp;</th>\n",
              "      <th class=\"blank col1\" >&nbsp;</th>\n",
              "      <th class=\"blank col2\" >&nbsp;</th>\n",
              "      <th class=\"blank col3\" >&nbsp;</th>\n",
              "      <th class=\"blank col4\" >&nbsp;</th>\n",
              "      <th class=\"blank col5\" >&nbsp;</th>\n",
              "      <th class=\"blank col6\" >&nbsp;</th>\n",
              "    </tr>\n",
              "  </thead>\n",
              "  <tbody>\n",
              "    <tr>\n",
              "      <th id=\"T_681fc_level0_row0\" class=\"row_heading level0 row0\" >0</th>\n",
              "      <td id=\"T_681fc_row0_col0\" class=\"data row0 col0\" >0.8886</td>\n",
              "      <td id=\"T_681fc_row0_col1\" class=\"data row0 col1\" >0.5709</td>\n",
              "      <td id=\"T_681fc_row0_col2\" class=\"data row0 col2\" >0.0286</td>\n",
              "      <td id=\"T_681fc_row0_col3\" class=\"data row0 col3\" >0.2778</td>\n",
              "      <td id=\"T_681fc_row0_col4\" class=\"data row0 col4\" >0.0518</td>\n",
              "      <td id=\"T_681fc_row0_col5\" class=\"data row0 col5\" >0.0326</td>\n",
              "      <td id=\"T_681fc_row0_col6\" class=\"data row0 col6\" >0.0584</td>\n",
              "    </tr>\n",
              "    <tr>\n",
              "      <th id=\"T_681fc_level0_row1\" class=\"row_heading level0 row1\" >1</th>\n",
              "      <td id=\"T_681fc_row1_col0\" class=\"data row1 col0\" >0.8825</td>\n",
              "      <td id=\"T_681fc_row1_col1\" class=\"data row1 col1\" >0.5772</td>\n",
              "      <td id=\"T_681fc_row1_col2\" class=\"data row1 col2\" >0.0229</td>\n",
              "      <td id=\"T_681fc_row1_col3\" class=\"data row1 col3\" >0.1538</td>\n",
              "      <td id=\"T_681fc_row1_col4\" class=\"data row1 col4\" >0.0398</td>\n",
              "      <td id=\"T_681fc_row1_col5\" class=\"data row1 col5\" >0.0126</td>\n",
              "      <td id=\"T_681fc_row1_col6\" class=\"data row1 col6\" >0.0194</td>\n",
              "    </tr>\n",
              "    <tr>\n",
              "      <th id=\"T_681fc_level0_row2\" class=\"row_heading level0 row2\" >2</th>\n",
              "      <td id=\"T_681fc_row2_col0\" class=\"data row2 col0\" >0.8861</td>\n",
              "      <td id=\"T_681fc_row2_col1\" class=\"data row2 col1\" >0.6069</td>\n",
              "      <td id=\"T_681fc_row2_col2\" class=\"data row2 col2\" >0.0400</td>\n",
              "      <td id=\"T_681fc_row2_col3\" class=\"data row2 col3\" >0.2692</td>\n",
              "      <td id=\"T_681fc_row2_col4\" class=\"data row2 col4\" >0.0697</td>\n",
              "      <td id=\"T_681fc_row2_col5\" class=\"data row2 col5\" >0.0433</td>\n",
              "      <td id=\"T_681fc_row2_col6\" class=\"data row2 col6\" >0.0669</td>\n",
              "    </tr>\n",
              "    <tr>\n",
              "      <th id=\"T_681fc_level0_row3\" class=\"row_heading level0 row3\" >3</th>\n",
              "      <td id=\"T_681fc_row3_col0\" class=\"data row3 col0\" >0.8879</td>\n",
              "      <td id=\"T_681fc_row3_col1\" class=\"data row3 col1\" >0.5928</td>\n",
              "      <td id=\"T_681fc_row3_col2\" class=\"data row3 col2\" >0.0343</td>\n",
              "      <td id=\"T_681fc_row3_col3\" class=\"data row3 col3\" >0.2857</td>\n",
              "      <td id=\"T_681fc_row3_col4\" class=\"data row3 col4\" >0.0612</td>\n",
              "      <td id=\"T_681fc_row3_col5\" class=\"data row3 col5\" >0.0393</td>\n",
              "      <td id=\"T_681fc_row3_col6\" class=\"data row3 col6\" >0.0661</td>\n",
              "    </tr>\n",
              "    <tr>\n",
              "      <th id=\"T_681fc_level0_row4\" class=\"row_heading level0 row4\" >4</th>\n",
              "      <td id=\"T_681fc_row4_col0\" class=\"data row4 col0\" >0.8904</td>\n",
              "      <td id=\"T_681fc_row4_col1\" class=\"data row4 col1\" >0.5681</td>\n",
              "      <td id=\"T_681fc_row4_col2\" class=\"data row4 col2\" >0.0171</td>\n",
              "      <td id=\"T_681fc_row4_col3\" class=\"data row4 col3\" >0.2727</td>\n",
              "      <td id=\"T_681fc_row4_col4\" class=\"data row4 col4\" >0.0323</td>\n",
              "      <td id=\"T_681fc_row4_col5\" class=\"data row4 col5\" >0.0199</td>\n",
              "      <td id=\"T_681fc_row4_col6\" class=\"data row4 col6\" >0.0442</td>\n",
              "    </tr>\n",
              "    <tr>\n",
              "      <th id=\"T_681fc_level0_row5\" class=\"row_heading level0 row5\" >5</th>\n",
              "      <td id=\"T_681fc_row5_col0\" class=\"data row5 col0\" >0.8867</td>\n",
              "      <td id=\"T_681fc_row5_col1\" class=\"data row5 col1\" >0.5416</td>\n",
              "      <td id=\"T_681fc_row5_col2\" class=\"data row5 col2\" >0.0114</td>\n",
              "      <td id=\"T_681fc_row5_col3\" class=\"data row5 col3\" >0.1429</td>\n",
              "      <td id=\"T_681fc_row5_col4\" class=\"data row5 col4\" >0.0211</td>\n",
              "      <td id=\"T_681fc_row5_col5\" class=\"data row5 col5\" >0.0053</td>\n",
              "      <td id=\"T_681fc_row5_col6\" class=\"data row5 col6\" >0.0107</td>\n",
              "    </tr>\n",
              "    <tr>\n",
              "      <th id=\"T_681fc_level0_row6\" class=\"row_heading level0 row6\" >6</th>\n",
              "      <td id=\"T_681fc_row6_col0\" class=\"data row6 col0\" >0.8848</td>\n",
              "      <td id=\"T_681fc_row6_col1\" class=\"data row6 col1\" >0.5539</td>\n",
              "      <td id=\"T_681fc_row6_col2\" class=\"data row6 col2\" >0.0114</td>\n",
              "      <td id=\"T_681fc_row6_col3\" class=\"data row6 col3\" >0.1111</td>\n",
              "      <td id=\"T_681fc_row6_col4\" class=\"data row6 col4\" >0.0207</td>\n",
              "      <td id=\"T_681fc_row6_col5\" class=\"data row6 col5\" >0.0009</td>\n",
              "      <td id=\"T_681fc_row6_col6\" class=\"data row6 col6\" >0.0015</td>\n",
              "    </tr>\n",
              "    <tr>\n",
              "      <th id=\"T_681fc_level0_row7\" class=\"row_heading level0 row7\" >7</th>\n",
              "      <td id=\"T_681fc_row7_col0\" class=\"data row7 col0\" >0.8848</td>\n",
              "      <td id=\"T_681fc_row7_col1\" class=\"data row7 col1\" >0.5727</td>\n",
              "      <td id=\"T_681fc_row7_col2\" class=\"data row7 col2\" >0.0057</td>\n",
              "      <td id=\"T_681fc_row7_col3\" class=\"data row7 col3\" >0.0625</td>\n",
              "      <td id=\"T_681fc_row7_col4\" class=\"data row7 col4\" >0.0105</td>\n",
              "      <td id=\"T_681fc_row7_col5\" class=\"data row7 col5\" >-0.0075</td>\n",
              "      <td id=\"T_681fc_row7_col6\" class=\"data row7 col6\" >-0.0142</td>\n",
              "    </tr>\n",
              "    <tr>\n",
              "      <th id=\"T_681fc_level0_row8\" class=\"row_heading level0 row8\" >8</th>\n",
              "      <td id=\"T_681fc_row8_col0\" class=\"data row8 col0\" >0.8891</td>\n",
              "      <td id=\"T_681fc_row8_col1\" class=\"data row8 col1\" >0.6164</td>\n",
              "      <td id=\"T_681fc_row8_col2\" class=\"data row8 col2\" >0.0171</td>\n",
              "      <td id=\"T_681fc_row8_col3\" class=\"data row8 col3\" >0.2308</td>\n",
              "      <td id=\"T_681fc_row8_col4\" class=\"data row8 col4\" >0.0319</td>\n",
              "      <td id=\"T_681fc_row8_col5\" class=\"data row8 col5\" >0.0174</td>\n",
              "      <td id=\"T_681fc_row8_col6\" class=\"data row8 col6\" >0.0359</td>\n",
              "    </tr>\n",
              "    <tr>\n",
              "      <th id=\"T_681fc_level0_row9\" class=\"row_heading level0 row9\" >9</th>\n",
              "      <td id=\"T_681fc_row9_col0\" class=\"data row9 col0\" >0.8879</td>\n",
              "      <td id=\"T_681fc_row9_col1\" class=\"data row9 col1\" >0.5915</td>\n",
              "      <td id=\"T_681fc_row9_col2\" class=\"data row9 col2\" >0.0171</td>\n",
              "      <td id=\"T_681fc_row9_col3\" class=\"data row9 col3\" >0.2000</td>\n",
              "      <td id=\"T_681fc_row9_col4\" class=\"data row9 col4\" >0.0316</td>\n",
              "      <td id=\"T_681fc_row9_col5\" class=\"data row9 col5\" >0.0150</td>\n",
              "      <td id=\"T_681fc_row9_col6\" class=\"data row9 col6\" >0.0291</td>\n",
              "    </tr>\n",
              "    <tr>\n",
              "      <th id=\"T_681fc_level0_row10\" class=\"row_heading level0 row10\" >Mean</th>\n",
              "      <td id=\"T_681fc_row10_col0\" class=\"data row10 col0\" >0.8869</td>\n",
              "      <td id=\"T_681fc_row10_col1\" class=\"data row10 col1\" >0.5792</td>\n",
              "      <td id=\"T_681fc_row10_col2\" class=\"data row10 col2\" >0.0206</td>\n",
              "      <td id=\"T_681fc_row10_col3\" class=\"data row10 col3\" >0.2007</td>\n",
              "      <td id=\"T_681fc_row10_col4\" class=\"data row10 col4\" >0.0370</td>\n",
              "      <td id=\"T_681fc_row10_col5\" class=\"data row10 col5\" >0.0179</td>\n",
              "      <td id=\"T_681fc_row10_col6\" class=\"data row10 col6\" >0.0318</td>\n",
              "    </tr>\n",
              "    <tr>\n",
              "      <th id=\"T_681fc_level0_row11\" class=\"row_heading level0 row11\" >Std</th>\n",
              "      <td id=\"T_681fc_row11_col0\" class=\"data row11 col0\" >0.0022</td>\n",
              "      <td id=\"T_681fc_row11_col1\" class=\"data row11 col1\" >0.0218</td>\n",
              "      <td id=\"T_681fc_row11_col2\" class=\"data row11 col2\" >0.0103</td>\n",
              "      <td id=\"T_681fc_row11_col3\" class=\"data row11 col3\" >0.0752</td>\n",
              "      <td id=\"T_681fc_row11_col4\" class=\"data row11 col4\" >0.0178</td>\n",
              "      <td id=\"T_681fc_row11_col5\" class=\"data row11 col5\" >0.0157</td>\n",
              "      <td id=\"T_681fc_row11_col6\" class=\"data row11 col6\" >0.0263</td>\n",
              "    </tr>\n",
              "  </tbody>\n",
              "</table>\n"
            ]
          },
          "metadata": {}
        },
        {
          "output_type": "display_data",
          "data": {
            "text/plain": [
              "Processing:   0%|          | 0/7 [00:00<?, ?it/s]"
            ],
            "application/vnd.jupyter.widget-view+json": {
              "version_major": 2,
              "version_minor": 0,
              "model_id": "f67d15161c854696a366140c23d29090"
            }
          },
          "metadata": {
            "application/vnd.jupyter.widget-view+json": {
              "colab": {
                "custom_widget_manager": {
                  "url": "https://ssl.gstatic.com/colaboratory-static/widgets/colab-cdn-widget-manager/2b70e893a8ba7c0f/manager.min.js"
                }
              }
            }
          }
        },
        {
          "output_type": "stream",
          "name": "stdout",
          "text": [
            "Fitting 10 folds for each of 10 candidates, totalling 100 fits\n"
          ]
        },
        {
          "output_type": "display_data",
          "data": {
            "text/plain": [
              "<IPython.core.display.HTML object>"
            ],
            "text/html": []
          },
          "metadata": {}
        }
      ]
    },
    {
      "cell_type": "code",
      "source": [
        "tuned_modelo = tune_model(modelo)"
      ],
      "metadata": {
        "id": "1pcbN2MwfUfO",
        "outputId": "f3d6fa4f-45f5-4235-c2e4-9a085ed63147",
        "colab": {
          "base_uri": "https://localhost:8080/",
          "height": 491,
          "referenced_widgets": [
            "76d151326b2241249f498b9f8de1a440",
            "c78711b1e243477db57092170da7aa8c",
            "7b85eac787ce41d7a80c59e32098449c",
            "2e12a1f6da6d4d708a32f23ec523796d",
            "9de17932fd8d4e93a0bf0b16a2c7e07b",
            "fa96a2af901e46b7a796f75d697d4a1c",
            "f5f70bacbb4b467a9795b5ca3b438382",
            "1539747c0f734925ad64990ca57f8fac",
            "640dcf5d141e435e867b1d01edece30a",
            "9fc945c946f149d58826de6c155b7d5b",
            "9b834af16a614618ab1fdd32fca63407"
          ]
        }
      },
      "execution_count": 63,
      "outputs": [
        {
          "output_type": "display_data",
          "data": {
            "text/plain": [
              "<IPython.core.display.HTML object>"
            ],
            "text/html": []
          },
          "metadata": {}
        },
        {
          "output_type": "display_data",
          "data": {
            "text/plain": [
              "<pandas.io.formats.style.Styler at 0x7c9ddb707970>"
            ],
            "text/html": [
              "<style type=\"text/css\">\n",
              "#T_1f15d_row10_col0, #T_1f15d_row10_col1, #T_1f15d_row10_col2, #T_1f15d_row10_col3, #T_1f15d_row10_col4, #T_1f15d_row10_col5, #T_1f15d_row10_col6 {\n",
              "  background: yellow;\n",
              "}\n",
              "</style>\n",
              "<table id=\"T_1f15d\" class=\"dataframe\">\n",
              "  <thead>\n",
              "    <tr>\n",
              "      <th class=\"blank level0\" >&nbsp;</th>\n",
              "      <th id=\"T_1f15d_level0_col0\" class=\"col_heading level0 col0\" >Accuracy</th>\n",
              "      <th id=\"T_1f15d_level0_col1\" class=\"col_heading level0 col1\" >AUC</th>\n",
              "      <th id=\"T_1f15d_level0_col2\" class=\"col_heading level0 col2\" >Recall</th>\n",
              "      <th id=\"T_1f15d_level0_col3\" class=\"col_heading level0 col3\" >Prec.</th>\n",
              "      <th id=\"T_1f15d_level0_col4\" class=\"col_heading level0 col4\" >F1</th>\n",
              "      <th id=\"T_1f15d_level0_col5\" class=\"col_heading level0 col5\" >Kappa</th>\n",
              "      <th id=\"T_1f15d_level0_col6\" class=\"col_heading level0 col6\" >MCC</th>\n",
              "    </tr>\n",
              "    <tr>\n",
              "      <th class=\"index_name level0\" >Fold</th>\n",
              "      <th class=\"blank col0\" >&nbsp;</th>\n",
              "      <th class=\"blank col1\" >&nbsp;</th>\n",
              "      <th class=\"blank col2\" >&nbsp;</th>\n",
              "      <th class=\"blank col3\" >&nbsp;</th>\n",
              "      <th class=\"blank col4\" >&nbsp;</th>\n",
              "      <th class=\"blank col5\" >&nbsp;</th>\n",
              "      <th class=\"blank col6\" >&nbsp;</th>\n",
              "    </tr>\n",
              "  </thead>\n",
              "  <tbody>\n",
              "    <tr>\n",
              "      <th id=\"T_1f15d_level0_row0\" class=\"row_heading level0 row0\" >0</th>\n",
              "      <td id=\"T_1f15d_row0_col0\" class=\"data row0 col0\" >0.8581</td>\n",
              "      <td id=\"T_1f15d_row0_col1\" class=\"data row0 col1\" >0.6563</td>\n",
              "      <td id=\"T_1f15d_row0_col2\" class=\"data row0 col2\" >0.1600</td>\n",
              "      <td id=\"T_1f15d_row0_col3\" class=\"data row0 col3\" >0.2456</td>\n",
              "      <td id=\"T_1f15d_row0_col4\" class=\"data row0 col4\" >0.1938</td>\n",
              "      <td id=\"T_1f15d_row0_col5\" class=\"data row0 col5\" >0.1198</td>\n",
              "      <td id=\"T_1f15d_row0_col6\" class=\"data row0 col6\" >0.1231</td>\n",
              "    </tr>\n",
              "    <tr>\n",
              "      <th id=\"T_1f15d_level0_row1\" class=\"row_heading level0 row1\" >1</th>\n",
              "      <td id=\"T_1f15d_row1_col0\" class=\"data row1 col0\" >0.8496</td>\n",
              "      <td id=\"T_1f15d_row1_col1\" class=\"data row1 col1\" >0.6038</td>\n",
              "      <td id=\"T_1f15d_row1_col2\" class=\"data row1 col2\" >0.1543</td>\n",
              "      <td id=\"T_1f15d_row1_col3\" class=\"data row1 col3\" >0.2143</td>\n",
              "      <td id=\"T_1f15d_row1_col4\" class=\"data row1 col4\" >0.1794</td>\n",
              "      <td id=\"T_1f15d_row1_col5\" class=\"data row1 col5\" >0.0990</td>\n",
              "      <td id=\"T_1f15d_row1_col6\" class=\"data row1 col6\" >0.1006</td>\n",
              "    </tr>\n",
              "    <tr>\n",
              "      <th id=\"T_1f15d_level0_row2\" class=\"row_heading level0 row2\" >2</th>\n",
              "      <td id=\"T_1f15d_row2_col0\" class=\"data row2 col0\" >0.8484</td>\n",
              "      <td id=\"T_1f15d_row2_col1\" class=\"data row2 col1\" >0.6376</td>\n",
              "      <td id=\"T_1f15d_row2_col2\" class=\"data row2 col2\" >0.1771</td>\n",
              "      <td id=\"T_1f15d_row2_col3\" class=\"data row2 col3\" >0.2279</td>\n",
              "      <td id=\"T_1f15d_row2_col4\" class=\"data row2 col4\" >0.1994</td>\n",
              "      <td id=\"T_1f15d_row2_col5\" class=\"data row2 col5\" >0.1171</td>\n",
              "      <td id=\"T_1f15d_row2_col6\" class=\"data row2 col6\" >0.1182</td>\n",
              "    </tr>\n",
              "    <tr>\n",
              "      <th id=\"T_1f15d_level0_row3\" class=\"row_heading level0 row3\" >3</th>\n",
              "      <td id=\"T_1f15d_row3_col0\" class=\"data row3 col0\" >0.8532</td>\n",
              "      <td id=\"T_1f15d_row3_col1\" class=\"data row3 col1\" >0.6171</td>\n",
              "      <td id=\"T_1f15d_row3_col2\" class=\"data row3 col2\" >0.1943</td>\n",
              "      <td id=\"T_1f15d_row3_col3\" class=\"data row3 col3\" >0.2537</td>\n",
              "      <td id=\"T_1f15d_row3_col4\" class=\"data row3 col4\" >0.2201</td>\n",
              "      <td id=\"T_1f15d_row3_col5\" class=\"data row3 col5\" >0.1406</td>\n",
              "      <td id=\"T_1f15d_row3_col6\" class=\"data row3 col6\" >0.1422</td>\n",
              "    </tr>\n",
              "    <tr>\n",
              "      <th id=\"T_1f15d_level0_row4\" class=\"row_heading level0 row4\" >4</th>\n",
              "      <td id=\"T_1f15d_row4_col0\" class=\"data row4 col0\" >0.8593</td>\n",
              "      <td id=\"T_1f15d_row4_col1\" class=\"data row4 col1\" >0.6532</td>\n",
              "      <td id=\"T_1f15d_row4_col2\" class=\"data row4 col2\" >0.1943</td>\n",
              "      <td id=\"T_1f15d_row4_col3\" class=\"data row4 col3\" >0.2742</td>\n",
              "      <td id=\"T_1f15d_row4_col4\" class=\"data row4 col4\" >0.2274</td>\n",
              "      <td id=\"T_1f15d_row4_col5\" class=\"data row4 col5\" >0.1525</td>\n",
              "      <td id=\"T_1f15d_row4_col6\" class=\"data row4 col6\" >0.1552</td>\n",
              "    </tr>\n",
              "    <tr>\n",
              "      <th id=\"T_1f15d_level0_row5\" class=\"row_heading level0 row5\" >5</th>\n",
              "      <td id=\"T_1f15d_row5_col0\" class=\"data row5 col0\" >0.8459</td>\n",
              "      <td id=\"T_1f15d_row5_col1\" class=\"data row5 col1\" >0.5827</td>\n",
              "      <td id=\"T_1f15d_row5_col2\" class=\"data row5 col2\" >0.1420</td>\n",
              "      <td id=\"T_1f15d_row5_col3\" class=\"data row5 col3\" >0.1969</td>\n",
              "      <td id=\"T_1f15d_row5_col4\" class=\"data row5 col4\" >0.1650</td>\n",
              "      <td id=\"T_1f15d_row5_col5\" class=\"data row5 col5\" >0.0826</td>\n",
              "      <td id=\"T_1f15d_row5_col6\" class=\"data row5 col6\" >0.0839</td>\n",
              "    </tr>\n",
              "    <tr>\n",
              "      <th id=\"T_1f15d_level0_row6\" class=\"row_heading level0 row6\" >6</th>\n",
              "      <td id=\"T_1f15d_row6_col0\" class=\"data row6 col0\" >0.8483</td>\n",
              "      <td id=\"T_1f15d_row6_col1\" class=\"data row6 col1\" >0.6218</td>\n",
              "      <td id=\"T_1f15d_row6_col2\" class=\"data row6 col2\" >0.2057</td>\n",
              "      <td id=\"T_1f15d_row6_col3\" class=\"data row6 col3\" >0.2466</td>\n",
              "      <td id=\"T_1f15d_row6_col4\" class=\"data row6 col4\" >0.2243</td>\n",
              "      <td id=\"T_1f15d_row6_col5\" class=\"data row6 col5\" >0.1410</td>\n",
              "      <td id=\"T_1f15d_row6_col6\" class=\"data row6 col6\" >0.1417</td>\n",
              "    </tr>\n",
              "    <tr>\n",
              "      <th id=\"T_1f15d_level0_row7\" class=\"row_heading level0 row7\" >7</th>\n",
              "      <td id=\"T_1f15d_row7_col0\" class=\"data row7 col0\" >0.8544</td>\n",
              "      <td id=\"T_1f15d_row7_col1\" class=\"data row7 col1\" >0.6248</td>\n",
              "      <td id=\"T_1f15d_row7_col2\" class=\"data row7 col2\" >0.1486</td>\n",
              "      <td id=\"T_1f15d_row7_col3\" class=\"data row7 col3\" >0.2241</td>\n",
              "      <td id=\"T_1f15d_row7_col4\" class=\"data row7 col4\" >0.1787</td>\n",
              "      <td id=\"T_1f15d_row7_col5\" class=\"data row7 col5\" >0.1024</td>\n",
              "      <td id=\"T_1f15d_row7_col6\" class=\"data row7 col6\" >0.1050</td>\n",
              "    </tr>\n",
              "    <tr>\n",
              "      <th id=\"T_1f15d_level0_row8\" class=\"row_heading level0 row8\" >8</th>\n",
              "      <td id=\"T_1f15d_row8_col0\" class=\"data row8 col0\" >0.8647</td>\n",
              "      <td id=\"T_1f15d_row8_col1\" class=\"data row8 col1\" >0.6569</td>\n",
              "      <td id=\"T_1f15d_row8_col2\" class=\"data row8 col2\" >0.1943</td>\n",
              "      <td id=\"T_1f15d_row8_col3\" class=\"data row8 col3\" >0.2957</td>\n",
              "      <td id=\"T_1f15d_row8_col4\" class=\"data row8 col4\" >0.2345</td>\n",
              "      <td id=\"T_1f15d_row8_col5\" class=\"data row8 col5\" >0.1638</td>\n",
              "      <td id=\"T_1f15d_row8_col6\" class=\"data row8 col6\" >0.1681</td>\n",
              "    </tr>\n",
              "    <tr>\n",
              "      <th id=\"T_1f15d_level0_row9\" class=\"row_heading level0 row9\" >9</th>\n",
              "      <td id=\"T_1f15d_row9_col0\" class=\"data row9 col0\" >0.8586</td>\n",
              "      <td id=\"T_1f15d_row9_col1\" class=\"data row9 col1\" >0.6656</td>\n",
              "      <td id=\"T_1f15d_row9_col2\" class=\"data row9 col2\" >0.1714</td>\n",
              "      <td id=\"T_1f15d_row9_col3\" class=\"data row9 col3\" >0.2564</td>\n",
              "      <td id=\"T_1f15d_row9_col4\" class=\"data row9 col4\" >0.2055</td>\n",
              "      <td id=\"T_1f15d_row9_col5\" class=\"data row9 col5\" >0.1312</td>\n",
              "      <td id=\"T_1f15d_row9_col6\" class=\"data row9 col6\" >0.1344</td>\n",
              "    </tr>\n",
              "    <tr>\n",
              "      <th id=\"T_1f15d_level0_row10\" class=\"row_heading level0 row10\" >Mean</th>\n",
              "      <td id=\"T_1f15d_row10_col0\" class=\"data row10 col0\" >0.8540</td>\n",
              "      <td id=\"T_1f15d_row10_col1\" class=\"data row10 col1\" >0.6320</td>\n",
              "      <td id=\"T_1f15d_row10_col2\" class=\"data row10 col2\" >0.1742</td>\n",
              "      <td id=\"T_1f15d_row10_col3\" class=\"data row10 col3\" >0.2435</td>\n",
              "      <td id=\"T_1f15d_row10_col4\" class=\"data row10 col4\" >0.2028</td>\n",
              "      <td id=\"T_1f15d_row10_col5\" class=\"data row10 col5\" >0.1250</td>\n",
              "      <td id=\"T_1f15d_row10_col6\" class=\"data row10 col6\" >0.1272</td>\n",
              "    </tr>\n",
              "    <tr>\n",
              "      <th id=\"T_1f15d_level0_row11\" class=\"row_heading level0 row11\" >Std</th>\n",
              "      <td id=\"T_1f15d_row11_col0\" class=\"data row11 col0\" >0.0058</td>\n",
              "      <td id=\"T_1f15d_row11_col1\" class=\"data row11 col1\" >0.0253</td>\n",
              "      <td id=\"T_1f15d_row11_col2\" class=\"data row11 col2\" >0.0212</td>\n",
              "      <td id=\"T_1f15d_row11_col3\" class=\"data row11 col3\" >0.0276</td>\n",
              "      <td id=\"T_1f15d_row11_col4\" class=\"data row11 col4\" >0.0224</td>\n",
              "      <td id=\"T_1f15d_row11_col5\" class=\"data row11 col5\" >0.0242</td>\n",
              "      <td id=\"T_1f15d_row11_col6\" class=\"data row11 col6\" >0.0247</td>\n",
              "    </tr>\n",
              "  </tbody>\n",
              "</table>\n"
            ]
          },
          "metadata": {}
        },
        {
          "output_type": "display_data",
          "data": {
            "text/plain": [
              "Processing:   0%|          | 0/7 [00:00<?, ?it/s]"
            ],
            "application/vnd.jupyter.widget-view+json": {
              "version_major": 2,
              "version_minor": 0,
              "model_id": "76d151326b2241249f498b9f8de1a440"
            }
          },
          "metadata": {
            "application/vnd.jupyter.widget-view+json": {
              "colab": {
                "custom_widget_manager": {
                  "url": "https://ssl.gstatic.com/colaboratory-static/widgets/colab-cdn-widget-manager/2b70e893a8ba7c0f/manager.min.js"
                }
              }
            }
          }
        },
        {
          "output_type": "stream",
          "name": "stdout",
          "text": [
            "Fitting 10 folds for each of 10 candidates, totalling 100 fits\n"
          ]
        },
        {
          "output_type": "display_data",
          "data": {
            "text/plain": [
              "<IPython.core.display.HTML object>"
            ],
            "text/html": []
          },
          "metadata": {}
        },
        {
          "output_type": "stream",
          "name": "stdout",
          "text": [
            "Original model was better than the tuned model, hence it will be returned. NOTE: The display metrics are for the tuned model (not the original one).\n"
          ]
        }
      ]
    },
    {
      "cell_type": "code",
      "source": [
        "print(tuned_modelo)"
      ],
      "metadata": {
        "colab": {
          "base_uri": "https://localhost:8080/"
        },
        "id": "-cst719Or0nh",
        "outputId": "61ceb573-2ef8-427f-fa37-1f4c12ad62ca"
      },
      "execution_count": 56,
      "outputs": [
        {
          "output_type": "stream",
          "name": "stdout",
          "text": [
            "GaussianNB(priors=None, var_smoothing=0.01)\n"
          ]
        }
      ]
    },
    {
      "cell_type": "code",
      "source": [
        "print(tuned_modelo)"
      ],
      "metadata": {
        "id": "CwTYQkhpfX2Y",
        "outputId": "d19369b9-a638-4b3c-87ad-dd545a61e470",
        "colab": {
          "base_uri": "https://localhost:8080/"
        }
      },
      "execution_count": 64,
      "outputs": [
        {
          "output_type": "stream",
          "name": "stdout",
          "text": [
            "QuadraticDiscriminantAnalysis(priors=None, reg_param=0.0,\n",
            "                              store_covariance=False, tol=0.0001)\n"
          ]
        }
      ]
    },
    {
      "cell_type": "code",
      "source": [
        "help(plot_model) # validacion visual"
      ],
      "metadata": {
        "id": "4DHvUJ1Cr3qy"
      },
      "execution_count": null,
      "outputs": []
    },
    {
      "cell_type": "code",
      "source": [
        "plot_model(tuned_modelo,plot='auc')"
      ],
      "metadata": {
        "colab": {
          "base_uri": "https://localhost:8080/",
          "height": 524
        },
        "id": "bslOTxSWr5f1",
        "outputId": "daa83773-1e15-4abe-9258-d42d1f972efd"
      },
      "execution_count": 57,
      "outputs": [
        {
          "output_type": "display_data",
          "data": {
            "text/plain": [
              "<IPython.core.display.HTML object>"
            ],
            "text/html": []
          },
          "metadata": {}
        },
        {
          "output_type": "display_data",
          "data": {
            "text/plain": [
              "<Figure size 800x550 with 1 Axes>"
            ],
            "image/png": "[encoded data removed]"
          },
          "metadata": {}
        }
      ]
    },
    {
      "cell_type": "code",
      "source": [
        "plot_model(tuned_modelo,plot='auc')"
      ],
      "metadata": {
        "id": "AZcZwmPEfzly",
        "outputId": "a781575e-f749-42c5-92c6-8609616c50d1",
        "colab": {
          "base_uri": "https://localhost:8080/",
          "height": 524
        }
      },
      "execution_count": 65,
      "outputs": [
        {
          "output_type": "display_data",
          "data": {
            "text/plain": [
              "<IPython.core.display.HTML object>"
            ],
            "text/html": []
          },
          "metadata": {}
        },
        {
          "output_type": "display_data",
          "data": {
            "text/plain": [
              "<Figure size 800x550 with 1 Axes>"
            ],
            "image/png": "[encoded data removed]"
          },
          "metadata": {}
        }
      ]
    },
    {
      "cell_type": "code",
      "source": [
        "\n",
        "# feature importance\n",
        "plot_model(tuned_modelo,plot='feature')"
      ],
      "metadata": {
        "colab": {
          "base_uri": "https://localhost:8080/",
          "height": 321
        },
        "collapsed": true,
        "id": "vSmhahJ7r7k1",
        "outputId": "94aca360-bd07-4b31-d771-998251f95e96"
      },
      "execution_count": 58,
      "outputs": [
        {
          "output_type": "error",
          "ename": "TypeError",
          "evalue": "Feature Importance and RFE plots not available for estimators that doesnt support coef_ or feature_importances_ attribute.",
          "traceback": [
            "\u001b[0;31m---------------------------------------------------------------------------\u001b[0m",
            "\u001b[0;31mTypeError\u001b[0m                                 Traceback (most recent call last)",
            "\u001b[0;32m<ipython-input-58-96a1e68c6982>\u001b[0m in \u001b[0;36m<cell line: 2>\u001b[0;34m()\u001b[0m\n\u001b[1;32m      1\u001b[0m \u001b[0;31m# feature importance\u001b[0m\u001b[0;34m\u001b[0m\u001b[0;34m\u001b[0m\u001b[0m\n\u001b[0;32m----> 2\u001b[0;31m \u001b[0mplot_model\u001b[0m\u001b[0;34m(\u001b[0m\u001b[0mtuned_modelo\u001b[0m\u001b[0;34m,\u001b[0m\u001b[0mplot\u001b[0m\u001b[0;34m=\u001b[0m\u001b[0;34m'feature'\u001b[0m\u001b[0;34m)\u001b[0m\u001b[0;34m\u001b[0m\u001b[0;34m\u001b[0m\u001b[0m\n\u001b[0m",
            "\u001b[0;32m/usr/local/lib/python3.10/dist-packages/pycaret/utils/generic.py\u001b[0m in \u001b[0;36mwrapper\u001b[0;34m(*args, **kwargs)\u001b[0m\n\u001b[1;32m    962\u001b[0m                 \u001b[0;32mif\u001b[0m \u001b[0mglobals_d\u001b[0m\u001b[0;34m[\u001b[0m\u001b[0mname\u001b[0m\u001b[0;34m]\u001b[0m \u001b[0;32mis\u001b[0m \u001b[0;32mNone\u001b[0m\u001b[0;34m:\u001b[0m\u001b[0;34m\u001b[0m\u001b[0;34m\u001b[0m\u001b[0m\n\u001b[1;32m    963\u001b[0m                     \u001b[0;32mraise\u001b[0m \u001b[0mValueError\u001b[0m\u001b[0;34m(\u001b[0m\u001b[0mmessage\u001b[0m\u001b[0;34m)\u001b[0m\u001b[0;34m\u001b[0m\u001b[0;34m\u001b[0m\u001b[0m\n\u001b[0;32m--> 964\u001b[0;31m             \u001b[0;32mreturn\u001b[0m \u001b[0mfunc\u001b[0m\u001b[0;34m(\u001b[0m\u001b[0;34m*\u001b[0m\u001b[0margs\u001b[0m\u001b[0;34m,\u001b[0m \u001b[0;34m**\u001b[0m\u001b[0mkwargs\u001b[0m\u001b[0;34m)\u001b[0m\u001b[0;34m\u001b[0m\u001b[0;34m\u001b[0m\u001b[0m\n\u001b[0m\u001b[1;32m    965\u001b[0m \u001b[0;34m\u001b[0m\u001b[0m\n\u001b[1;32m    966\u001b[0m         \u001b[0;32mreturn\u001b[0m \u001b[0mwrapper\u001b[0m\u001b[0;34m\u001b[0m\u001b[0;34m\u001b[0m\u001b[0m\n",
            "\u001b[0;32m/usr/local/lib/python3.10/dist-packages/pycaret/classification/functional.py\u001b[0m in \u001b[0;36mplot_model\u001b[0;34m(estimator, plot, scale, save, fold, fit_kwargs, plot_kwargs, groups, verbose, display_format)\u001b[0m\n\u001b[1;32m   1723\u001b[0m     \"\"\"\n\u001b[1;32m   1724\u001b[0m \u001b[0;34m\u001b[0m\u001b[0m\n\u001b[0;32m-> 1725\u001b[0;31m     return _CURRENT_EXPERIMENT.plot_model(\n\u001b[0m\u001b[1;32m   1726\u001b[0m         \u001b[0mestimator\u001b[0m\u001b[0;34m=\u001b[0m\u001b[0mestimator\u001b[0m\u001b[0;34m,\u001b[0m\u001b[0;34m\u001b[0m\u001b[0;34m\u001b[0m\u001b[0m\n\u001b[1;32m   1727\u001b[0m         \u001b[0mplot\u001b[0m\u001b[0;34m=\u001b[0m\u001b[0mplot\u001b[0m\u001b[0;34m,\u001b[0m\u001b[0;34m\u001b[0m\u001b[0;34m\u001b[0m\u001b[0m\n",
            "\u001b[0;32m/usr/local/lib/python3.10/dist-packages/pycaret/classification/oop.py\u001b[0m in \u001b[0;36mplot_model\u001b[0;34m(self, estimator, plot, scale, save, fold, fit_kwargs, plot_kwargs, groups, verbose, display_format)\u001b[0m\n\u001b[1;32m   2069\u001b[0m         \"\"\"\n\u001b[1;32m   2070\u001b[0m \u001b[0;34m\u001b[0m\u001b[0m\n\u001b[0;32m-> 2071\u001b[0;31m         return super().plot_model(\n\u001b[0m\u001b[1;32m   2072\u001b[0m             \u001b[0mestimator\u001b[0m\u001b[0;34m=\u001b[0m\u001b[0mestimator\u001b[0m\u001b[0;34m,\u001b[0m\u001b[0;34m\u001b[0m\u001b[0;34m\u001b[0m\u001b[0m\n\u001b[1;32m   2073\u001b[0m             \u001b[0mplot\u001b[0m\u001b[0;34m=\u001b[0m\u001b[0mplot\u001b[0m\u001b[0;34m,\u001b[0m\u001b[0;34m\u001b[0m\u001b[0;34m\u001b[0m\u001b[0m\n",
            "\u001b[0;32m/usr/local/lib/python3.10/dist-packages/pycaret/internal/pycaret_experiment/tabular_experiment.py\u001b[0m in \u001b[0;36mplot_model\u001b[0;34m(self, estimator, plot, scale, save, fold, fit_kwargs, plot_kwargs, groups, feature_name, label, verbose, display_format)\u001b[0m\n\u001b[1;32m   2043\u001b[0m \u001b[0;34m\u001b[0m\u001b[0m\n\u001b[1;32m   2044\u001b[0m         \"\"\"\n\u001b[0;32m-> 2045\u001b[0;31m         return self._plot_model(\n\u001b[0m\u001b[1;32m   2046\u001b[0m             \u001b[0mestimator\u001b[0m\u001b[0;34m=\u001b[0m\u001b[0mestimator\u001b[0m\u001b[0;34m,\u001b[0m\u001b[0;34m\u001b[0m\u001b[0;34m\u001b[0m\u001b[0m\n\u001b[1;32m   2047\u001b[0m             \u001b[0mplot\u001b[0m\u001b[0;34m=\u001b[0m\u001b[0mplot\u001b[0m\u001b[0;34m,\u001b[0m\u001b[0;34m\u001b[0m\u001b[0;34m\u001b[0m\u001b[0m\n",
            "\u001b[0;32m/usr/local/lib/python3.10/dist-packages/pycaret/internal/pycaret_experiment/tabular_experiment.py\u001b[0m in \u001b[0;36m_plot_model\u001b[0;34m(self, estimator, plot, scale, save, fold, fit_kwargs, plot_kwargs, groups, feature_name, label, verbose, system, display, display_format)\u001b[0m\n\u001b[1;32m    468\u001b[0m             \u001b[0mhasattr\u001b[0m\u001b[0;34m(\u001b[0m\u001b[0mestimator\u001b[0m\u001b[0;34m,\u001b[0m \u001b[0;34m\"coef_\"\u001b[0m\u001b[0;34m)\u001b[0m \u001b[0;32mor\u001b[0m \u001b[0mhasattr\u001b[0m\u001b[0;34m(\u001b[0m\u001b[0mestimator\u001b[0m\u001b[0;34m,\u001b[0m \u001b[0;34m\"feature_importances_\"\u001b[0m\u001b[0;34m)\u001b[0m\u001b[0;34m\u001b[0m\u001b[0;34m\u001b[0m\u001b[0m\n\u001b[1;32m    469\u001b[0m         ) and (plot == \"feature\" or plot == \"feature_all\" or plot == \"rfe\"):\n\u001b[0;32m--> 470\u001b[0;31m             raise TypeError(\n\u001b[0m\u001b[1;32m    471\u001b[0m                 \u001b[0;34m\"Feature Importance and RFE plots not available for estimators that doesnt support coef_ or feature_importances_ attribute.\"\u001b[0m\u001b[0;34m\u001b[0m\u001b[0;34m\u001b[0m\u001b[0m\n\u001b[1;32m    472\u001b[0m             )\n",
            "\u001b[0;31mTypeError\u001b[0m: Feature Importance and RFE plots not available for estimators that doesnt support coef_ or feature_importances_ attribute."
          ]
        }
      ]
    },
    {
      "cell_type": "code",
      "source": [
        "\n",
        "## Decision Boundary\n",
        "plot_model(tuned_modelo, plot = 'boundary')"
      ],
      "metadata": {
        "colab": {
          "base_uri": "https://localhost:8080/",
          "height": 508
        },
        "id": "xpSv-EzVr9tt",
        "outputId": "b191ea29-73e3-4edd-b889-8d13d5d0e51d"
      },
      "execution_count": 59,
      "outputs": [
        {
          "output_type": "display_data",
          "data": {
            "text/plain": [
              "<IPython.core.display.HTML object>"
            ],
            "text/html": []
          },
          "metadata": {}
        },
        {
          "output_type": "display_data",
          "data": {
            "text/plain": [
              "<Figure size 800x550 with 1 Axes>"
            ],
            "image/png": "[encoded data removed]"
          },
          "metadata": {}
        }
      ]
    },
    {
      "cell_type": "code",
      "source": [
        "\n",
        "# Precision Recall Curve\n",
        "plot_model(tuned_modelo, plot = 'pr')"
      ],
      "metadata": {
        "colab": {
          "base_uri": "https://localhost:8080/",
          "height": 524
        },
        "id": "m4IxAjxsr_2W",
        "outputId": "bb9dad2d-56a0-4734-ff95-f0995bf8f27d"
      },
      "execution_count": 60,
      "outputs": [
        {
          "output_type": "display_data",
          "data": {
            "text/plain": [
              "<IPython.core.display.HTML object>"
            ],
            "text/html": []
          },
          "metadata": {}
        },
        {
          "output_type": "display_data",
          "data": {
            "text/plain": [
              "<Figure size 800x550 with 1 Axes>"
            ],
            "image/png": "[encoded data removed]"
          },
          "metadata": {}
        }
      ]
    },
    {
      "cell_type": "code",
      "source": [
        "from pycaret.classification import *\n",
        "predicciones = predict_model(tuned_modelo,data=data_unusen)\n",
        "\n",
        "predicciones.head()"
      ],
      "metadata": {
        "id": "3wAyfnMFsFuH"
      },
      "execution_count": null,
      "outputs": []
    },
    {
      "cell_type": "code",
      "source": [
        "plot_model(tuned_modelo,'confusion_matrix')"
      ],
      "metadata": {
        "colab": {
          "base_uri": "https://localhost:8080/",
          "height": 551
        },
        "id": "j84Cw8Q8sI56",
        "outputId": "e7f7c6dc-79de-4d36-f227-d976fba19ef7"
      },
      "execution_count": 61,
      "outputs": [
        {
          "output_type": "display_data",
          "data": {
            "text/plain": [
              "<IPython.core.display.HTML object>"
            ],
            "text/html": []
          },
          "metadata": {}
        },
        {
          "output_type": "display_data",
          "data": {
            "text/plain": [
              "<Figure size 800x550 with 1 Axes>"
            ],
            "image/png": "[encoded data removed]"
          },
          "metadata": {}
        }
      ]
    },
    {
      "cell_type": "code",
      "source": [
        "\n",
        "\n",
        "# modelo final entrenado con todo el conjunto de datos\n",
        "\n",
        "final_modelo=finalize_model(tuned_modelo)"
      ],
      "metadata": {
        "id": "LU7ii1AKsLKi"
      },
      "execution_count": null,
      "outputs": []
    },
    {
      "cell_type": "code",
      "source": [
        "from google.colab import drive\n",
        "from pycaret.classification import save_model\n",
        "\n",
        "# Monta Google Drive\n",
        "drive.mount('/content/drive')\n",
        "\n",
        "# Guarda el modelo en la carpeta de Google Drive\n",
        "modelo_a_guardar = final_modelo  # Reemplaza 'final_modelo' con tu modelo\n",
        "nombre_del_modelo = 'ModeloPrepagoVehiculo'  # Nombre del modelo\n",
        "ruta_carpeta_drive = '/content/drive/My Drive/Modelos_FA'  # Ruta de la carpeta en Google Drive\n",
        "\n",
        "# Guarda el modelo\n",
        "save_model(modelo_a_guardar, f'{ruta_carpeta_drive}/{nombre_del_modelo}')\n",
        "\n",
        "# Muestra un mensaje de confirmación\n",
        "print(\"El modelo se guardó en Google Drive.\")\n"
      ],
      "metadata": {
        "id": "3LQ3FqO3sVmV"
      },
      "execution_count": null,
      "outputs": []
    }
  ]
}