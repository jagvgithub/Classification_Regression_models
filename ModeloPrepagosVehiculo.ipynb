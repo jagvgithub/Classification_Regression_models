{
  "nbformat": 4,
  "nbformat_minor": 0,
  "metadata": {
    "colab": {
      "provenance": [],
      "authorship_tag": "ABX9TyMCw7luJwlwahJrt9KqPKP2",
      "include_colab_link": true
    },
    "kernelspec": {
      "name": "python3",
      "display_name": "Python 3"
    },
    "language_info": {
      "name": "python"
    }
  },
  "cells": [
    {
      "cell_type": "markdown",
      "metadata": {
        "id": "view-in-github",
        "colab_type": "text"
      },
      "source": [
        "<a href=\"https://colab.research.google.com/github/jagvgithub/Classification_Regression_models/blob/main/ModeloPrepagosVehiculo.ipynb\" target=\"_parent\"><img src=\"https://colab.research.google.com/assets/colab-badge.svg\" alt=\"Open In Colab\"/></a>"
      ]
    },
    {
      "cell_type": "code",
      "execution_count": null,
      "metadata": {
        "id": "Nw-BeQ05q72v"
      },
      "outputs": [],
      "source": [
        "# paquetes necesarios\n",
        "!pip install pycaret\n",
        "\n",
        "# Librerias necearias\n",
        "from google.colab import files  # carga de datos\n",
        "import pandas as pd # manipulación de bases de datos\n",
        "import numpy as np # manipulación de bases de datos\n",
        "#import gender_guesser.detector as gender\n",
        "#import gender_guesser.detector as gender # estimación de género a partir del primer y segundo nombre"
      ]
    },
    {
      "cell_type": "code",
      "source": [
        "from google.colab import files\n",
        "import pandas as pd\n",
        "\n",
        "# Cargar el archivo CSV\n",
        "uploaded = files.upload()"
      ],
      "metadata": {
        "id": "BDGBbG7FrUHT"
      },
      "execution_count": null,
      "outputs": []
    },
    {
      "cell_type": "code",
      "source": [
        "# Ruta al archivo xlsx en Google Colab\n",
        "ruta_archivo = '/content/fraude_model.csv'  # Asegúrate de que la ruta sea correcta según la ubicación del archivo cargado\n",
        "\n",
        "# Leer el archivo xlsx usando pandas\n",
        "datos = pd.read_csv(ruta_archivo,sep='|', encoding='latin1')\n",
        "datos=pd.DataFrame(datos)"
      ],
      "metadata": {
        "id": "jmx2tcSMrXWT"
      },
      "execution_count": null,
      "outputs": []
    },
    {
      "cell_type": "code",
      "source": [
        "columnas = ['UTRNNO', 'TRANS_TYPE','MSGTYPE', 'Cod_Aprovacion','respuesta','POS_ENTRY_MODE','POS_CONDITION_CODE','ECI', 'MCC', 'country_number','Fraude','Testeos']\n",
        "\n",
        "datos[columnas] = datos[columnas].astype(str)\n",
        "print(datos.head())"
      ],
      "metadata": {
        "id": "ph_8WJMVrcr7"
      },
      "execution_count": null,
      "outputs": []
    },
    {
      "cell_type": "code",
      "source": [
        "\n",
        "datos_numericos = datos.select_dtypes(include=['int', 'float'])\n",
        "\n",
        "# Mostrar los tipos de datos de las columnas seleccionadas\n",
        "print(datos_numericos.dtypes)"
      ],
      "metadata": {
        "id": "i9NZhcczrguj"
      },
      "execution_count": null,
      "outputs": []
    },
    {
      "cell_type": "code",
      "source": [
        "data=datos.sample(frac=0.75,random_state=786).reset_index(drop=True) # entrenamiento\n",
        "data_unusen =datos.drop(data.index).reset_index(drop=True) # testeo\n",
        "\n",
        "\n",
        "# Verificar el tamaño de los conjuntos de entrenamiento y prueba\n",
        "print(\"Tamaño del conjunto de entrenamiento:\", data.shape)\n",
        "print(\"Tamaño del conjunto de prueba:\", data_unusen.shape)"
      ],
      "metadata": {
        "id": "G55qC15yrmBU"
      },
      "execution_count": null,
      "outputs": []
    },
    {
      "cell_type": "code",
      "source": [
        "from pycaret.classification import * # la data ya tiene una marcacion de  01\n",
        "data.reset_index(drop=True, inplace=True)  # Restablecer los índices y eliminar los índices existentes ## debido al concatenado\n",
        "#exp_clf101 = setup(data=data, target='Fraude', session_id=10001)  # Configurar el experimento de clasificación\n",
        "\n",
        "\n",
        "exp_clf101 = setup(data=data, target='Fraude', session_id=10001, fold_strategy='stratifiedkfold') # garantizar que todas las clases esten bien representadas\n"
      ],
      "metadata": {
        "id": "BGgu0gsirqPe"
      },
      "execution_count": null,
      "outputs": []
    },
    {
      "cell_type": "code",
      "source": [
        "\n",
        "best_model=compare_models()"
      ],
      "metadata": {
        "id": "OrXJi9LRrtKI"
      },
      "execution_count": null,
      "outputs": []
    },
    {
      "cell_type": "code",
      "source": [
        "\n",
        "modelo = create_model('lr')"
      ],
      "metadata": {
        "id": "TV4shwFXrwEh"
      },
      "execution_count": null,
      "outputs": []
    },
    {
      "cell_type": "code",
      "source": [
        "tuned_modelo = tune_model(modelo)"
      ],
      "metadata": {
        "id": "pV5oChKSryO5"
      },
      "execution_count": null,
      "outputs": []
    },
    {
      "cell_type": "code",
      "source": [
        "\n",
        "print(tuned_modelo)"
      ],
      "metadata": {
        "id": "-cst719Or0nh"
      },
      "execution_count": null,
      "outputs": []
    },
    {
      "cell_type": "code",
      "source": [
        "help(plot_model) # validacion visual"
      ],
      "metadata": {
        "id": "4DHvUJ1Cr3qy"
      },
      "execution_count": null,
      "outputs": []
    },
    {
      "cell_type": "code",
      "source": [
        "plot_model(tuned_modelo,plot='auc')"
      ],
      "metadata": {
        "id": "bslOTxSWr5f1"
      },
      "execution_count": null,
      "outputs": []
    },
    {
      "cell_type": "code",
      "source": [
        "\n",
        "# feature importance\n",
        "plot_model(tuned_modelo,plot='feature')"
      ],
      "metadata": {
        "id": "vSmhahJ7r7k1"
      },
      "execution_count": null,
      "outputs": []
    },
    {
      "cell_type": "code",
      "source": [
        "\n",
        "## Decision Boundary\n",
        "plot_model(tuned_modelo, plot = 'boundary')"
      ],
      "metadata": {
        "id": "xpSv-EzVr9tt"
      },
      "execution_count": null,
      "outputs": []
    },
    {
      "cell_type": "code",
      "source": [
        "\n",
        "# Precision Recall Curve\n",
        "plot_model(tuned_modelo, plot = 'pr')"
      ],
      "metadata": {
        "id": "m4IxAjxsr_2W"
      },
      "execution_count": null,
      "outputs": []
    },
    {
      "cell_type": "code",
      "source": [
        "from pycaret.classification import *\n",
        "predicciones = predict_model(tuned_modelo,data=data_unusen)\n",
        "\n",
        "predicciones.head()"
      ],
      "metadata": {
        "id": "3wAyfnMFsFuH"
      },
      "execution_count": null,
      "outputs": []
    },
    {
      "cell_type": "code",
      "source": [
        "plot_model(tuned_modelo,'confusion_matrix')"
      ],
      "metadata": {
        "id": "j84Cw8Q8sI56"
      },
      "execution_count": null,
      "outputs": []
    },
    {
      "cell_type": "code",
      "source": [
        "\n",
        "\n",
        "# modelo final entrenado con todo el conjunto de datos\n",
        "\n",
        "final_modelo=finalize_model(tuned_modelo)"
      ],
      "metadata": {
        "id": "LU7ii1AKsLKi"
      },
      "execution_count": null,
      "outputs": []
    },
    {
      "cell_type": "code",
      "source": [
        "from google.colab import drive\n",
        "from pycaret.classification import save_model\n",
        "\n",
        "# Monta Google Drive\n",
        "drive.mount('/content/drive')\n",
        "\n",
        "# Guarda el modelo en la carpeta de Google Drive\n",
        "modelo_a_guardar = final_modelo  # Reemplaza 'final_modelo' con tu modelo\n",
        "nombre_del_modelo = 'ModeloPrepagoVehiculo'  # Nombre del modelo\n",
        "ruta_carpeta_drive = '/content/drive/My Drive/Modelos_FA'  # Ruta de la carpeta en Google Drive\n",
        "\n",
        "# Guarda el modelo\n",
        "save_model(modelo_a_guardar, f'{ruta_carpeta_drive}/{nombre_del_modelo}')\n",
        "\n",
        "# Muestra un mensaje de confirmación\n",
        "print(\"El modelo se guardó en Google Drive.\")\n"
      ],
      "metadata": {
        "id": "3LQ3FqO3sVmV"
      },
      "execution_count": null,
      "outputs": []
    }
  ]
}